{
 "cells": [
  {
   "cell_type": "code",
   "execution_count": null,
   "id": "1f196bc3",
   "metadata": {},
   "outputs": [],
   "source": [
    "import cv2\n",
    "import numpy as np\n",
    "import matplotlib\n",
    "import matplotlib.pyplot as plt\n",
    "%matplotlib inline  \n",
    "import tensorflow as tf\n",
    "from glob import glob\n",
    "from yolov3.yolov4_config import Create_Yolo\n",
    "from yolov3.utils_config import load_yolo_weights, detect_image\n",
    "from yolov3.configs_config import *\n",
    "from PIL import Image\n",
    "\n",
    "import os\n",
    "import pandas as pd\n",
    "\n",
    "if YOLO_TYPE == \"yolov4\":\n",
    "    Darknet_weights = YOLO_V4_TINY_WEIGHTS if TRAIN_YOLO_TINY else YOLO_V4_WEIGHTS\n",
    "if YOLO_TYPE == \"yolov3\":\n",
    "    Darknet_weights = YOLO_V3_TINY_WEIGHTS if TRAIN_YOLO_TINY else YOLO_V3_WEIGHTS\n",
    "\n",
    "yolo = Create_Yolo(input_size=YOLO_INPUT_SIZE)\n",
    "load_yolo_weights(yolo, Darknet_weights) # use Darknet weights"
   ]
  },
  {
   "cell_type": "code",
   "execution_count": null,
   "id": "83b91ab3",
   "metadata": {},
   "outputs": [],
   "source": [
    "yolo = Create_Yolo(input_size=YOLO_INPUT_SIZE, CLASSES=TRAIN_CLASSES)\n",
    "yolo.load_weights(\"./checkpoints/frist/yolov3_custom\") # use keras weights"
   ]
  },
  {
   "cell_type": "markdown",
   "id": "59be4194",
   "metadata": {},
   "source": [
    "# image path"
   ]
  },
  {
   "cell_type": "code",
   "execution_count": null,
   "id": "ad972ee5",
   "metadata": {},
   "outputs": [],
   "source": [
    "tr = glob(r\"teeth_including_lip_more\\train/*.xml\")\n",
    "te = glob(r\"teeth_including_lip_more\\test/*.xml\")\n",
    "\n",
    "print(\"train data : {}\".format(len(tr)))\n",
    "print(\"test data : {}\".format(len(te)))"
   ]
  },
  {
   "cell_type": "code",
   "execution_count": null,
   "id": "3883f366",
   "metadata": {},
   "outputs": [],
   "source": [
    "r1 = glob(r\"teeth_including_lip_more\\test/*.jpg\")"
   ]
  },
  {
   "cell_type": "code",
   "execution_count": null,
   "id": "a463e118",
   "metadata": {},
   "outputs": [],
   "source": [
    "r11 = glob(r\"teeth_including_lip_more\\train/*.jpg\")"
   ]
  },
  {
   "cell_type": "code",
   "execution_count": null,
   "id": "9407991a",
   "metadata": {},
   "outputs": [],
   "source": [
    "r2 =  glob(r\"anomaly_data/*.jpg\")"
   ]
  },
  {
   "cell_type": "code",
   "execution_count": null,
   "id": "46bb3f74",
   "metadata": {},
   "outputs": [],
   "source": [
    "r3 =  glob(r\"crop_anomaly/*.jpg\")"
   ]
  },
  {
   "cell_type": "code",
   "execution_count": null,
   "id": "eb80a1aa",
   "metadata": {},
   "outputs": [],
   "source": [
    "r4 =  glob(r\"use_image_poster\\real_anomaly/*.jpg\")"
   ]
  },
  {
   "cell_type": "code",
   "execution_count": null,
   "id": "87dd86a8",
   "metadata": {},
   "outputs": [],
   "source": [
    "# # in dahun computer \n",
    "# coco_anomaly =  glob(r\"C:\\Users\\NA_team2\\TensorFlow-2.x-YOLOv3\\TensorFlow-2.x-YOLOv3\\val2017/*.jpg\")"
   ]
  },
  {
   "cell_type": "code",
   "execution_count": null,
   "id": "28b0f250",
   "metadata": {},
   "outputs": [],
   "source": [
    "coco_anomaly =  glob(r\"C:\\Users\\NA_team_1\\Desktop\\val2017\\*.jpg\")\n",
    "np.random.seed(42)\n",
    "a = np.random.randint(5000, size =76)\n",
    "a = np.sort(a)\n",
    "print(a)\n",
    "anomaly_76 = [coco_anomaly[i] for i in a]"
   ]
  },
  {
   "cell_type": "code",
   "execution_count": null,
   "id": "04f6c4a6",
   "metadata": {},
   "outputs": [],
   "source": [
    "coco_center_crop = glob(r\"anomaly_crop_done/*.jpg\")"
   ]
  },
  {
   "cell_type": "code",
   "execution_count": null,
   "id": "a44e2780",
   "metadata": {},
   "outputs": [],
   "source": [
    "# braces =  glob(r\"C:\\Users\\NA_team_1\\Desktop\\GitHub\\TensorFlow-2.x-YOLOv3\\braces/*.jpg\")"
   ]
  },
  {
   "cell_type": "code",
   "execution_count": null,
   "id": "cb390967",
   "metadata": {},
   "outputs": [],
   "source": [
    "brace_path = r\"braces\""
   ]
  },
  {
   "cell_type": "code",
   "execution_count": null,
   "id": "fd27debb",
   "metadata": {},
   "outputs": [],
   "source": [
    "angled_path = r\"angled\""
   ]
  },
  {
   "cell_type": "markdown",
   "id": "7f97dc02",
   "metadata": {},
   "source": [
    "# train"
   ]
  },
  {
   "cell_type": "code",
   "execution_count": null,
   "id": "be4880ca",
   "metadata": {},
   "outputs": [],
   "source": [
    "#plt.figure(figsize=(15,30))\n",
    "#for i in range(18):\n",
    "#    plt.subplot(6,3,i+1)\n",
    "plt.figure(figsize=(15,10))\n",
    "for i in range(6):\n",
    "    plt.subplot(2,3,i+1)\n",
    "    image, bboxes = detect_image(yolo, r11[i], \"\", input_size=YOLO_INPUT_SIZE, show=False, CLASSES=TRAIN_CLASSES, rectangle_colors=(255,0,0))\n",
    "    image = cv2.cvtColor(image, cv2.COLOR_BGR2RGB)\n",
    "    plt.imshow(image)\n",
    "    if len(bboxes) == 0 :\n",
    "        plt.title('no object')\n",
    "        plt.axis('off')\n",
    "    else :\n",
    "        plt.title('score {0:2f}'.format(bboxes[0][4]))\n",
    "        plt.axis('off')\n",
    "plt.show()"
   ]
  },
  {
   "cell_type": "markdown",
   "id": "25dd233f",
   "metadata": {},
   "source": [
    "# test"
   ]
  },
  {
   "cell_type": "code",
   "execution_count": null,
   "id": "22360ece",
   "metadata": {},
   "outputs": [],
   "source": [
    "plt.figure(figsize=(15,45))\n",
    "for i in range(85):\n",
    "    plt.subplot(29,3,i+1)\n",
    "# plt.figure(figsize=(15,10))\n",
    "# for i in range(6):\n",
    "#     plt.subplot(2,3,i+1)\n",
    "    image, bboxes = detect_image(yolo, r1[i], \"\", input_size=YOLO_INPUT_SIZE, show=False, CLASSES=TRAIN_CLASSES, rectangle_colors=(255,0,0))\n",
    "    image = cv2.cvtColor(image, cv2.COLOR_BGR2RGB)\n",
    "    plt.imshow(image)\n",
    "    if len(bboxes) == 0 :\n",
    "        plt.title('no object')\n",
    "        plt.axis('off')\n",
    "    else :\n",
    "        plt.title('score {0:2f}'.format(bboxes[0][4]))\n",
    "        plt.axis('off')\n",
    "plt.show()"
   ]
  },
  {
   "cell_type": "markdown",
   "id": "e0ae3926",
   "metadata": {},
   "source": [
    "# anomaly"
   ]
  },
  {
   "cell_type": "code",
   "execution_count": null,
   "id": "f7698013",
   "metadata": {},
   "outputs": [],
   "source": [
    "plt.figure(figsize=(15,30))\n",
    "for i in range(18):\n",
    "    plt.subplot(7,3,i+1)\n",
    "# plt.figure(figsize=(15,10))\n",
    "# for i in range(6):\n",
    "#     plt.subplot(2,3,i+1)\n",
    "    image, bboxes = detect_image(yolo, r2[i], \"\", input_size=YOLO_INPUT_SIZE, show=False, score_threshold = 0.3,CLASSES=TRAIN_CLASSES, rectangle_colors=(255,0,0))\n",
    "    image = cv2.cvtColor(image, cv2.COLOR_BGR2RGB)\n",
    "    plt.imshow(image)\n",
    "    if len(bboxes) == 0 :\n",
    "        plt.title('no object')\n",
    "        plt.axis('off')\n",
    "    else :\n",
    "        plt.title('score {0:2f}'.format(bboxes[0][4]))\n",
    "        plt.axis('off')\n",
    "plt.show()"
   ]
  },
  {
   "cell_type": "markdown",
   "id": "3cb0c0c4",
   "metadata": {},
   "source": [
    "# crop anomaly"
   ]
  },
  {
   "cell_type": "code",
   "execution_count": null,
   "id": "7cc30a7a",
   "metadata": {},
   "outputs": [],
   "source": [
    "plt.figure(figsize=(15,30))\n",
    "for i in range(len(r3)):\n",
    "    plt.subplot(5,2,i+1)\n",
    "    image, bboxes = detect_image(yolo, r3[i], \"\", input_size=YOLO_INPUT_SIZE, show=False, score_threshold = 0.5 , CLASSES=TRAIN_CLASSES, rectangle_colors=(255,0,0))\n",
    "    image = cv2.cvtColor(image, cv2.COLOR_BGR2RGB)\n",
    "    plt.imshow(image)\n",
    "    if len(bboxes) == 0 :\n",
    "        plt.title('no object  \\n size: {}'.format(cv2.imread(r3[i]).shape[0:2]))\n",
    "        plt.axis('off')\n",
    "    else :\n",
    "        plt.title('score : {0:2f} \\n size: {1} '.format(bboxes[0][4], cv2.imread(r3[i]).shape[0:2]))\n",
    "        plt.axis('off')\n",
    "plt.show()"
   ]
  },
  {
   "cell_type": "markdown",
   "id": "1d3287f5",
   "metadata": {},
   "source": [
    "# coco 76"
   ]
  },
  {
   "cell_type": "code",
   "execution_count": null,
   "id": "ad10b340",
   "metadata": {},
   "outputs": [],
   "source": [
    "plt.figure(figsize=(15,60))\n",
    "for i in range(76):\n",
    "    plt.subplot(26,3,i+1)\n",
    "# plt.figure(figsize=(15,10))\n",
    "# for i in range(6):\n",
    "#     plt.subplot(2,3,i+1)\n",
    "    image, bboxes = detect_image(yolo, anomaly_76[i], \"\", input_size=YOLO_INPUT_SIZE, show=False, CLASSES=TRAIN_CLASSES, rectangle_colors=(255,0,0))\n",
    "    image = cv2.cvtColor(image, cv2.COLOR_BGR2RGB)\n",
    "    plt.imshow(image)\n",
    "    if len(bboxes) == 0 :\n",
    "        plt.title('no object')\n",
    "        plt.axis('off')\n",
    "    else :\n",
    "        plt.title('score {0:2f}'.format(bboxes[0][4]))\n",
    "        plt.axis('off')\n",
    "plt.show()"
   ]
  },
  {
   "cell_type": "markdown",
   "id": "587f325b",
   "metadata": {},
   "source": [
    "# coco 76 center crop"
   ]
  },
  {
   "cell_type": "code",
   "execution_count": null,
   "id": "3bb8e19d",
   "metadata": {},
   "outputs": [],
   "source": [
    "plt.figure(figsize=(15,60))\n",
    "for i in range(76):\n",
    "    plt.subplot(26,3,i+1)\n",
    "# plt.figure(figsize=(15,10))\n",
    "# for i in range(6):\n",
    "#     plt.subplot(2,3,i+1)\n",
    "    image, bboxes = detect_image(yolo, coco_center_crop[i], \"\", input_size=YOLO_INPUT_SIZE, show=False, CLASSES=TRAIN_CLASSES, rectangle_colors=(255,0,0))\n",
    "    image = cv2.cvtColor(image, cv2.COLOR_BGR2RGB)\n",
    "    plt.imshow(image)\n",
    "    if len(bboxes) == 0 :\n",
    "        plt.title('no object')\n",
    "        plt.axis('off')\n",
    "    else :\n",
    "        plt.title('score {0:2f}'.format(bboxes[0][4]))\n",
    "        plt.axis('off')\n",
    "plt.show()"
   ]
  },
  {
   "cell_type": "markdown",
   "id": "6ea85620",
   "metadata": {},
   "source": [
    "# braces"
   ]
  },
  {
   "cell_type": "code",
   "execution_count": null,
   "id": "fabdddda",
   "metadata": {},
   "outputs": [],
   "source": [
    "# it contain png files\n",
    "plt.figure(figsize=(15,30))\n",
    "for i in range(len(os.listdir(brace_path))):\n",
    "    plt.subplot(7,3,i+1)\n",
    "# plt.figure(figsize=(15,10))\n",
    "# for i in range(6):\n",
    "#     plt.subplot(2,3,i+1)\n",
    "    image, bboxes = detect_image(yolo, os.path.join(brace_path, os.listdir(brace_path)[i]), \"\", input_size=YOLO_INPUT_SIZE, show=False, score_threshold = 0.3,CLASSES=TRAIN_CLASSES, rectangle_colors=(255,0,0))\n",
    "    image = cv2.cvtColor(image, cv2.COLOR_BGR2RGB)\n",
    "    plt.imshow(image)\n",
    "    if len(bboxes) == 0 :\n",
    "        plt.title('no object')\n",
    "        plt.axis('off')\n",
    "    else :\n",
    "        plt.title('score {0:2f}'.format(bboxes[0][4]))\n",
    "        plt.axis('off')\n",
    "plt.show()"
   ]
  },
  {
   "cell_type": "markdown",
   "id": "c1d1e5a8",
   "metadata": {},
   "source": [
    "# angle data"
   ]
  },
  {
   "cell_type": "code",
   "execution_count": null,
   "id": "dc96e2ff",
   "metadata": {},
   "outputs": [],
   "source": [
    "plt.figure(figsize=(15,30))\n",
    "for i in range(len(os.listdir(angled_path))):\n",
    "    plt.subplot(7,3,i+1)\n",
    "# plt.figure(figsize=(15,10))\n",
    "# for i in range(6):\n",
    "#     plt.subplot(2,3,i+1)\n",
    "    image, bboxes = detect_image(yolo, os.path.join(angled_path, os.listdir(angled_path)[i]), \"\", input_size=YOLO_INPUT_SIZE, show=False, score_threshold = 0.3,CLASSES=TRAIN_CLASSES, rectangle_colors=(255,0,0))\n",
    "    image = cv2.cvtColor(image, cv2.COLOR_BGR2RGB)\n",
    "    plt.imshow(image)\n",
    "    if len(bboxes) == 0 :\n",
    "        plt.title('no object')\n",
    "        plt.axis('off')\n",
    "    else :\n",
    "        plt.title('score {0:2f}'.format(bboxes[0][4]))\n",
    "        plt.axis('off')\n",
    "plt.show()"
   ]
  },
  {
   "cell_type": "markdown",
   "id": "2fafc603",
   "metadata": {},
   "source": [
    "# score evaluate"
   ]
  },
  {
   "cell_type": "code",
   "execution_count": null,
   "id": "4e8ea098",
   "metadata": {},
   "outputs": [],
   "source": [
    "train_score = [ ]\n",
    "train_score_i = [ ]\n",
    "test_score = []\n",
    "test_score_i = []\n",
    "anomaly_score = []\n",
    "anomaly_i=[]\n",
    "center_anomaly_score = []\n",
    "center_anomaly_i = []"
   ]
  },
  {
   "cell_type": "code",
   "execution_count": null,
   "id": "20615f38",
   "metadata": {},
   "outputs": [],
   "source": [
    "braces_score = []\n",
    "braces_i=[]\n",
    "angle_score = []\n",
    "angle_i=[]"
   ]
  },
  {
   "cell_type": "code",
   "execution_count": null,
   "id": "c5da986c",
   "metadata": {},
   "outputs": [],
   "source": [
    "full_coco_anomaly_score = []\n",
    "full_coco_anomaly_i=[]"
   ]
  },
  {
   "cell_type": "code",
   "execution_count": null,
   "id": "6ad4a2d2",
   "metadata": {},
   "outputs": [],
   "source": [
    "#train \n",
    "for i in range(len(r11)):\n",
    "    image, bboxes = detect_image(yolo, r11[i], \"\", input_size=YOLO_INPUT_SIZE, show=False, score_threshold = 0.3,CLASSES=TRAIN_CLASSES, rectangle_colors=(255,0,0))\n",
    "    train_score.append(bboxes[0][4])\n",
    "    if train_score[i] < 0.85 :\n",
    "        train_score_i.append(i)\n",
    "print(\"mean: {0:7f}, val : {1:7f}, min : {2:2f}\".format(np.mean(train_score), np.var(train_score), np.min(train_score))  )    "
   ]
  },
  {
   "cell_type": "code",
   "execution_count": null,
   "id": "d0f9bea2",
   "metadata": {},
   "outputs": [],
   "source": [
    "#test\n",
    "for i in range(len(r1)):\n",
    "    image, bboxes = detect_image(yolo, r1[i], \"\", input_size=YOLO_INPUT_SIZE, show=False, score_threshold = 0.3, CLASSES=TRAIN_CLASSES, rectangle_colors=(255,0,0))\n",
    "    test_score.append(bboxes[0][4])\n",
    "    if test_score[i] < 0.85 :\n",
    "        test_score_i.append(i)\n",
    "#     print(i ,bboxes)\n",
    "print(\"mean: {0:7f}, val : {1:7f}, min : {2:2f}\".format(np.mean(test_score), np.var(test_score) , np.min(test_score)))"
   ]
  },
  {
   "cell_type": "code",
   "execution_count": null,
   "id": "16e92d3a",
   "metadata": {},
   "outputs": [],
   "source": [
    "#anomaly 85\n",
    "anomaly_85 = anomaly_76 + r2[-9:]\n",
    "for i in range(len(anomaly_85)):\n",
    "    image, bboxes = detect_image(yolo, anomaly_85[i], \"\", input_size=YOLO_INPUT_SIZE, show=False, score_threshold = 0.3,CLASSES=TRAIN_CLASSES, rectangle_colors=(255,0,0))\n",
    "    if len(bboxes)!=0:\n",
    "        anomaly_score.append(bboxes[0][4])\n",
    "        anomaly_i.append(i)"
   ]
  },
  {
   "cell_type": "code",
   "execution_count": null,
   "id": "fd0ddf3f",
   "metadata": {},
   "outputs": [],
   "source": [
    "#coco anomaly full\n",
    "for i in range(len(coco_anomaly)):\n",
    "    image, bboxes = detect_image(yolo, coco_anomaly[i], \"\", input_size=YOLO_INPUT_SIZE, show=False, score_threshold = 0.3,CLASSES=TRAIN_CLASSES, rectangle_colors=(255,0,0))\n",
    "    if len(bboxes)!=0:\n",
    "        full_coco_anomaly_score.append(bboxes[0][4])\n",
    "        full_coco_anomaly_i.append(i)\n",
    "\n",
    "over_anomaly_score = [i for i in full_coco_anomaly_score if i>0.8]\n",
    "over_anomaly_i = []\n",
    "\n",
    "for i in range(len(full_coco_anomaly_score)):\n",
    "    if full_coco_anomaly_score[i] in over_anomaly_score :\n",
    "        over_anomaly_i.append(full_coco_anomaly_i[i])"
   ]
  },
  {
   "cell_type": "code",
   "execution_count": null,
   "id": "57169f3c",
   "metadata": {},
   "outputs": [],
   "source": [
    "#braces \n",
    "for i in range(len(os.listdir(brace_path))):\n",
    "    image, bboxes = detect_image(yolo, os.path.join(brace_path, os.listdir(brace_path)[i]), \"\", input_size=YOLO_INPUT_SIZE, show=False, score_threshold = 0.3,CLASSES=TRAIN_CLASSES, rectangle_colors=(255,0,0))\n",
    "    if len(bboxes)!=0:\n",
    "        braces_score.append(bboxes[0][4])\n",
    "        braces_i.append(i)\n",
    "        \n",
    "under_braces_score = [i for i in braces_score if i<0.85]\n",
    "under_braces_i= []\n",
    "\n",
    "for i in range(len(braces_score)):\n",
    "    if braces_score[i] in under_braces_score :\n",
    "        under_braces_i.append(braces_i[i])"
   ]
  },
  {
   "cell_type": "code",
   "execution_count": null,
   "id": "ec68deb9",
   "metadata": {},
   "outputs": [],
   "source": [
    "# angle\n",
    "for i in range(len(os.listdir(angled_path))):\n",
    "    image, bboxes = detect_image(yolo, os.path.join(angled_path, os.listdir(angled_path)[i]), \"\", input_size=YOLO_INPUT_SIZE, show=False, score_threshold = 0.3,CLASSES=TRAIN_CLASSES, rectangle_colors=(255,0,0))\n",
    "    if len(bboxes)!=0:\n",
    "        angle_score.append(bboxes[0][4])\n",
    "        angle_i.append(i)\n",
    "\n",
    "over_angle_score = [i for i in angle_score if i>0.5]\n",
    "over_angle_i= []\n",
    "\n",
    "for i in range(len(angle_score)):\n",
    "    if angle_score[i] in over_angle_score :\n",
    "        over_angle_i.append(angle_i[i])"
   ]
  },
  {
   "cell_type": "code",
   "execution_count": null,
   "id": "cf97a48b",
   "metadata": {},
   "outputs": [],
   "source": [
    "print(\"Wrong training set\")\n",
    "for i in range(len(train_score_i)):\n",
    "    print(\"training data : {0},  score : {1:4f}\".format(train_score_i[i], train_score[train_score_i[i]]))"
   ]
  },
  {
   "cell_type": "code",
   "execution_count": null,
   "id": "17e00027",
   "metadata": {},
   "outputs": [],
   "source": [
    "print(\"Wrong test set\")\n",
    "for i in range(len(test_score_i)):\n",
    "    print(\"test data : {0}, score : {1:4f}\".format(test_score_i[i], test_score[test_score_i[i]]))"
   ]
  },
  {
   "cell_type": "code",
   "execution_count": null,
   "id": "ff1331e2",
   "metadata": {
    "scrolled": true
   },
   "outputs": [],
   "source": [
    "for i in range(len(full_coco_anomaly_score)):\n",
    "    print(full_coco_anomaly_score[i])"
   ]
  },
  {
   "cell_type": "code",
   "execution_count": null,
   "id": "d9377bc8",
   "metadata": {},
   "outputs": [],
   "source": [
    "#full coco\n",
    "print(\"Wrong anomaly set\")\n",
    "# print(\"The number of wrong\",len(full_coco_anomaly_i))\n",
    "for i in range(len(over_anomaly_i)):\n",
    "    print(\"coco data : {0}, score : {1:4f}\".format(over_anomaly_i[i], over_anomaly_score[i]))"
   ]
  },
  {
   "cell_type": "code",
   "execution_count": null,
   "id": "02b23db5",
   "metadata": {},
   "outputs": [],
   "source": [
    "# brace\n",
    "print(\"Wrong anomaly set\")\n",
    "# print(\"The number of wrong\",len(full_coco_anomaly_i))\n",
    "for i in range(len(braces_i)):\n",
    "    print(\"brace data : {0}, score : {1:4f}\".format(braces_i[i], braces_score[i]))"
   ]
  },
  {
   "cell_type": "markdown",
   "id": "44eb4a35",
   "metadata": {},
   "source": [
    "# Comparing image"
   ]
  },
  {
   "cell_type": "code",
   "execution_count": null,
   "id": "4d5f4d5a",
   "metadata": {},
   "outputs": [],
   "source": [
    "os.mkdir(\"./image_compare\")"
   ]
  },
  {
   "cell_type": "code",
   "execution_count": null,
   "id": "98b2791d",
   "metadata": {},
   "outputs": [],
   "source": [
    "#train good\n",
    "plt.figure(figsize=(15,10))\n",
    "for i in range(6):\n",
    "    plt.subplot(2,3,i+1)\n",
    "    image, bboxes = detect_image(yolo, r11[i], \"\", input_size=YOLO_INPUT_SIZE, show=False, CLASSES=TRAIN_CLASSES, rectangle_colors=(255,0,0))\n",
    "    image = cv2.cvtColor(image, cv2.COLOR_BGR2RGB)\n",
    "    plt.imshow(image)\n",
    "    if len(bboxes) == 0 :\n",
    "        plt.title('no object')\n",
    "        plt.axis('off')\n",
    "    else :\n",
    "        plt.title('score {0:2f}'.format(bboxes[0][4]))\n",
    "        plt.axis('off')\n",
    "plt.savefig(\"./image_compare/train_good.jpg\",bbox_inches = \"tight\")"
   ]
  },
  {
   "cell_type": "code",
   "execution_count": null,
   "id": "01fd3db5",
   "metadata": {},
   "outputs": [],
   "source": [
    "#train bad 6 picture\n",
    "if len(train_score_i)>6 : \n",
    "    roof = 6\n",
    "else: \n",
    "    roof = len(train_score_i)\n",
    "bad_case_train_sort = np.argsort([i for i in train_score if i<0.85])\n",
    "\n",
    "plt.figure(figsize=(15,10))\n",
    "for i in range(roof):\n",
    "    plt.subplot(2,3,i+1)\n",
    "    image, bboxes = detect_image(yolo, r11[train_score_i[bad_case_train_sort[i]]], \"\", input_size=YOLO_INPUT_SIZE, show=False, CLASSES=TRAIN_CLASSES, rectangle_colors=(255,0,0))\n",
    "    image = cv2.cvtColor(image, cv2.COLOR_BGR2RGB)\n",
    "    plt.imshow(image)\n",
    "    if len(bboxes) == 0 :\n",
    "        plt.title('no object')\n",
    "        plt.axis('off')\n",
    "    else :\n",
    "        plt.title('score {0:2f}'.format(bboxes[0][4]))\n",
    "        plt.axis('off')\n",
    "plt.savefig(\"./image_compare/train_bad.jpg\",bbox_inches = \"tight\")"
   ]
  },
  {
   "cell_type": "code",
   "execution_count": null,
   "id": "5944e68d",
   "metadata": {},
   "outputs": [],
   "source": [
    "#test good\n",
    "plt.figure(figsize=(15,10))\n",
    "for i in range(6):\n",
    "    plt.subplot(2,3,i+1)\n",
    "    image, bboxes = detect_image(yolo, r1[i], \"\", input_size=YOLO_INPUT_SIZE, show=False, CLASSES=TRAIN_CLASSES, rectangle_colors=(255,0,0))\n",
    "    image = cv2.cvtColor(image, cv2.COLOR_BGR2RGB)\n",
    "    plt.imshow(image)\n",
    "    if len(bboxes) == 0 :\n",
    "        plt.title('no object')\n",
    "        plt.axis('off')\n",
    "    else :\n",
    "        plt.title('score {0:2f}'.format(bboxes[0][4]))\n",
    "        plt.axis('off')\n",
    "plt.savefig(\"./image_compare/test_good.jpg\",bbox_inches = \"tight\")"
   ]
  },
  {
   "cell_type": "code",
   "execution_count": null,
   "id": "fb183c3f",
   "metadata": {},
   "outputs": [],
   "source": [
    "#test bad 6 picture\n",
    "if len(test_score_i)>6 : \n",
    "    roof = 6\n",
    "else: \n",
    "    roof = len(test_score_i)\n",
    "bad_case_test_sort = np.argsort([i for i in test_score if i<0.85])\n",
    "\n",
    "plt.figure(figsize=(15,10))\n",
    "for i in range(roof):\n",
    "    plt.subplot(2,3,i+1)\n",
    "    image, bboxes = detect_image(yolo, r1[test_score_i[bad_case_test_sort[i]]], \"\", input_size=YOLO_INPUT_SIZE, show=False, CLASSES=TRAIN_CLASSES, rectangle_colors=(255,0,0))\n",
    "    image = cv2.cvtColor(image, cv2.COLOR_BGR2RGB)\n",
    "    plt.imshow(image)\n",
    "    if len(bboxes) == 0 :\n",
    "        plt.title('no object')\n",
    "        plt.axis('off')\n",
    "    else :\n",
    "        plt.title('score {0:2f}'.format(bboxes[0][4]))\n",
    "        plt.axis('off')\n",
    "plt.savefig(\"./image_compare/test_bad.jpg\",bbox_inches = \"tight\")"
   ]
  },
  {
   "cell_type": "code",
   "execution_count": null,
   "id": "d165691a",
   "metadata": {},
   "outputs": [],
   "source": [
    "#anomaly\n",
    "plt.figure(figsize=(12,8))\n",
    "for i in range(6):\n",
    "    plt.subplot(2,3,i+1)\n",
    "    image, bboxes = detect_image(yolo, r2[-6:][i], \"\", input_size=YOLO_INPUT_SIZE, show=False, CLASSES=TRAIN_CLASSES, rectangle_colors=(255,0,0))\n",
    "    image = cv2.cvtColor(image, cv2.COLOR_BGR2RGB)\n",
    "    plt.imshow(image)\n",
    "    if len(bboxes) == 0 :\n",
    "        plt.title('no object')\n",
    "        plt.axis('off')\n",
    "    else :\n",
    "        plt.title('score {0:2f}'.format(bboxes[0][4]))\n",
    "        plt.axis('off')\n",
    "plt.savefig(\"./image_compare/anomaly.jpg\",bbox_inches = \"tight\")"
   ]
  },
  {
   "cell_type": "code",
   "execution_count": null,
   "id": "0f98a766",
   "metadata": {},
   "outputs": [],
   "source": [
    "#coco bad 6 picture\n",
    "bad_case_coco_sort_decent = np.argsort(over_anomaly_score)[::-1]\n",
    "if len(bad_case_coco_sort_decent)>6 : \n",
    "    roof = 6\n",
    "else: \n",
    "    roof = len(bad_case_coco_sort_decent)\n",
    "\n",
    "plt.figure(figsize=(15,10))\n",
    "for i in range(roof):\n",
    "    plt.subplot(2,3,i+1)\n",
    "    image, bboxes = detect_image(yolo, coco_anomaly[over_anomaly_i[bad_case_coco_sort_decent[i]]], \"\", input_size=YOLO_INPUT_SIZE, show=False, CLASSES=TRAIN_CLASSES, rectangle_colors=(255,0,0))\n",
    "    image = cv2.cvtColor(image, cv2.COLOR_BGR2RGB)\n",
    "    plt.imshow(image)\n",
    "    if len(bboxes) == 0 :\n",
    "        plt.title('no object')\n",
    "        plt.axis('off')\n",
    "    else :\n",
    "        plt.title('score {0:2f}'.format(bboxes[0][4]))\n",
    "        plt.axis('off')\n",
    "plt.savefig(\"./image_compare/coco_bad.jpg\",bbox_inches = \"tight\")"
   ]
  },
  {
   "cell_type": "code",
   "execution_count": null,
   "id": "09917446",
   "metadata": {},
   "outputs": [],
   "source": [
    "#braces bad 6 picture\n",
    "bad_case_braces_sort_decent = np.argsort(under_braces_score)\n",
    "if len(bad_case_braces_sort_decent)>6 : \n",
    "    roof = 6\n",
    "else: \n",
    "    roof = len(bad_case_braces_sort_decent)\n",
    "\n",
    "plt.figure(figsize=(15,10))\n",
    "for i in range(roof):\n",
    "    plt.subplot(2,3,i+1)\n",
    "    image, bboxes = detect_image(yolo, os.path.join(brace_path, os.listdir(brace_path)[under_braces_i[bad_case_braces_sort_decent[i]]]), \"\", input_size=YOLO_INPUT_SIZE, show=False, CLASSES=TRAIN_CLASSES, rectangle_colors=(255,0,0))\n",
    "    image = cv2.cvtColor(image, cv2.COLOR_BGR2RGB)\n",
    "    plt.imshow(image)\n",
    "    if len(bboxes) == 0 :\n",
    "        plt.title('no object')\n",
    "        plt.axis('off')\n",
    "    else :\n",
    "        plt.title('score {0:2f}'.format(bboxes[0][4]))\n",
    "        plt.axis('off')\n",
    "plt.savefig(\"./image_compare/braces_bad.jpg\",bbox_inches = \"tight\")"
   ]
  },
  {
   "cell_type": "code",
   "execution_count": null,
   "id": "c9917ddb",
   "metadata": {},
   "outputs": [],
   "source": [
    "#angle bad 6 picture\n",
    "bad_case_angle_sort_decent = np.argsort(over_angle_score)[::-1]\n",
    "if len(bad_case_angle_sort_decent)>6 : \n",
    "    roof = 6\n",
    "else: \n",
    "    roof = len(bad_case_angle_sort_decent)\n",
    "\n",
    "plt.figure(figsize=(15,10))\n",
    "for i in range(roof):\n",
    "    plt.subplot(2,3,i+1)\n",
    "    image, bboxes = detect_image(yolo, os.path.join(angled_path, os.listdir(angled_path)[over_angle_i[bad_case_angle_sort_decent[i]]]), \"\", input_size=YOLO_INPUT_SIZE, show=False, CLASSES=TRAIN_CLASSES, rectangle_colors=(255,0,0))\n",
    "    image = cv2.cvtColor(image, cv2.COLOR_BGR2RGB)\n",
    "    plt.imshow(image)\n",
    "    if len(bboxes) == 0 :\n",
    "        plt.title('no object')\n",
    "        plt.axis('off')\n",
    "    else :\n",
    "        plt.title('score {0:2f}'.format(bboxes[0][4]))\n",
    "        plt.axis('off')\n",
    "plt.savefig(\"./image_compare/angle_bad.jpg\",bbox_inches = \"tight\")"
   ]
  }
 ],
 "metadata": {
  "kernelspec": {
   "display_name": "Python 3",
   "language": "python",
   "name": "python3"
  },
  "language_info": {
   "codemirror_mode": {
    "name": "ipython",
    "version": 3
   },
   "file_extension": ".py",
   "mimetype": "text/x-python",
   "name": "python",
   "nbconvert_exporter": "python",
   "pygments_lexer": "ipython3",
   "version": "3.6.9"
  }
 },
 "nbformat": 4,
 "nbformat_minor": 5
}
