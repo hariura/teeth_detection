{
 "cells": [
  {
   "cell_type": "code",
   "execution_count": 1,
   "id": "5746161a",
   "metadata": {},
   "outputs": [
    {
     "name": "stderr",
     "output_type": "stream",
     "text": [
      "2023-02-03 11:15:38.955788: E tensorflow/stream_executor/cuda/cuda_driver.cc:271] failed call to cuInit: CUDA_ERROR_NO_DEVICE: no CUDA-capable device is detected\n",
      "2023-02-03 11:15:38.955836: I tensorflow/stream_executor/cuda/cuda_diagnostics.cc:169] retrieving CUDA diagnostic information for host: jh-desktop\n",
      "2023-02-03 11:15:38.955845: I tensorflow/stream_executor/cuda/cuda_diagnostics.cc:176] hostname: jh-desktop\n",
      "2023-02-03 11:15:38.955944: I tensorflow/stream_executor/cuda/cuda_diagnostics.cc:200] libcuda reported version is: 470.161.3\n",
      "2023-02-03 11:15:38.955971: I tensorflow/stream_executor/cuda/cuda_diagnostics.cc:204] kernel reported version is: 470.161.3\n",
      "2023-02-03 11:15:38.955975: I tensorflow/stream_executor/cuda/cuda_diagnostics.cc:310] kernel version seems to match DSO: 470.161.3\n",
      "2023-02-03 11:15:38.956205: I tensorflow/core/platform/cpu_feature_guard.cc:151] This TensorFlow binary is optimized with oneAPI Deep Neural Network Library (oneDNN) to use the following CPU instructions in performance-critical operations:  AVX2 FMA\n",
      "To enable them in other operations, rebuild TensorFlow with the appropriate compiler flags.\n"
     ]
    }
   ],
   "source": [
    "import cv2\n",
    "import numpy as np\n",
    "import os\n",
    "import matplotlib\n",
    "import matplotlib.pyplot as plt\n",
    "%matplotlib inline  \n",
    "os.environ[\"CUDA_VISIBLE_DEVICES\"]=\"-1\"  \n",
    "import tensorflow as tf\n",
    "from glob import glob\n",
    "from yolov3.yolov4_config import Create_Yolo\n",
    "from yolov3.utils_config import load_yolo_weights, detect_image, image_preprocess, postprocess_boxes_excel, nms, draw_bbox\n",
    "from yolov3.configs_config import *\n",
    "from PIL import Image\n",
    "\n",
    "import os\n",
    "import pandas as pd\n",
    "\n",
    "if YOLO_TYPE == \"yolov4\":\n",
    "    Darknet_weights = YOLO_V4_TINY_WEIGHTS if TRAIN_YOLO_TINY else YOLO_V4_WEIGHTS\n",
    "if YOLO_TYPE == \"yolov3\":\n",
    "    Darknet_weights = YOLO_V3_TINY_WEIGHTS if TRAIN_YOLO_TINY else YOLO_V3_WEIGHTS\n",
    "\n",
    "yolo = Create_Yolo(input_size=YOLO_INPUT_SIZE)\n",
    "load_yolo_weights(yolo, Darknet_weights) # use Darknet weights"
   ]
  },
  {
   "cell_type": "code",
   "execution_count": 2,
   "id": "a91c03f3",
   "metadata": {},
   "outputs": [
    {
     "data": {
      "text/plain": [
       "<tensorflow.python.training.tracking.util.CheckpointLoadStatus at 0x7f0df85a38b0>"
      ]
     },
     "execution_count": 2,
     "metadata": {},
     "output_type": "execute_result"
    }
   ],
   "source": [
    "yolo = Create_Yolo(input_size=YOLO_INPUT_SIZE, CLASSES=TRAIN_CLASSES)\n",
    "yolo.load_weights(\"./checkpoints/frist/yolov3_custom\") # use keras weights"
   ]
  },
  {
   "cell_type": "code",
   "execution_count": 3,
   "id": "b5ba2685",
   "metadata": {},
   "outputs": [],
   "source": [
    "def prt_loss(image_path ,yolo):\n",
    "    input_size = 416\n",
    "    iou_threshold = 0.45\n",
    "    \n",
    "    original_image      = cv2.imread(image_path)\n",
    "    original_image      = cv2.cvtColor(original_image, cv2.COLOR_BGR2RGB)\n",
    "    original_image      = cv2.cvtColor(original_image, cv2.COLOR_BGR2RGB)\n",
    "    image_data = image_preprocess(np.copy(original_image), [input_size, input_size])\n",
    "    image_data = image_data[np.newaxis, ...].astype(np.float32)\n",
    "    pred_bbox = yolo.predict(image_data)\n",
    "    pred_bbox = [tf.reshape(x, (-1, tf.shape(x)[-1])) for x in pred_bbox]\n",
    "    pred_bbox = tf.concat(pred_bbox, axis=0)\n",
    "    bboxes, pred_coor, pred_conf, pred_prob  = postprocess_boxes_excel(pred_bbox, original_image, input_size, 0.0)\n",
    "    classes = np.argmax(pred_prob, axis=-1)\n",
    "    scores = pred_conf * pred_prob[np.arange(len(pred_coor)), classes]\n",
    "    argmax_score = np.argmax(scores)\n",
    "    max_score = np.max(scores)\n",
    "    print_conf, print_prob = pred_conf[argmax_score], pred_prob[argmax_score]\n",
    "    \n",
    "    return [max_score, print_conf, print_prob]"
   ]
  },
  {
   "cell_type": "code",
   "execution_count": 4,
   "id": "04b6c46a",
   "metadata": {},
   "outputs": [],
   "source": [
    "def GIoU(bboxes_1, bboxes_2):\n",
    "    # 1. calulate intersection over union\n",
    "    area_1 = (bboxes_1[2] - bboxes_1[0]) * (bboxes_1[3] - bboxes_1[1])\n",
    "    area_2 = (bboxes_2[2] - bboxes_2[0]) * (bboxes_2[3] - bboxes_2[1])\n",
    "    \n",
    "    intersection_wh = tf.minimum(bboxes_1[2:], bboxes_2[2:]) - tf.maximum(bboxes_1[ :2], bboxes_2[ :2])\n",
    "    intersection_wh = tf.maximum(intersection_wh, 0)\n",
    "    \n",
    "    intersection = intersection_wh[0] * intersection_wh[1]\n",
    "    union = (area_1 + area_2) - intersection\n",
    "    \n",
    "    ious = intersection / union\n",
    "    \n",
    "    # 2. (C - (A U B))/C\n",
    "    C_wh = tf.maximum(bboxes_1[2:], bboxes_2[2:]) - tf.minimum(bboxes_1[:2], bboxes_2[:2])\n",
    "    C_wh = C_wh\n",
    "    C = C_wh[0] * C_wh[1]\n",
    "\n",
    "    giou = ious - (C - union) / C\n",
    "    return giou, ious"
   ]
  },
  {
   "cell_type": "code",
   "execution_count": 5,
   "id": "d139c6f9",
   "metadata": {},
   "outputs": [],
   "source": [
    "r1 = glob(r\"teeth_including_lip_more/test/*.jpg\")"
   ]
  },
  {
   "cell_type": "code",
   "execution_count": 6,
   "id": "a6c8a42c",
   "metadata": {},
   "outputs": [],
   "source": [
    "r11 = glob(r\"teeth_including_lip_more/train/*.jpg\")"
   ]
  },
  {
   "cell_type": "code",
   "execution_count": 7,
   "id": "4aa283f8",
   "metadata": {},
   "outputs": [],
   "source": [
    "r5 = glob(r\"/home/jh/Desktop/teeth/github_td/test2/*.jpg\")"
   ]
  },
  {
   "cell_type": "code",
   "execution_count": 8,
   "id": "53212ea9",
   "metadata": {},
   "outputs": [
    {
     "name": "stdout",
     "output_type": "stream",
     "text": [
      "[  34  130  161  189  241  337  466  474  600  646  769  775  860  878\n",
      "  975  995 1016 1021 1076 1082 1184 1267 1275 1363 1478 1500 1528 1585\n",
      " 1685 1806 1899 1955 1981 2041 2047 2061 2363 2391 2433 2435 2556 2558\n",
      " 2612 2613 2734 2747 2824 2888 2904 2919 3005 3073 3092 3152 3171 3202\n",
      " 3342 3385 3444 3461 3556 3772 3798 3843 3890 3943 4014 4117 4297 4426\n",
      " 4551 4555 4658 4798 4843 4911]\n"
     ]
    }
   ],
   "source": [
    "coco_anomaly =  glob(r\"/home/jh/Desktop/teeth/github_td/val2017/*.jpg\")\n",
    "np.random.seed(42)\n",
    "a = np.random.randint(5000, size =76)\n",
    "a = np.sort(a)\n",
    "print(a)\n",
    "anomaly_76 = [coco_anomaly[i] for i in a]"
   ]
  },
  {
   "cell_type": "code",
   "execution_count": 9,
   "id": "ddec225d",
   "metadata": {},
   "outputs": [],
   "source": [
    "anomaly_85 = glob(r\"/home/jh/Desktop/teeth/github_td/ano/*.jpg\")"
   ]
  },
  {
   "cell_type": "code",
   "execution_count": 10,
   "id": "c920ca07",
   "metadata": {},
   "outputs": [],
   "source": [
    "brace_path = r\"braces\""
   ]
  },
  {
   "cell_type": "code",
   "execution_count": 11,
   "id": "cb202ba8",
   "metadata": {},
   "outputs": [],
   "source": [
    "angled_path = r\"angled\""
   ]
  },
  {
   "cell_type": "markdown",
   "id": "f68afb01",
   "metadata": {},
   "source": [
    "### pred score save "
   ]
  },
  {
   "cell_type": "code",
   "execution_count": 12,
   "id": "7bb63865",
   "metadata": {},
   "outputs": [],
   "source": [
    "train_names = []\n",
    "valid_names = []\n",
    "test_names = []\n",
    "anomaly_names = []"
   ]
  },
  {
   "cell_type": "code",
   "execution_count": 13,
   "id": "2cc93775",
   "metadata": {},
   "outputs": [],
   "source": [
    "coco_names = []\n",
    "braces_names = []\n",
    "angle_names = []"
   ]
  },
  {
   "cell_type": "code",
   "execution_count": 14,
   "id": "ce152975",
   "metadata": {},
   "outputs": [],
   "source": [
    "for i in range(len(r11)):\n",
    "    train_names.append(os.path.basename(r11[i]))\n",
    "for i in range(len(r1)):\n",
    "    valid_names.append(os.path.basename(r1[i]))\n",
    "for i in range(len(r5)):\n",
    "    test_names.append(os.path.basename(r5[i]))\n",
    "for i in range(len(anomaly_85)):\n",
    "    anomaly_names.append(os.path.basename(anomaly_85[i]))"
   ]
  },
  {
   "cell_type": "code",
   "execution_count": 15,
   "id": "46e56eea",
   "metadata": {},
   "outputs": [],
   "source": [
    "for i in range(len(coco_anomaly)):\n",
    "    coco_names.append(os.path.basename(coco_anomaly[i]))\n",
    "for i in range(len(os.listdir(brace_path))):\n",
    "    braces_names.append(os.path.basename(os.listdir(brace_path)[i]))\n",
    "for i in range(len(os.listdir(angled_path))):\n",
    "    angle_names.append(os.path.basename(os.listdir(angled_path)[i]))"
   ]
  },
  {
   "cell_type": "code",
   "execution_count": 16,
   "id": "a60fceb3",
   "metadata": {},
   "outputs": [],
   "source": [
    "train_score = []\n",
    "valid_score = []\n",
    "test_score = []\n",
    "anomaly_score = []"
   ]
  },
  {
   "cell_type": "code",
   "execution_count": 17,
   "id": "15aecaa0",
   "metadata": {},
   "outputs": [],
   "source": [
    "coco_score = []\n",
    "braces_score = []\n",
    "angle_score = []"
   ]
  },
  {
   "cell_type": "code",
   "execution_count": 18,
   "id": "ff893f97",
   "metadata": {},
   "outputs": [],
   "source": [
    "for i in range(len(r11)):\n",
    "    aa =prt_loss(r11[i] ,yolo)\n",
    "    train_score.append(aa)"
   ]
  },
  {
   "cell_type": "code",
   "execution_count": 19,
   "id": "46eb4ba6",
   "metadata": {},
   "outputs": [
    {
     "data": {
      "text/plain": [
       "[[0.45423985, 0.99020964, array([0.458731], dtype=float32)],\n",
       " [0.45468703, 0.9893341, array([0.45958894], dtype=float32)],\n",
       " [0.46945748, 0.9328524, array([0.50324947], dtype=float32)],\n",
       " [0.459811, 0.9858012, array([0.4664338], dtype=float32)],\n",
       " [0.4716107, 0.9726631, array([0.4848654], dtype=float32)],\n",
       " [0.47915956, 0.9855803, array([0.48616996], dtype=float32)],\n",
       " [0.47486788, 0.9813161, array([0.4839092], dtype=float32)],\n",
       " [0.4597126, 0.90379214, array([0.5086486], dtype=float32)],\n",
       " [0.4461464, 0.985026, array([0.45292854], dtype=float32)],\n",
       " [0.4731486, 0.969886, array([0.4878394], dtype=float32)],\n",
       " [0.45329842, 0.9202012, array([0.49260795], dtype=float32)],\n",
       " [0.47342697, 0.9583277, array([0.49401364], dtype=float32)],\n",
       " [0.47030488, 0.95168316, array([0.4941822], dtype=float32)],\n",
       " [0.47312334, 0.9606562, array([0.49250016], dtype=float32)],\n",
       " [0.4796727, 0.9867354, array([0.4861209], dtype=float32)],\n",
       " [0.45689508, 0.9823054, array([0.4651253], dtype=float32)],\n",
       " [0.458329, 0.97637427, array([0.46941936], dtype=float32)],\n",
       " [0.43746, 0.91729593, array([0.4769017], dtype=float32)],\n",
       " [0.46788293, 0.96790683, array([0.48339665], dtype=float32)],\n",
       " [0.44664803, 0.98358357, array([0.45410278], dtype=float32)],\n",
       " [0.47417074, 0.9811623, array([0.48327452], dtype=float32)],\n",
       " [0.46239576, 0.98710877, array([0.46843445], dtype=float32)],\n",
       " [0.47927752, 0.9695213, array([0.4943445], dtype=float32)],\n",
       " [0.46153784, 0.98355174, array([0.46925628], dtype=float32)],\n",
       " [0.46336105, 0.94154155, array([0.49213022], dtype=float32)],\n",
       " [0.45938388, 0.99120796, array([0.46345863], dtype=float32)],\n",
       " [0.46485192, 0.99169075, array([0.46874684], dtype=float32)],\n",
       " [0.43679836, 0.9880624, array([0.4420757], dtype=float32)],\n",
       " [0.47303313, 0.97726476, array([0.48403785], dtype=float32)],\n",
       " [0.48825878, 0.97440195, array([0.5010856], dtype=float32)],\n",
       " [0.4672757, 0.98231316, array([0.47568914], dtype=float32)],\n",
       " [0.46043736, 0.9777566, array([0.47091204], dtype=float32)],\n",
       " [0.45943788, 0.9420359, array([0.48770738], dtype=float32)],\n",
       " [0.4612393, 0.9634484, array([0.47873795], dtype=float32)],\n",
       " [0.4536519, 0.93903524, array([0.48310423], dtype=float32)],\n",
       " [0.45313215, 0.9685443, array([0.46784866], dtype=float32)],\n",
       " [0.4733641, 0.95528364, array([0.49552205], dtype=float32)],\n",
       " [0.4795204, 0.9733794, array([0.49263465], dtype=float32)],\n",
       " [0.47233406, 0.942954, array([0.5009089], dtype=float32)],\n",
       " [0.4758671, 0.982146, array([0.48451766], dtype=float32)],\n",
       " [0.44113892, 0.9682392, array([0.45560944], dtype=float32)],\n",
       " [0.47571555, 0.98275894, array([0.48406127], dtype=float32)],\n",
       " [0.47717798, 0.98275745, array([0.4855501], dtype=float32)],\n",
       " [0.45653802, 0.9795958, array([0.46604735], dtype=float32)],\n",
       " [0.47317055, 0.984022, array([0.48085362], dtype=float32)],\n",
       " [0.47144133, 0.9751239, array([0.48346815], dtype=float32)],\n",
       " [0.45118943, 0.9887192, array([0.45633727], dtype=float32)],\n",
       " [0.4747146, 0.9808277, array([0.4839939], dtype=float32)],\n",
       " [0.45664996, 0.99280185, array([0.45996082], dtype=float32)],\n",
       " [0.4651803, 0.9911074, array([0.4693541], dtype=float32)],\n",
       " [0.47713175, 0.9854567, array([0.48417324], dtype=float32)],\n",
       " [0.4601515, 0.98274827, array([0.46822926], dtype=float32)],\n",
       " [0.45757037, 0.9582176, array([0.4775224], dtype=float32)],\n",
       " [0.46825954, 0.9883884, array([0.47376066], dtype=float32)],\n",
       " [0.46007898, 0.953334, array([0.4826], dtype=float32)],\n",
       " [0.4571488, 0.9529811, array([0.47970393], dtype=float32)],\n",
       " [0.45013708, 0.9751502, array([0.46160793], dtype=float32)],\n",
       " [0.47677174, 0.980459, array([0.48627403], dtype=float32)],\n",
       " [0.47662967, 0.9897816, array([0.48155034], dtype=float32)],\n",
       " [0.4485007, 0.98108196, array([0.45714906], dtype=float32)],\n",
       " [0.46667013, 0.985366, array([0.4736008], dtype=float32)],\n",
       " [0.48304346, 0.9548127, array([0.5059039], dtype=float32)],\n",
       " [0.47196418, 0.9905665, array([0.47645885], dtype=float32)],\n",
       " [0.46381766, 0.9763621, array([0.47504675], dtype=float32)],\n",
       " [0.4912785, 0.9844682, array([0.4990293], dtype=float32)],\n",
       " [0.44952774, 0.9894912, array([0.4543019], dtype=float32)],\n",
       " [0.46667355, 0.99364316, array([0.4696591], dtype=float32)],\n",
       " [0.43773565, 0.95137393, array([0.46010894], dtype=float32)],\n",
       " [0.47059646, 0.93985564, array([0.50071144], dtype=float32)],\n",
       " [0.4682798, 0.95404804, array([0.49083462], dtype=float32)],\n",
       " [0.46812022, 0.9845046, array([0.4754881], dtype=float32)],\n",
       " [0.46139708, 0.9845462, array([0.46863934], dtype=float32)],\n",
       " [0.4600076, 0.95970565, array([0.47932157], dtype=float32)],\n",
       " [0.46268392, 0.98967403, array([0.46751142], dtype=float32)],\n",
       " [0.46650836, 0.99067503, array([0.4708995], dtype=float32)],\n",
       " [0.4699238, 0.98106253, array([0.47899476], dtype=float32)],\n",
       " [0.47350416, 0.962685, array([0.49185783], dtype=float32)],\n",
       " [0.4845019, 0.9862521, array([0.4912556], dtype=float32)],\n",
       " [0.47156444, 0.9787898, array([0.48178315], dtype=float32)],\n",
       " [0.45393842, 0.9749738, array([0.4655904], dtype=float32)],\n",
       " [0.48049924, 0.9619548, array([0.49950293], dtype=float32)],\n",
       " [0.44653103, 0.9381862, array([0.47595137], dtype=float32)],\n",
       " [0.48068562, 0.9832016, array([0.4888983], dtype=float32)],\n",
       " [0.44948208, 0.9852689, array([0.45620245], dtype=float32)],\n",
       " [0.46221003, 0.9542097, array([0.4843904], dtype=float32)],\n",
       " [0.4643402, 0.9695576, array([0.47891968], dtype=float32)],\n",
       " [0.4737091, 0.97995305, array([0.4833998], dtype=float32)],\n",
       " [0.45896715, 0.9895922, array([0.46379423], dtype=float32)],\n",
       " [0.46798825, 0.9682293, array([0.48334444], dtype=float32)],\n",
       " [0.46134055, 0.9857502, array([0.4680096], dtype=float32)],\n",
       " [0.4761177, 0.9863384, array([0.48271233], dtype=float32)],\n",
       " [0.45205033, 0.9913744, array([0.45598346], dtype=float32)],\n",
       " [0.47288874, 0.943084, array([0.501428], dtype=float32)],\n",
       " [0.4898144, 0.9829043, array([0.49833375], dtype=float32)],\n",
       " [0.45810166, 0.97365487, array([0.47049695], dtype=float32)],\n",
       " [0.4600333, 0.9931675, array([0.4631981], dtype=float32)],\n",
       " [0.47657302, 0.9874515, array([0.4826293], dtype=float32)],\n",
       " [0.4561242, 0.9300262, array([0.4904423], dtype=float32)],\n",
       " [0.46871936, 0.9791575, array([0.47869658], dtype=float32)],\n",
       " [0.47210068, 0.97232103, array([0.4855399], dtype=float32)],\n",
       " [0.44238383, 0.9866426, array([0.44837293], dtype=float32)],\n",
       " [0.46538708, 0.98634565, array([0.4718296], dtype=float32)],\n",
       " [0.48492613, 0.9881499, array([0.4907415], dtype=float32)],\n",
       " [0.46466824, 0.98913336, array([0.4697731], dtype=float32)],\n",
       " [0.46656364, 0.9852026, array([0.47357127], dtype=float32)],\n",
       " [0.46232826, 0.98915714, array([0.46739617], dtype=float32)],\n",
       " [0.4588644, 0.99102217, array([0.4630213], dtype=float32)],\n",
       " [0.48100355, 0.96889436, array([0.4964458], dtype=float32)],\n",
       " [0.46298337, 0.9629035, array([0.48082012], dtype=float32)],\n",
       " [0.4630174, 0.95282656, array([0.4859409], dtype=float32)],\n",
       " [0.45287555, 0.97894, array([0.4626183], dtype=float32)],\n",
       " [0.47424892, 0.9709519, array([0.4884371], dtype=float32)],\n",
       " [0.48112568, 0.97691333, array([0.49249578], dtype=float32)],\n",
       " [0.44699383, 0.99139386, array([0.45087412], dtype=float32)],\n",
       " [0.4602374, 0.9706638, array([0.47414708], dtype=float32)],\n",
       " [0.47576064, 0.9568737, array([0.49720317], dtype=float32)],\n",
       " [0.4539506, 0.97459304, array([0.4657848], dtype=float32)],\n",
       " [0.46023935, 0.9910426, array([0.46439916], dtype=float32)],\n",
       " [0.46550053, 0.99255383, array([0.46899274], dtype=float32)],\n",
       " [0.45943958, 0.98486763, array([0.46649882], dtype=float32)],\n",
       " [0.4647954, 0.97630006, array([0.47607845], dtype=float32)],\n",
       " [0.47636843, 0.97530746, array([0.48842898], dtype=float32)],\n",
       " [0.44889852, 0.97961736, array([0.45823863], dtype=float32)],\n",
       " [0.47043216, 0.9604564, array([0.48980066], dtype=float32)],\n",
       " [0.45944262, 0.9000594, array([0.5104581], dtype=float32)],\n",
       " [0.4705133, 0.97622, array([0.48197466], dtype=float32)],\n",
       " [0.46449396, 0.9882417, array([0.47002062], dtype=float32)],\n",
       " [0.47485727, 0.94553477, array([0.50221026], dtype=float32)],\n",
       " [0.46140754, 0.9736872, array([0.47387657], dtype=float32)],\n",
       " [0.48570928, 0.98499537, array([0.49310818], dtype=float32)],\n",
       " [0.4448745, 0.9300171, array([0.47835088], dtype=float32)],\n",
       " [0.46149728, 0.9903922, array([0.46597427], dtype=float32)],\n",
       " [0.47584638, 0.9889259, array([0.48117498], dtype=float32)],\n",
       " [0.46253818, 0.9891058, array([0.46763265], dtype=float32)],\n",
       " [0.44558573, 0.941475, array([0.47328472], dtype=float32)],\n",
       " [0.48428896, 0.98391247, array([0.49220735], dtype=float32)],\n",
       " [0.4589714, 0.9769753, array([0.46978813], dtype=float32)],\n",
       " [0.45615822, 0.95464903, array([0.4778282], dtype=float32)],\n",
       " [0.4673796, 0.9775952, array([0.47809112], dtype=float32)],\n",
       " [0.47916394, 0.97302127, array([0.4924496], dtype=float32)],\n",
       " [0.46692768, 0.9597841, array([0.48649243], dtype=float32)],\n",
       " [0.4629915, 0.988428, array([0.46841198], dtype=float32)],\n",
       " [0.46960387, 0.9715127, array([0.48337388], dtype=float32)],\n",
       " [0.46842223, 0.9649587, array([0.48543242], dtype=float32)],\n",
       " [0.4796734, 0.9791785, array([0.4898733], dtype=float32)],\n",
       " [0.47588798, 0.97063506, array([0.4902852], dtype=float32)],\n",
       " [0.47722045, 0.9601171, array([0.497044], dtype=float32)],\n",
       " [0.47320634, 0.98976463, array([0.47809988], dtype=float32)],\n",
       " [0.4689847, 0.94833803, array([0.49453324], dtype=float32)],\n",
       " [0.45150942, 0.9705172, array([0.46522555], dtype=float32)],\n",
       " [0.48621893, 0.98247576, array([0.49489152], dtype=float32)],\n",
       " [0.47341603, 0.98459196, array([0.4808246], dtype=float32)],\n",
       " [0.4606648, 0.96456707, array([0.47758713], dtype=float32)],\n",
       " [0.45737046, 0.961614, array([0.4756279], dtype=float32)],\n",
       " [0.46950856, 0.9676328, array([0.48521358], dtype=float32)],\n",
       " [0.47891092, 0.9558533, array([0.50102973], dtype=float32)],\n",
       " [0.46832764, 0.94463176, array([0.495778], dtype=float32)],\n",
       " [0.46599132, 0.9455365, array([0.49283272], dtype=float32)],\n",
       " [0.4716065, 0.99076223, array([0.4760037], dtype=float32)],\n",
       " [0.478481, 0.976663, array([0.48991412], dtype=float32)],\n",
       " [0.47139087, 0.983377, array([0.47935927], dtype=float32)],\n",
       " [0.45693663, 0.9786433, array([0.46690825], dtype=float32)],\n",
       " [0.4555018, 0.97106284, array([0.4690755], dtype=float32)],\n",
       " [0.43863925, 0.98258984, array([0.44641134], dtype=float32)],\n",
       " [0.45434043, 0.9630085, array([0.47179273], dtype=float32)],\n",
       " [0.47673008, 0.9731014, array([0.48990792], dtype=float32)],\n",
       " [0.4486153, 0.9791862, array([0.4581512], dtype=float32)],\n",
       " [0.45203066, 0.9373977, array([0.48221865], dtype=float32)],\n",
       " [0.47571295, 0.9784914, array([0.4861698], dtype=float32)],\n",
       " [0.45771328, 0.9219948, array([0.49643803], dtype=float32)],\n",
       " [0.4583374, 0.9923221, array([0.4618837], dtype=float32)],\n",
       " [0.45894414, 0.97673017, array([0.46987814], dtype=float32)],\n",
       " [0.46868247, 0.982134, array([0.4772083], dtype=float32)],\n",
       " [0.47770277, 0.97739965, array([0.48874867], dtype=float32)],\n",
       " [0.4765194, 0.97891164, array([0.4867849], dtype=float32)],\n",
       " [0.46137482, 0.9775204, array([0.47198483], dtype=float32)],\n",
       " [0.47784534, 0.9856905, array([0.48478234], dtype=float32)],\n",
       " [0.47372568, 0.9618484, array([0.49251595], dtype=float32)],\n",
       " [0.47256365, 0.98596233, array([0.4792918], dtype=float32)],\n",
       " [0.44253135, 0.9636588, array([0.45921993], dtype=float32)],\n",
       " [0.45496067, 0.99123955, array([0.45898157], dtype=float32)],\n",
       " [0.47051483, 0.98749876, array([0.4764713], dtype=float32)],\n",
       " [0.4765406, 0.9600695, array([0.49636054], dtype=float32)],\n",
       " [0.47130203, 0.9830309, array([0.47943765], dtype=float32)],\n",
       " [0.4726059, 0.96731555, array([0.4885747], dtype=float32)],\n",
       " [0.46161658, 0.9812889, array([0.47041863], dtype=float32)],\n",
       " [0.4736399, 0.98825353, array([0.47926962], dtype=float32)],\n",
       " [0.45434108, 0.98759925, array([0.460046], dtype=float32)],\n",
       " [0.4478037, 0.97136223, array([0.4610059], dtype=float32)],\n",
       " [0.47048858, 0.99119323, array([0.47466886], dtype=float32)],\n",
       " [0.47211182, 0.97935176, array([0.48206562], dtype=float32)],\n",
       " [0.46255088, 0.9899517, array([0.46724588], dtype=float32)],\n",
       " [0.47078687, 0.97453475, array([0.48308885], dtype=float32)],\n",
       " [0.44706517, 0.9837226, array([0.45446262], dtype=float32)],\n",
       " [0.47375703, 0.9483328, array([0.49956834], dtype=float32)],\n",
       " [0.46878934, 0.98748314, array([0.47473148], dtype=float32)],\n",
       " [0.48153737, 0.9676546, array([0.49763355], dtype=float32)],\n",
       " [0.46687052, 0.98043823, array([0.47618556], dtype=float32)],\n",
       " [0.44254, 0.94807756, array([0.46677613], dtype=float32)],\n",
       " [0.4363838, 0.9211801, array([0.47372258], dtype=float32)],\n",
       " [0.46678185, 0.98892593, array([0.4720089], dtype=float32)],\n",
       " [0.46920508, 0.9687626, array([0.48433444], dtype=float32)],\n",
       " [0.45275834, 0.98234665, array([0.46089467], dtype=float32)],\n",
       " [0.48157552, 0.98352385, array([0.48964295], dtype=float32)],\n",
       " [0.44446394, 0.9122779, array([0.48720238], dtype=float32)],\n",
       " [0.45448574, 0.91216516, array([0.49824938], dtype=float32)],\n",
       " [0.44660214, 0.9879812, array([0.45203504], dtype=float32)],\n",
       " [0.45941573, 0.9496397, array([0.483779], dtype=float32)],\n",
       " [0.4789578, 0.98478746, array([0.48635653], dtype=float32)],\n",
       " [0.47699022, 0.9567323, array([0.49856186], dtype=float32)],\n",
       " [0.43727514, 0.9399079, array([0.4652319], dtype=float32)],\n",
       " [0.4709138, 0.97995573, array([0.480546], dtype=float32)],\n",
       " [0.46517867, 0.9897501, array([0.4699961], dtype=float32)],\n",
       " [0.44149563, 0.90103155, array([0.4899891], dtype=float32)],\n",
       " [0.4799956, 0.97056484, array([0.49455285], dtype=float32)],\n",
       " [0.45765364, 0.9914736, array([0.46158934], dtype=float32)],\n",
       " [0.4588985, 0.98182255, array([0.46739456], dtype=float32)],\n",
       " [0.43738022, 0.9399332, array([0.4653312], dtype=float32)],\n",
       " [0.45928293, 0.96342695, array([0.47671798], dtype=float32)],\n",
       " [0.48542207, 0.98227537, array([0.49418125], dtype=float32)],\n",
       " [0.4807567, 0.9677578, array([0.49677378], dtype=float32)],\n",
       " [0.45655107, 0.9890829, array([0.46159032], dtype=float32)],\n",
       " [0.45990866, 0.97107023, array([0.4736101], dtype=float32)],\n",
       " [0.44729805, 0.9794216, array([0.45669612], dtype=float32)],\n",
       " [0.4707898, 0.9540611, array([0.49345875], dtype=float32)],\n",
       " [0.47130033, 0.98475426, array([0.4785969], dtype=float32)],\n",
       " [0.46766055, 0.9814528, array([0.47649825], dtype=float32)],\n",
       " [0.4723063, 0.9420567, array([0.50135654], dtype=float32)],\n",
       " [0.45470804, 0.9826256, array([0.46274802], dtype=float32)],\n",
       " [0.4715522, 0.97280586, array([0.48473412], dtype=float32)],\n",
       " [0.45835188, 0.95653, array([0.47918192], dtype=float32)],\n",
       " [0.48357168, 0.9884579, array([0.48921826], dtype=float32)],\n",
       " [0.4850486, 0.9909854, array([0.4894609], dtype=float32)],\n",
       " [0.46812853, 0.96935004, array([0.48293033], dtype=float32)],\n",
       " [0.47433886, 0.9808459, array([0.4836018], dtype=float32)],\n",
       " [0.46918023, 0.9920464, array([0.47294182], dtype=float32)],\n",
       " [0.48182163, 0.9781693, array([0.49257487], dtype=float32)],\n",
       " [0.47986525, 0.9776398, array([0.49084055], dtype=float32)],\n",
       " [0.4598312, 0.9672663, array([0.47539255], dtype=float32)],\n",
       " [0.452027, 0.9914769, array([0.4559128], dtype=float32)],\n",
       " [0.471484, 0.9774283, array([0.48237196], dtype=float32)],\n",
       " [0.46940443, 0.9487846, array([0.4947429], dtype=float32)],\n",
       " [0.48286113, 0.9810481, array([0.49218905], dtype=float32)],\n",
       " [0.45391983, 0.9923268, array([0.45742977], dtype=float32)],\n",
       " [0.47257242, 0.9890188, array([0.47781944], dtype=float32)],\n",
       " [0.43453085, 0.9367466, array([0.46387237], dtype=float32)],\n",
       " [0.47182038, 0.957877, array([0.49256888], dtype=float32)],\n",
       " [0.43496656, 0.9362657, array([0.46457598], dtype=float32)],\n",
       " [0.46280643, 0.986454, array([0.4691617], dtype=float32)],\n",
       " [0.47185934, 0.9802067, array([0.4813876], dtype=float32)],\n",
       " [0.46822113, 0.9752008, array([0.48012793], dtype=float32)],\n",
       " [0.45676914, 0.9881025, array([0.46226898], dtype=float32)],\n",
       " [0.4757088, 0.98735166, array([0.48180282], dtype=float32)],\n",
       " [0.46621576, 0.9795723, array([0.47593808], dtype=float32)],\n",
       " [0.45436627, 0.9630026, array([0.47182247], dtype=float32)],\n",
       " [0.47505093, 0.9652126, array([0.49217233], dtype=float32)],\n",
       " [0.47220576, 0.9882327, array([0.47782853], dtype=float32)],\n",
       " [0.46090943, 0.99199635, array([0.46462816], dtype=float32)],\n",
       " [0.45105276, 0.98984456, array([0.4556804], dtype=float32)],\n",
       " [0.47351798, 0.9843204, array([0.48106083], dtype=float32)],\n",
       " [0.47191495, 0.9918047, array([0.47581437], dtype=float32)],\n",
       " [0.47462478, 0.9759733, array([0.48630917], dtype=float32)],\n",
       " [0.48165303, 0.97323906, array([0.49489695], dtype=float32)],\n",
       " [0.47577783, 0.97738445, array([0.48678678], dtype=float32)],\n",
       " [0.48762727, 0.98814404, array([0.4934779], dtype=float32)],\n",
       " [0.4584985, 0.9883013, array([0.46392584], dtype=float32)],\n",
       " [0.46038032, 0.9745431, array([0.47240633], dtype=float32)],\n",
       " [0.47168356, 0.9845749, array([0.47907332], dtype=float32)],\n",
       " [0.45704007, 0.9381094, array([0.48719272], dtype=float32)],\n",
       " [0.46656442, 0.99218625, array([0.47023875], dtype=float32)],\n",
       " [0.47412893, 0.95857394, array([0.49461904], dtype=float32)],\n",
       " [0.46410403, 0.98339915, array([0.4719386], dtype=float32)],\n",
       " [0.46534714, 0.98572946, array([0.47208405], dtype=float32)],\n",
       " [0.47200695, 0.9910562, array([0.4762666], dtype=float32)],\n",
       " [0.47013077, 0.9862404, array([0.47668985], dtype=float32)],\n",
       " [0.47796988, 0.9893795, array([0.48310065], dtype=float32)],\n",
       " [0.46599978, 0.9765222, array([0.47720346], dtype=float32)],\n",
       " [0.4569476, 0.98374057, array([0.4645001], dtype=float32)],\n",
       " [0.48291358, 0.9833129, array([0.49110878], dtype=float32)],\n",
       " [0.4711835, 0.98736405, array([0.47721356], dtype=float32)],\n",
       " [0.46059823, 0.9847106, array([0.46774986], dtype=float32)],\n",
       " [0.44566712, 0.9768226, array([0.4562416], dtype=float32)],\n",
       " [0.4498875, 0.9502925, array([0.47342002], dtype=float32)],\n",
       " [0.47033495, 0.9588522, array([0.49051872], dtype=float32)],\n",
       " [0.47294644, 0.9712595, array([0.4869414], dtype=float32)],\n",
       " [0.463354, 0.9626752, array([0.48131913], dtype=float32)],\n",
       " [0.47893715, 0.9871671, array([0.48516318], dtype=float32)],\n",
       " [0.46664083, 0.9842478, array([0.47410908], dtype=float32)],\n",
       " [0.46867123, 0.98330045, array([0.47663075], dtype=float32)],\n",
       " [0.4528349, 0.9827788, array([0.46076992], dtype=float32)],\n",
       " [0.46052998, 0.9941683, array([0.4632314], dtype=float32)],\n",
       " [0.4690942, 0.95155656, array([0.49297562], dtype=float32)],\n",
       " [0.46975625, 0.9327146, array([0.50364417], dtype=float32)],\n",
       " [0.45789587, 0.9887917, array([0.46308628], dtype=float32)],\n",
       " [0.47489008, 0.9908396, array([0.47928047], dtype=float32)],\n",
       " [0.4598933, 0.9321052, array([0.49339205], dtype=float32)],\n",
       " [0.46719912, 0.9789939, array([0.47722372], dtype=float32)],\n",
       " [0.46681342, 0.9550626, array([0.48877782], dtype=float32)],\n",
       " [0.46335474, 0.9799332, array([0.47284317], dtype=float32)],\n",
       " [0.44413576, 0.9916192, array([0.44788942], dtype=float32)],\n",
       " [0.455101, 0.98058546, array([0.46411154], dtype=float32)],\n",
       " [0.4704092, 0.98143727, array([0.47930646], dtype=float32)],\n",
       " [0.45103404, 0.97221816, array([0.46392268], dtype=float32)],\n",
       " [0.4647338, 0.97272664, array([0.47776404], dtype=float32)],\n",
       " [0.47498438, 0.9785974, array([0.4853726], dtype=float32)],\n",
       " [0.47296414, 0.9807981, array([0.48222375], dtype=float32)],\n",
       " [0.45016912, 0.9706476, array([0.46378225], dtype=float32)],\n",
       " [0.4548691, 0.9661109, array([0.47082493], dtype=float32)],\n",
       " [0.46256855, 0.96540135, array([0.47914636], dtype=float32)],\n",
       " [0.46268284, 0.9742416, array([0.47491592], dtype=float32)],\n",
       " [0.47086498, 0.97206104, array([0.48439857], dtype=float32)],\n",
       " [0.481893, 0.9700185, array([0.49678743], dtype=float32)],\n",
       " [0.46583807, 0.9711822, array([0.47966084], dtype=float32)],\n",
       " [0.47898132, 0.9707233, array([0.49342725], dtype=float32)],\n",
       " [0.48218113, 0.97991717, array([0.49206316], dtype=float32)],\n",
       " [0.46146074, 0.9862455, array([0.4678964], dtype=float32)],\n",
       " [0.47339553, 0.98852134, array([0.47889256], dtype=float32)],\n",
       " [0.46942705, 0.9865602, array([0.475822], dtype=float32)],\n",
       " [0.47751543, 0.9793694, array([0.48757437], dtype=float32)],\n",
       " [0.46756423, 0.9853374, array([0.47452196], dtype=float32)],\n",
       " [0.4586893, 0.95131004, array([0.48216593], dtype=float32)],\n",
       " [0.44936258, 0.9902123, array([0.45380425], dtype=float32)],\n",
       " [0.46584213, 0.9625333, array([0.48397508], dtype=float32)],\n",
       " [0.452359, 0.987223, array([0.45821357], dtype=float32)],\n",
       " [0.47173646, 0.96267897, array([0.4900247], dtype=float32)],\n",
       " [0.48608544, 0.97810113, array([0.49696848], dtype=float32)],\n",
       " [0.44884852, 0.9780886, array([0.45890373], dtype=float32)],\n",
       " [0.47836712, 0.9721762, array([0.49205804], dtype=float32)],\n",
       " [0.4450962, 0.93011713, array([0.4785378], dtype=float32)],\n",
       " [0.4694147, 0.9924613, array([0.47298035], dtype=float32)],\n",
       " [0.47019094, 0.9600687, array([0.4897472], dtype=float32)],\n",
       " [0.46927732, 0.9695134, array([0.48403385], dtype=float32)],\n",
       " [0.4755172, 0.9742198, array([0.48810056], dtype=float32)],\n",
       " [0.46032047, 0.9776186, array([0.47085896], dtype=float32)],\n",
       " [0.46426016, 0.97422874, array([0.47654122], dtype=float32)],\n",
       " [0.46819586, 0.9673381, array([0.48400438], dtype=float32)],\n",
       " [0.45250368, 0.99206555, array([0.45612276], dtype=float32)],\n",
       " [0.4707487, 0.98930216, array([0.47583914], dtype=float32)],\n",
       " [0.4731826, 0.96492517, array([0.49038267], dtype=float32)],\n",
       " [0.43453497, 0.92922425, array([0.46763197], dtype=float32)]]"
      ]
     },
     "execution_count": 19,
     "metadata": {},
     "output_type": "execute_result"
    }
   ],
   "source": [
    "train_score"
   ]
  },
  {
   "cell_type": "code",
   "execution_count": 20,
   "id": "1f232c9f",
   "metadata": {},
   "outputs": [],
   "source": [
    "for i in range(len(r1)):\n",
    "    aa =prt_loss(r1[i] ,yolo)\n",
    "    valid_score.append(aa)"
   ]
  },
  {
   "cell_type": "code",
   "execution_count": null,
   "id": "8363bdc1",
   "metadata": {},
   "outputs": [],
   "source": [
    "for i in range(len(r5)):\n",
    "    aa =prt_loss(r5[i] ,yolo)\n",
    "    test_score.append(aa)"
   ]
  },
  {
   "cell_type": "code",
   "execution_count": null,
   "id": "2daf1c06",
   "metadata": {},
   "outputs": [],
   "source": [
    "for i in range(len(anomaly_85)):\n",
    "    aa =prt_loss(anomaly_85[i] ,yolo)\n",
    "    anomaly_score.append(aa)"
   ]
  },
  {
   "cell_type": "code",
   "execution_count": null,
   "id": "cefcce19",
   "metadata": {},
   "outputs": [],
   "source": [
    "raw_training = pd.DataFrame(data=np.array(train_score), index=[train_names], columns=[\"score\",\"pred_conf\",\"pred_prob\"])"
   ]
  },
  {
   "cell_type": "code",
   "execution_count": null,
   "id": "1671f628",
   "metadata": {},
   "outputs": [],
   "source": [
    "raw_training"
   ]
  },
  {
   "cell_type": "code",
   "execution_count": null,
   "id": "6bf34236",
   "metadata": {},
   "outputs": [],
   "source": [
    "raw_valid = pd.DataFrame(data=np.array(valid_score), index=[valid_names], columns=[\"score\",\"pred_conf\",\"pred_prob\"])"
   ]
  },
  {
   "cell_type": "code",
   "execution_count": null,
   "id": "7e6af977",
   "metadata": {},
   "outputs": [],
   "source": [
    "raw_valid"
   ]
  },
  {
   "cell_type": "code",
   "execution_count": null,
   "id": "9cdc7870",
   "metadata": {},
   "outputs": [],
   "source": [
    "raw_test = pd.DataFrame(data=np.array(test_score), index=[test_names], columns=[\"score\",\"pred_conf\",\"pred_prob\"])"
   ]
  },
  {
   "cell_type": "code",
   "execution_count": null,
   "id": "59ced0f1",
   "metadata": {},
   "outputs": [],
   "source": [
    "raw_anomaly = pd.DataFrame(data=np.array(anomaly_score), index=[anomaly_names], columns=[\"score\",\"pred_conf\",\"pred_prob\"])"
   ]
  },
  {
   "cell_type": "code",
   "execution_count": null,
   "id": "391d22dc",
   "metadata": {},
   "outputs": [],
   "source": [
    "for i in range(len(coco_anomaly)):\n",
    "    aa =prt_loss(coco_anomaly[i] ,yolo)\n",
    "    coco_score.append(aa)"
   ]
  },
  {
   "cell_type": "code",
   "execution_count": null,
   "id": "da5fc039",
   "metadata": {},
   "outputs": [],
   "source": [
    "for i in range(len(os.listdir(angled_path))):\n",
    "    aa =prt_loss(os.path.join(angled_path, os.listdir(angled_path)[i]) ,yolo)\n",
    "    angle_score.append(aa)"
   ]
  },
  {
   "cell_type": "code",
   "execution_count": null,
   "id": "a33bb72b",
   "metadata": {},
   "outputs": [],
   "source": [
    "for i in range(len(os.listdir(brace_path))):\n",
    "    aa =prt_loss(os.path.join(brace_path, os.listdir(brace_path)[i]) ,yolo)\n",
    "    braces_score.append(aa)"
   ]
  },
  {
   "cell_type": "code",
   "execution_count": null,
   "id": "a66c53c0",
   "metadata": {},
   "outputs": [],
   "source": [
    "raw_coco= pd.DataFrame(data=np.array(coco_score), index=[coco_names], columns=[\"score\",\"pred_conf\",\"pred_prob\"])"
   ]
  },
  {
   "cell_type": "code",
   "execution_count": null,
   "id": "c0a40d56",
   "metadata": {},
   "outputs": [],
   "source": [
    "raw_anlge= pd.DataFrame(data=np.array(angle_score), index=[angle_names], columns=[\"score\",\"pred_conf\",\"pred_prob\"])"
   ]
  },
  {
   "cell_type": "code",
   "execution_count": null,
   "id": "96f5b8bb",
   "metadata": {},
   "outputs": [],
   "source": [
    "raw_braces= pd.DataFrame(data=np.array(braces_score), index=[braces_names], columns=[\"score\",\"pred_conf\",\"pred_prob\"])"
   ]
  },
  {
   "cell_type": "markdown",
   "id": "b2ec407d",
   "metadata": {},
   "source": [
    "## GIOU(must change when change txt file)"
   ]
  },
  {
   "cell_type": "code",
   "execution_count": null,
   "id": "85696726",
   "metadata": {},
   "outputs": [],
   "source": [
    "file = open(\"model_data/no_lip_more_train.txt\", \"r\")\n",
    "no_lip_train = file.readlines()\n",
    "file.close()\n",
    "file = open(\"model_data/no_lip_more_validation.txt\", \"r\")\n",
    "no_lip_valid = file.readlines()\n",
    "file.close()"
   ]
  },
  {
   "cell_type": "code",
   "execution_count": null,
   "id": "8d727d62",
   "metadata": {},
   "outputs": [],
   "source": [
    "GT_train = []\n",
    "GT_valid = []"
   ]
  },
  {
   "cell_type": "code",
   "execution_count": null,
   "id": "e8da4782",
   "metadata": {},
   "outputs": [],
   "source": [
    "giou_ious_list_train = []\n",
    "giou_ious_list_valid = []"
   ]
  },
  {
   "cell_type": "code",
   "execution_count": null,
   "id": "d56da965",
   "metadata": {},
   "outputs": [],
   "source": [
    "#GT add\n",
    "for i in range(len(r11)):\n",
    "    bb = no_lip_train[i].split()[1].split(\",\")[0:4]\n",
    "    bb = [int(item) for item in bb]\n",
    "    GT_train.append(bb)\n",
    "for i in range(len(r1)):\n",
    "    bb = no_lip_valid[i].split()[1].split(\",\")[0:4]\n",
    "    bb = [int(item) for item in bb]\n",
    "    GT_valid.append(bb)"
   ]
  },
  {
   "cell_type": "code",
   "execution_count": null,
   "id": "cc0ef0ef",
   "metadata": {},
   "outputs": [],
   "source": [
    "# train\n",
    "for i in range(len(r11)):\n",
    "    image, bboxes = detect_image(yolo, r11[i], \"\", input_size=YOLO_INPUT_SIZE, show=False, score_threshold=0.1, CLASSES=TRAIN_CLASSES, rectangle_colors=(255,0,0))\n",
    "    if len(bboxes) == 0 :\n",
    "        giou_ious_list_train.append([0,0])\n",
    "    else :\n",
    "        giou,ious = GIoU(np.array(GT_train[i]), bboxes[0][:4])\n",
    "        giou_ious_list_train.append([giou,ious])"
   ]
  },
  {
   "cell_type": "code",
   "execution_count": null,
   "id": "45409d22",
   "metadata": {},
   "outputs": [],
   "source": [
    "# validation\n",
    "for i in range(len(r1)):\n",
    "    image, bboxes = detect_image(yolo, r1[i], \"\", input_size=YOLO_INPUT_SIZE,score_threshold=0.1, show=False, CLASSES=TRAIN_CLASSES, rectangle_colors=(255,0,0))\n",
    "    if len(bboxes) == 0 :\n",
    "        giou_ious_list_valid.append([0,0])\n",
    "    else :\n",
    "        giou,ious = GIoU(np.array(GT_valid[i]), bboxes[0][:4])\n",
    "        giou_ious_list_valid.append([giou,ious])"
   ]
  },
  {
   "cell_type": "code",
   "execution_count": null,
   "id": "dba4c5f5",
   "metadata": {},
   "outputs": [],
   "source": [
    "raw_training_giou = pd.DataFrame(data=np.array(giou_ious_list_train), index=[train_names], columns=[\"giou\", \"iou\"])"
   ]
  },
  {
   "cell_type": "code",
   "execution_count": null,
   "id": "7302bb86",
   "metadata": {},
   "outputs": [],
   "source": [
    "raw_valid_giou = pd.DataFrame(data=np.array(giou_ious_list_valid), index=[valid_names], columns=[\"giou\", \"iou\"])"
   ]
  },
  {
   "cell_type": "code",
   "execution_count": null,
   "id": "4e15a12b",
   "metadata": {},
   "outputs": [],
   "source": [
    "df_training_join = pd.merge(raw_training,raw_training_giou, left_index=True, right_index = True, \n",
    "                         how =\"outer\" )"
   ]
  },
  {
   "cell_type": "code",
   "execution_count": null,
   "id": "10cca578",
   "metadata": {},
   "outputs": [],
   "source": [
    "df_valid_join = pd.merge(raw_valid,raw_valid_giou, left_index=True, right_index = True, \n",
    "                         how =\"outer\" )"
   ]
  },
  {
   "cell_type": "code",
   "execution_count": null,
   "id": "e6fc8f35",
   "metadata": {},
   "outputs": [],
   "source": [
    "xlxs_dir='___final.xlsx' #경로 및 파일명 설정\n",
    "with pd.ExcelWriter(xlxs_dir) as writer:\n",
    "    df_training_join.to_excel(writer, sheet_name = 'training_data') #raw_data1 시트에 저장\n",
    "    df_valid_join.to_excel(writer, sheet_name = 'valid_data') #raw_data2 시트에 저장\n",
    "    raw_test.to_excel(writer, sheet_name = 'test_data') #raw_data2 시트에 저장\n",
    "    raw_anomaly.to_excel(writer, sheet_name = 'anomaly_data') #raw_data2 시트에 저장\n",
    "    raw_coco.to_excel(writer, sheet_name = 'coco_data') #raw_data1 시트에 저장\n",
    "    raw_anlge.to_excel(writer, sheet_name = 'angle_data') #raw_data2 시트에 저장\n",
    "    raw_braces.to_excel(writer, sheet_name = 'braces_data') #raw_data2 시트에 저장"
   ]
  },
  {
   "cell_type": "markdown",
   "id": "ddb2660d",
   "metadata": {},
   "source": [
    "#  test2 replace old_test_set"
   ]
  },
  {
   "cell_type": "code",
   "execution_count": null,
   "id": "ec6ee2ef",
   "metadata": {},
   "outputs": [],
   "source": [
    "import pandas as pd\n",
    "import numpy as np\n",
    "from sklearn import metrics\n",
    "import matplotlib.pyplot as plt"
   ]
  },
  {
   "cell_type": "code",
   "execution_count": null,
   "id": "e50a211e",
   "metadata": {},
   "outputs": [],
   "source": [
    "train_df =  pd.read_excel(\"___final.xlsx\", sheet_name=\"training_data\", engine='openpyxl', index_col=0)\n",
    "valid_df = pd.read_excel(\"___final.xlsx\", sheet_name=\"valid_data\", engine='openpyxl', index_col=0)\n",
    "# test_df = pd.read_excel(\"___final.xlsx\", sheet_name=\"test_data\", engine='openpyxl', index_col=0)\n",
    "anomaly_df = pd.read_excel(\"___final.xlsx\", sheet_name=\"anomaly_data\", engine='openpyxl', index_col=0)\n",
    "coco_df = pd.read_excel(\"___final.xlsx\", sheet_name=\"coco_data\", engine='openpyxl', index_col=0)\n",
    "angle_df = pd.read_excel(\"___final.xlsx\", sheet_name=\"angle_data\", engine='openpyxl', index_col=0)\n",
    "braces_df = pd.read_excel(\"___final.xlsx\", sheet_name=\"braces_data\", engine='openpyxl', index_col=0)"
   ]
  },
  {
   "cell_type": "code",
   "execution_count": null,
   "id": "0854f643",
   "metadata": {},
   "outputs": [],
   "source": [
    "test2  =glob(r\"/home/jh/Desktop/teeth/github_td/test2/*.jpg\")\n",
    "test_names = []\n",
    "for i in range(len(test2)):\n",
    "    test_names.append(os.path.basename(test2[i]))\n",
    "\n",
    "test_score = []\n",
    "for i in range(len(test2)):\n",
    "    aa =prt_loss(test2[i] ,yolo)\n",
    "    test_score.append(aa)\n"
   ]
  },
  {
   "cell_type": "code",
   "execution_count": null,
   "id": "9096538a",
   "metadata": {},
   "outputs": [],
   "source": [
    "test2_df = pd.DataFrame(data=np.array(test_score), index=[test_names], columns=[\"score\",\"pred_conf\",\"pred_prob\"])"
   ]
  },
  {
   "cell_type": "code",
   "execution_count": null,
   "id": "580680b1",
   "metadata": {},
   "outputs": [],
   "source": [
    "xlxs_dir='___final_2.xlsx' #경로 및 파일명 설정\n",
    "with pd.ExcelWriter(xlxs_dir) as writer:\n",
    "    train_df.to_excel(writer, sheet_name = 'training_data') #raw_data1 시트에 저장\n",
    "    valid_df.to_excel(writer, sheet_name = 'valid_data') #raw_data2 시트에 저장\n",
    "    test2_df.to_excel(writer, sheet_name = 'test_data') #raw_data2 시트에 저장\n",
    "    anomaly_df.to_excel(writer, sheet_name = 'anomaly_data') #raw_data2 시트에 저장\n",
    "    coco_df.to_excel(writer, sheet_name = 'coco_data') #raw_data1 시트에 저장\n",
    "    angle_df.to_excel(writer, sheet_name = 'angle_data') #raw_data2 시트에 저장\n",
    "    braces_df.to_excel(writer, sheet_name = 'braces_data') #raw_data2 시트에 저장"
   ]
  },
  {
   "cell_type": "markdown",
   "id": "0a7fc889",
   "metadata": {},
   "source": [
    "# remove overlab"
   ]
  },
  {
   "cell_type": "code",
   "execution_count": null,
   "id": "3c2f6e29",
   "metadata": {},
   "outputs": [],
   "source": [
    "from glob import glob\n",
    "import numpy as np\n",
    "import pandas as pd\n",
    "import os"
   ]
  },
  {
   "cell_type": "code",
   "execution_count": null,
   "id": "bcbba4f7",
   "metadata": {},
   "outputs": [],
   "source": [
    "coco_anomaly =  glob(r\"/home/jh/Desktop/teeth/github_td/val2017/*.jpg\")\n",
    "np.random.seed(42)\n",
    "a = np.random.randint(5000, size =76)\n",
    "a = np.sort(a)\n",
    "print(a)\n",
    "anomaly_76 = [coco_anomaly[i] for i in a]"
   ]
  },
  {
   "cell_type": "code",
   "execution_count": null,
   "id": "fea2b717",
   "metadata": {},
   "outputs": [],
   "source": [
    "train_df =  pd.read_excel(\"___final_2.xlsx\", sheet_name=\"training_data\", engine='openpyxl', index_col=0)\n",
    "valid_df = pd.read_excel(\"___final_2.xlsx\", sheet_name=\"valid_data\", engine='openpyxl', index_col=0)\n",
    "test2_df = pd.read_excel(\"___final_2.xlsx\", sheet_name=\"test_data\", engine='openpyxl', index_col=0)\n",
    "anomaly_df = pd.read_excel(\"___final_2.xlsx\", sheet_name=\"anomaly_data\", engine='openpyxl', index_col=0)\n",
    "coco_df = pd.read_excel(\"___final_2.xlsx\", sheet_name=\"coco_data\", engine='openpyxl', index_col=0)\n",
    "angle_df = pd.read_excel(\"___final_2.xlsx\", sheet_name=\"angle_data\", engine='openpyxl', index_col=0)\n",
    "braces_df = pd.read_excel(\"___final_2.xlsx\", sheet_name=\"braces_data\", engine='openpyxl', index_col=0)"
   ]
  },
  {
   "cell_type": "code",
   "execution_count": null,
   "id": "1b618b8b",
   "metadata": {},
   "outputs": [],
   "source": [
    "remove_name = [os.path.basename(i) for i in anomaly_76]\n",
    "coco_df = coco_df.drop(remove_name)"
   ]
  },
  {
   "cell_type": "code",
   "execution_count": null,
   "id": "7cb7268b",
   "metadata": {},
   "outputs": [],
   "source": [
    "xlxs_dir='___final_3.xlsx' #경로 및 파일명 설정\n",
    "with pd.ExcelWriter(xlxs_dir) as writer:\n",
    "    train_df.to_excel(writer, sheet_name = 'training_data') #raw_data1 시트에 저장\n",
    "    valid_df.to_excel(writer, sheet_name = 'valid_data') #raw_data2 시트에 저장\n",
    "    test2_df.to_excel(writer, sheet_name = 'test_data') #raw_data2 시트에 저장\n",
    "    anomaly_df.to_excel(writer, sheet_name = 'anomaly_data') #raw_data2 시트에 저장\n",
    "    coco_df.to_excel(writer, sheet_name = 'coco_data') #raw_data1 시트에 저장\n",
    "    angle_df.to_excel(writer, sheet_name = 'angle_data') #raw_data2 시트에 저장\n",
    "    braces_df.to_excel(writer, sheet_name = 'braces_data') #raw_data2 시트에 저장"
   ]
  },
  {
   "cell_type": "markdown",
   "id": "86bba396",
   "metadata": {},
   "source": [
    "# AUC 계산"
   ]
  },
  {
   "cell_type": "code",
   "execution_count": null,
   "id": "0decde75",
   "metadata": {},
   "outputs": [],
   "source": [
    "import pandas as pd\n",
    "import numpy as np\n",
    "from sklearn import metrics\n",
    "import matplotlib.pyplot as plt"
   ]
  },
  {
   "cell_type": "code",
   "execution_count": null,
   "id": "453e74e9",
   "metadata": {},
   "outputs": [],
   "source": [
    "test_df = pd.read_excel(\"___final_3.xlsx\", sheet_name=\"test_data\", engine='openpyxl')\n",
    "# anomaly_df = pd.read_excel(\"___final_3.xlsx\", sheet_name=\"anomaly_data\", engine='openpyxl')\n",
    "coco_df = pd.read_excel(\"___final_3.xlsx\", sheet_name=\"coco_data\", engine='openpyxl')\n",
    "angle_df = pd.read_excel(\"___final_3.xlsx\", sheet_name=\"angle_data\", engine='openpyxl')\n",
    "braces_df = pd.read_excel(\"___final_3.xlsx\", sheet_name=\"braces_data\", engine='openpyxl')"
   ]
  },
  {
   "cell_type": "code",
   "execution_count": null,
   "id": "e60c6046",
   "metadata": {},
   "outputs": [],
   "source": [
    "test_pred_score = [i for i in test_df[\"score\"]]\n",
    "# anomaly_pred_score = [i for i in anomaly_df[\"score\"]]\n",
    "coco_pred_score=  [i for i in coco_df[\"score\"]]\n",
    "angle_pred_score =  [i for i in angle_df[\"score\"]]\n",
    "braces_pred_score =  [i for i in braces_df[\"score\"]]"
   ]
  },
  {
   "cell_type": "code",
   "execution_count": null,
   "id": "5530d544",
   "metadata": {},
   "outputs": [],
   "source": [
    "y = [1]*len(test_pred_score)  + [0]*len(coco_pred_score)+ [0]*len(angle_pred_score) +[1]*len(braces_pred_score)"
   ]
  },
  {
   "cell_type": "code",
   "execution_count": null,
   "id": "3f40a308",
   "metadata": {},
   "outputs": [],
   "source": [
    "pred = np.array(test_pred_score +coco_pred_score +angle_pred_score+braces_pred_score)"
   ]
  },
  {
   "cell_type": "code",
   "execution_count": null,
   "id": "ca18f4ff",
   "metadata": {},
   "outputs": [],
   "source": [
    "fpr, tpr, thresholds = metrics.roc_curve(y, pred)\n",
    "roc_auc = metrics.auc(fpr, tpr)"
   ]
  },
  {
   "cell_type": "code",
   "execution_count": null,
   "id": "bfcd881a",
   "metadata": {},
   "outputs": [],
   "source": [
    "print(roc_auc)"
   ]
  },
  {
   "cell_type": "code",
   "execution_count": null,
   "id": "cd9b936d",
   "metadata": {},
   "outputs": [],
   "source": [
    "plt.figure()\n",
    "lw = 2\n",
    "plt.plot(\n",
    "    fpr,\n",
    "    tpr,\n",
    "    color=\"darkorange\",\n",
    "    lw=lw,\n",
    "    label=\"ROC curve (area = %0.2f)\" % roc_auc,\n",
    ")\n",
    "plt.plot([0, 1], [0, 1], color=\"navy\", lw=lw, linestyle=\"--\")\n",
    "plt.xlim([0.0, 1.0])\n",
    "plt.ylim([0.0, 1.05])\n",
    "plt.xlabel(\"False Positive Rate\")\n",
    "plt.ylabel(\"True Positive Rate\")\n",
    "plt.title(\"Receiver operating characteristic example\")\n",
    "plt.legend(loc=\"lower right\")\n",
    "plt.show()"
   ]
  },
  {
   "cell_type": "code",
   "execution_count": null,
   "id": "a3e0b056",
   "metadata": {},
   "outputs": [],
   "source": [
    "for i in range(len(pred)):\n",
    "    if pred[i]>0.8 :\n",
    "        pred[i]=1\n",
    "    else:\n",
    "        pred[i]=0"
   ]
  },
  {
   "cell_type": "code",
   "execution_count": null,
   "id": "cf1b7929",
   "metadata": {},
   "outputs": [],
   "source": [
    "tn, fp, fn, tp = metrics.confusion_matrix(y, pred).ravel()\n",
    "(tn, fp, fn, tp)"
   ]
  },
  {
   "cell_type": "code",
   "execution_count": null,
   "id": "d3bcd57f",
   "metadata": {},
   "outputs": [],
   "source": [
    "import seaborn as sns\n",
    "cf_matrix = metrics.confusion_matrix(y, pred)\n",
    "group_names = [\"True Neg\",\"False Pos\",\"False Neg\",\"True Pos\"]\n",
    "group_counts = [\"{0:0.0f}\".format(value) for value in\n",
    "                cf_matrix.flatten()]\n",
    "# group_percentages = [“{0:.2%}”.format(value) for value in\n",
    "#                      cf_matrix.flatten()/np.sum(cf_matrix)]\n",
    "labels = [f\"{v1}\\n{v2}\" for v1, v2  in zip(group_names,group_counts)]\n",
    "labels = np.asarray(labels).reshape(2,2)\n",
    "sns.heatmap(cf_matrix, annot=labels, fmt=\"\", cmap='Blues')\n",
    "plt.savefig(\"confusion_matrix.jpg\",bbox_inches = \"tight\")"
   ]
  },
  {
   "cell_type": "code",
   "execution_count": null,
   "id": "48d4e694",
   "metadata": {},
   "outputs": [],
   "source": []
  }
 ],
 "metadata": {
  "kernelspec": {
   "display_name": "Python 3 (ipykernel)",
   "language": "python",
   "name": "python3"
  },
  "language_info": {
   "codemirror_mode": {
    "name": "ipython",
    "version": 3
   },
   "file_extension": ".py",
   "mimetype": "text/x-python",
   "name": "python",
   "nbconvert_exporter": "python",
   "pygments_lexer": "ipython3",
   "version": "3.8.0"
  }
 },
 "nbformat": 4,
 "nbformat_minor": 5
}
