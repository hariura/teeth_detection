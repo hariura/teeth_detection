{
 "cells": [
  {
   "cell_type": "code",
   "execution_count": 1,
   "id": "a1003896",
   "metadata": {},
   "outputs": [],
   "source": [
    "import os \n",
    "import shutil\n",
    "from glob import glob"
   ]
  },
  {
   "cell_type": "code",
   "execution_count": null,
   "id": "253f9c2a",
   "metadata": {},
   "outputs": [],
   "source": [
    "path =  '/home/jh/Desktop/github/teeth_detection/prob_no_focal_lr-5/teeth_training_lip_conf'\n",
    "copy_file = \"infer_2\""
   ]
  },
  {
   "cell_type": "code",
   "execution_count": null,
   "id": "35453416",
   "metadata": {},
   "outputs": [],
   "source": [
    "copy_path = '/media/jh/Samsung_T5/'"
   ]
  },
  {
   "cell_type": "code",
   "execution_count": null,
   "id": "0c9f9ee4",
   "metadata": {},
   "outputs": [],
   "source": [
    "os.makedirs(os.path.join(copy_path,copy_file,path.split(\"/\")[-2]), exist_ok = True) # os.mkdir() in ts5"
   ]
  },
  {
   "cell_type": "code",
   "execution_count": null,
   "id": "8f3ccbc9",
   "metadata": {},
   "outputs": [],
   "source": [
    "shutil.copy(os.path.join(path, copy_file,'___final.xlsx'),\n",
    "      os.path.join(copy_path,copy_file, path.split(\"/\")[-2],path.split(\"/\")[-1])+\".xlsx\")"
   ]
  },
  {
   "cell_type": "code",
   "execution_count": null,
   "id": "cadb02f6",
   "metadata": {},
   "outputs": [],
   "source": [
    "shutil.copy(os.path.join(path, copy_file,'confusion_matrix.jpg'),\n",
    "      os.path.join(copy_path,copy_file, path.split(\"/\")[-2], path.split(\"/\")[-1])+\".jpg\")"
   ]
  },
  {
   "cell_type": "code",
   "execution_count": null,
   "id": "f38533af",
   "metadata": {},
   "outputs": [],
   "source": [
    "path.split(\"/\")[-2] # os.mkdir() in ts5 "
   ]
  },
  {
   "cell_type": "code",
   "execution_count": null,
   "id": "1a2f33f6",
   "metadata": {},
   "outputs": [],
   "source": [
    "path.split(\"/\")[-1] # "
   ]
  },
  {
   "cell_type": "code",
   "execution_count": null,
   "id": "2d948868",
   "metadata": {},
   "outputs": [],
   "source": [
    "os.path.join(copy_path,copy_file,path.split(\"/\")[-2],path.split(\"/\")[-1])+\".xlsx\""
   ]
  },
  {
   "cell_type": "code",
   "execution_count": null,
   "id": "9ce634e4",
   "metadata": {},
   "outputs": [],
   "source": [
    "os.listdir(os.path.join(path, copy_file))[0]"
   ]
  },
  {
   "cell_type": "code",
   "execution_count": null,
   "id": "f560bf6b",
   "metadata": {},
   "outputs": [],
   "source": [
    "os.listdir(os.path.join(path, copy_file))[1]"
   ]
  },
  {
   "cell_type": "code",
   "execution_count": null,
   "id": "47166fb7",
   "metadata": {},
   "outputs": [],
   "source": [
    "os.path.join(path, copy_file,'___final.xlsx')"
   ]
  },
  {
   "cell_type": "code",
   "execution_count": null,
   "id": "7add0433",
   "metadata": {},
   "outputs": [],
   "source": []
  },
  {
   "cell_type": "code",
   "execution_count": null,
   "id": "c0a762f6",
   "metadata": {},
   "outputs": [],
   "source": []
  },
  {
   "cell_type": "markdown",
   "id": "534f9b2f",
   "metadata": {},
   "source": [
    "# for code"
   ]
  },
  {
   "cell_type": "code",
   "execution_count": null,
   "id": "24a406f7",
   "metadata": {},
   "outputs": [],
   "source": []
  },
  {
   "cell_type": "code",
   "execution_count": 4,
   "id": "06c98106",
   "metadata": {},
   "outputs": [],
   "source": [
    "path_list  = ['/home/jh/Desktop/github/teeth_detection/prob_no_focal_lr-5/teeth_training_lip_conf' , '/home/jh/Desktop/github/teeth_detection/prob_no_focal_lr-5/teeth_training_lip_no_conf' , '/home/jh/Desktop/github/teeth_detection/prob_no_focal_lr-5/teeth_training_no_lip_config' , '/home/jh/Desktop/github/teeth_detection/prob_no_focal_lr-5/teeth_training_no_lip_no_conf' , '/home/jh/Desktop/github/teeth_detection/test6/teeth_training_no_prob_lip' , '/home/jh/Desktop/github/teeth_detection/test6/teeth_training_no_prob_lip_no_conf' , '/home/jh/Desktop/github/teeth_detection/test6/teeth_training_no_prob_no_lip', '/home/jh/Desktop/github/teeth_detection/test6/teeth_training_no_prob_no_lip_no_conf' , '/home/jh/Desktop/github/teeth_detection/test8/teeth_training_lip_conf' , '/home/jh/Desktop/github/teeth_detection/test8/teeth_training_lip_no_conf', '/home/jh/Desktop/github/teeth_detection/test8/teeth_training_no_lip_config' , '/home/jh/Desktop/github/teeth_detection/test8/teeth_training_no_lip_no_conf' ,'/home/jh/Desktop/github/teeth_detection/no_prob_no_focal/teeth_training_no_prob_lip' ,'/home/jh/Desktop/github/teeth_detection/no_prob_no_focal/teeth_training_no_prob_lip_no_conf' ,'/home/jh/Desktop/github/teeth_detection/no_prob_no_focal/teeth_training_no_prob_no_lip' ,'/home/jh/Desktop/github/teeth_detection/no_prob_no_focal/teeth_training_no_prob_no_lip_no_conf' ,'/home/jh/Desktop/github/teeth_detection/no_prob_no_focal_sse_bb_origin/no_focal_sse_conf_sse_bb_lip_conf' ,'/home/jh/Desktop/github/teeth_detection/no_prob_no_focal_sse_bb_origin/no_focal_sse_conf_sse_bb_lip_no_conf' ,'/home/jh/Desktop/github/teeth_detection/no_prob_no_focal_sse_bb_origin/no_focal_sse_conf_sse_bb_no_lip_conf_2' ,'/home/jh/Desktop/github/teeth_detection/no_prob_no_focal_sse_bb_origin/no_focal_sse_conf_sse_bb_no_lip_no_conf' ,'/home/jh/Desktop/github/teeth_detection/prob_no_focal_sse_bb_origin/no_focal_sse_conf_sse_bb_lip_conf' ,'/home/jh/Desktop/github/teeth_detection/prob_no_focal_sse_bb_origin/no_focal_sse_conf_sse_bb_lip_no_conf' ,'/home/jh/Desktop/github/teeth_detection/prob_no_focal_sse_bb_origin/no_focal_sse_conf_sse_bb_no_lip_conf_2' ,'/home/jh/Desktop/github/teeth_detection/prob_no_focal_sse_bb_origin/no_focal_sse_conf_sse_bb_no_lip_no_conf' ]"
   ]
  },
  {
   "cell_type": "code",
   "execution_count": 9,
   "id": "1ed8f698",
   "metadata": {},
   "outputs": [],
   "source": [
    "copy_file = \"infer_2\"\n",
    "copy_path = '/media/jh/Samsung_T5/'"
   ]
  },
  {
   "cell_type": "code",
   "execution_count": 10,
   "id": "69deb2b6",
   "metadata": {},
   "outputs": [],
   "source": [
    "for i in range(len(path_list)):\n",
    "    os.makedirs(os.path.join(copy_path,copy_file,path_list[i].split(\"/\")[-2]), exist_ok = True)\n",
    "    shutil.copy(os.path.join(path_list[i], copy_file,'___final.xlsx'),\n",
    "      os.path.join(copy_path,copy_file, path_list[i].split(\"/\")[-2],path_list[i].split(\"/\")[-1])+\".xlsx\")\n",
    "    shutil.copy(os.path.join(path_list[i], copy_file,'confusion_matrix.jpg'),\n",
    "      os.path.join(copy_path,copy_file, path_list[i].split(\"/\")[-2], path_list[i].split(\"/\")[-1])+\".jpg\")"
   ]
  },
  {
   "cell_type": "code",
   "execution_count": null,
   "id": "47438550",
   "metadata": {},
   "outputs": [],
   "source": [
    "i = 0 "
   ]
  },
  {
   "cell_type": "code",
   "execution_count": null,
   "id": "30099832",
   "metadata": {},
   "outputs": [],
   "source": [
    "os.path.join(copy_path,copy_file, path_list[i].split(\"/\")[-2],path_list[i].split(\"/\")[-1])+\".xlsx\""
   ]
  },
  {
   "cell_type": "code",
   "execution_count": null,
   "id": "be0ce266",
   "metadata": {},
   "outputs": [],
   "source": []
  },
  {
   "cell_type": "code",
   "execution_count": null,
   "id": "5d676792",
   "metadata": {},
   "outputs": [],
   "source": []
  },
  {
   "cell_type": "code",
   "execution_count": null,
   "id": "3cfe5385",
   "metadata": {},
   "outputs": [],
   "source": []
  },
  {
   "cell_type": "code",
   "execution_count": null,
   "id": "fa822924",
   "metadata": {},
   "outputs": [],
   "source": []
  },
  {
   "cell_type": "code",
   "execution_count": null,
   "id": "d31e59a3",
   "metadata": {},
   "outputs": [],
   "source": []
  },
  {
   "cell_type": "code",
   "execution_count": null,
   "id": "77398675",
   "metadata": {},
   "outputs": [],
   "source": []
  },
  {
   "cell_type": "code",
   "execution_count": null,
   "id": "df3dfb27",
   "metadata": {},
   "outputs": [],
   "source": []
  }
 ],
 "metadata": {
  "kernelspec": {
   "display_name": "Python 3 (ipykernel)",
   "language": "python",
   "name": "python3"
  },
  "language_info": {
   "codemirror_mode": {
    "name": "ipython",
    "version": 3
   },
   "file_extension": ".py",
   "mimetype": "text/x-python",
   "name": "python",
   "nbconvert_exporter": "python",
   "pygments_lexer": "ipython3",
   "version": "3.8.0"
  }
 },
 "nbformat": 4,
 "nbformat_minor": 5
}
