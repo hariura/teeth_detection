{
 "cells": [
  {
   "cell_type": "markdown",
   "metadata": {
    "id": "twluDsqOaqRW"
   },
   "source": [
    "\n",
    "========================================================<br>\n",
    "<br>\n",
    "   File name   : YOLOv3_colab_training.ipynb<br>\n",
    "   Author      : PyLessons<br>\n",
    "   Created date: 2020-09-30<br>\n",
    "   Website     : https://pylessons.com/YOLOv3-TF2-GoogleColab<br>\n",
    "   GitHub      : https://github.com/pythonlessons/TensorFlow-2.x-YOLOv3<br>\n",
    "   Description : Train custom model on Google colab tutorial<br>\n",
    "<br>\n",
    "================================================================\n",
    "\n",
    "\n",
    "**Open this notebook from google drive**<br>\n",
    "**Go to \"Edit\" -> \"Notebook settings\" and enable GPU.**\n"
   ]
  },
  {
   "cell_type": "code",
   "execution_count": null,
   "metadata": {
    "colab": {
     "base_uri": "https://localhost:8080/",
     "height": 357
    },
    "executionInfo": {
     "elapsed": 1009,
     "status": "ok",
     "timestamp": 1601446581065,
     "user": {
      "displayName": "Python Lessons",
      "photoUrl": "https://lh3.googleusercontent.com/a-/AOh14GgMQmMhFapKcavl337-vY17yrbowBHBlZQ5qYQv=s64",
      "userId": "12382394757900236362"
     },
     "user_tz": -180
    },
    "id": "srBiJiFEaKl1",
    "outputId": "b3a94fa4-c78c-4db9-d400-f14bf19732e0"
   },
   "outputs": [],
   "source": [
    "# Check if NVIDIA GPU is enabled\n",
    "!nvidia-smi"
   ]
  },
  {
   "cell_type": "markdown",
   "metadata": {
    "id": "DDmBbAUKLUkB"
   },
   "source": [
    "**Test if TensorFlow works with gpu for you, in output should see similar results:**\n",
    "```\n",
    "2.3.0\n",
    "'/device:GPU:0'\n",
    "```"
   ]
  },
  {
   "cell_type": "code",
   "execution_count": null,
   "metadata": {
    "colab": {
     "base_uri": "https://localhost:8080/",
     "height": 52
    },
    "executionInfo": {
     "elapsed": 7965,
     "status": "ok",
     "timestamp": 1601446634334,
     "user": {
      "displayName": "Python Lessons",
      "photoUrl": "https://lh3.googleusercontent.com/a-/AOh14GgMQmMhFapKcavl337-vY17yrbowBHBlZQ5qYQv=s64",
      "userId": "12382394757900236362"
     },
     "user_tz": -180
    },
    "id": "M3cWo7hhc-qO",
    "outputId": "1a7edf1a-a3a9-450e-ace2-34bf1ad2c6a8"
   },
   "outputs": [],
   "source": [
    "import tensorflow as tf\n",
    "print(tf.__version__)\n",
    "tf.test.gpu_device_name()"
   ]
  },
  {
   "cell_type": "markdown",
   "metadata": {
    "id": "sX0TGlJhMGd_"
   },
   "source": [
    "**Test by loading trained model:**"
   ]
  },
  {
   "cell_type": "code",
   "execution_count": null,
   "metadata": {
    "executionInfo": {
     "elapsed": 16498,
     "status": "ok",
     "timestamp": 1601446652047,
     "user": {
      "displayName": "Python Lessons",
      "photoUrl": "https://lh3.googleusercontent.com/a-/AOh14GgMQmMhFapKcavl337-vY17yrbowBHBlZQ5qYQv=s64",
      "userId": "12382394757900236362"
     },
     "user_tz": -180
    },
    "id": "NUKLydfYCo4r"
   },
   "outputs": [],
   "source": [
    "import cv2\n",
    "import numpy as np\n",
    "import matplotlib\n",
    "import matplotlib.pyplot as plt\n",
    "%matplotlib inline  \n",
    "import tensorflow as tf\n",
    "from glob import glob\n",
    "from yolov3.yolov4_config import Create_Yolo\n",
    "from yolov3.utils_config import load_yolo_weights, detect_image\n",
    "from yolov3.configs_config import *\n",
    "from PIL import Image\n",
    "\n",
    "import os\n",
    "import pandas as pd\n",
    "\n",
    "if YOLO_TYPE == \"yolov4\":\n",
    "    Darknet_weights = YOLO_V4_TINY_WEIGHTS if TRAIN_YOLO_TINY else YOLO_V4_WEIGHTS\n",
    "if YOLO_TYPE == \"yolov3\":\n",
    "    Darknet_weights = YOLO_V3_TINY_WEIGHTS if TRAIN_YOLO_TINY else YOLO_V3_WEIGHTS\n",
    "\n",
    "yolo = Create_Yolo(input_size=YOLO_INPUT_SIZE)\n",
    "load_yolo_weights(yolo, Darknet_weights) # use Darknet weights"
   ]
  },
  {
   "cell_type": "markdown",
   "metadata": {
    "id": "qdpGgKUUMJOe"
   },
   "source": [
    "**Test by testing detection on original model:**"
   ]
  },
  {
   "cell_type": "code",
   "execution_count": null,
   "metadata": {
    "colab": {
     "base_uri": "https://localhost:8080/",
     "height": 1000
    },
    "executionInfo": {
     "elapsed": 428158,
     "status": "ok",
     "timestamp": 1596814215969,
     "user": {
      "displayName": "Python Lessons",
      "photoUrl": "https://lh3.googleusercontent.com/a-/AOh14GgMQmMhFapKcavl337-vY17yrbowBHBlZQ5qYQv=s64",
      "userId": "12382394757900236362"
     },
     "user_tz": -180
    },
    "id": "pXlFGBAp7Ibg",
    "outputId": "340f3942-c2b3-4e2a-bf5f-267e12d696fb"
   },
   "outputs": [],
   "source": [
    "!python tools/XML_to_YOLOv3.py"
   ]
  },
  {
   "cell_type": "markdown",
   "metadata": {
    "id": "5CYGwaPfV3H6"
   },
   "source": [
    "**Start training custom model:**"
   ]
  },
  {
   "cell_type": "code",
   "execution_count": null,
   "metadata": {
    "scrolled": false
   },
   "outputs": [],
   "source": [
    "from train_config import *"
   ]
  },
  {
   "cell_type": "code",
   "execution_count": null,
   "metadata": {
    "id": "rUxAdSEQEdpG",
    "scrolled": true
   },
   "outputs": [],
   "source": [
    "tf.keras.backend.clear_session()\n",
    "main()"
   ]
  },
  {
   "cell_type": "code",
   "execution_count": null,
   "metadata": {},
   "outputs": [],
   "source": [
    "tf.keras.__version__"
   ]
  },
  {
   "cell_type": "code",
   "execution_count": null,
   "metadata": {},
   "outputs": [],
   "source": [
    "pre= np.array([[1,2],[2,3],[3,4]],dtype = np.float32)\n",
    "true = np.array([[1,3],[0,0],[3,4]],dtype = np.float32)"
   ]
  },
  {
   "cell_type": "code",
   "execution_count": null,
   "metadata": {},
   "outputs": [],
   "source": [
    "pre.shape"
   ]
  },
  {
   "cell_type": "code",
   "execution_count": null,
   "metadata": {},
   "outputs": [],
   "source": [
    "tf.keras.losses.MSE(pre, true)"
   ]
  },
  {
   "cell_type": "code",
   "execution_count": null,
   "metadata": {},
   "outputs": [],
   "source": [
    "tf.reshape(tf.keras.losses.MSE(pre, true),pre.shape)"
   ]
  },
  {
   "cell_type": "code",
   "execution_count": null,
   "metadata": {},
   "outputs": [],
   "source": [
    "np.square(pre - true)"
   ]
  },
  {
   "cell_type": "code",
   "execution_count": null,
   "metadata": {},
   "outputs": [],
   "source": [
    "np.mean(np.square(pre - true), axis = -1)"
   ]
  },
  {
   "cell_type": "code",
   "execution_count": null,
   "metadata": {},
   "outputs": [],
   "source": [
    "pre = np.random.randint(5, size= (3,52,52,4))"
   ]
  },
  {
   "cell_type": "code",
   "execution_count": null,
   "metadata": {},
   "outputs": [],
   "source": [
    "true = np.random.randint(5, size= (3,52,52,4))"
   ]
  },
  {
   "cell_type": "code",
   "execution_count": null,
   "metadata": {},
   "outputs": [],
   "source": [
    "(pre -true).shape"
   ]
  },
  {
   "cell_type": "code",
   "execution_count": null,
   "metadata": {},
   "outputs": [],
   "source": [
    "tf.keras.losses.MSE(pre, true)"
   ]
  },
  {
   "cell_type": "markdown",
   "metadata": {},
   "source": [
    "tensorboard --logdir=\"\"./no_lip_confidence_config/log"
   ]
  }
 ],
 "metadata": {
  "accelerator": "GPU",
  "colab": {
   "collapsed_sections": [],
   "name": "YOLOv3_colab_training.ipynb",
   "provenance": []
  },
  "kernelspec": {
   "display_name": "Python 3 (ipykernel)",
   "language": "python",
   "name": "python3"
  },
  "language_info": {
   "codemirror_mode": {
    "name": "ipython",
    "version": 3
   },
   "file_extension": ".py",
   "mimetype": "text/x-python",
   "name": "python",
   "nbconvert_exporter": "python",
   "pygments_lexer": "ipython3",
   "version": "3.8.0"
  }
 },
 "nbformat": 4,
 "nbformat_minor": 1
}
