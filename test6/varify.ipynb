{
 "cells": [
  {
   "cell_type": "code",
   "execution_count": null,
   "id": "19da1345",
   "metadata": {},
   "outputs": [],
   "source": [
    "import pandas as pd\n",
    "import numpy as np\n",
    "from sklearn import metrics\n",
    "import matplotlib.pyplot as plt"
   ]
  },
  {
   "cell_type": "markdown",
   "id": "cb078768",
   "metadata": {},
   "source": [
    "# prob"
   ]
  },
  {
   "cell_type": "code",
   "execution_count": null,
   "id": "78cbfab7",
   "metadata": {},
   "outputs": [],
   "source": [
    "train_df = pd.read_excel(\"___final_3.xlsx\", sheet_name=\"training_data\", engine='openpyxl')\n",
    "valid_df = pd.read_excel(\"___final_3.xlsx\", sheet_name=\"valid_data\", engine='openpyxl')\n",
    "test_df = pd.read_excel(\"___final_3.xlsx\", sheet_name=\"test_data\", engine='openpyxl')\n",
    "anomaly_df = pd.read_excel(\"___final_3.xlsx\", sheet_name=\"anomaly_data\", engine='openpyxl')\n",
    "coco_df = pd.read_excel(\"___final_3.xlsx\", sheet_name=\"coco_data\", engine='openpyxl')\n",
    "angle_df = pd.read_excel(\"___final_3.xlsx\", sheet_name=\"angle_data\", engine='openpyxl')\n",
    "braces_df = pd.read_excel(\"___final_3.xlsx\", sheet_name=\"braces_data\", engine='openpyxl')"
   ]
  },
  {
   "cell_type": "code",
   "execution_count": null,
   "id": "76b18118",
   "metadata": {},
   "outputs": [],
   "source": [
    "train_pred_score = [i for i in train_df[\"score\"]]\n",
    "valid_pred_score = [i for i in valid_df[\"score\"]]\n",
    "test_pred_score = [i for i in test_df[\"score\"]]\n",
    "anomaly_pred_score = [i for i in anomaly_df[\"score\"]]\n",
    "coco_pred_score=  [i for i in coco_df[\"score\"]]\n",
    "angle_pred_score =  [i for i in angle_df[\"score\"]]\n",
    "braces_pred_score =  [i for i in braces_df[\"score\"]]"
   ]
  },
  {
   "cell_type": "code",
   "execution_count": null,
   "id": "323d9d20",
   "metadata": {},
   "outputs": [],
   "source": [
    "train_pred_prob = [i for i in train_df[\"pred_prob\"]]\n",
    "valid_pred_prob = [i for i in valid_df[\"pred_prob\"]]\n",
    "test_pred_prob = [i for i in test_df[\"pred_prob\"]]\n",
    "anomaly_pred_prob = [i for i in anomaly_df[\"pred_prob\"]]\n",
    "coco_pred_prob =  [i for i in coco_df[\"pred_prob\"]]\n",
    "angle_pred_prob =  [i for i in angle_df[\"pred_prob\"]]\n",
    "braces_pred_prob =  [i for i in braces_df[\"pred_prob\"]]"
   ]
  },
  {
   "cell_type": "code",
   "execution_count": null,
   "id": "42640044",
   "metadata": {},
   "outputs": [],
   "source": [
    "train_pred_giou = [i for i in train_df[\"giou\"]]\n",
    "valid_pred_giou = [i for i in valid_df[\"giou\"]]\n",
    "test_pred_giou = [i for i in test_df[\"giou\"]]\n",
    "anomaly_pred_giou = [i for i in anomaly_df[\"giou\"]]\n",
    "coco_pred_giou =  [i for i in coco_df[\"giou\"]]\n",
    "angle_pred_giou =  [i for i in angle_df[\"giou\"]]\n",
    "braces_pred_giou =  [i for i in braces_df[\"giou\"]]"
   ]
  },
  {
   "cell_type": "code",
   "execution_count": null,
   "id": "bb1ebd90",
   "metadata": {},
   "outputs": [],
   "source": [
    "y = [1]*len(test_pred_score)  + [0]*len(coco_pred_score)+ [0]*len(angle_pred_score) +[1]*len(braces_pred_score)"
   ]
  },
  {
   "cell_type": "code",
   "execution_count": null,
   "id": "e5cf331b",
   "metadata": {},
   "outputs": [],
   "source": [
    "pred = np.array(test_pred_score +coco_pred_score +angle_pred_score+braces_pred_score)"
   ]
  },
  {
   "cell_type": "code",
   "execution_count": null,
   "id": "603792cb",
   "metadata": {},
   "outputs": [],
   "source": [
    "for i in range(len(pred)):\n",
    "    if pred[i]>0.8 :\n",
    "        pred[i]=1\n",
    "    else:\n",
    "        pred[i]=0"
   ]
  },
  {
   "cell_type": "markdown",
   "id": "b0ad0f07",
   "metadata": {},
   "source": [
    "# no prob"
   ]
  },
  {
   "cell_type": "code",
   "execution_count": null,
   "id": "a4cb8f2d",
   "metadata": {},
   "outputs": [],
   "source": [
    "test_df = pd.read_excel(\"___final_3.xlsx\", sheet_name=\"test_data\", engine='openpyxl')\n",
    "anomaly_df = pd.read_excel(\"___final_3.xlsx\", sheet_name=\"anomaly_data\", engine='openpyxl')\n",
    "coco_df = pd.read_excel(\"___final_3.xlsx\", sheet_name=\"coco_data\", engine='openpyxl')\n",
    "angle_df = pd.read_excel(\"___final_3.xlsx\", sheet_name=\"angle_data\", engine='openpyxl')\n",
    "braces_df = pd.read_excel(\"___final_3.xlsx\", sheet_name=\"braces_data\", engine='openpyxl')"
   ]
  },
  {
   "cell_type": "code",
   "execution_count": null,
   "id": "a43cff7d",
   "metadata": {},
   "outputs": [],
   "source": [
    "test_pred_score = [i for i in test_df[\"pred_conf\"]]\n",
    "anomaly_pred_score = [i for i in anomaly_df[\"pred_conf\"]]\n",
    "coco_pred_score=  [i for i in coco_df[\"pred_conf\"]]\n",
    "angle_pred_score =  [i for i in angle_df[\"pred_conf\"]]\n",
    "braces_pred_score =  [i for i in braces_df[\"pred_conf\"]]"
   ]
  },
  {
   "cell_type": "code",
   "execution_count": null,
   "id": "251f6686",
   "metadata": {},
   "outputs": [],
   "source": [
    "y = [1]*len(test_pred_score)  + [0]*len(coco_pred_score)+ [0]*len(angle_pred_score) +[1]*len(braces_pred_score)"
   ]
  },
  {
   "cell_type": "code",
   "execution_count": null,
   "id": "eafce19a",
   "metadata": {},
   "outputs": [],
   "source": [
    "pred = np.array(test_pred_score +coco_pred_score +angle_pred_score+braces_pred_score)"
   ]
  },
  {
   "cell_type": "code",
   "execution_count": null,
   "id": "c71a18ca",
   "metadata": {},
   "outputs": [],
   "source": [
    "for i in range(len(pred)):\n",
    "    if pred[i]>0.8 :\n",
    "        pred[i]=1\n",
    "    else:\n",
    "        pred[i]=0"
   ]
  },
  {
   "cell_type": "markdown",
   "id": "24f7359b",
   "metadata": {},
   "source": []
  },
  {
   "cell_type": "code",
   "execution_count": null,
   "id": "d844b3a4",
   "metadata": {},
   "outputs": [],
   "source": []
  }
 ],
 "metadata": {
  "kernelspec": {
   "display_name": "Python 3",
   "language": "python",
   "name": "python3"
  },
  "language_info": {
   "codemirror_mode": {
    "name": "ipython",
    "version": 3
   },
   "file_extension": ".py",
   "mimetype": "text/x-python",
   "name": "python",
   "nbconvert_exporter": "python",
   "pygments_lexer": "ipython3",
   "version": "3.6.9"
  }
 },
 "nbformat": 4,
 "nbformat_minor": 5
}
