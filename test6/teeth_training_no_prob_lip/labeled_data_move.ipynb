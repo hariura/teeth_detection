{
 "cells": [
  {
   "cell_type": "code",
   "execution_count": 1,
   "id": "6e8b1a3f",
   "metadata": {},
   "outputs": [],
   "source": [
    "from glob import glob\n",
    "import os\n",
    "import random\n",
    "import shutil"
   ]
  },
  {
   "cell_type": "code",
   "execution_count": 2,
   "id": "fd15daa8",
   "metadata": {
    "scrolled": true
   },
   "outputs": [
    {
     "data": {
      "text/plain": [
       "425"
      ]
     },
     "execution_count": 2,
     "metadata": {},
     "output_type": "execute_result"
    }
   ],
   "source": [
    "len(glob(r\"C:\\Users\\NA_team_1\\Desktop\\train_lip_include/*.xml\"))"
   ]
  },
  {
   "cell_type": "code",
   "execution_count": 3,
   "id": "ee0be64e",
   "metadata": {},
   "outputs": [],
   "source": [
    "r = glob(r\"C:\\Users\\NA_team_1\\Desktop\\train_lip_include/*.xml\")"
   ]
  },
  {
   "cell_type": "code",
   "execution_count": 4,
   "id": "1f96c1fc",
   "metadata": {},
   "outputs": [],
   "source": [
    "#xml 카피\n",
    "for i in range(len(r)):\n",
    "    shutil.copy(r[i], r'C:\\Users\\NA_team_1\\Desktop\\xml_including')"
   ]
  },
  {
   "cell_type": "markdown",
   "id": "396c550b",
   "metadata": {},
   "source": [
    "# train test split\n"
   ]
  },
  {
   "cell_type": "code",
   "execution_count": 15,
   "id": "2af0bcf4",
   "metadata": {},
   "outputs": [
    {
     "data": {
      "text/plain": [
       "'C:\\\\Users\\\\NA_team_1\\\\Desktop\\\\xml_including/23274_2_3.xml'"
      ]
     },
     "execution_count": 15,
     "metadata": {},
     "output_type": "execute_result"
    }
   ],
   "source": [
    "random.seed(100)\n",
    "path = r'C:\\Users\\NA_team_1\\Desktop\\xml_including/' #나누어질 파일위치\n",
    "dataset = os.listdir(path)\n",
    "r = random.sample(dataset, int(0.8 * len(dataset))) # 80%를 테스트 셋\n",
    "te = [d for d in dataset if d not in r]\n",
    "path+r[0]"
   ]
  },
  {
   "cell_type": "code",
   "execution_count": 16,
   "id": "703b4be6",
   "metadata": {},
   "outputs": [],
   "source": [
    "os.mkdir(r\"C:\\Users\\NA_team_1\\Desktop\\train\")\n",
    "os.mkdir(r\"C:\\Users\\NA_team_1\\Desktop\\test\")"
   ]
  },
  {
   "cell_type": "code",
   "execution_count": 17,
   "id": "5747ea37",
   "metadata": {},
   "outputs": [
    {
     "name": "stdout",
     "output_type": "stream",
     "text": [
      "train data : 340\n",
      "test data : 85\n"
     ]
    }
   ],
   "source": [
    "for i in range(len(r)):\n",
    "    shutil.copy(path+r[i], r'C:\\Users\\NA_team_1\\Desktop\\train')\n",
    "for i in range(len(te)):\n",
    "    shutil.copy(path+te[i], r'C:\\Users\\NA_team_1\\Desktop\\test')\n",
    "print(\"train data : {}\".format(len(r)))\n",
    "print(\"test data : {}\".format(len(te)))"
   ]
  },
  {
   "cell_type": "code",
   "execution_count": 18,
   "id": "c6cbab38",
   "metadata": {},
   "outputs": [],
   "source": [
    "#xml에 들어있는것에 대해서 이미지 카피\n",
    "#train\n",
    "for i in range(len(r)):\n",
    "    k, m = os.path.splitext(r[i])\n",
    "    shutil.copy(r'C:\\Users\\NA_team_1\\Desktop\\train_lip_include/'+ k + \".jpg\", r'C:\\Users\\NA_team_1\\Desktop\\train')"
   ]
  },
  {
   "cell_type": "code",
   "execution_count": 19,
   "id": "2017f0d8",
   "metadata": {},
   "outputs": [],
   "source": [
    "#test\n",
    "for i in range(len(te)):\n",
    "    k, m = os.path.splitext(te[i])\n",
    "    shutil.copy(r'C:\\Users\\NA_team_1\\Desktop\\train_lip_include/'+ k + \".jpg\", r'C:\\Users\\NA_team_1\\Desktop\\test')"
   ]
  },
  {
   "cell_type": "markdown",
   "id": "74e29110",
   "metadata": {},
   "source": [
    "## train test split"
   ]
  },
  {
   "cell_type": "code",
   "execution_count": 6,
   "id": "ff387e60",
   "metadata": {},
   "outputs": [
    {
     "name": "stdout",
     "output_type": "stream",
     "text": [
      "122 97 25\n"
     ]
    }
   ],
   "source": [
    "import os\n",
    "import random\n",
    "\n",
    "img_path = r'C:\\Users\\NA_team_1\\Desktop\\GitHub\\TensorFlow-2.x-YOLOv3\\custom_dataset'\n",
    "img_list = os.listdir(img_path)\n",
    "\n",
    "jpg_list = [img for img in img_list if r'.jpg' in img]\n",
    "\n",
    "# print(len(jpg_list))\n",
    "\n",
    "random.shuffle(jpg_list)\n",
    "\n",
    "cut_len = int(len(jpg_list) * .8)\n",
    "train_set = jpg_list[:cut_len]\n",
    "valid_set = jpg_list[cut_len:]\n",
    "\n",
    "print(len(jpg_list), len(train_set), len(valid_set))\n",
    "\n",
    "target_path = r'C:\\Users\\NA_team_1\\Desktop\\GitHub\\TensorFlow-2.x-YOLOv3\\custom_dataset/'\n",
    "\n",
    "f = open('train.txt', 'w')\n",
    "\n",
    "for num in range(len(train_set)):\n",
    "    f.write(target_path + train_set[num])\n",
    "    f.write('\\n')\n",
    "f.close()\n",
    "\n",
    "f2 = open('validation.txt', 'w')\n",
    "\n",
    "for num in range(len(valid_set)):\n",
    "    f2.write(target_path + valid_set[num])\n",
    "    f2.write('\\n')\n",
    "f2.close()"
   ]
  },
  {
   "cell_type": "code",
   "execution_count": null,
   "id": "d67b00ee",
   "metadata": {},
   "outputs": [],
   "source": []
  }
 ],
 "metadata": {
  "kernelspec": {
   "display_name": "Python 3",
   "language": "python",
   "name": "python3"
  },
  "language_info": {
   "codemirror_mode": {
    "name": "ipython",
    "version": 3
   },
   "file_extension": ".py",
   "mimetype": "text/x-python",
   "name": "python",
   "nbconvert_exporter": "python",
   "pygments_lexer": "ipython3",
   "version": "3.6.9"
  }
 },
 "nbformat": 4,
 "nbformat_minor": 5
}
