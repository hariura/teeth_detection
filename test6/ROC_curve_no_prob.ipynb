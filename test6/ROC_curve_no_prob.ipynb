{
 "cells": [
  {
   "cell_type": "code",
   "execution_count": 1,
   "id": "639c6691",
   "metadata": {},
   "outputs": [],
   "source": [
    "import pandas as pd\n",
    "import numpy as np\n",
    "from sklearn import metrics\n",
    "import matplotlib.pyplot as plt"
   ]
  },
  {
   "cell_type": "code",
   "execution_count": 2,
   "id": "b1d4c9f4",
   "metadata": {},
   "outputs": [],
   "source": [
    "test_df_1 = pd.read_excel(\"teeth_training_no_prob_lip\\___final_2.xlsx\", sheet_name=\"test_data\", engine='openpyxl')\n",
    "coco_df_1 = pd.read_excel(\"teeth_training_no_prob_lip\\___final_2.xlsx\", sheet_name=\"coco_data\", engine='openpyxl')\n",
    "angle_df_1 = pd.read_excel(\"teeth_training_no_prob_lip\\___final_2.xlsx\", sheet_name=\"angle_data\", engine='openpyxl')\n",
    "braces_df_1 = pd.read_excel(\"teeth_training_no_prob_lip\\___final_2.xlsx\", sheet_name=\"braces_data\", engine='openpyxl')"
   ]
  },
  {
   "cell_type": "code",
   "execution_count": 3,
   "id": "aa9014ac",
   "metadata": {},
   "outputs": [],
   "source": [
    "test_pred_score_1 = [i for i in test_df_1[\"pred_conf\"]]\n",
    "coco_pred_score_1 =  [i for i in coco_df_1[\"pred_conf\"]]\n",
    "angle_pred_score_1 =  [i for i in angle_df_1[\"pred_conf\"]]\n",
    "braces_pred_score_1 =  [i for i in braces_df_1[\"pred_conf\"]]"
   ]
  },
  {
   "cell_type": "code",
   "execution_count": 4,
   "id": "f201e576",
   "metadata": {},
   "outputs": [],
   "source": [
    "test_df_2 = pd.read_excel(\"teeth_training_no_prob_lip_no_conf\\___final_2.xlsx\", sheet_name=\"test_data\", engine='openpyxl')\n",
    "coco_df_2 = pd.read_excel(\"teeth_training_no_prob_lip_no_conf\\___final_2.xlsx\", sheet_name=\"coco_data\", engine='openpyxl')\n",
    "angle_df_2 = pd.read_excel(\"teeth_training_no_prob_lip_no_conf\\___final_2.xlsx\", sheet_name=\"angle_data\", engine='openpyxl')\n",
    "braces_df_2 = pd.read_excel(\"teeth_training_no_prob_lip_no_conf\\___final_2.xlsx\", sheet_name=\"braces_data\", engine='openpyxl')"
   ]
  },
  {
   "cell_type": "code",
   "execution_count": 5,
   "id": "c47d21a9",
   "metadata": {},
   "outputs": [],
   "source": [
    "test_pred_score_2 = [i for i in test_df_2[\"pred_conf\"]]\n",
    "coco_pred_score_2 =  [i for i in coco_df_2[\"pred_conf\"]]\n",
    "angle_pred_score_2 =  [i for i in angle_df_2[\"pred_conf\"]]\n",
    "braces_pred_score_2 =  [i for i in braces_df_2[\"pred_conf\"]]"
   ]
  },
  {
   "cell_type": "code",
   "execution_count": 6,
   "id": "77f29029",
   "metadata": {},
   "outputs": [],
   "source": [
    "test_df_3 = pd.read_excel(\"teeth_training_no_prob_no_lip\\___final_2.xlsx\", sheet_name=\"test_data\", engine='openpyxl')\n",
    "coco_df_3 = pd.read_excel(\"teeth_training_no_prob_no_lip\\___final_2.xlsx\", sheet_name=\"coco_data\", engine='openpyxl')\n",
    "angle_df_3 = pd.read_excel(\"teeth_training_no_prob_no_lip\\___final_2.xlsx\", sheet_name=\"angle_data\", engine='openpyxl')\n",
    "braces_df_3 = pd.read_excel(\"teeth_training_no_prob_no_lip\\___final_2.xlsx\", sheet_name=\"braces_data\", engine='openpyxl')"
   ]
  },
  {
   "cell_type": "code",
   "execution_count": 7,
   "id": "1fd61db2",
   "metadata": {},
   "outputs": [],
   "source": [
    "test_pred_score_3 = [i for i in test_df_3[\"pred_conf\"]]\n",
    "coco_pred_score_3 =  [i for i in coco_df_3[\"pred_conf\"]]\n",
    "angle_pred_score_3 =  [i for i in angle_df_3[\"pred_conf\"]]\n",
    "braces_pred_score_3 =  [i for i in braces_df_3[\"pred_conf\"]]"
   ]
  },
  {
   "cell_type": "code",
   "execution_count": 8,
   "id": "fed118ac",
   "metadata": {},
   "outputs": [],
   "source": [
    "test_df_4 = pd.read_excel(\"teeth_training_no_prob_no_lip_no_conf\\___final_2.xlsx\", sheet_name=\"test_data\", engine='openpyxl')\n",
    "coco_df_4 = pd.read_excel(\"teeth_training_no_prob_no_lip_no_conf\\___final_2.xlsx\", sheet_name=\"coco_data\", engine='openpyxl')\n",
    "angle_df_4 = pd.read_excel(\"teeth_training_no_prob_no_lip_no_conf\\___final_2.xlsx\", sheet_name=\"angle_data\", engine='openpyxl')\n",
    "braces_df_4 = pd.read_excel(\"teeth_training_no_prob_no_lip_no_conf\\___final_2.xlsx\", sheet_name=\"braces_data\", engine='openpyxl')"
   ]
  },
  {
   "cell_type": "code",
   "execution_count": 9,
   "id": "fa6eb275",
   "metadata": {},
   "outputs": [],
   "source": [
    "test_pred_score_4 = [i for i in test_df_4[\"pred_conf\"]]\n",
    "coco_pred_score_4 =  [i for i in coco_df_4[\"pred_conf\"]]\n",
    "angle_pred_score_4 =  [i for i in angle_df_4[\"pred_conf\"]]\n",
    "braces_pred_score_4 =  [i for i in braces_df_4[\"pred_conf\"]]"
   ]
  },
  {
   "cell_type": "code",
   "execution_count": 10,
   "id": "2c148443",
   "metadata": {},
   "outputs": [],
   "source": [
    "y = [1]*len(test_pred_score_1)  + [0]*len(coco_pred_score_1)+ [0]*len(angle_pred_score_1) +[1]*len(braces_pred_score_1)"
   ]
  },
  {
   "cell_type": "code",
   "execution_count": 11,
   "id": "2371c262",
   "metadata": {},
   "outputs": [],
   "source": [
    "pred_1 = np.array(test_pred_score_1 +coco_pred_score_1 +angle_pred_score_1 + braces_pred_score_1)\n",
    "pred_2 = np.array(test_pred_score_2 +coco_pred_score_2 +angle_pred_score_2 + braces_pred_score_2)\n",
    "pred_3 = np.array(test_pred_score_3 +coco_pred_score_3 +angle_pred_score_3 + braces_pred_score_3)\n",
    "pred_4 = np.array(test_pred_score_4 +coco_pred_score_4 +angle_pred_score_4 + braces_pred_score_4)"
   ]
  },
  {
   "cell_type": "code",
   "execution_count": 12,
   "id": "0a54b7c5",
   "metadata": {},
   "outputs": [
    {
     "name": "stdout",
     "output_type": "stream",
     "text": [
      "0.9973007713868149\n",
      "0.9996162418577434\n",
      "0.9992434402942874\n",
      "0.9999799923343646\n"
     ]
    },
    {
     "data": {
      "text/plain": [
       "<matplotlib.legend.Legend at 0x1c8f34ae7b8>"
      ]
     },
     "execution_count": 12,
     "metadata": {},
     "output_type": "execute_result"
    },
    {
     "data": {
      "image/png": "[encoded data removed]",
      "text/plain": [
       "<Figure size 432x288 with 1 Axes>"
      ]
     },
     "metadata": {
      "needs_background": "light"
     },
     "output_type": "display_data"
    }
   ],
   "source": [
    "lw = 2\n",
    "plt.figure(0).clf()\n",
    "\n",
    "\n",
    "\n",
    "fpr, tpr, thresh = metrics.roc_curve(y, pred_2)\n",
    "auc = metrics.roc_auc_score(y, pred_2)\n",
    "plt.plot(fpr,tpr,label=\"$\\lambda = 1$, IL, auc=\"+str(round(auc,4)))\n",
    "# print(auc)\n",
    "fpr, tpr, thresh = metrics.roc_curve(y, pred_1)\n",
    "auc = metrics.roc_auc_score(y, pred_1)\n",
    "plt.plot(fpr,tpr,label=\"$\\lambda = 10$, IL, auc=\"+str(round(auc,4)))\n",
    "# print(auc)\n",
    "fpr, tpr, thresh = metrics.roc_curve(y, pred_4)\n",
    "auc = metrics.roc_auc_score(y, pred_4)\n",
    "plt.plot(fpr,tpr,label=\"$\\lambda = 1$, EL, auc=\"+str(round(auc,4)))\n",
    "# print(auc)\n",
    "fpr, tpr, thresh = metrics.roc_curve(y, pred_3)\n",
    "auc = metrics.roc_auc_score(y, pred_3)\n",
    "plt.plot(fpr,tpr,label=\"$\\lambda = 10$, EL, auc=\"+str(round(auc,4)))\n",
    "# print(auc)\n",
    "plt.plot([0, 1], [0, 1], color=\"navy\", lw=lw, linestyle=\"--\")\n",
    "plt.xlim([0.0, 1.0])\n",
    "plt.ylim([0.0, 1.05])\n",
    "plt.xlabel(\"False Positive Rate\")\n",
    "plt.ylabel(\"True Positive Rate\")\n",
    "plt.title(\"Receiver operating characteristic example\")\n",
    "plt.legend(loc=\"lower right\")\n",
    "plt.savefig(\"roc_curve_no_prob.jpg\",bbox_inches = \"tight\")"
   ]
  },
  {
   "cell_type": "code",
   "execution_count": null,
   "id": "13ddf3c7",
   "metadata": {},
   "outputs": [],
   "source": []
  }
 ],
 "metadata": {
  "kernelspec": {
   "display_name": "Python 3",
   "language": "python",
   "name": "python3"
  },
  "language_info": {
   "codemirror_mode": {
    "name": "ipython",
    "version": 3
   },
   "file_extension": ".py",
   "mimetype": "text/x-python",
   "name": "python",
   "nbconvert_exporter": "python",
   "pygments_lexer": "ipython3",
   "version": "3.6.9"
  }
 },
 "nbformat": 4,
 "nbformat_minor": 5
}
