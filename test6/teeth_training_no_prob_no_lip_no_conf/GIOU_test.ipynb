{
 "cells": [
  {
   "cell_type": "code",
   "execution_count": 1,
   "id": "1308cbfe",
   "metadata": {},
   "outputs": [
    {
     "name": "stderr",
     "output_type": "stream",
     "text": [
      "2023-05-03 18:00:10.457463: E tensorflow/stream_executor/cuda/cuda_driver.cc:271] failed call to cuInit: CUDA_ERROR_NO_DEVICE: no CUDA-capable device is detected\n",
      "2023-05-03 18:00:10.457496: I tensorflow/stream_executor/cuda/cuda_diagnostics.cc:169] retrieving CUDA diagnostic information for host: jh-desktop\n",
      "2023-05-03 18:00:10.457500: I tensorflow/stream_executor/cuda/cuda_diagnostics.cc:176] hostname: jh-desktop\n",
      "2023-05-03 18:00:10.457567: I tensorflow/stream_executor/cuda/cuda_diagnostics.cc:200] libcuda reported version is: 470.161.3\n",
      "2023-05-03 18:00:10.457585: I tensorflow/stream_executor/cuda/cuda_diagnostics.cc:204] kernel reported version is: 470.161.3\n",
      "2023-05-03 18:00:10.457588: I tensorflow/stream_executor/cuda/cuda_diagnostics.cc:310] kernel version seems to match DSO: 470.161.3\n",
      "2023-05-03 18:00:10.457773: I tensorflow/core/platform/cpu_feature_guard.cc:151] This TensorFlow binary is optimized with oneAPI Deep Neural Network Library (oneDNN) to use the following CPU instructions in performance-critical operations:  AVX2 FMA\n",
      "To enable them in other operations, rebuild TensorFlow with the appropriate compiler flags.\n"
     ]
    }
   ],
   "source": [
    "import cv2\n",
    "import numpy as np\n",
    "import os\n",
    "import matplotlib\n",
    "import matplotlib.pyplot as plt\n",
    "%matplotlib inline  \n",
    "os.environ[\"CUDA_VISIBLE_DEVICES\"]=\"-1\"  \n",
    "import tensorflow as tf\n",
    "from glob import glob\n",
    "from yolov3.yolov4_config import Create_Yolo\n",
    "from yolov3.utils_config import load_yolo_weights, detect_image, image_preprocess, postprocess_boxes_excel, nms, draw_bbox\n",
    "from yolov3.configs_config import *\n",
    "from PIL import Image\n",
    "\n",
    "import os\n",
    "import pandas as pd\n",
    "\n",
    "if YOLO_TYPE == \"yolov4\":\n",
    "    Darknet_weights = YOLO_V4_TINY_WEIGHTS if TRAIN_YOLO_TINY else YOLO_V4_WEIGHTS\n",
    "if YOLO_TYPE == \"yolov3\":\n",
    "    Darknet_weights = YOLO_V3_TINY_WEIGHTS if TRAIN_YOLO_TINY else YOLO_V3_WEIGHTS\n",
    "\n",
    "yolo = Create_Yolo(input_size=YOLO_INPUT_SIZE)\n",
    "load_yolo_weights(yolo, Darknet_weights) # use Darknet weights"
   ]
  },
  {
   "cell_type": "code",
   "execution_count": 2,
   "id": "f19b9711",
   "metadata": {},
   "outputs": [
    {
     "data": {
      "text/plain": [
       "<tensorflow.python.training.tracking.util.CheckpointLoadStatus at 0x7f18f8330be0>"
      ]
     },
     "execution_count": 2,
     "metadata": {},
     "output_type": "execute_result"
    }
   ],
   "source": [
    "yolo = Create_Yolo(input_size=YOLO_INPUT_SIZE, CLASSES=TRAIN_CLASSES)\n",
    "yolo.load_weights(\"./checkpoints/first/yolov3_custom\") # use keras weights"
   ]
  },
  {
   "cell_type": "code",
   "execution_count": 3,
   "id": "b6376be8",
   "metadata": {},
   "outputs": [],
   "source": [
    "def prt_loss(image_path ,yolo):\n",
    "    input_size = 416\n",
    "    iou_threshold = 0.45\n",
    "    \n",
    "    original_image      = cv2.imread(image_path)\n",
    "    original_image      = cv2.cvtColor(original_image, cv2.COLOR_BGR2RGB)\n",
    "    original_image      = cv2.cvtColor(original_image, cv2.COLOR_BGR2RGB)\n",
    "    image_data = image_preprocess(np.copy(original_image), [input_size, input_size])\n",
    "    image_data = image_data[np.newaxis, ...].astype(np.float32)\n",
    "    pred_bbox = yolo.predict(image_data)\n",
    "    pred_bbox = [tf.reshape(x, (-1, tf.shape(x)[-1])) for x in pred_bbox]\n",
    "    pred_bbox = tf.concat(pred_bbox, axis=0)\n",
    "    bboxes, pred_coor, pred_conf  = postprocess_boxes_excel(pred_bbox, original_image, input_size, 0.0)\n",
    "#     classes = np.argmax(pred_prob, axis=-1)\n",
    "    scores = pred_conf \n",
    "    argmax_score = np.argmax(scores)\n",
    "    max_score = np.max(scores)\n",
    "    print_conf = pred_conf[argmax_score]\n",
    "    \n",
    "    return [print_conf]"
   ]
  },
  {
   "cell_type": "code",
   "execution_count": 4,
   "id": "fbc84c02",
   "metadata": {},
   "outputs": [],
   "source": [
    "def GIoU(bboxes_1, bboxes_2):\n",
    "    # 1. calulate intersection over union\n",
    "    area_1 = (bboxes_1[2] - bboxes_1[0]) * (bboxes_1[3] - bboxes_1[1])\n",
    "    area_2 = (bboxes_2[2] - bboxes_2[0]) * (bboxes_2[3] - bboxes_2[1])\n",
    "    \n",
    "    intersection_wh = tf.minimum(bboxes_1[2:], bboxes_2[2:]) - tf.maximum(bboxes_1[ :2], bboxes_2[ :2])\n",
    "    intersection_wh = tf.maximum(intersection_wh, 0)\n",
    "    \n",
    "    intersection = intersection_wh[0] * intersection_wh[1]\n",
    "    union = (area_1 + area_2) - intersection\n",
    "    \n",
    "    ious = intersection / union\n",
    "    \n",
    "    # 2. (C - (A U B))/C\n",
    "    C_wh = tf.maximum(bboxes_1[2:], bboxes_2[2:]) - tf.minimum(bboxes_1[:2], bboxes_2[:2])\n",
    "    C_wh = C_wh\n",
    "    C = C_wh[0] * C_wh[1]\n",
    "\n",
    "    giou = ious - (C - union) / C\n",
    "    return giou, ious"
   ]
  },
  {
   "cell_type": "code",
   "execution_count": 19,
   "id": "9ac6946d",
   "metadata": {},
   "outputs": [
    {
     "name": "stdout",
     "output_type": "stream",
     "text": [
      "[  34  130  161  189  241  337  466  474  600  646  769  775  860  878\n",
      "  975  995 1016 1021 1076 1082 1184 1267 1275 1363 1478 1500 1528 1585\n",
      " 1685 1806 1899 1955 1981 2041 2047 2061 2363 2391 2433 2435 2556 2558\n",
      " 2612 2613 2734 2747 2824 2888 2904 2919 3005 3073 3092 3152 3171 3202\n",
      " 3342 3385 3444 3461 3556 3772 3798 3843 3890 3943 4014 4117 4297 4426\n",
      " 4551 4555 4658 4798 4843 4911]\n"
     ]
    }
   ],
   "source": [
    "r1 = glob(r\"teeth_including_lip_more/test/*.jpg\")\n",
    "r11 = glob(r\"teeth_including_lip_more/train/*.jpg\")\n",
    "r5 = glob(r\"/home/jh/Desktop/teeth/github_td/test2/*.jpg\")\n",
    "coco_anomaly =  glob(r\"/home/jh/Desktop/teeth/github_td/val2017/*.jpg\")\n",
    "np.random.seed(42)\n",
    "a = np.random.randint(5000, size =76)\n",
    "a = np.sort(a)\n",
    "print(a)\n",
    "anomaly_76 = [coco_anomaly[i] for i in a]\n",
    "anomaly_85 = glob(r\"/home/jh/Desktop/teeth/github_td/ano/*.jpg\")\n",
    "brace_path = r\"braces\"\n",
    "angled_path = r\"angled\""
   ]
  },
  {
   "cell_type": "code",
   "execution_count": 20,
   "id": "5bb6622d",
   "metadata": {},
   "outputs": [],
   "source": [
    "train_names = []\n",
    "valid_names = []\n",
    "test_names = []\n",
    "anomaly_names = []"
   ]
  },
  {
   "cell_type": "code",
   "execution_count": 21,
   "id": "0ed1e896",
   "metadata": {},
   "outputs": [],
   "source": [
    "coco_names = []\n",
    "braces_names = []\n",
    "angle_names = []"
   ]
  },
  {
   "cell_type": "code",
   "execution_count": 22,
   "id": "4f153630",
   "metadata": {},
   "outputs": [],
   "source": [
    "for i in range(len(r11)):\n",
    "    train_names.append(os.path.basename(r11[i]))\n",
    "for i in range(len(r1)):\n",
    "    valid_names.append(os.path.basename(r1[i]))\n",
    "for i in range(len(r5)):\n",
    "    test_names.append(os.path.basename(r5[i]))\n",
    "for i in range(len(anomaly_85)):\n",
    "    anomaly_names.append(os.path.basename(anomaly_85[i]))"
   ]
  },
  {
   "cell_type": "code",
   "execution_count": 23,
   "id": "3f5dc523",
   "metadata": {},
   "outputs": [],
   "source": [
    "for i in range(len(coco_anomaly)):\n",
    "    coco_names.append(os.path.basename(coco_anomaly[i]))\n",
    "for i in range(len(os.listdir(brace_path))):\n",
    "    braces_names.append(os.path.basename(os.listdir(brace_path)[i]))\n",
    "for i in range(len(os.listdir(angled_path))):\n",
    "    angle_names.append(os.path.basename(os.listdir(angled_path)[i]))"
   ]
  },
  {
   "cell_type": "code",
   "execution_count": 31,
   "id": "45092804",
   "metadata": {},
   "outputs": [
    {
     "data": {
      "text/plain": [
       "['teeth_including_lip_more/test/10146_2_3.jpg',\n",
       " 'teeth_including_lip_more/test/10346_2_1.jpg',\n",
       " 'teeth_including_lip_more/test/10355_2_1.jpg',\n",
       " 'teeth_including_lip_more/test/144_2_2.jpg',\n",
       " 'teeth_including_lip_more/test/174_2_1.jpg',\n",
       " 'teeth_including_lip_more/test/19582_2_1.jpg',\n",
       " 'teeth_including_lip_more/test/202_2_3.jpg',\n",
       " 'teeth_including_lip_more/test/20451_2_1.jpg',\n",
       " 'teeth_including_lip_more/test/20557_2_3.jpg',\n",
       " 'teeth_including_lip_more/test/206_2_1.jpg',\n",
       " 'teeth_including_lip_more/test/207_2_1.jpg',\n",
       " 'teeth_including_lip_more/test/21511_2_1.jpg',\n",
       " 'teeth_including_lip_more/test/21527_2_3.jpg',\n",
       " 'teeth_including_lip_more/test/21770_2_1.jpg',\n",
       " 'teeth_including_lip_more/test/23264_2_1.jpg',\n",
       " 'teeth_including_lip_more/test/23456_2_1.jpg',\n",
       " 'teeth_including_lip_more/test/23953_2_1.jpg',\n",
       " 'teeth_including_lip_more/test/23956_2_3.jpg',\n",
       " 'teeth_including_lip_more/test/24390_2_3.jpg',\n",
       " 'teeth_including_lip_more/test/24391_2_3.jpg',\n",
       " 'teeth_including_lip_more/test/24938_2_3.jpg',\n",
       " 'teeth_including_lip_more/test/25041_2_1.jpg',\n",
       " 'teeth_including_lip_more/test/25360_2_1.jpg',\n",
       " 'teeth_including_lip_more/test/25365_2_1.jpg',\n",
       " 'teeth_including_lip_more/test/25554_2_3.jpg',\n",
       " 'teeth_including_lip_more/test/25597_2_1.jpg',\n",
       " 'teeth_including_lip_more/test/25822_2_1.jpg',\n",
       " 'teeth_including_lip_more/test/26044_2_3.jpg',\n",
       " 'teeth_including_lip_more/test/26356_2_1.jpg',\n",
       " 'teeth_including_lip_more/test/26436_2_3.jpg',\n",
       " 'teeth_including_lip_more/test/26439_2_3.jpg',\n",
       " 'teeth_including_lip_more/test/27183_2_3.jpg',\n",
       " 'teeth_including_lip_more/test/27335_2_3.jpg',\n",
       " 'teeth_including_lip_more/test/27423_2_3.jpg',\n",
       " 'teeth_including_lip_more/test/27742_2_3.jpg',\n",
       " 'teeth_including_lip_more/test/27937_2_1.jpg',\n",
       " 'teeth_including_lip_more/test/28110_2_3.jpg',\n",
       " 'teeth_including_lip_more/test/28196_2_1.jpg',\n",
       " 'teeth_including_lip_more/test/28204_2_1.jpg',\n",
       " 'teeth_including_lip_more/test/28205_2_1.jpg',\n",
       " 'teeth_including_lip_more/test/28210_2_1.jpg',\n",
       " 'teeth_including_lip_more/test/28487_2_1.jpg',\n",
       " 'teeth_including_lip_more/test/28949_2_3.jpg',\n",
       " 'teeth_including_lip_more/test/29057_2_3.jpg',\n",
       " 'teeth_including_lip_more/test/29203_2_3.jpg',\n",
       " 'teeth_including_lip_more/test/29213_2_1.jpg',\n",
       " 'teeth_including_lip_more/test/29493_2_1.jpg',\n",
       " 'teeth_including_lip_more/test/29811_2_1.jpg',\n",
       " 'teeth_including_lip_more/test/29837_2_1.jpg',\n",
       " 'teeth_including_lip_more/test/29919_2_1.jpg',\n",
       " 'teeth_including_lip_more/test/29932_2_1.jpg',\n",
       " 'teeth_including_lip_more/test/30037_2_1.jpg',\n",
       " 'teeth_including_lip_more/test/30057_2_1.jpg',\n",
       " 'teeth_including_lip_more/test/30072_2_1.jpg',\n",
       " 'teeth_including_lip_more/test/30080_2_1.jpg',\n",
       " 'teeth_including_lip_more/test/30092_2_1.jpg',\n",
       " 'teeth_including_lip_more/test/30097_2_1.jpg',\n",
       " 'teeth_including_lip_more/test/30098_2_1.jpg',\n",
       " 'teeth_including_lip_more/test/30107_2_1.jpg',\n",
       " 'teeth_including_lip_more/test/30171_2_1.jpg',\n",
       " 'teeth_including_lip_more/test/30261_2_1.jpg',\n",
       " 'teeth_including_lip_more/test/30282_2_1.jpg',\n",
       " 'teeth_including_lip_more/test/30329_2_1.jpg',\n",
       " 'teeth_including_lip_more/test/30383_2_1.jpg',\n",
       " 'teeth_including_lip_more/test/30569_2_1.jpg',\n",
       " 'teeth_including_lip_more/test/30985_2_1.jpg',\n",
       " 'teeth_including_lip_more/test/31316_2_3.jpg',\n",
       " 'teeth_including_lip_more/test/31353_2_1.jpg',\n",
       " 'teeth_including_lip_more/test/31369_2_1.jpg',\n",
       " 'teeth_including_lip_more/test/31413_2_1.jpg',\n",
       " 'teeth_including_lip_more/test/31532_2_3.jpg',\n",
       " 'teeth_including_lip_more/test/31586_2_1.jpg',\n",
       " 'teeth_including_lip_more/test/31621_2_1.jpg',\n",
       " 'teeth_including_lip_more/test/31777_2_3.jpg',\n",
       " 'teeth_including_lip_more/test/31828_2_3.jpg',\n",
       " 'teeth_including_lip_more/test/3921_2_3.jpg',\n",
       " 'teeth_including_lip_more/test/4703_2_1.jpg',\n",
       " 'teeth_including_lip_more/test/5806_2_3.jpg',\n",
       " 'teeth_including_lip_more/test/6211_2_3.jpg',\n",
       " 'teeth_including_lip_more/test/7454_2_1.jpg',\n",
       " 'teeth_including_lip_more/test/8642_2_3.jpg',\n",
       " 'teeth_including_lip_more/test/8659_2_3.jpg',\n",
       " 'teeth_including_lip_more/test/8946_2_3.jpg',\n",
       " 'teeth_including_lip_more/test/9061_2_1.jpg',\n",
       " 'teeth_including_lip_more/test/9595_2_3.jpg']"
      ]
     },
     "execution_count": 31,
     "metadata": {},
     "output_type": "execute_result"
    }
   ],
   "source": [
    "sorted(r1)"
   ]
  },
  {
   "cell_type": "code",
   "execution_count": 30,
   "id": "edcd244f",
   "metadata": {},
   "outputs": [
    {
     "data": {
      "text/plain": [
       "['/home/jh/Desktop/conform_paper/test6/teeth_training_no_prob_no_lip_no_conf/teeth_excluding_lip_more/test/10146_2_3.jpg 52,198,448,359,0\\n',\n",
       " '/home/jh/Desktop/conform_paper/test6/teeth_training_no_prob_no_lip_no_conf/teeth_excluding_lip_more/test/10346_2_1.jpg 101,186,420,299,0\\n',\n",
       " '/home/jh/Desktop/conform_paper/test6/teeth_training_no_prob_no_lip_no_conf/teeth_excluding_lip_more/test/10355_2_1.jpg 67,189,403,328,0\\n',\n",
       " '/home/jh/Desktop/conform_paper/test6/teeth_training_no_prob_no_lip_no_conf/teeth_excluding_lip_more/test/144_2_2.jpg 36,256,448,412,0\\n',\n",
       " '/home/jh/Desktop/conform_paper/test6/teeth_training_no_prob_no_lip_no_conf/teeth_excluding_lip_more/test/174_2_1.jpg 56,179,378,298,0\\n',\n",
       " '/home/jh/Desktop/conform_paper/test6/teeth_training_no_prob_no_lip_no_conf/teeth_excluding_lip_more/test/19582_2_1.jpg 107,219,365,368,0\\n',\n",
       " '/home/jh/Desktop/conform_paper/test6/teeth_training_no_prob_no_lip_no_conf/teeth_excluding_lip_more/test/202_2_3.jpg 122,198,406,346,0\\n',\n",
       " '/home/jh/Desktop/conform_paper/test6/teeth_training_no_prob_no_lip_no_conf/teeth_excluding_lip_more/test/20451_2_1.jpg 64,208,360,361,0\\n',\n",
       " '/home/jh/Desktop/conform_paper/test6/teeth_training_no_prob_no_lip_no_conf/teeth_excluding_lip_more/test/20557_2_3.jpg 59,165,448,368,0\\n',\n",
       " '/home/jh/Desktop/conform_paper/test6/teeth_training_no_prob_no_lip_no_conf/teeth_excluding_lip_more/test/206_2_1.jpg 138,197,398,346,0\\n',\n",
       " '/home/jh/Desktop/conform_paper/test6/teeth_training_no_prob_no_lip_no_conf/teeth_excluding_lip_more/test/207_2_1.jpg 139,303,422,394,0\\n',\n",
       " '/home/jh/Desktop/conform_paper/test6/teeth_training_no_prob_no_lip_no_conf/teeth_excluding_lip_more/test/21511_2_1.jpg 39,178,382,333,0\\n',\n",
       " '/home/jh/Desktop/conform_paper/test6/teeth_training_no_prob_no_lip_no_conf/teeth_excluding_lip_more/test/21527_2_3.jpg 95,236,374,333,0\\n',\n",
       " '/home/jh/Desktop/conform_paper/test6/teeth_training_no_prob_no_lip_no_conf/teeth_excluding_lip_more/test/21770_2_1.jpg 71,207,410,338,0\\n',\n",
       " '/home/jh/Desktop/conform_paper/test6/teeth_training_no_prob_no_lip_no_conf/teeth_excluding_lip_more/test/23264_2_1.jpg 113,223,440,397,0\\n',\n",
       " '/home/jh/Desktop/conform_paper/test6/teeth_training_no_prob_no_lip_no_conf/teeth_excluding_lip_more/test/23456_2_1.jpg 15,161,437,340,0\\n',\n",
       " '/home/jh/Desktop/conform_paper/test6/teeth_training_no_prob_no_lip_no_conf/teeth_excluding_lip_more/test/23953_2_1.jpg 20,99,448,378,0\\n',\n",
       " '/home/jh/Desktop/conform_paper/test6/teeth_training_no_prob_no_lip_no_conf/teeth_excluding_lip_more/test/23956_2_3.jpg 101,178,448,415,0\\n',\n",
       " '/home/jh/Desktop/conform_paper/test6/teeth_training_no_prob_no_lip_no_conf/teeth_excluding_lip_more/test/24390_2_3.jpg 65,223,389,338,0\\n',\n",
       " '/home/jh/Desktop/conform_paper/test6/teeth_training_no_prob_no_lip_no_conf/teeth_excluding_lip_more/test/24391_2_3.jpg 68,218,373,330,0\\n',\n",
       " '/home/jh/Desktop/conform_paper/test6/teeth_training_no_prob_no_lip_no_conf/teeth_excluding_lip_more/test/24938_2_3.jpg 114,260,448,392,0\\n',\n",
       " '/home/jh/Desktop/conform_paper/test6/teeth_training_no_prob_no_lip_no_conf/teeth_excluding_lip_more/test/25041_2_1.jpg 87,255,448,428,0\\n',\n",
       " '/home/jh/Desktop/conform_paper/test6/teeth_training_no_prob_no_lip_no_conf/teeth_excluding_lip_more/test/25360_2_1.jpg 79,248,390,384,0\\n',\n",
       " '/home/jh/Desktop/conform_paper/test6/teeth_training_no_prob_no_lip_no_conf/teeth_excluding_lip_more/test/25365_2_1.jpg 117,258,396,420,0\\n',\n",
       " '/home/jh/Desktop/conform_paper/test6/teeth_training_no_prob_no_lip_no_conf/teeth_excluding_lip_more/test/25554_2_3.jpg 88,281,379,399,0\\n',\n",
       " '/home/jh/Desktop/conform_paper/test6/teeth_training_no_prob_no_lip_no_conf/teeth_excluding_lip_more/test/25597_2_1.jpg 35,167,353,308,0\\n',\n",
       " '/home/jh/Desktop/conform_paper/test6/teeth_training_no_prob_no_lip_no_conf/teeth_excluding_lip_more/test/25822_2_1.jpg 148,202,418,328,0\\n',\n",
       " '/home/jh/Desktop/conform_paper/test6/teeth_training_no_prob_no_lip_no_conf/teeth_excluding_lip_more/test/26044_2_3.jpg 23,177,298,325,0\\n',\n",
       " '/home/jh/Desktop/conform_paper/test6/teeth_training_no_prob_no_lip_no_conf/teeth_excluding_lip_more/test/26356_2_1.jpg 84,201,448,327,0\\n',\n",
       " '/home/jh/Desktop/conform_paper/test6/teeth_training_no_prob_no_lip_no_conf/teeth_excluding_lip_more/test/26436_2_3.jpg 110,113,435,274,0\\n',\n",
       " '/home/jh/Desktop/conform_paper/test6/teeth_training_no_prob_no_lip_no_conf/teeth_excluding_lip_more/test/26439_2_3.jpg 146,212,448,355,0\\n',\n",
       " '/home/jh/Desktop/conform_paper/test6/teeth_training_no_prob_no_lip_no_conf/teeth_excluding_lip_more/test/27183_2_3.jpg 17,145,370,269,0\\n',\n",
       " '/home/jh/Desktop/conform_paper/test6/teeth_training_no_prob_no_lip_no_conf/teeth_excluding_lip_more/test/27335_2_3.jpg 69,228,393,395,0\\n',\n",
       " '/home/jh/Desktop/conform_paper/test6/teeth_training_no_prob_no_lip_no_conf/teeth_excluding_lip_more/test/27423_2_3.jpg 16,206,360,327,0\\n',\n",
       " '/home/jh/Desktop/conform_paper/test6/teeth_training_no_prob_no_lip_no_conf/teeth_excluding_lip_more/test/27742_2_3.jpg 48,209,303,330,0\\n',\n",
       " '/home/jh/Desktop/conform_paper/test6/teeth_training_no_prob_no_lip_no_conf/teeth_excluding_lip_more/test/27937_2_1.jpg 148,166,442,363,0\\n',\n",
       " '/home/jh/Desktop/conform_paper/test6/teeth_training_no_prob_no_lip_no_conf/teeth_excluding_lip_more/test/28110_2_3.jpg 136,241,446,369,0\\n',\n",
       " '/home/jh/Desktop/conform_paper/test6/teeth_training_no_prob_no_lip_no_conf/teeth_excluding_lip_more/test/28196_2_1.jpg 137,269,448,396,0\\n',\n",
       " '/home/jh/Desktop/conform_paper/test6/teeth_training_no_prob_no_lip_no_conf/teeth_excluding_lip_more/test/28204_2_1.jpg 162,223,448,376,0\\n',\n",
       " '/home/jh/Desktop/conform_paper/test6/teeth_training_no_prob_no_lip_no_conf/teeth_excluding_lip_more/test/28205_2_1.jpg 144,164,448,399,0\\n',\n",
       " '/home/jh/Desktop/conform_paper/test6/teeth_training_no_prob_no_lip_no_conf/teeth_excluding_lip_more/test/28210_2_1.jpg 55,220,435,316,0\\n',\n",
       " '/home/jh/Desktop/conform_paper/test6/teeth_training_no_prob_no_lip_no_conf/teeth_excluding_lip_more/test/28487_2_1.jpg 33,203,310,351,0\\n',\n",
       " '/home/jh/Desktop/conform_paper/test6/teeth_training_no_prob_no_lip_no_conf/teeth_excluding_lip_more/test/28949_2_3.jpg 15,210,381,401,0\\n',\n",
       " '/home/jh/Desktop/conform_paper/test6/teeth_training_no_prob_no_lip_no_conf/teeth_excluding_lip_more/test/29057_2_3.jpg 103,214,448,371,0\\n',\n",
       " '/home/jh/Desktop/conform_paper/test6/teeth_training_no_prob_no_lip_no_conf/teeth_excluding_lip_more/test/29203_2_3.jpg 1,210,380,397,0\\n',\n",
       " '/home/jh/Desktop/conform_paper/test6/teeth_training_no_prob_no_lip_no_conf/teeth_excluding_lip_more/test/29213_2_1.jpg 95,208,377,320,0\\n',\n",
       " '/home/jh/Desktop/conform_paper/test6/teeth_training_no_prob_no_lip_no_conf/teeth_excluding_lip_more/test/29493_2_1.jpg 126,225,414,368,0\\n',\n",
       " '/home/jh/Desktop/conform_paper/test6/teeth_training_no_prob_no_lip_no_conf/teeth_excluding_lip_more/test/29811_2_1.jpg 65,148,448,335,0\\n',\n",
       " '/home/jh/Desktop/conform_paper/test6/teeth_training_no_prob_no_lip_no_conf/teeth_excluding_lip_more/test/29837_2_1.jpg 122,168,448,312,0\\n',\n",
       " '/home/jh/Desktop/conform_paper/test6/teeth_training_no_prob_no_lip_no_conf/teeth_excluding_lip_more/test/29919_2_1.jpg 76,223,344,332,0\\n',\n",
       " '/home/jh/Desktop/conform_paper/test6/teeth_training_no_prob_no_lip_no_conf/teeth_excluding_lip_more/test/29932_2_1.jpg 61,214,330,356,0\\n',\n",
       " '/home/jh/Desktop/conform_paper/test6/teeth_training_no_prob_no_lip_no_conf/teeth_excluding_lip_more/test/30037_2_1.jpg 66,230,380,375,0\\n',\n",
       " '/home/jh/Desktop/conform_paper/test6/teeth_training_no_prob_no_lip_no_conf/teeth_excluding_lip_more/test/30057_2_1.jpg 103,193,448,313,0\\n',\n",
       " '/home/jh/Desktop/conform_paper/test6/teeth_training_no_prob_no_lip_no_conf/teeth_excluding_lip_more/test/30072_2_1.jpg 194,223,448,319,0\\n',\n",
       " '/home/jh/Desktop/conform_paper/test6/teeth_training_no_prob_no_lip_no_conf/teeth_excluding_lip_more/test/30080_2_1.jpg 207,208,448,298,0\\n',\n",
       " '/home/jh/Desktop/conform_paper/test6/teeth_training_no_prob_no_lip_no_conf/teeth_excluding_lip_more/test/30092_2_1.jpg 88,201,448,315,0\\n',\n",
       " '/home/jh/Desktop/conform_paper/test6/teeth_training_no_prob_no_lip_no_conf/teeth_excluding_lip_more/test/30097_2_1.jpg 116,201,448,308,0\\n',\n",
       " '/home/jh/Desktop/conform_paper/test6/teeth_training_no_prob_no_lip_no_conf/teeth_excluding_lip_more/test/30098_2_1.jpg 156,193,448,275,0\\n',\n",
       " '/home/jh/Desktop/conform_paper/test6/teeth_training_no_prob_no_lip_no_conf/teeth_excluding_lip_more/test/30107_2_1.jpg 81,204,398,290,0\\n',\n",
       " '/home/jh/Desktop/conform_paper/test6/teeth_training_no_prob_no_lip_no_conf/teeth_excluding_lip_more/test/30171_2_1.jpg 54,218,343,336,0\\n',\n",
       " '/home/jh/Desktop/conform_paper/test6/teeth_training_no_prob_no_lip_no_conf/teeth_excluding_lip_more/test/30261_2_1.jpg 84,205,409,332,0\\n',\n",
       " '/home/jh/Desktop/conform_paper/test6/teeth_training_no_prob_no_lip_no_conf/teeth_excluding_lip_more/test/30282_2_1.jpg 35,203,385,332,0\\n',\n",
       " '/home/jh/Desktop/conform_paper/test6/teeth_training_no_prob_no_lip_no_conf/teeth_excluding_lip_more/test/30329_2_1.jpg 74,165,448,310,0\\n',\n",
       " '/home/jh/Desktop/conform_paper/test6/teeth_training_no_prob_no_lip_no_conf/teeth_excluding_lip_more/test/30383_2_1.jpg 90,138,448,324,0\\n',\n",
       " '/home/jh/Desktop/conform_paper/test6/teeth_training_no_prob_no_lip_no_conf/teeth_excluding_lip_more/test/30569_2_1.jpg 18,219,338,402,0\\n',\n",
       " '/home/jh/Desktop/conform_paper/test6/teeth_training_no_prob_no_lip_no_conf/teeth_excluding_lip_more/test/30985_2_1.jpg 25,235,376,348,0\\n',\n",
       " '/home/jh/Desktop/conform_paper/test6/teeth_training_no_prob_no_lip_no_conf/teeth_excluding_lip_more/test/31316_2_3.jpg 100,272,448,369,0\\n',\n",
       " '/home/jh/Desktop/conform_paper/test6/teeth_training_no_prob_no_lip_no_conf/teeth_excluding_lip_more/test/31353_2_1.jpg 105,213,320,297,0\\n',\n",
       " '/home/jh/Desktop/conform_paper/test6/teeth_training_no_prob_no_lip_no_conf/teeth_excluding_lip_more/test/31369_2_1.jpg 46,208,331,321,0\\n',\n",
       " '/home/jh/Desktop/conform_paper/test6/teeth_training_no_prob_no_lip_no_conf/teeth_excluding_lip_more/test/31413_2_1.jpg 86,196,385,299,0\\n',\n",
       " '/home/jh/Desktop/conform_paper/test6/teeth_training_no_prob_no_lip_no_conf/teeth_excluding_lip_more/test/31532_2_3.jpg 127,145,415,303,0\\n',\n",
       " '/home/jh/Desktop/conform_paper/test6/teeth_training_no_prob_no_lip_no_conf/teeth_excluding_lip_more/test/31586_2_1.jpg 75,236,373,383,0\\n',\n",
       " '/home/jh/Desktop/conform_paper/test6/teeth_training_no_prob_no_lip_no_conf/teeth_excluding_lip_more/test/31621_2_1.jpg 116,166,448,289,0\\n',\n",
       " '/home/jh/Desktop/conform_paper/test6/teeth_training_no_prob_no_lip_no_conf/teeth_excluding_lip_more/test/31777_2_3.jpg 117,201,370,316,0\\n',\n",
       " '/home/jh/Desktop/conform_paper/test6/teeth_training_no_prob_no_lip_no_conf/teeth_excluding_lip_more/test/31828_2_3.jpg 148,184,448,318,0\\n',\n",
       " '/home/jh/Desktop/conform_paper/test6/teeth_training_no_prob_no_lip_no_conf/teeth_excluding_lip_more/test/3921_2_3.jpg 120,224,427,372,0\\n',\n",
       " '/home/jh/Desktop/conform_paper/test6/teeth_training_no_prob_no_lip_no_conf/teeth_excluding_lip_more/test/4703_2_1.jpg 77,198,385,345,0\\n',\n",
       " '/home/jh/Desktop/conform_paper/test6/teeth_training_no_prob_no_lip_no_conf/teeth_excluding_lip_more/test/5806_2_3.jpg 87,158,393,360,0\\n',\n",
       " '/home/jh/Desktop/conform_paper/test6/teeth_training_no_prob_no_lip_no_conf/teeth_excluding_lip_more/test/6211_2_3.jpg 110,209,430,344,0\\n',\n",
       " '/home/jh/Desktop/conform_paper/test6/teeth_training_no_prob_no_lip_no_conf/teeth_excluding_lip_more/test/7454_2_1.jpg 91,214,392,370,0\\n',\n",
       " '/home/jh/Desktop/conform_paper/test6/teeth_training_no_prob_no_lip_no_conf/teeth_excluding_lip_more/test/8642_2_3.jpg 83,193,340,329,0\\n',\n",
       " '/home/jh/Desktop/conform_paper/test6/teeth_training_no_prob_no_lip_no_conf/teeth_excluding_lip_more/test/8659_2_3.jpg 58,182,448,405,0\\n',\n",
       " '/home/jh/Desktop/conform_paper/test6/teeth_training_no_prob_no_lip_no_conf/teeth_excluding_lip_more/test/8946_2_3.jpg 20,207,431,442,0\\n',\n",
       " '/home/jh/Desktop/conform_paper/test6/teeth_training_no_prob_no_lip_no_conf/teeth_excluding_lip_more/test/9061_2_1.jpg 106,208,448,367,0\\n',\n",
       " '/home/jh/Desktop/conform_paper/test6/teeth_training_no_prob_no_lip_no_conf/teeth_excluding_lip_more/test/9595_2_3.jpg 102,181,388,336,0\\n']"
      ]
     },
     "execution_count": 30,
     "metadata": {},
     "output_type": "execute_result"
    }
   ],
   "source": [
    "sorted(no_lip_valid)"
   ]
  },
  {
   "cell_type": "code",
   "execution_count": 32,
   "id": "115a9c55",
   "metadata": {},
   "outputs": [],
   "source": [
    "file = open(\"model_data/no_lip_more_train.txt\", \"r\")\n",
    "no_lip_train  = file.readlines()\n",
    "no_lip_train = sorted(no_lip_train)\n",
    "file.close()\n",
    "file = open(\"model_data/no_lip_more_validation.txt\", \"r\")\n",
    "no_lip_valid = file.readlines()\n",
    "no_lip_valid = sorted(no_lip_valid)\n",
    "file.close()"
   ]
  },
  {
   "cell_type": "code",
   "execution_count": 33,
   "id": "c5a96abb",
   "metadata": {},
   "outputs": [],
   "source": [
    "GT_train = []\n",
    "GT_valid = []"
   ]
  },
  {
   "cell_type": "code",
   "execution_count": 34,
   "id": "23598968",
   "metadata": {},
   "outputs": [],
   "source": [
    "giou_ious_list_train = []\n",
    "giou_ious_list_valid = []"
   ]
  },
  {
   "cell_type": "code",
   "execution_count": 35,
   "id": "cbdcb455",
   "metadata": {},
   "outputs": [],
   "source": [
    "#GT add\n",
    "for i in range(len(r11)):\n",
    "    bb = no_lip_train[i].split()[1].split(\",\")[0:4]\n",
    "    bb = [int(item) for item in bb]\n",
    "    GT_train.append(bb)\n",
    "for i in range(len(r1)):\n",
    "    bb = no_lip_valid[i].split()[1].split(\",\")[0:4]\n",
    "    bb = [int(item) for item in bb]\n",
    "    GT_valid.append(bb)"
   ]
  },
  {
   "cell_type": "code",
   "execution_count": 39,
   "id": "672aeec6",
   "metadata": {},
   "outputs": [],
   "source": [
    "r11 = sorted(r11)\n",
    "r1 = sorted(r1)"
   ]
  },
  {
   "cell_type": "code",
   "execution_count": 40,
   "id": "2e1bd3b1",
   "metadata": {},
   "outputs": [],
   "source": [
    "# train\n",
    "for i in range(len(r11)):\n",
    "    image, bboxes = detect_image(yolo, r11[i], \"\", input_size=YOLO_INPUT_SIZE, show=False, score_threshold=0.1, CLASSES=TRAIN_CLASSES, rectangle_colors=(255,0,0))\n",
    "    if len(bboxes) == 0 :\n",
    "        giou_ious_list_train.append([0,0])\n",
    "    else :\n",
    "        giou,ious = GIoU(np.array(GT_train[i]), bboxes[0][:4])\n",
    "        giou_ious_list_train.append([giou,ious])"
   ]
  },
  {
   "cell_type": "code",
   "execution_count": 41,
   "id": "92dcf467",
   "metadata": {},
   "outputs": [],
   "source": [
    "# validation\n",
    "for i in range(len(r1)):\n",
    "    image, bboxes = detect_image(yolo, r1[i], \"\", input_size=YOLO_INPUT_SIZE,score_threshold=0.1, show=False, CLASSES=TRAIN_CLASSES, rectangle_colors=(255,0,0))\n",
    "    if len(bboxes) == 0 :\n",
    "        giou_ious_list_valid.append([0,0])\n",
    "    else :\n",
    "        giou,ious = GIoU(np.array(GT_valid[i]), bboxes[0][:4])\n",
    "        giou_ious_list_valid.append([giou,ious])"
   ]
  },
  {
   "cell_type": "code",
   "execution_count": 45,
   "id": "2e72595f",
   "metadata": {},
   "outputs": [
    {
     "data": {
      "text/plain": [
       "0.9036362168604536"
      ]
     },
     "execution_count": 45,
     "metadata": {},
     "output_type": "execute_result"
    }
   ],
   "source": [
    "np.mean(giou_ious_list_valid)"
   ]
  },
  {
   "cell_type": "code",
   "execution_count": null,
   "id": "9a3528a2",
   "metadata": {},
   "outputs": [],
   "source": []
  }
 ],
 "metadata": {
  "kernelspec": {
   "display_name": "Python 3 (ipykernel)",
   "language": "python",
   "name": "python3"
  },
  "language_info": {
   "codemirror_mode": {
    "name": "ipython",
    "version": 3
   },
   "file_extension": ".py",
   "mimetype": "text/x-python",
   "name": "python",
   "nbconvert_exporter": "python",
   "pygments_lexer": "ipython3",
   "version": "3.8.0"
  }
 },
 "nbformat": 4,
 "nbformat_minor": 5
}
