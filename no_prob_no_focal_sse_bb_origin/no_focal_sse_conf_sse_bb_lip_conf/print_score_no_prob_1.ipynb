{
 "cells": [
  {
   "cell_type": "code",
   "execution_count": 1,
   "id": "460d91d8",
   "metadata": {},
   "outputs": [
    {
     "name": "stderr",
     "output_type": "stream",
     "text": [
      "2023-05-12 12:54:38.425624: E tensorflow/stream_executor/cuda/cuda_driver.cc:271] failed call to cuInit: CUDA_ERROR_NO_DEVICE: no CUDA-capable device is detected\n",
      "2023-05-12 12:54:38.425727: I tensorflow/stream_executor/cuda/cuda_diagnostics.cc:169] retrieving CUDA diagnostic information for host: jh-desktop\n",
      "2023-05-12 12:54:38.425744: I tensorflow/stream_executor/cuda/cuda_diagnostics.cc:176] hostname: jh-desktop\n",
      "2023-05-12 12:54:38.425978: I tensorflow/stream_executor/cuda/cuda_diagnostics.cc:200] libcuda reported version is: 470.161.3\n",
      "2023-05-12 12:54:38.426049: I tensorflow/stream_executor/cuda/cuda_diagnostics.cc:204] kernel reported version is: 470.161.3\n",
      "2023-05-12 12:54:38.426062: I tensorflow/stream_executor/cuda/cuda_diagnostics.cc:310] kernel version seems to match DSO: 470.161.3\n",
      "2023-05-12 12:54:38.426621: I tensorflow/core/platform/cpu_feature_guard.cc:151] This TensorFlow binary is optimized with oneAPI Deep Neural Network Library (oneDNN) to use the following CPU instructions in performance-critical operations:  AVX2 FMA\n",
      "To enable them in other operations, rebuild TensorFlow with the appropriate compiler flags.\n"
     ]
    }
   ],
   "source": [
    "import cv2\n",
    "import numpy as np\n",
    "import os\n",
    "import matplotlib\n",
    "import matplotlib.pyplot as plt\n",
    "%matplotlib inline  \n",
    "os.environ[\"CUDA_VISIBLE_DEVICES\"]=\"-1\"  \n",
    "import tensorflow as tf\n",
    "from glob import glob\n",
    "from yolov3.yolov4_config import Create_Yolo\n",
    "from yolov3.utils_config import load_yolo_weights, detect_image, image_preprocess, postprocess_boxes_excel, nms, draw_bbox\n",
    "from yolov3.configs_config import *\n",
    "from PIL import Image\n",
    "\n",
    "import os\n",
    "import pandas as pd\n",
    "\n",
    "if YOLO_TYPE == \"yolov4\":\n",
    "    Darknet_weights = YOLO_V4_TINY_WEIGHTS if TRAIN_YOLO_TINY else YOLO_V4_WEIGHTS\n",
    "if YOLO_TYPE == \"yolov3\":\n",
    "    Darknet_weights = YOLO_V3_TINY_WEIGHTS if TRAIN_YOLO_TINY else YOLO_V3_WEIGHTS\n",
    "\n",
    "yolo = Create_Yolo(input_size=YOLO_INPUT_SIZE)\n",
    "load_yolo_weights(yolo, Darknet_weights) # use Darknet weights"
   ]
  },
  {
   "cell_type": "code",
   "execution_count": 2,
   "id": "fe00c621",
   "metadata": {},
   "outputs": [
    {
     "data": {
      "text/plain": [
       "<tensorflow.python.training.tracking.util.CheckpointLoadStatus at 0x7f64781a6be0>"
      ]
     },
     "execution_count": 2,
     "metadata": {},
     "output_type": "execute_result"
    }
   ],
   "source": [
    "yolo = Create_Yolo(input_size=YOLO_INPUT_SIZE, CLASSES=TRAIN_CLASSES)\n",
    "yolo.load_weights(\"./checkpoints/first/yolov3_custom\") # use keras weights"
   ]
  },
  {
   "cell_type": "code",
   "execution_count": 3,
   "id": "79d2d9e7",
   "metadata": {},
   "outputs": [],
   "source": [
    "def prt_loss(image_path ,yolo):\n",
    "    input_size = 416\n",
    "    iou_threshold = 0.45\n",
    "    \n",
    "    original_image      = cv2.imread(image_path)\n",
    "    original_image      = cv2.cvtColor(original_image, cv2.COLOR_BGR2RGB)\n",
    "    original_image      = cv2.cvtColor(original_image, cv2.COLOR_BGR2RGB)\n",
    "    image_data = image_preprocess(np.copy(original_image), [input_size, input_size])\n",
    "    image_data = image_data[np.newaxis, ...].astype(np.float32)\n",
    "    pred_bbox = yolo.predict(image_data)\n",
    "    pred_bbox = [tf.reshape(x, (-1, tf.shape(x)[-1])) for x in pred_bbox]\n",
    "    pred_bbox = tf.concat(pred_bbox, axis=0)\n",
    "    bboxes, pred_coor, pred_conf  = postprocess_boxes_excel(pred_bbox, original_image, input_size, 0.0)\n",
    "#     classes = np.argmax(pred_prob, axis=-1)\n",
    "    scores = pred_conf \n",
    "    argmax_score = np.argmax(scores)\n",
    "    max_score = np.max(scores)\n",
    "    print_conf = pred_conf[argmax_score]\n",
    "    \n",
    "    return [print_conf]"
   ]
  },
  {
   "cell_type": "code",
   "execution_count": 4,
   "id": "b643f10d",
   "metadata": {},
   "outputs": [],
   "source": [
    "def GIoU(bboxes_1, bboxes_2):\n",
    "    # 1. calulate intersection over union\n",
    "    area_1 = (bboxes_1[2] - bboxes_1[0]) * (bboxes_1[3] - bboxes_1[1])\n",
    "    area_2 = (bboxes_2[2] - bboxes_2[0]) * (bboxes_2[3] - bboxes_2[1])\n",
    "    \n",
    "    intersection_wh = tf.minimum(bboxes_1[2:], bboxes_2[2:]) - tf.maximum(bboxes_1[ :2], bboxes_2[ :2])\n",
    "    intersection_wh = tf.maximum(intersection_wh, 0)\n",
    "    \n",
    "    intersection = intersection_wh[0] * intersection_wh[1]\n",
    "    union = (area_1 + area_2) - intersection\n",
    "    \n",
    "    ious = intersection / union\n",
    "    \n",
    "    # 2. (C - (A U B))/C\n",
    "    C_wh = tf.maximum(bboxes_1[2:], bboxes_2[2:]) - tf.minimum(bboxes_1[:2], bboxes_2[:2])\n",
    "    C_wh = C_wh\n",
    "    C = C_wh[0] * C_wh[1]\n",
    "\n",
    "    giou = ious - (C - union) / C\n",
    "    return giou, ious"
   ]
  },
  {
   "cell_type": "code",
   "execution_count": 5,
   "id": "339a1421",
   "metadata": {},
   "outputs": [],
   "source": [
    "r1 = glob(r\"teeth_including_lip_more/test/*.jpg\")"
   ]
  },
  {
   "cell_type": "code",
   "execution_count": 6,
   "id": "53fdefb0",
   "metadata": {},
   "outputs": [],
   "source": [
    "r11 = glob(r\"teeth_including_lip_more/train/*.jpg\")"
   ]
  },
  {
   "cell_type": "code",
   "execution_count": 7,
   "id": "827675fe",
   "metadata": {},
   "outputs": [],
   "source": [
    "r11 = sorted(r11)\n",
    "r1 = sorted(r1)"
   ]
  },
  {
   "cell_type": "code",
   "execution_count": 8,
   "id": "e6e35010",
   "metadata": {},
   "outputs": [],
   "source": [
    "r5 = glob(r\"/home/jh/Desktop/teeth/github_td/test2/*.jpg\")"
   ]
  },
  {
   "cell_type": "code",
   "execution_count": 9,
   "id": "c39272b4",
   "metadata": {},
   "outputs": [],
   "source": [
    "#modify\n",
    "coco_anomaly =  glob(r\"/home/jh/Desktop/teeth/github_td/val2017/*.jpg\")\n",
    "coco_anomaly = sorted(coco_anomaly)"
   ]
  },
  {
   "cell_type": "code",
   "execution_count": 10,
   "id": "afd3da3c",
   "metadata": {},
   "outputs": [],
   "source": [
    "anomaly_85 = glob(r\"/home/jh/Desktop/teeth/github_td/ano/*.jpg\")"
   ]
  },
  {
   "cell_type": "code",
   "execution_count": 11,
   "id": "b57c524e",
   "metadata": {},
   "outputs": [],
   "source": [
    "brace_path = r\"braces\""
   ]
  },
  {
   "cell_type": "code",
   "execution_count": 12,
   "id": "6e7af367",
   "metadata": {},
   "outputs": [],
   "source": [
    "angled_path = r\"angled\""
   ]
  },
  {
   "cell_type": "markdown",
   "id": "09fd2d74",
   "metadata": {},
   "source": [
    "### pred score save "
   ]
  },
  {
   "cell_type": "code",
   "execution_count": 13,
   "id": "c96bc7d8",
   "metadata": {},
   "outputs": [],
   "source": [
    "train_names = []\n",
    "valid_names = []\n",
    "test_names = []\n",
    "anomaly_names = []"
   ]
  },
  {
   "cell_type": "code",
   "execution_count": 14,
   "id": "0b013e3c",
   "metadata": {},
   "outputs": [],
   "source": [
    "coco_names = []\n",
    "braces_names = []\n",
    "angle_names = []"
   ]
  },
  {
   "cell_type": "code",
   "execution_count": 15,
   "id": "02495123",
   "metadata": {},
   "outputs": [],
   "source": [
    "for i in range(len(r11)):\n",
    "    train_names.append(os.path.basename(r11[i]))\n",
    "for i in range(len(r1)):\n",
    "    valid_names.append(os.path.basename(r1[i]))\n",
    "for i in range(len(r5)):\n",
    "    test_names.append(os.path.basename(r5[i]))\n",
    "for i in range(len(anomaly_85)):\n",
    "    anomaly_names.append(os.path.basename(anomaly_85[i]))"
   ]
  },
  {
   "cell_type": "code",
   "execution_count": 16,
   "id": "6a28c832",
   "metadata": {},
   "outputs": [],
   "source": [
    "for i in range(len(coco_anomaly)):\n",
    "    coco_names.append(os.path.basename(coco_anomaly[i]))\n",
    "for i in range(len(os.listdir(brace_path))):\n",
    "    braces_names.append(os.path.basename(os.listdir(brace_path)[i]))\n",
    "for i in range(len(os.listdir(angled_path))):\n",
    "    angle_names.append(os.path.basename(os.listdir(angled_path)[i]))"
   ]
  },
  {
   "cell_type": "code",
   "execution_count": 17,
   "id": "6d807667",
   "metadata": {},
   "outputs": [],
   "source": [
    "train_score = []\n",
    "valid_score = []\n",
    "test_score = []\n",
    "anomaly_score = []"
   ]
  },
  {
   "cell_type": "code",
   "execution_count": 18,
   "id": "75ac35d4",
   "metadata": {},
   "outputs": [],
   "source": [
    "coco_score = []\n",
    "braces_score = []\n",
    "angle_score = []"
   ]
  },
  {
   "cell_type": "code",
   "execution_count": 19,
   "id": "39ac6efb",
   "metadata": {},
   "outputs": [],
   "source": [
    "for i in range(len(r11)):\n",
    "    aa =prt_loss(r11[i] ,yolo)\n",
    "    train_score.append(aa)"
   ]
  },
  {
   "cell_type": "code",
   "execution_count": 20,
   "id": "2037f11f",
   "metadata": {},
   "outputs": [],
   "source": [
    "for i in range(len(r1)):\n",
    "    aa =prt_loss(r1[i] ,yolo)\n",
    "    valid_score.append(aa)"
   ]
  },
  {
   "cell_type": "code",
   "execution_count": 21,
   "id": "0c19a8a0",
   "metadata": {},
   "outputs": [
    {
     "name": "stderr",
     "output_type": "stream",
     "text": [
      "Premature end of JPEG file\n"
     ]
    }
   ],
   "source": [
    "for i in range(len(r5)):\n",
    "    aa =prt_loss(r5[i] ,yolo)\n",
    "    test_score.append(aa)"
   ]
  },
  {
   "cell_type": "code",
   "execution_count": 22,
   "id": "3ee63492",
   "metadata": {},
   "outputs": [],
   "source": [
    "for i in range(len(anomaly_85)):\n",
    "    aa =prt_loss(anomaly_85[i] ,yolo)\n",
    "    anomaly_score.append(aa)"
   ]
  },
  {
   "cell_type": "code",
   "execution_count": 23,
   "id": "16a102ca",
   "metadata": {},
   "outputs": [],
   "source": [
    "raw_training = pd.DataFrame(data=np.array(train_score), index=[train_names], columns=[\"pred_conf\"])"
   ]
  },
  {
   "cell_type": "code",
   "execution_count": 24,
   "id": "3c3f931d",
   "metadata": {},
   "outputs": [],
   "source": [
    "raw_valid = pd.DataFrame(data=np.array(valid_score), index=[valid_names], columns=[\"pred_conf\"])"
   ]
  },
  {
   "cell_type": "code",
   "execution_count": 25,
   "id": "c0f6423c",
   "metadata": {},
   "outputs": [],
   "source": [
    "raw_test = pd.DataFrame(data=np.array(test_score), index=[test_names], columns=[\"pred_conf\"])"
   ]
  },
  {
   "cell_type": "code",
   "execution_count": 26,
   "id": "fec3b54f",
   "metadata": {},
   "outputs": [],
   "source": [
    "raw_anomaly = pd.DataFrame(data=np.array(anomaly_score), index=[anomaly_names], columns=[\"pred_conf\"])"
   ]
  },
  {
   "cell_type": "code",
   "execution_count": 27,
   "id": "83d0ca92",
   "metadata": {},
   "outputs": [],
   "source": [
    "for i in range(len(coco_anomaly)):\n",
    "    aa =prt_loss(coco_anomaly[i] ,yolo)\n",
    "    coco_score.append(aa)"
   ]
  },
  {
   "cell_type": "code",
   "execution_count": 28,
   "id": "d20ba9fe",
   "metadata": {},
   "outputs": [],
   "source": [
    "for i in range(len(os.listdir(angled_path))):\n",
    "    aa =prt_loss(os.path.join(angled_path, os.listdir(angled_path)[i]) ,yolo)\n",
    "    angle_score.append(aa)"
   ]
  },
  {
   "cell_type": "code",
   "execution_count": 29,
   "id": "043c695c",
   "metadata": {},
   "outputs": [],
   "source": [
    "for i in range(len(os.listdir(brace_path))):\n",
    "    aa =prt_loss(os.path.join(brace_path, os.listdir(brace_path)[i]) ,yolo)\n",
    "    braces_score.append(aa)"
   ]
  },
  {
   "cell_type": "code",
   "execution_count": 30,
   "id": "dc988782",
   "metadata": {},
   "outputs": [],
   "source": [
    "raw_coco= pd.DataFrame(data=np.array(coco_score), index=[coco_names], columns=[\"pred_conf\"])"
   ]
  },
  {
   "cell_type": "code",
   "execution_count": 31,
   "id": "38514599",
   "metadata": {},
   "outputs": [],
   "source": [
    "raw_anlge= pd.DataFrame(data=np.array(angle_score), index=[angle_names], columns=[\"pred_conf\"])"
   ]
  },
  {
   "cell_type": "code",
   "execution_count": 32,
   "id": "a0a7ca63",
   "metadata": {},
   "outputs": [],
   "source": [
    "raw_braces= pd.DataFrame(data=np.array(braces_score), index=[braces_names], columns=[\"pred_conf\"])"
   ]
  },
  {
   "cell_type": "markdown",
   "id": "bdec9cd3",
   "metadata": {},
   "source": [
    "## GIOU(must change when change txt file)"
   ]
  },
  {
   "cell_type": "code",
   "execution_count": 33,
   "id": "0cefb9e2",
   "metadata": {},
   "outputs": [],
   "source": [
    "file = open(\"model_data/lip_more_train.txt\", \"r\")\n",
    "lip_train = file.readlines()\n",
    "file.close()\n",
    "file = open(\"model_data/lip_more_validation.txt\", \"r\")\n",
    "lip_valid = file.readlines()\n",
    "file.close()\n",
    "lip_train = sorted(lip_train)\n",
    "lip_valid = sorted(lip_valid)\n",
    "\n",
    "# file = open(\"model_data/no_lip_more_train.txt\", \"r\")\n",
    "# no_lip_train = file.readlines()\n",
    "# file.close()\n",
    "# file = open(\"model_data/no_lip_more_validation.txt\", \"r\")\n",
    "# no_lip_valid = file.readlines()\n",
    "# file.close()\n",
    "# no_lip_train = sorted(no_lip_train)\n",
    "# no_lip_valid = sorted(no_lip_valid)"
   ]
  },
  {
   "cell_type": "code",
   "execution_count": 34,
   "id": "2dedec44",
   "metadata": {},
   "outputs": [],
   "source": [
    "GT_train = []\n",
    "GT_valid = []"
   ]
  },
  {
   "cell_type": "code",
   "execution_count": 35,
   "id": "fcc0ac30",
   "metadata": {},
   "outputs": [],
   "source": [
    "giou_ious_list_train = []\n",
    "giou_ious_list_valid = []"
   ]
  },
  {
   "cell_type": "code",
   "execution_count": 36,
   "id": "8267489c",
   "metadata": {},
   "outputs": [],
   "source": [
    "#GT add\n",
    "for i in range(len(r11)):\n",
    "    bb = lip_train[i].split()[1].split(\",\")[0:4]\n",
    "    bb = [int(item) for item in bb]\n",
    "    GT_train.append(bb)\n",
    "for i in range(len(r1)):\n",
    "    bb = lip_valid[i].split()[1].split(\",\")[0:4]\n",
    "    bb = [int(item) for item in bb]\n",
    "    GT_valid.append(bb)\n",
    "\n",
    "# #GT add\n",
    "# for i in range(len(r11)):\n",
    "#     bb = no_lip_train[i].split()[1].split(\",\")[0:4]\n",
    "#     bb = [int(item) for item in bb]\n",
    "#     GT_train.append(bb)\n",
    "# for i in range(len(r1)):\n",
    "#     bb = no_lip_valid[i].split()[1].split(\",\")[0:4]\n",
    "#     bb = [int(item) for item in bb]\n",
    "#     GT_valid.append(bb)"
   ]
  },
  {
   "cell_type": "code",
   "execution_count": 37,
   "id": "5a714876",
   "metadata": {},
   "outputs": [],
   "source": [
    "# train\n",
    "for i in range(len(r11)):\n",
    "    image, bboxes = detect_image(yolo, r11[i], \"\", input_size=YOLO_INPUT_SIZE, show=False, score_threshold=0.1, CLASSES=TRAIN_CLASSES, rectangle_colors=(255,0,0))\n",
    "    if len(bboxes) == 0 :\n",
    "        giou_ious_list_train.append([0,0])\n",
    "    else :\n",
    "        giou,ious = GIoU(np.array(GT_train[i]), bboxes[0][:4])\n",
    "        giou_ious_list_train.append([giou,ious])"
   ]
  },
  {
   "cell_type": "code",
   "execution_count": 38,
   "id": "f6adcbe2",
   "metadata": {},
   "outputs": [],
   "source": [
    "# validation\n",
    "for i in range(len(r1)):\n",
    "    image, bboxes = detect_image(yolo, r1[i], \"\", input_size=YOLO_INPUT_SIZE,score_threshold=0.1, show=False, CLASSES=TRAIN_CLASSES, rectangle_colors=(255,0,0))\n",
    "    if len(bboxes) == 0 :\n",
    "        giou_ious_list_valid.append([0,0])\n",
    "    else :\n",
    "        giou,ious = GIoU(np.array(GT_valid[i]), bboxes[0][:4])\n",
    "        giou_ious_list_valid.append([giou,ious])"
   ]
  },
  {
   "cell_type": "code",
   "execution_count": 39,
   "id": "12a95160",
   "metadata": {},
   "outputs": [],
   "source": [
    "raw_training_giou = pd.DataFrame(data=np.array(giou_ious_list_train), index=[train_names], columns=[\"giou\", \"iou\"])"
   ]
  },
  {
   "cell_type": "code",
   "execution_count": 40,
   "id": "70d78918",
   "metadata": {},
   "outputs": [],
   "source": [
    "raw_valid_giou = pd.DataFrame(data=np.array(giou_ious_list_valid), index=[valid_names], columns=[\"giou\", \"iou\"])"
   ]
  },
  {
   "cell_type": "code",
   "execution_count": 41,
   "id": "c9cdb081",
   "metadata": {},
   "outputs": [],
   "source": [
    "df_training_join = pd.merge(raw_training,raw_training_giou, left_index=True, right_index = True, \n",
    "                         how =\"outer\" )"
   ]
  },
  {
   "cell_type": "code",
   "execution_count": 42,
   "id": "555c3919",
   "metadata": {},
   "outputs": [],
   "source": [
    "df_valid_join = pd.merge(raw_valid,raw_valid_giou, left_index=True, right_index = True, \n",
    "                         how =\"outer\" )"
   ]
  },
  {
   "cell_type": "code",
   "execution_count": 43,
   "id": "a8b07bfc",
   "metadata": {},
   "outputs": [
    {
     "name": "stdout",
     "output_type": "stream",
     "text": [
      "[  34  130  161  189  241  337  466  474  600  646  769  775  860  878\n",
      "  975  995 1016 1021 1076 1082 1184 1267 1275 1363 1478 1500 1528 1585\n",
      " 1685 1806 1899 1955 1981 2041 2047 2061 2363 2391 2433 2435 2556 2558\n",
      " 2612 2613 2734 2747 2824 2888 2904 2919 3005 3073 3092 3152 3171 3202\n",
      " 3342 3385 3444 3461 3556 3772 3798 3843 3890 3943 4014 4117 4297 4426\n",
      " 4551 4555 4658 4798 4843 4911]\n"
     ]
    }
   ],
   "source": [
    "#modify \n",
    "coco_anomaly =  glob(r\"/home/jh/Desktop/teeth/github_td/val2017/*.jpg\")\n",
    "coco_anomaly = sorted(coco_anomaly)\n",
    "np.random.seed(42)\n",
    "a = np.random.randint(5000, size =76)\n",
    "a = np.sort(a)\n",
    "print(a)\n",
    "anomaly_76 = [coco_anomaly[i] for i in a]\n",
    "remove_name = [os.path.basename(i) for i in anomaly_76]\n",
    "raw_coco = raw_coco.drop(remove_name)"
   ]
  },
  {
   "cell_type": "code",
   "execution_count": 44,
   "id": "543d1a27",
   "metadata": {},
   "outputs": [],
   "source": [
    "#modify\n",
    "os.mkdir(\"./infer_1\")\n",
    "xlxs_dir='./infer_1/___final.xlsx' #경로 및 파일명 설정\n",
    "with pd.ExcelWriter(xlxs_dir) as writer:\n",
    "    df_training_join.to_excel(writer, sheet_name = 'training_data') #raw_data1 시트에 저장\n",
    "    df_valid_join.to_excel(writer, sheet_name = 'valid_data') #raw_data2 시트에 저장\n",
    "    raw_test.to_excel(writer, sheet_name = 'test_data') #raw_data2 시트에 저장\n",
    "    raw_anomaly.to_excel(writer, sheet_name = 'anomaly_data') #raw_data2 시트에 저장\n",
    "    raw_coco.to_excel(writer, sheet_name = 'coco_data') #raw_data1 시트에 저장\n",
    "    raw_anlge.to_excel(writer, sheet_name = 'angle_data') #raw_data2 시트에 저장\n",
    "    raw_braces.to_excel(writer, sheet_name = 'braces_data') #raw_data2 시트에 저장"
   ]
  },
  {
   "cell_type": "markdown",
   "id": "44c0b255",
   "metadata": {},
   "source": [
    "#  test2 replace old_test_set"
   ]
  },
  {
   "cell_type": "code",
   "execution_count": 45,
   "id": "fc284f56",
   "metadata": {},
   "outputs": [],
   "source": [
    "import pandas as pd\n",
    "import numpy as np\n",
    "from sklearn import metrics\n",
    "import matplotlib.pyplot as plt\n",
    "from glob import glob\n",
    "import os"
   ]
  },
  {
   "cell_type": "markdown",
   "id": "858a1075",
   "metadata": {},
   "source": [
    "remove overlab"
   ]
  },
  {
   "cell_type": "markdown",
   "id": "bb28687f",
   "metadata": {},
   "source": [
    "# AUC 계산"
   ]
  },
  {
   "cell_type": "code",
   "execution_count": 46,
   "id": "128b5771",
   "metadata": {},
   "outputs": [],
   "source": [
    "test_df = pd.read_excel(xlxs_dir, sheet_name=\"test_data\", engine='openpyxl')\n",
    "coco_df = pd.read_excel(xlxs_dir, sheet_name=\"coco_data\", engine='openpyxl')\n",
    "angle_df = pd.read_excel(xlxs_dir, sheet_name=\"angle_data\", engine='openpyxl')\n",
    "braces_df = pd.read_excel(xlxs_dir, sheet_name=\"braces_data\", engine='openpyxl')"
   ]
  },
  {
   "cell_type": "code",
   "execution_count": 47,
   "id": "6e1cb334",
   "metadata": {},
   "outputs": [],
   "source": [
    "test_pred_score = [i for i in test_df[\"pred_conf\"]]\n",
    "coco_pred_score=  [i for i in coco_df[\"pred_conf\"]]\n",
    "angle_pred_score =  [i for i in angle_df[\"pred_conf\"]]\n",
    "braces_pred_score =  [i for i in braces_df[\"pred_conf\"]]"
   ]
  },
  {
   "cell_type": "code",
   "execution_count": 48,
   "id": "e0cd0b91",
   "metadata": {},
   "outputs": [],
   "source": [
    "y = [1]*len(test_pred_score)  + [0]*len(coco_pred_score)+ [0]*len(angle_pred_score) +[1]*len(braces_pred_score)"
   ]
  },
  {
   "cell_type": "code",
   "execution_count": 49,
   "id": "cfb78415",
   "metadata": {},
   "outputs": [],
   "source": [
    "pred = np.array(test_pred_score +coco_pred_score +angle_pred_score+braces_pred_score)"
   ]
  },
  {
   "cell_type": "code",
   "execution_count": 50,
   "id": "9c9eb38f",
   "metadata": {},
   "outputs": [],
   "source": [
    "fpr, tpr, thresholds = metrics.roc_curve(y, pred)\n",
    "roc_auc = metrics.auc(fpr, tpr)"
   ]
  },
  {
   "cell_type": "code",
   "execution_count": 51,
   "id": "b736e373",
   "metadata": {},
   "outputs": [
    {
     "name": "stdout",
     "output_type": "stream",
     "text": [
      "0.9923527920583336\n"
     ]
    }
   ],
   "source": [
    "print(roc_auc)"
   ]
  },
  {
   "cell_type": "code",
   "execution_count": 52,
   "id": "27d8d5f6",
   "metadata": {},
   "outputs": [
    {
     "data": {
      "image/png": "[encoded data removed]",
      "text/plain": [
       "<Figure size 432x288 with 1 Axes>"
      ]
     },
     "metadata": {
      "needs_background": "light"
     },
     "output_type": "display_data"
    }
   ],
   "source": [
    "plt.figure()\n",
    "lw = 2\n",
    "plt.plot(\n",
    "    fpr,\n",
    "    tpr,\n",
    "    color=\"darkorange\",\n",
    "    lw=lw,\n",
    "    label=\"ROC curve (area = %0.2f)\" % roc_auc,\n",
    ")\n",
    "plt.plot([0, 1], [0, 1], color=\"navy\", lw=lw, linestyle=\"--\")\n",
    "plt.xlim([0.0, 1.0])\n",
    "plt.ylim([0.0, 1.05])\n",
    "plt.xlabel(\"False Positive Rate\")\n",
    "plt.ylabel(\"True Positive Rate\")\n",
    "plt.title(\"Receiver operating characteristic example\")\n",
    "plt.legend(loc=\"lower right\")\n",
    "plt.show()"
   ]
  },
  {
   "cell_type": "code",
   "execution_count": 53,
   "id": "fbb83132",
   "metadata": {},
   "outputs": [],
   "source": [
    "for i in range(len(pred)):\n",
    "    if pred[i]>0.8 :\n",
    "        pred[i]=1\n",
    "    else:\n",
    "        pred[i]=0"
   ]
  },
  {
   "cell_type": "code",
   "execution_count": 54,
   "id": "2e16f59a",
   "metadata": {},
   "outputs": [
    {
     "data": {
      "text/plain": [
       "(4257, 682, 48, 4975)"
      ]
     },
     "execution_count": 54,
     "metadata": {},
     "output_type": "execute_result"
    }
   ],
   "source": [
    "tn, fp, fn, tp = metrics.confusion_matrix(y, pred).ravel()\n",
    "(tn, fp, fn, tp)"
   ]
  },
  {
   "cell_type": "code",
   "execution_count": 55,
   "id": "1db414ba",
   "metadata": {},
   "outputs": [
    {
     "data": {
      "image/png": "[encoded data removed]",
      "text/plain": [
       "<Figure size 432x288 with 2 Axes>"
      ]
     },
     "metadata": {
      "needs_background": "light"
     },
     "output_type": "display_data"
    }
   ],
   "source": [
    "#modify\n",
    "import seaborn as sns\n",
    "cf_matrix = metrics.confusion_matrix(y, pred)\n",
    "group_names = [\"True Neg\",\"False Pos\",\"False Neg\",\"True Pos\"]\n",
    "group_counts = [\"{0:0.0f}\".format(value) for value in\n",
    "                cf_matrix.flatten()]\n",
    "# group_percentages = [“{0:.2%}”.format(value) for value in\n",
    "#                      cf_matrix.flatten()/np.sum(cf_matrix)]\n",
    "labels = [f\"{v1}\\n{v2}\" for v1, v2  in zip(group_names,group_counts)]\n",
    "labels = np.asarray(labels).reshape(2,2)\n",
    "sns.heatmap(cf_matrix, annot=labels, fmt=\"\", cmap='Blues')\n",
    "plt.savefig(\"./infer_1/confusion_matrix.jpg\",bbox_inches = \"tight\")"
   ]
  },
  {
   "cell_type": "code",
   "execution_count": null,
   "id": "3d1768b5",
   "metadata": {},
   "outputs": [],
   "source": []
  }
 ],
 "metadata": {
  "kernelspec": {
   "display_name": "Python 3 (ipykernel)",
   "language": "python",
   "name": "python3"
  },
  "language_info": {
   "codemirror_mode": {
    "name": "ipython",
    "version": 3
   },
   "file_extension": ".py",
   "mimetype": "text/x-python",
   "name": "python",
   "nbconvert_exporter": "python",
   "pygments_lexer": "ipython3",
   "version": "3.8.0"
  }
 },
 "nbformat": 4,
 "nbformat_minor": 5
}
