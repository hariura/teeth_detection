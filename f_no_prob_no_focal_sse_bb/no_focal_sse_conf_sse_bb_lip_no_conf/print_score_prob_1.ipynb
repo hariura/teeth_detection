{
 "cells": [
  {
   "cell_type": "code",
   "execution_count": 1,
   "id": "5746161a",
   "metadata": {},
   "outputs": [
    {
     "name": "stderr",
     "output_type": "stream",
     "text": [
      "2023-03-22 10:08:46.993879: E tensorflow/stream_executor/cuda/cuda_driver.cc:271] failed call to cuInit: CUDA_ERROR_NO_DEVICE: no CUDA-capable device is detected\n",
      "2023-03-22 10:08:46.993909: I tensorflow/stream_executor/cuda/cuda_diagnostics.cc:169] retrieving CUDA diagnostic information for host: jh-desktop\n",
      "2023-03-22 10:08:46.993913: I tensorflow/stream_executor/cuda/cuda_diagnostics.cc:176] hostname: jh-desktop\n",
      "2023-03-22 10:08:46.994013: I tensorflow/stream_executor/cuda/cuda_diagnostics.cc:200] libcuda reported version is: 470.161.3\n",
      "2023-03-22 10:08:46.994030: I tensorflow/stream_executor/cuda/cuda_diagnostics.cc:204] kernel reported version is: 470.161.3\n",
      "2023-03-22 10:08:46.994032: I tensorflow/stream_executor/cuda/cuda_diagnostics.cc:310] kernel version seems to match DSO: 470.161.3\n",
      "2023-03-22 10:08:46.994205: I tensorflow/core/platform/cpu_feature_guard.cc:151] This TensorFlow binary is optimized with oneAPI Deep Neural Network Library (oneDNN) to use the following CPU instructions in performance-critical operations:  AVX2 FMA\n",
      "To enable them in other operations, rebuild TensorFlow with the appropriate compiler flags.\n"
     ]
    }
   ],
   "source": [
    "import cv2\n",
    "import numpy as np\n",
    "import os\n",
    "import matplotlib\n",
    "import matplotlib.pyplot as plt\n",
    "%matplotlib inline  \n",
    "os.environ[\"CUDA_VISIBLE_DEVICES\"]=\"-1\"  \n",
    "import tensorflow as tf\n",
    "from glob import glob\n",
    "from yolov3.yolov4_config import Create_Yolo\n",
    "from yolov3.utils_config import load_yolo_weights, detect_image, image_preprocess, postprocess_boxes_excel, nms, draw_bbox\n",
    "from yolov3.configs_config import *\n",
    "from PIL import Image\n",
    "\n",
    "import os\n",
    "import pandas as pd\n",
    "\n",
    "if YOLO_TYPE == \"yolov4\":\n",
    "    Darknet_weights = YOLO_V4_TINY_WEIGHTS if TRAIN_YOLO_TINY else YOLO_V4_WEIGHTS\n",
    "if YOLO_TYPE == \"yolov3\":\n",
    "    Darknet_weights = YOLO_V3_TINY_WEIGHTS if TRAIN_YOLO_TINY else YOLO_V3_WEIGHTS\n",
    "\n",
    "yolo = Create_Yolo(input_size=YOLO_INPUT_SIZE)\n",
    "load_yolo_weights(yolo, Darknet_weights) # use Darknet weights"
   ]
  },
  {
   "cell_type": "code",
   "execution_count": 2,
   "id": "a91c03f3",
   "metadata": {},
   "outputs": [
    {
     "data": {
      "text/plain": [
       "<tensorflow.python.training.tracking.util.CheckpointLoadStatus at 0x7f2ad44a00d0>"
      ]
     },
     "execution_count": 2,
     "metadata": {},
     "output_type": "execute_result"
    }
   ],
   "source": [
    "yolo = Create_Yolo(input_size=YOLO_INPUT_SIZE, CLASSES=TRAIN_CLASSES)\n",
    "yolo.load_weights(\"./checkpoints/first/yolov3_custom\") # use keras weights"
   ]
  },
  {
   "cell_type": "code",
   "execution_count": 3,
   "id": "b5ba2685",
   "metadata": {},
   "outputs": [],
   "source": [
    "def prt_loss(image_path ,yolo):\n",
    "    input_size = 416\n",
    "    iou_threshold = 0.45\n",
    "    \n",
    "    original_image      = cv2.imread(image_path)\n",
    "    original_image      = cv2.cvtColor(original_image, cv2.COLOR_BGR2RGB)\n",
    "    original_image      = cv2.cvtColor(original_image, cv2.COLOR_BGR2RGB)\n",
    "    image_data = image_preprocess(np.copy(original_image), [input_size, input_size])\n",
    "    image_data = image_data[np.newaxis, ...].astype(np.float32)\n",
    "    pred_bbox = yolo.predict(image_data)\n",
    "    pred_bbox = [tf.reshape(x, (-1, tf.shape(x)[-1])) for x in pred_bbox]\n",
    "    pred_bbox = tf.concat(pred_bbox, axis=0)\n",
    "    bboxes, pred_coor, pred_conf, pred_prob  = postprocess_boxes_excel(pred_bbox, original_image, input_size, 0.0)\n",
    "    classes = np.argmax(pred_prob, axis=-1)\n",
    "    scores = pred_conf * pred_prob[np.arange(len(pred_coor)), classes]\n",
    "    argmax_score = np.argmax(scores)\n",
    "    max_score = np.max(scores)\n",
    "    print_conf, print_prob = pred_conf[argmax_score], pred_prob[argmax_score]\n",
    "    \n",
    "    return [max_score, print_conf, print_prob]"
   ]
  },
  {
   "cell_type": "code",
   "execution_count": 4,
   "id": "04b6c46a",
   "metadata": {},
   "outputs": [],
   "source": [
    "def GIoU(bboxes_1, bboxes_2):\n",
    "    # 1. calulate intersection over union\n",
    "    area_1 = (bboxes_1[2] - bboxes_1[0]) * (bboxes_1[3] - bboxes_1[1])\n",
    "    area_2 = (bboxes_2[2] - bboxes_2[0]) * (bboxes_2[3] - bboxes_2[1])\n",
    "    \n",
    "    intersection_wh = tf.minimum(bboxes_1[2:], bboxes_2[2:]) - tf.maximum(bboxes_1[ :2], bboxes_2[ :2])\n",
    "    intersection_wh = tf.maximum(intersection_wh, 0)\n",
    "    \n",
    "    intersection = intersection_wh[0] * intersection_wh[1]\n",
    "    union = (area_1 + area_2) - intersection\n",
    "    \n",
    "    ious = intersection / union\n",
    "    \n",
    "    # 2. (C - (A U B))/C\n",
    "    C_wh = tf.maximum(bboxes_1[2:], bboxes_2[2:]) - tf.minimum(bboxes_1[:2], bboxes_2[:2])\n",
    "    C_wh = C_wh\n",
    "    C = C_wh[0] * C_wh[1]\n",
    "\n",
    "    giou = ious - (C - union) / C\n",
    "    return giou, ious"
   ]
  },
  {
   "cell_type": "code",
   "execution_count": 5,
   "id": "d139c6f9",
   "metadata": {},
   "outputs": [],
   "source": [
    "r1 = glob(r\"teeth_including_lip_more/test/*.jpg\")"
   ]
  },
  {
   "cell_type": "code",
   "execution_count": 6,
   "id": "a6c8a42c",
   "metadata": {},
   "outputs": [],
   "source": [
    "r11 = glob(r\"teeth_including_lip_more/train/*.jpg\")"
   ]
  },
  {
   "cell_type": "code",
   "execution_count": 7,
   "id": "4aa283f8",
   "metadata": {},
   "outputs": [],
   "source": [
    "r5 = glob(r\"/home/jh/Desktop/teeth/github_td/test2/*.jpg\")"
   ]
  },
  {
   "cell_type": "code",
   "execution_count": 8,
   "id": "53212ea9",
   "metadata": {},
   "outputs": [
    {
     "name": "stdout",
     "output_type": "stream",
     "text": [
      "[  34  130  161  189  241  337  466  474  600  646  769  775  860  878\n",
      "  975  995 1016 1021 1076 1082 1184 1267 1275 1363 1478 1500 1528 1585\n",
      " 1685 1806 1899 1955 1981 2041 2047 2061 2363 2391 2433 2435 2556 2558\n",
      " 2612 2613 2734 2747 2824 2888 2904 2919 3005 3073 3092 3152 3171 3202\n",
      " 3342 3385 3444 3461 3556 3772 3798 3843 3890 3943 4014 4117 4297 4426\n",
      " 4551 4555 4658 4798 4843 4911]\n"
     ]
    }
   ],
   "source": [
    "coco_anomaly =  glob(r\"/home/jh/Desktop/teeth/github_td/val2017/*.jpg\")\n",
    "np.random.seed(42)\n",
    "a = np.random.randint(5000, size =76)\n",
    "a = np.sort(a)\n",
    "print(a)\n",
    "anomaly_76 = [coco_anomaly[i] for i in a]"
   ]
  },
  {
   "cell_type": "code",
   "execution_count": 9,
   "id": "ddec225d",
   "metadata": {},
   "outputs": [],
   "source": [
    "anomaly_85 = glob(r\"/home/jh/Desktop/teeth/github_td/ano/*.jpg\")"
   ]
  },
  {
   "cell_type": "code",
   "execution_count": 10,
   "id": "c920ca07",
   "metadata": {},
   "outputs": [],
   "source": [
    "brace_path = r\"braces\""
   ]
  },
  {
   "cell_type": "code",
   "execution_count": 11,
   "id": "cb202ba8",
   "metadata": {},
   "outputs": [],
   "source": [
    "angled_path = r\"angled\""
   ]
  },
  {
   "cell_type": "markdown",
   "id": "f68afb01",
   "metadata": {},
   "source": [
    "### pred score save "
   ]
  },
  {
   "cell_type": "code",
   "execution_count": 12,
   "id": "7bb63865",
   "metadata": {},
   "outputs": [],
   "source": [
    "train_names = []\n",
    "valid_names = []\n",
    "test_names = []\n",
    "anomaly_names = []"
   ]
  },
  {
   "cell_type": "code",
   "execution_count": 13,
   "id": "2cc93775",
   "metadata": {},
   "outputs": [],
   "source": [
    "coco_names = []\n",
    "braces_names = []\n",
    "angle_names = []"
   ]
  },
  {
   "cell_type": "code",
   "execution_count": 14,
   "id": "ce152975",
   "metadata": {},
   "outputs": [],
   "source": [
    "for i in range(len(r11)):\n",
    "    train_names.append(os.path.basename(r11[i]))\n",
    "for i in range(len(r1)):\n",
    "    valid_names.append(os.path.basename(r1[i]))\n",
    "for i in range(len(r5)):\n",
    "    test_names.append(os.path.basename(r5[i]))\n",
    "for i in range(len(anomaly_85)):\n",
    "    anomaly_names.append(os.path.basename(anomaly_85[i]))"
   ]
  },
  {
   "cell_type": "code",
   "execution_count": 15,
   "id": "46e56eea",
   "metadata": {},
   "outputs": [],
   "source": [
    "for i in range(len(coco_anomaly)):\n",
    "    coco_names.append(os.path.basename(coco_anomaly[i]))\n",
    "for i in range(len(os.listdir(brace_path))):\n",
    "    braces_names.append(os.path.basename(os.listdir(brace_path)[i]))\n",
    "for i in range(len(os.listdir(angled_path))):\n",
    "    angle_names.append(os.path.basename(os.listdir(angled_path)[i]))"
   ]
  },
  {
   "cell_type": "code",
   "execution_count": 16,
   "id": "a60fceb3",
   "metadata": {},
   "outputs": [],
   "source": [
    "train_score = []\n",
    "valid_score = []\n",
    "test_score = []\n",
    "anomaly_score = []"
   ]
  },
  {
   "cell_type": "code",
   "execution_count": 17,
   "id": "15aecaa0",
   "metadata": {},
   "outputs": [],
   "source": [
    "coco_score = []\n",
    "braces_score = []\n",
    "angle_score = []"
   ]
  },
  {
   "cell_type": "code",
   "execution_count": 18,
   "id": "ff893f97",
   "metadata": {},
   "outputs": [],
   "source": [
    "for i in range(len(r11)):\n",
    "    aa =prt_loss(r11[i] ,yolo)\n",
    "    train_score.append(aa)"
   ]
  },
  {
   "cell_type": "code",
   "execution_count": 19,
   "id": "46eb4ba6",
   "metadata": {},
   "outputs": [
    {
     "data": {
      "text/plain": [
       "[[0.40570685, 0.97700095, array([0.41525736], dtype=float32)],\n",
       " [0.3654302, 0.97230434, array([0.37583932], dtype=float32)],\n",
       " [0.33166206, 0.99931324, array([0.33189], dtype=float32)],\n",
       " [0.361921, 0.94399905, array([0.3833913], dtype=float32)],\n",
       " [0.31432852, 0.9212034, array([0.34121513], dtype=float32)],\n",
       " [0.3196057, 0.9978978, array([0.320279], dtype=float32)],\n",
       " [0.4081739, 0.9768235, array([0.4178584], dtype=float32)],\n",
       " [0.37950802, 0.9845582, array([0.3854602], dtype=float32)],\n",
       " [0.38718548, 0.9980839, array([0.38792878], dtype=float32)],\n",
       " [0.3654757, 0.8477637, array([0.43110564], dtype=float32)],\n",
       " [0.3707328, 0.9932926, array([0.37323624], dtype=float32)],\n",
       " [0.3520903, 0.9470414, array([0.3717792], dtype=float32)],\n",
       " [0.32954732, 0.99982035, array([0.32960653], dtype=float32)],\n",
       " [0.4083105, 0.94907856, array([0.4302178], dtype=float32)],\n",
       " [0.35958773, 0.9853754, array([0.3649246], dtype=float32)],\n",
       " [0.34578758, 0.986101, array([0.35066143], dtype=float32)],\n",
       " [0.39001063, 0.99037325, array([0.39380166], dtype=float32)],\n",
       " [0.34722763, 0.9985444, array([0.3477338], dtype=float32)],\n",
       " [0.4073175, 0.9989727, array([0.40773636], dtype=float32)],\n",
       " [0.38184416, 0.9364497, array([0.40775725], dtype=float32)],\n",
       " [0.3614552, 0.9975959, array([0.36232626], dtype=float32)],\n",
       " [0.3984354, 0.9642503, array([0.41320744], dtype=float32)],\n",
       " [0.34062922, 0.89697033, array([0.3797553], dtype=float32)],\n",
       " [0.32774732, 0.99968076, array([0.32785198], dtype=float32)],\n",
       " [0.40023276, 0.938425, array([0.42649412], dtype=float32)],\n",
       " [0.37354982, 0.96755147, array([0.38607746], dtype=float32)],\n",
       " [0.34703442, 0.9994836, array([0.34721375], dtype=float32)],\n",
       " [0.39364, 0.95092005, array([0.413957], dtype=float32)],\n",
       " [0.3678748, 0.9966625, array([0.3691067], dtype=float32)],\n",
       " [0.37661383, 0.9625292, array([0.39127523], dtype=float32)],\n",
       " [0.32967424, 0.9949259, array([0.33135557], dtype=float32)],\n",
       " [0.39064223, 0.93792063, array([0.41649815], dtype=float32)],\n",
       " [0.38346586, 0.97397006, array([0.39371422], dtype=float32)],\n",
       " [0.34722808, 0.998399, array([0.34778488], dtype=float32)],\n",
       " [0.3846631, 0.87210935, array([0.4410721], dtype=float32)],\n",
       " [0.3691463, 0.99075425, array([0.37259117], dtype=float32)],\n",
       " [0.37128234, 0.99940646, array([0.37150285], dtype=float32)],\n",
       " [0.3819661, 0.981568, array([0.38913873], dtype=float32)],\n",
       " [0.3695078, 0.8986182, array([0.41119552], dtype=float32)],\n",
       " [0.33010033, 0.9999701, array([0.3301102], dtype=float32)],\n",
       " [0.39689368, 0.98706573, array([0.40209448], dtype=float32)],\n",
       " [0.35837525, 0.99158144, array([0.36141786], dtype=float32)],\n",
       " [0.3044143, 0.99998933, array([0.30441755], dtype=float32)],\n",
       " [0.3756313, 0.9944902, array([0.37771243], dtype=float32)],\n",
       " [0.329721, 0.86767524, array([0.3800051], dtype=float32)],\n",
       " [0.3383106, 0.9840256, array([0.34380263], dtype=float32)],\n",
       " [0.38055977, 0.9770586, array([0.38949534], dtype=float32)],\n",
       " [0.3821984, 0.97626233, array([0.3914915], dtype=float32)],\n",
       " [0.3847614, 0.97092366, array([0.39628386], dtype=float32)],\n",
       " [0.38882113, 0.9245358, array([0.4205582], dtype=float32)],\n",
       " [0.38021362, 0.93658656, array([0.40595675], dtype=float32)],\n",
       " [0.36990973, 0.9910846, array([0.3732373], dtype=float32)],\n",
       " [0.39139053, 0.9733713, array([0.40209785], dtype=float32)],\n",
       " [0.34701848, 0.921646, array([0.37652037], dtype=float32)],\n",
       " [0.3252775, 0.99951607, array([0.32543498], dtype=float32)],\n",
       " [0.3511599, 0.994571, array([0.35307676], dtype=float32)],\n",
       " [0.39822868, 0.9169545, array([0.4342949], dtype=float32)],\n",
       " [0.3568554, 0.9999213, array([0.35688347], dtype=float32)],\n",
       " [0.3936766, 0.9841507, array([0.40001658], dtype=float32)],\n",
       " [0.3997915, 0.9427339, array([0.42407674], dtype=float32)],\n",
       " [0.39440444, 0.9787698, array([0.40295935], dtype=float32)],\n",
       " [0.34374508, 0.9968685, array([0.3448249], dtype=float32)],\n",
       " [0.3642836, 0.9856563, array([0.3695848], dtype=float32)],\n",
       " [0.32901222, 0.8225745, array([0.3999786], dtype=float32)],\n",
       " [0.3329443, 0.9380369, array([0.35493731], dtype=float32)],\n",
       " [0.39247993, 0.95328987, array([0.411711], dtype=float32)],\n",
       " [0.39359066, 0.99218255, array([0.39669177], dtype=float32)],\n",
       " [0.41229567, 0.9814569, array([0.42008537], dtype=float32)],\n",
       " [0.3523046, 0.9959971, array([0.35372052], dtype=float32)],\n",
       " [0.3770243, 0.9712751, array([0.38817456], dtype=float32)],\n",
       " [0.33803403, 0.98358667, array([0.3436749], dtype=float32)],\n",
       " [0.3887971, 0.9618482, array([0.4042188], dtype=float32)],\n",
       " [0.38169867, 0.8512987, array([0.4483722], dtype=float32)],\n",
       " [0.33650732, 0.9960466, array([0.33784294], dtype=float32)],\n",
       " [0.3732905, 0.9978876, array([0.37408072], dtype=float32)],\n",
       " [0.3133218, 0.9999166, array([0.31334794], dtype=float32)],\n",
       " [0.32132107, 0.9998816, array([0.3213591], dtype=float32)],\n",
       " [0.391191, 0.99791676, array([0.39200765], dtype=float32)],\n",
       " [0.35749492, 0.9768733, array([0.36595833], dtype=float32)],\n",
       " [0.36303586, 0.97051644, array([0.37406462], dtype=float32)],\n",
       " [0.39017567, 0.99003196, array([0.39410412], dtype=float32)],\n",
       " [0.35480392, 0.98921084, array([0.3586737], dtype=float32)],\n",
       " [0.3643054, 0.9703896, array([0.3754218], dtype=float32)],\n",
       " [0.36090758, 0.9826138, array([0.36729342], dtype=float32)],\n",
       " [0.3441949, 0.99753416, array([0.34504572], dtype=float32)],\n",
       " [0.37480742, 0.9455955, array([0.3963718], dtype=float32)],\n",
       " [0.38450962, 0.99927264, array([0.3847895], dtype=float32)],\n",
       " [0.37887487, 0.95104706, array([0.39837658], dtype=float32)],\n",
       " [0.3627934, 0.9661417, array([0.3755074], dtype=float32)],\n",
       " [0.3528714, 0.8990104, array([0.3925109], dtype=float32)],\n",
       " [0.39819458, 0.9974358, array([0.39921826], dtype=float32)],\n",
       " [0.34431314, 0.98631096, array([0.3490919], dtype=float32)],\n",
       " [0.3726461, 0.86758506, array([0.4295211], dtype=float32)],\n",
       " [0.30561107, 0.85542464, array([0.35726243], dtype=float32)],\n",
       " [0.37816665, 0.9911357, array([0.3815488], dtype=float32)],\n",
       " [0.3563399, 0.99716353, array([0.3573535], dtype=float32)],\n",
       " [0.34582892, 0.99986196, array([0.34587666], dtype=float32)],\n",
       " [0.35625443, 0.9892217, array([0.3601361], dtype=float32)],\n",
       " [0.40932682, 0.9520122, array([0.42995965], dtype=float32)],\n",
       " [0.31124234, 0.9997709, array([0.31131366], dtype=float32)],\n",
       " [0.36754075, 0.95102954, array([0.38646618], dtype=float32)],\n",
       " [0.34844807, 0.9533046, array([0.36551598], dtype=float32)],\n",
       " [0.36733645, 0.94086385, array([0.39042467], dtype=float32)],\n",
       " [0.36766884, 0.99224114, array([0.37054384], dtype=float32)],\n",
       " [0.37022144, 0.9995727, array([0.37037972], dtype=float32)],\n",
       " [0.34101307, 0.98831695, array([0.34504426], dtype=float32)],\n",
       " [0.37970954, 0.9963968, array([0.38108265], dtype=float32)],\n",
       " [0.3548472, 0.9576776, array([0.37052888], dtype=float32)],\n",
       " [0.39542162, 0.94833684, array([0.41696328], dtype=float32)],\n",
       " [0.38118756, 0.9766065, array([0.39031848], dtype=float32)],\n",
       " [0.37050927, 0.9922123, array([0.37341732], dtype=float32)],\n",
       " [0.37584692, 0.9955552, array([0.37752494], dtype=float32)],\n",
       " [0.33859983, 0.9742723, array([0.34754127], dtype=float32)],\n",
       " [0.37872502, 0.98089755, array([0.3861005], dtype=float32)],\n",
       " [0.34848842, 0.9992022, array([0.34876665], dtype=float32)],\n",
       " [0.3720366, 0.9932246, array([0.37457448], dtype=float32)],\n",
       " [0.3471941, 0.9984014, array([0.34775], dtype=float32)],\n",
       " [0.3605559, 0.9959814, array([0.36201066], dtype=float32)],\n",
       " [0.3524758, 0.98921, array([0.3563205], dtype=float32)],\n",
       " [0.38124186, 0.9732897, array([0.39170438], dtype=float32)],\n",
       " [0.35363317, 0.9998938, array([0.35367072], dtype=float32)],\n",
       " [0.3333245, 0.9984658, array([0.33383667], dtype=float32)],\n",
       " [0.3824771, 0.9787284, array([0.39078984], dtype=float32)],\n",
       " [0.35647202, 0.9993173, array([0.35671556], dtype=float32)],\n",
       " [0.4077802, 0.96367884, array([0.42314947], dtype=float32)],\n",
       " [0.35484546, 0.9899143, array([0.35846078], dtype=float32)],\n",
       " [0.35099205, 0.99180716, array([0.35389143], dtype=float32)],\n",
       " [0.35236573, 0.943624, array([0.3734175], dtype=float32)],\n",
       " [0.3796995, 0.8491276, array([0.44716424], dtype=float32)],\n",
       " [0.38991323, 0.9592943, array([0.4064584], dtype=float32)],\n",
       " [0.40681103, 0.9536762, array([0.42657143], dtype=float32)],\n",
       " [0.3789234, 0.94588715, array([0.40060106], dtype=float32)],\n",
       " [0.30354542, 0.9999696, array([0.30355465], dtype=float32)],\n",
       " [0.38039327, 0.9652554, array([0.39408562], dtype=float32)],\n",
       " [0.3912353, 0.94897926, array([0.4122696], dtype=float32)],\n",
       " [0.30787322, 0.99996257, array([0.30788475], dtype=float32)],\n",
       " [0.3678245, 0.93332386, array([0.39410168], dtype=float32)],\n",
       " [0.41369513, 0.9781779, array([0.42292422], dtype=float32)],\n",
       " [0.33098978, 0.9995759, array([0.3311302], dtype=float32)],\n",
       " [0.38257074, 0.92549485, array([0.41336885], dtype=float32)],\n",
       " [0.4050878, 0.93043923, array([0.43537265], dtype=float32)],\n",
       " [0.3500125, 0.86173713, array([0.40617087], dtype=float32)],\n",
       " [0.32785344, 0.99963963, array([0.32797164], dtype=float32)],\n",
       " [0.311755, 0.77304494, array([0.40328187], dtype=float32)],\n",
       " [0.3744149, 0.9876442, array([0.37909895], dtype=float32)],\n",
       " [0.35339493, 0.95507896, array([0.37001646], dtype=float32)],\n",
       " [0.35498476, 0.9800626, array([0.36220622], dtype=float32)],\n",
       " [0.41354522, 0.979014, array([0.42240992], dtype=float32)],\n",
       " [0.37535456, 0.8941147, array([0.41980582], dtype=float32)],\n",
       " [0.390111, 0.8789372, array([0.443844], dtype=float32)],\n",
       " [0.39624918, 0.92202973, array([0.42975748], dtype=float32)],\n",
       " [0.36322847, 0.9611659, array([0.37790403], dtype=float32)],\n",
       " [0.39542598, 0.9834968, array([0.40206128], dtype=float32)],\n",
       " [0.3706753, 0.9972661, array([0.37169147], dtype=float32)],\n",
       " [0.35867283, 0.9876791, array([0.3631471], dtype=float32)],\n",
       " [0.40562022, 0.9771105, array([0.41512215], dtype=float32)],\n",
       " [0.35202888, 0.9776783, array([0.36006618], dtype=float32)],\n",
       " [0.35881293, 0.99518895, array([0.36054754], dtype=float32)],\n",
       " [0.39236802, 0.98831415, array([0.39700738], dtype=float32)],\n",
       " [0.31611493, 0.90959144, array([0.34753507], dtype=float32)],\n",
       " [0.3594844, 0.9256314, array([0.3883667], dtype=float32)],\n",
       " [0.3754953, 0.86388993, array([0.43465644], dtype=float32)],\n",
       " [0.4029412, 0.91032803, array([0.44263297], dtype=float32)],\n",
       " [0.3786663, 0.98662496, array([0.38379964], dtype=float32)],\n",
       " [0.3727959, 0.95925367, array([0.3886312], dtype=float32)],\n",
       " [0.33123356, 0.94216883, array([0.35156497], dtype=float32)],\n",
       " [0.37434232, 0.98296493, array([0.38082978], dtype=float32)],\n",
       " [0.36803398, 0.9976629, array([0.36889613], dtype=float32)],\n",
       " [0.38870823, 0.8690197, array([0.4472951], dtype=float32)],\n",
       " [0.39556673, 0.9316931, array([0.42456764], dtype=float32)],\n",
       " [0.37417695, 0.9553113, array([0.39168066], dtype=float32)],\n",
       " [0.3257971, 0.9819987, array([0.3317694], dtype=float32)],\n",
       " [0.405216, 0.96743435, array([0.41885635], dtype=float32)],\n",
       " [0.3698085, 0.9956461, array([0.37142563], dtype=float32)],\n",
       " [0.36597714, 0.99437594, array([0.36804706], dtype=float32)],\n",
       " [0.34489885, 0.9956695, array([0.34639895], dtype=float32)],\n",
       " [0.4009887, 0.9796922, array([0.40930068], dtype=float32)],\n",
       " [0.38961747, 0.91428477, array([0.42614454], dtype=float32)],\n",
       " [0.3640032, 0.97351336, array([0.37390673], dtype=float32)],\n",
       " [0.3698792, 0.9905209, array([0.37341887], dtype=float32)],\n",
       " [0.3748942, 0.9918331, array([0.37798113], dtype=float32)],\n",
       " [0.377593, 0.9403895, array([0.4015283], dtype=float32)],\n",
       " [0.32300782, 0.99731547, array([0.32387727], dtype=float32)],\n",
       " [0.37764987, 0.9528407, array([0.39634106], dtype=float32)],\n",
       " [0.31777722, 0.9999157, array([0.317804], dtype=float32)],\n",
       " [0.36356956, 0.95589995, array([0.3803427], dtype=float32)],\n",
       " [0.33824018, 0.91329396, array([0.37035194], dtype=float32)],\n",
       " [0.39784235, 0.9908736, array([0.40150666], dtype=float32)],\n",
       " [0.39248934, 0.9661441, array([0.4062431], dtype=float32)],\n",
       " [0.33496135, 0.99952674, array([0.33511996], dtype=float32)],\n",
       " [0.34004432, 0.999933, array([0.3400671], dtype=float32)],\n",
       " [0.35688373, 0.9668561, array([0.36911774], dtype=float32)],\n",
       " [0.3435779, 0.98559844, array([0.34859824], dtype=float32)],\n",
       " [0.41442123, 0.9793491, array([0.42315987], dtype=float32)],\n",
       " [0.3371309, 0.9993888, array([0.33733708], dtype=float32)],\n",
       " [0.38157004, 0.99457526, array([0.38365126], dtype=float32)],\n",
       " [0.37274778, 0.98812634, array([0.37722683], dtype=float32)],\n",
       " [0.36403134, 0.90595996, array([0.40181836], dtype=float32)],\n",
       " [0.36021668, 0.996634, array([0.36143327], dtype=float32)],\n",
       " [0.36927655, 0.98432547, array([0.37515697], dtype=float32)],\n",
       " [0.365892, 0.9963851, array([0.36721945], dtype=float32)],\n",
       " [0.35092938, 0.81294227, array([0.43167812], dtype=float32)],\n",
       " [0.3728049, 0.98813975, array([0.37727955], dtype=float32)],\n",
       " [0.38050166, 0.98975015, array([0.38444212], dtype=float32)],\n",
       " [0.3689556, 0.9836454, array([0.37509006], dtype=float32)],\n",
       " [0.37184313, 0.99257064, array([0.37462637], dtype=float32)],\n",
       " [0.35681996, 0.96596825, array([0.36939096], dtype=float32)],\n",
       " [0.3600713, 0.8527783, array([0.42223316], dtype=float32)],\n",
       " [0.35612926, 0.95030665, array([0.37475193], dtype=float32)],\n",
       " [0.34964997, 0.78918207, array([0.4430536], dtype=float32)],\n",
       " [0.38756448, 0.98869354, array([0.39199656], dtype=float32)],\n",
       " [0.36787498, 0.957627, array([0.38415268], dtype=float32)],\n",
       " [0.3617479, 0.84425867, array([0.42847994], dtype=float32)],\n",
       " [0.39319643, 0.9670269, array([0.40660343], dtype=float32)],\n",
       " [0.38773677, 0.99199367, array([0.39086616], dtype=float32)],\n",
       " [0.36485386, 0.9909525, array([0.368185], dtype=float32)],\n",
       " [0.36382553, 0.9883516, array([0.36811346], dtype=float32)],\n",
       " [0.36936197, 0.98781544, array([0.373918], dtype=float32)],\n",
       " [0.36295405, 0.9996434, array([0.36308354], dtype=float32)],\n",
       " [0.3335203, 0.9989179, array([0.3338816], dtype=float32)],\n",
       " [0.36935046, 0.9954964, array([0.3710214], dtype=float32)],\n",
       " [0.36079183, 0.99881744, array([0.361219], dtype=float32)],\n",
       " [0.37753925, 0.9890121, array([0.3817337], dtype=float32)],\n",
       " [0.36054575, 0.998225, array([0.36118686], dtype=float32)],\n",
       " [0.35659873, 0.9919082, array([0.3595078], dtype=float32)],\n",
       " [0.39648858, 0.9539393, array([0.4156329], dtype=float32)],\n",
       " [0.40707633, 0.9783406, array([0.41608855], dtype=float32)],\n",
       " [0.33094695, 0.99925756, array([0.33119285], dtype=float32)],\n",
       " [0.391088, 0.8966572, array([0.43616223], dtype=float32)],\n",
       " [0.35601532, 0.999502, array([0.3561927], dtype=float32)],\n",
       " [0.35087606, 0.99937016, array([0.3510972], dtype=float32)],\n",
       " [0.38066515, 0.9466895, array([0.4021014], dtype=float32)],\n",
       " [0.391466, 0.97731507, array([0.4005525], dtype=float32)],\n",
       " [0.33340803, 0.99985385, array([0.33345675], dtype=float32)],\n",
       " [0.3400222, 0.9996797, array([0.34013116], dtype=float32)],\n",
       " [0.34958613, 0.9936914, array([0.35180554], dtype=float32)],\n",
       " [0.348101, 0.9987236, array([0.34854588], dtype=float32)],\n",
       " [0.36666107, 0.9950113, array([0.3684994], dtype=float32)],\n",
       " [0.34652308, 0.9999198, array([0.34655088], dtype=float32)],\n",
       " [0.38090578, 0.9726081, array([0.39163336], dtype=float32)],\n",
       " [0.38250405, 0.99147904, array([0.38579136], dtype=float32)],\n",
       " [0.366182, 0.84738433, array([0.43213212], dtype=float32)],\n",
       " [0.349414, 0.9976996, array([0.35021964], dtype=float32)],\n",
       " [0.38583225, 0.9045627, array([0.42654008], dtype=float32)],\n",
       " [0.41455463, 0.96369433, array([0.43017232], dtype=float32)],\n",
       " [0.4081425, 0.97653186, array([0.41795105], dtype=float32)],\n",
       " [0.3640541, 0.91954273, array([0.39590776], dtype=float32)],\n",
       " [0.37525737, 0.9273441, array([0.40465817], dtype=float32)],\n",
       " [0.399357, 0.9937879, array([0.40185335], dtype=float32)],\n",
       " [0.36662543, 0.97974, array([0.37420684], dtype=float32)],\n",
       " [0.35053405, 0.99861467, array([0.35102034], dtype=float32)],\n",
       " [0.3862125, 0.97511995, array([0.39606667], dtype=float32)],\n",
       " [0.34192735, 0.99909765, array([0.34223616], dtype=float32)],\n",
       " [0.40211102, 0.9745881, array([0.41259587], dtype=float32)],\n",
       " [0.34094813, 0.998865, array([0.34133554], dtype=float32)],\n",
       " [0.38027218, 0.9166037, array([0.4148709], dtype=float32)],\n",
       " [0.35392514, 0.9602225, array([0.3685866], dtype=float32)],\n",
       " [0.39456087, 0.97785175, array([0.40349764], dtype=float32)],\n",
       " [0.40130332, 0.99602175, array([0.40290618], dtype=float32)],\n",
       " [0.32345343, 0.9999775, array([0.3234607], dtype=float32)],\n",
       " [0.39657912, 0.98526, array([0.40251213], dtype=float32)],\n",
       " [0.35528076, 0.9985496, array([0.3557968], dtype=float32)],\n",
       " [0.3587101, 0.9910134, array([0.3619629], dtype=float32)],\n",
       " [0.39116752, 0.9815686, array([0.3985127], dtype=float32)],\n",
       " [0.36741903, 0.95262486, array([0.38569123], dtype=float32)],\n",
       " [0.34174627, 0.9990246, array([0.34207994], dtype=float32)],\n",
       " [0.3271639, 0.99902415, array([0.32748348], dtype=float32)],\n",
       " [0.37086278, 0.9917084, array([0.37396353], dtype=float32)],\n",
       " [0.388012, 0.980927, array([0.39555645], dtype=float32)],\n",
       " [0.32538468, 0.9960152, array([0.32668647], dtype=float32)],\n",
       " [0.37938616, 0.92801476, array([0.4088148], dtype=float32)],\n",
       " [0.40564033, 0.99762905, array([0.40660438], dtype=float32)],\n",
       " [0.34690717, 0.9981301, array([0.34755707], dtype=float32)],\n",
       " [0.39408997, 0.97461, array([0.4043566], dtype=float32)],\n",
       " [0.3653076, 0.9855756, array([0.37065405], dtype=float32)],\n",
       " [0.341978, 0.9987488, array([0.34240645], dtype=float32)],\n",
       " [0.39009243, 0.9908681, array([0.39368755], dtype=float32)],\n",
       " [0.34509093, 0.9975939, array([0.34592324], dtype=float32)],\n",
       " [0.33705494, 0.9977908, array([0.33780122], dtype=float32)],\n",
       " [0.35775828, 0.99552214, array([0.3593675], dtype=float32)],\n",
       " [0.3780869, 0.9952283, array([0.37989965], dtype=float32)],\n",
       " [0.39845243, 0.9921186, array([0.40161774], dtype=float32)],\n",
       " [0.3436102, 0.9993289, array([0.34384096], dtype=float32)],\n",
       " [0.38305998, 0.9543985, array([0.40136272], dtype=float32)],\n",
       " [0.38786012, 0.9711238, array([0.39939308], dtype=float32)],\n",
       " [0.3891484, 0.9239769, array([0.42116684], dtype=float32)],\n",
       " [0.29980993, 0.99920976, array([0.30004704], dtype=float32)],\n",
       " [0.40734628, 0.94333875, array([0.43181336], dtype=float32)],\n",
       " [0.3635181, 0.9807811, array([0.3706414], dtype=float32)],\n",
       " [0.34226015, 0.92283857, array([0.3708776], dtype=float32)],\n",
       " [0.37390897, 0.9961216, array([0.37536478], dtype=float32)],\n",
       " [0.37217286, 0.96564543, array([0.3854136], dtype=float32)],\n",
       " [0.38711262, 0.998363, array([0.38774735], dtype=float32)],\n",
       " [0.38201126, 0.8956871, array([0.4265008], dtype=float32)],\n",
       " [0.38554072, 0.9704505, array([0.39728016], dtype=float32)],\n",
       " [0.38481236, 0.9959154, array([0.3863906], dtype=float32)],\n",
       " [0.3779463, 0.98083305, array([0.38533193], dtype=float32)],\n",
       " [0.32505515, 0.95534295, array([0.3402497], dtype=float32)],\n",
       " [0.35126698, 0.96495235, array([0.3640252], dtype=float32)],\n",
       " [0.39429614, 0.98705006, array([0.39946926], dtype=float32)],\n",
       " [0.36152568, 0.9907954, array([0.36488432], dtype=float32)],\n",
       " [0.37400723, 0.8535658, array([0.43817034], dtype=float32)],\n",
       " [0.3678568, 0.9133154, array([0.40277082], dtype=float32)],\n",
       " [0.37617388, 0.89630294, array([0.41969502], dtype=float32)],\n",
       " [0.39638743, 0.88582313, array([0.4474792], dtype=float32)],\n",
       " [0.34542638, 0.93284506, array([0.3702934], dtype=float32)],\n",
       " [0.38270998, 0.9877455, array([0.3874581], dtype=float32)],\n",
       " [0.36341783, 0.79625463, array([0.45640907], dtype=float32)],\n",
       " [0.3811524, 0.99886036, array([0.38158727], dtype=float32)],\n",
       " [0.36166835, 0.999787, array([0.36174542], dtype=float32)],\n",
       " [0.34185877, 0.9639188, array([0.35465515], dtype=float32)],\n",
       " [0.34521604, 0.9904808, array([0.3485338], dtype=float32)],\n",
       " [0.38239604, 0.9512706, array([0.4019845], dtype=float32)],\n",
       " [0.3233402, 0.9976003, array([0.324118], dtype=float32)],\n",
       " [0.38390413, 0.89317083, array([0.4298216], dtype=float32)],\n",
       " [0.34408265, 0.9899719, array([0.3475681], dtype=float32)],\n",
       " [0.37968546, 0.99854374, array([0.3802392], dtype=float32)],\n",
       " [0.37057912, 0.9718287, array([0.38132143], dtype=float32)],\n",
       " [0.3571341, 0.89633095, array([0.39844], dtype=float32)],\n",
       " [0.357694, 0.9885761, array([0.36182746], dtype=float32)],\n",
       " [0.3948413, 0.9915702, array([0.39819807], dtype=float32)],\n",
       " [0.39542058, 0.9351005, array([0.42286426], dtype=float32)],\n",
       " [0.36949325, 0.9699824, array([0.3809278], dtype=float32)],\n",
       " [0.38438466, 0.9714546, array([0.39567947], dtype=float32)],\n",
       " [0.35359803, 0.9880189, array([0.3578859], dtype=float32)],\n",
       " [0.349673, 0.9929541, array([0.35215425], dtype=float32)],\n",
       " [0.38094297, 0.94971216, array([0.40111414], dtype=float32)],\n",
       " [0.38903302, 0.9556699, array([0.40707886], dtype=float32)],\n",
       " [0.40086493, 0.93543804, array([0.4285318], dtype=float32)],\n",
       " [0.36876202, 0.98959917, array([0.37263775], dtype=float32)],\n",
       " [0.3871763, 0.99972296, array([0.3872836], dtype=float32)],\n",
       " [0.3159947, 0.99984586, array([0.31604344], dtype=float32)],\n",
       " [0.3547743, 0.9984516, array([0.35532448], dtype=float32)],\n",
       " [0.34965456, 0.99758756, array([0.3505001], dtype=float32)],\n",
       " [0.4239428, 0.9939743, array([0.42651284], dtype=float32)],\n",
       " [0.38573298, 0.96320105, array([0.40046984], dtype=float32)],\n",
       " [0.3672202, 0.9946704, array([0.36918783], dtype=float32)],\n",
       " [0.37150115, 0.90753615, array([0.40935135], dtype=float32)],\n",
       " [0.34861353, 0.77147555, array([0.4518789], dtype=float32)],\n",
       " [0.36304533, 0.83592856, array([0.43430185], dtype=float32)]]"
      ]
     },
     "execution_count": 19,
     "metadata": {},
     "output_type": "execute_result"
    }
   ],
   "source": [
    "train_score"
   ]
  },
  {
   "cell_type": "code",
   "execution_count": 20,
   "id": "1f232c9f",
   "metadata": {},
   "outputs": [],
   "source": [
    "for i in range(len(r1)):\n",
    "    aa =prt_loss(r1[i] ,yolo)\n",
    "    valid_score.append(aa)"
   ]
  },
  {
   "cell_type": "code",
   "execution_count": 21,
   "id": "8363bdc1",
   "metadata": {},
   "outputs": [
    {
     "name": "stderr",
     "output_type": "stream",
     "text": [
      "Premature end of JPEG file\n"
     ]
    }
   ],
   "source": [
    "for i in range(len(r5)):\n",
    "    aa =prt_loss(r5[i] ,yolo)\n",
    "    test_score.append(aa)"
   ]
  },
  {
   "cell_type": "code",
   "execution_count": 22,
   "id": "2daf1c06",
   "metadata": {},
   "outputs": [],
   "source": [
    "for i in range(len(anomaly_85)):\n",
    "    aa =prt_loss(anomaly_85[i] ,yolo)\n",
    "    anomaly_score.append(aa)"
   ]
  },
  {
   "cell_type": "code",
   "execution_count": 23,
   "id": "cefcce19",
   "metadata": {},
   "outputs": [
    {
     "name": "stderr",
     "output_type": "stream",
     "text": [
      "/tmp/ipykernel_78523/2699754950.py:1: VisibleDeprecationWarning: Creating an ndarray from ragged nested sequences (which is a list-or-tuple of lists-or-tuples-or ndarrays with different lengths or shapes) is deprecated. If you meant to do this, you must specify 'dtype=object' when creating the ndarray.\n",
      "  raw_training = pd.DataFrame(data=np.array(train_score), index=[train_names], columns=[\"score\",\"pred_conf\",\"pred_prob\"])\n"
     ]
    }
   ],
   "source": [
    "raw_training = pd.DataFrame(data=np.array(train_score), index=[train_names], columns=[\"score\",\"pred_conf\",\"pred_prob\"])"
   ]
  },
  {
   "cell_type": "code",
   "execution_count": 24,
   "id": "1671f628",
   "metadata": {},
   "outputs": [
    {
     "data": {
      "text/html": [
       "<div>\n",
       "<style scoped>\n",
       "    .dataframe tbody tr th:only-of-type {\n",
       "        vertical-align: middle;\n",
       "    }\n",
       "\n",
       "    .dataframe tbody tr th {\n",
       "        vertical-align: top;\n",
       "    }\n",
       "\n",
       "    .dataframe thead th {\n",
       "        text-align: right;\n",
       "    }\n",
       "</style>\n",
       "<table border=\"1\" class=\"dataframe\">\n",
       "  <thead>\n",
       "    <tr style=\"text-align: right;\">\n",
       "      <th></th>\n",
       "      <th>score</th>\n",
       "      <th>pred_conf</th>\n",
       "      <th>pred_prob</th>\n",
       "    </tr>\n",
       "  </thead>\n",
       "  <tbody>\n",
       "    <tr>\n",
       "      <th>191_2_1.jpg</th>\n",
       "      <td>0.405707</td>\n",
       "      <td>0.977001</td>\n",
       "      <td>[0.41525736]</td>\n",
       "    </tr>\n",
       "    <tr>\n",
       "      <th>28198_2_1.jpg</th>\n",
       "      <td>0.36543</td>\n",
       "      <td>0.972304</td>\n",
       "      <td>[0.37583932]</td>\n",
       "    </tr>\n",
       "    <tr>\n",
       "      <th>28586_2_3.jpg</th>\n",
       "      <td>0.331662</td>\n",
       "      <td>0.999313</td>\n",
       "      <td>[0.33189]</td>\n",
       "    </tr>\n",
       "    <tr>\n",
       "      <th>8661_2_3.jpg</th>\n",
       "      <td>0.361921</td>\n",
       "      <td>0.943999</td>\n",
       "      <td>[0.3833913]</td>\n",
       "    </tr>\n",
       "    <tr>\n",
       "      <th>10353_2_7.jpg</th>\n",
       "      <td>0.314329</td>\n",
       "      <td>0.921203</td>\n",
       "      <td>[0.34121513]</td>\n",
       "    </tr>\n",
       "    <tr>\n",
       "      <th>...</th>\n",
       "      <td>...</td>\n",
       "      <td>...</td>\n",
       "      <td>...</td>\n",
       "    </tr>\n",
       "    <tr>\n",
       "      <th>10002_2_9.jpg</th>\n",
       "      <td>0.385733</td>\n",
       "      <td>0.963201</td>\n",
       "      <td>[0.40046984]</td>\n",
       "    </tr>\n",
       "    <tr>\n",
       "      <th>2533_2_1.jpg</th>\n",
       "      <td>0.36722</td>\n",
       "      <td>0.99467</td>\n",
       "      <td>[0.36918783]</td>\n",
       "    </tr>\n",
       "    <tr>\n",
       "      <th>25744_2_3.jpg</th>\n",
       "      <td>0.371501</td>\n",
       "      <td>0.907536</td>\n",
       "      <td>[0.40935135]</td>\n",
       "    </tr>\n",
       "    <tr>\n",
       "      <th>24074_2_1.jpg</th>\n",
       "      <td>0.348614</td>\n",
       "      <td>0.771476</td>\n",
       "      <td>[0.4518789]</td>\n",
       "    </tr>\n",
       "    <tr>\n",
       "      <th>25042_2_1.jpg</th>\n",
       "      <td>0.363045</td>\n",
       "      <td>0.835929</td>\n",
       "      <td>[0.43430185]</td>\n",
       "    </tr>\n",
       "  </tbody>\n",
       "</table>\n",
       "<p>340 rows × 3 columns</p>\n",
       "</div>"
      ],
      "text/plain": [
       "                  score pred_conf     pred_prob\n",
       "191_2_1.jpg    0.405707  0.977001  [0.41525736]\n",
       "28198_2_1.jpg   0.36543  0.972304  [0.37583932]\n",
       "28586_2_3.jpg  0.331662  0.999313     [0.33189]\n",
       "8661_2_3.jpg   0.361921  0.943999   [0.3833913]\n",
       "10353_2_7.jpg  0.314329  0.921203  [0.34121513]\n",
       "...                 ...       ...           ...\n",
       "10002_2_9.jpg  0.385733  0.963201  [0.40046984]\n",
       "2533_2_1.jpg    0.36722   0.99467  [0.36918783]\n",
       "25744_2_3.jpg  0.371501  0.907536  [0.40935135]\n",
       "24074_2_1.jpg  0.348614  0.771476   [0.4518789]\n",
       "25042_2_1.jpg  0.363045  0.835929  [0.43430185]\n",
       "\n",
       "[340 rows x 3 columns]"
      ]
     },
     "execution_count": 24,
     "metadata": {},
     "output_type": "execute_result"
    }
   ],
   "source": [
    "raw_training"
   ]
  },
  {
   "cell_type": "code",
   "execution_count": 25,
   "id": "6bf34236",
   "metadata": {},
   "outputs": [
    {
     "name": "stderr",
     "output_type": "stream",
     "text": [
      "/tmp/ipykernel_78523/1602272338.py:1: VisibleDeprecationWarning: Creating an ndarray from ragged nested sequences (which is a list-or-tuple of lists-or-tuples-or ndarrays with different lengths or shapes) is deprecated. If you meant to do this, you must specify 'dtype=object' when creating the ndarray.\n",
      "  raw_valid = pd.DataFrame(data=np.array(valid_score), index=[valid_names], columns=[\"score\",\"pred_conf\",\"pred_prob\"])\n"
     ]
    }
   ],
   "source": [
    "raw_valid = pd.DataFrame(data=np.array(valid_score), index=[valid_names], columns=[\"score\",\"pred_conf\",\"pred_prob\"])"
   ]
  },
  {
   "cell_type": "code",
   "execution_count": 26,
   "id": "7e6af977",
   "metadata": {},
   "outputs": [
    {
     "data": {
      "text/html": [
       "<div>\n",
       "<style scoped>\n",
       "    .dataframe tbody tr th:only-of-type {\n",
       "        vertical-align: middle;\n",
       "    }\n",
       "\n",
       "    .dataframe tbody tr th {\n",
       "        vertical-align: top;\n",
       "    }\n",
       "\n",
       "    .dataframe thead th {\n",
       "        text-align: right;\n",
       "    }\n",
       "</style>\n",
       "<table border=\"1\" class=\"dataframe\">\n",
       "  <thead>\n",
       "    <tr style=\"text-align: right;\">\n",
       "      <th></th>\n",
       "      <th>score</th>\n",
       "      <th>pred_conf</th>\n",
       "      <th>pred_prob</th>\n",
       "    </tr>\n",
       "  </thead>\n",
       "  <tbody>\n",
       "    <tr>\n",
       "      <th>27742_2_3.jpg</th>\n",
       "      <td>0.401008</td>\n",
       "      <td>0.998212</td>\n",
       "      <td>[0.4017265]</td>\n",
       "    </tr>\n",
       "    <tr>\n",
       "      <th>21770_2_1.jpg</th>\n",
       "      <td>0.358273</td>\n",
       "      <td>0.999351</td>\n",
       "      <td>[0.35850582]</td>\n",
       "    </tr>\n",
       "    <tr>\n",
       "      <th>28487_2_1.jpg</th>\n",
       "      <td>0.353342</td>\n",
       "      <td>0.997914</td>\n",
       "      <td>[0.35408115]</td>\n",
       "    </tr>\n",
       "    <tr>\n",
       "      <th>8946_2_3.jpg</th>\n",
       "      <td>0.31878</td>\n",
       "      <td>0.975235</td>\n",
       "      <td>[0.326875]</td>\n",
       "    </tr>\n",
       "    <tr>\n",
       "      <th>28196_2_1.jpg</th>\n",
       "      <td>0.346216</td>\n",
       "      <td>0.997161</td>\n",
       "      <td>[0.34720215]</td>\n",
       "    </tr>\n",
       "    <tr>\n",
       "      <th>...</th>\n",
       "      <td>...</td>\n",
       "      <td>...</td>\n",
       "      <td>...</td>\n",
       "    </tr>\n",
       "    <tr>\n",
       "      <th>29919_2_1.jpg</th>\n",
       "      <td>0.404832</td>\n",
       "      <td>0.991658</td>\n",
       "      <td>[0.40823802]</td>\n",
       "    </tr>\n",
       "    <tr>\n",
       "      <th>29932_2_1.jpg</th>\n",
       "      <td>0.38293</td>\n",
       "      <td>0.981114</td>\n",
       "      <td>[0.39030132]</td>\n",
       "    </tr>\n",
       "    <tr>\n",
       "      <th>10355_2_1.jpg</th>\n",
       "      <td>0.324892</td>\n",
       "      <td>0.999979</td>\n",
       "      <td>[0.32489842]</td>\n",
       "    </tr>\n",
       "    <tr>\n",
       "      <th>5806_2_3.jpg</th>\n",
       "      <td>0.373511</td>\n",
       "      <td>0.997998</td>\n",
       "      <td>[0.37426025]</td>\n",
       "    </tr>\n",
       "    <tr>\n",
       "      <th>30985_2_1.jpg</th>\n",
       "      <td>0.383339</td>\n",
       "      <td>0.913322</td>\n",
       "      <td>[0.41971973]</td>\n",
       "    </tr>\n",
       "  </tbody>\n",
       "</table>\n",
       "<p>85 rows × 3 columns</p>\n",
       "</div>"
      ],
      "text/plain": [
       "                  score pred_conf     pred_prob\n",
       "27742_2_3.jpg  0.401008  0.998212   [0.4017265]\n",
       "21770_2_1.jpg  0.358273  0.999351  [0.35850582]\n",
       "28487_2_1.jpg  0.353342  0.997914  [0.35408115]\n",
       "8946_2_3.jpg    0.31878  0.975235    [0.326875]\n",
       "28196_2_1.jpg  0.346216  0.997161  [0.34720215]\n",
       "...                 ...       ...           ...\n",
       "29919_2_1.jpg  0.404832  0.991658  [0.40823802]\n",
       "29932_2_1.jpg   0.38293  0.981114  [0.39030132]\n",
       "10355_2_1.jpg  0.324892  0.999979  [0.32489842]\n",
       "5806_2_3.jpg   0.373511  0.997998  [0.37426025]\n",
       "30985_2_1.jpg  0.383339  0.913322  [0.41971973]\n",
       "\n",
       "[85 rows x 3 columns]"
      ]
     },
     "execution_count": 26,
     "metadata": {},
     "output_type": "execute_result"
    }
   ],
   "source": [
    "raw_valid"
   ]
  },
  {
   "cell_type": "code",
   "execution_count": 27,
   "id": "9cdc7870",
   "metadata": {},
   "outputs": [
    {
     "name": "stderr",
     "output_type": "stream",
     "text": [
      "/tmp/ipykernel_78523/1281917758.py:1: VisibleDeprecationWarning: Creating an ndarray from ragged nested sequences (which is a list-or-tuple of lists-or-tuples-or ndarrays with different lengths or shapes) is deprecated. If you meant to do this, you must specify 'dtype=object' when creating the ndarray.\n",
      "  raw_test = pd.DataFrame(data=np.array(test_score), index=[test_names], columns=[\"score\",\"pred_conf\",\"pred_prob\"])\n"
     ]
    }
   ],
   "source": [
    "raw_test = pd.DataFrame(data=np.array(test_score), index=[test_names], columns=[\"score\",\"pred_conf\",\"pred_prob\"])"
   ]
  },
  {
   "cell_type": "code",
   "execution_count": 28,
   "id": "59ced0f1",
   "metadata": {},
   "outputs": [
    {
     "name": "stderr",
     "output_type": "stream",
     "text": [
      "/tmp/ipykernel_78523/911882621.py:1: VisibleDeprecationWarning: Creating an ndarray from ragged nested sequences (which is a list-or-tuple of lists-or-tuples-or ndarrays with different lengths or shapes) is deprecated. If you meant to do this, you must specify 'dtype=object' when creating the ndarray.\n",
      "  raw_anomaly = pd.DataFrame(data=np.array(anomaly_score), index=[anomaly_names], columns=[\"score\",\"pred_conf\",\"pred_prob\"])\n"
     ]
    }
   ],
   "source": [
    "raw_anomaly = pd.DataFrame(data=np.array(anomaly_score), index=[anomaly_names], columns=[\"score\",\"pred_conf\",\"pred_prob\"])"
   ]
  },
  {
   "cell_type": "code",
   "execution_count": 29,
   "id": "391d22dc",
   "metadata": {},
   "outputs": [],
   "source": [
    "for i in range(len(coco_anomaly)):\n",
    "    aa =prt_loss(coco_anomaly[i] ,yolo)\n",
    "    coco_score.append(aa)"
   ]
  },
  {
   "cell_type": "code",
   "execution_count": 30,
   "id": "da5fc039",
   "metadata": {},
   "outputs": [],
   "source": [
    "for i in range(len(os.listdir(angled_path))):\n",
    "    aa =prt_loss(os.path.join(angled_path, os.listdir(angled_path)[i]) ,yolo)\n",
    "    angle_score.append(aa)"
   ]
  },
  {
   "cell_type": "code",
   "execution_count": 31,
   "id": "a33bb72b",
   "metadata": {},
   "outputs": [],
   "source": [
    "for i in range(len(os.listdir(brace_path))):\n",
    "    aa =prt_loss(os.path.join(brace_path, os.listdir(brace_path)[i]) ,yolo)\n",
    "    braces_score.append(aa)"
   ]
  },
  {
   "cell_type": "code",
   "execution_count": 32,
   "id": "a66c53c0",
   "metadata": {},
   "outputs": [
    {
     "name": "stderr",
     "output_type": "stream",
     "text": [
      "/tmp/ipykernel_78523/794488856.py:1: VisibleDeprecationWarning: Creating an ndarray from ragged nested sequences (which is a list-or-tuple of lists-or-tuples-or ndarrays with different lengths or shapes) is deprecated. If you meant to do this, you must specify 'dtype=object' when creating the ndarray.\n",
      "  raw_coco= pd.DataFrame(data=np.array(coco_score), index=[coco_names], columns=[\"score\",\"pred_conf\",\"pred_prob\"])\n"
     ]
    }
   ],
   "source": [
    "raw_coco= pd.DataFrame(data=np.array(coco_score), index=[coco_names], columns=[\"score\",\"pred_conf\",\"pred_prob\"])"
   ]
  },
  {
   "cell_type": "code",
   "execution_count": 33,
   "id": "c0a40d56",
   "metadata": {},
   "outputs": [
    {
     "name": "stderr",
     "output_type": "stream",
     "text": [
      "/tmp/ipykernel_78523/3543986322.py:1: VisibleDeprecationWarning: Creating an ndarray from ragged nested sequences (which is a list-or-tuple of lists-or-tuples-or ndarrays with different lengths or shapes) is deprecated. If you meant to do this, you must specify 'dtype=object' when creating the ndarray.\n",
      "  raw_anlge= pd.DataFrame(data=np.array(angle_score), index=[angle_names], columns=[\"score\",\"pred_conf\",\"pred_prob\"])\n"
     ]
    }
   ],
   "source": [
    "raw_anlge= pd.DataFrame(data=np.array(angle_score), index=[angle_names], columns=[\"score\",\"pred_conf\",\"pred_prob\"])"
   ]
  },
  {
   "cell_type": "code",
   "execution_count": 34,
   "id": "96f5b8bb",
   "metadata": {},
   "outputs": [
    {
     "name": "stderr",
     "output_type": "stream",
     "text": [
      "/tmp/ipykernel_78523/928199419.py:1: VisibleDeprecationWarning: Creating an ndarray from ragged nested sequences (which is a list-or-tuple of lists-or-tuples-or ndarrays with different lengths or shapes) is deprecated. If you meant to do this, you must specify 'dtype=object' when creating the ndarray.\n",
      "  raw_braces= pd.DataFrame(data=np.array(braces_score), index=[braces_names], columns=[\"score\",\"pred_conf\",\"pred_prob\"])\n"
     ]
    }
   ],
   "source": [
    "raw_braces= pd.DataFrame(data=np.array(braces_score), index=[braces_names], columns=[\"score\",\"pred_conf\",\"pred_prob\"])"
   ]
  },
  {
   "cell_type": "markdown",
   "id": "b2ec407d",
   "metadata": {},
   "source": [
    "## GIOU(must change when change txt file)"
   ]
  },
  {
   "cell_type": "code",
   "execution_count": 35,
   "id": "85696726",
   "metadata": {},
   "outputs": [],
   "source": [
    "file = open(\"model_data/no_lip_more_train.txt\", \"r\")\n",
    "no_lip_train = file.readlines()\n",
    "file.close()\n",
    "file = open(\"model_data/no_lip_more_validation.txt\", \"r\")\n",
    "no_lip_valid = file.readlines()\n",
    "file.close()"
   ]
  },
  {
   "cell_type": "code",
   "execution_count": 36,
   "id": "8d727d62",
   "metadata": {},
   "outputs": [],
   "source": [
    "GT_train = []\n",
    "GT_valid = []"
   ]
  },
  {
   "cell_type": "code",
   "execution_count": 37,
   "id": "e8da4782",
   "metadata": {},
   "outputs": [],
   "source": [
    "giou_ious_list_train = []\n",
    "giou_ious_list_valid = []"
   ]
  },
  {
   "cell_type": "code",
   "execution_count": 38,
   "id": "d56da965",
   "metadata": {},
   "outputs": [],
   "source": [
    "#GT add\n",
    "for i in range(len(r11)):\n",
    "    bb = no_lip_train[i].split()[1].split(\",\")[0:4]\n",
    "    bb = [int(item) for item in bb]\n",
    "    GT_train.append(bb)\n",
    "for i in range(len(r1)):\n",
    "    bb = no_lip_valid[i].split()[1].split(\",\")[0:4]\n",
    "    bb = [int(item) for item in bb]\n",
    "    GT_valid.append(bb)"
   ]
  },
  {
   "cell_type": "code",
   "execution_count": 39,
   "id": "cc0ef0ef",
   "metadata": {},
   "outputs": [],
   "source": [
    "# train\n",
    "for i in range(len(r11)):\n",
    "    image, bboxes = detect_image(yolo, r11[i], \"\", input_size=YOLO_INPUT_SIZE, show=False, score_threshold=0.1, CLASSES=TRAIN_CLASSES, rectangle_colors=(255,0,0))\n",
    "    if len(bboxes) == 0 :\n",
    "        giou_ious_list_train.append([0,0])\n",
    "    else :\n",
    "        giou,ious = GIoU(np.array(GT_train[i]), bboxes[0][:4])\n",
    "        giou_ious_list_train.append([giou,ious])"
   ]
  },
  {
   "cell_type": "code",
   "execution_count": 40,
   "id": "45409d22",
   "metadata": {},
   "outputs": [],
   "source": [
    "# validation\n",
    "for i in range(len(r1)):\n",
    "    image, bboxes = detect_image(yolo, r1[i], \"\", input_size=YOLO_INPUT_SIZE,score_threshold=0.1, show=False, CLASSES=TRAIN_CLASSES, rectangle_colors=(255,0,0))\n",
    "    if len(bboxes) == 0 :\n",
    "        giou_ious_list_valid.append([0,0])\n",
    "    else :\n",
    "        giou,ious = GIoU(np.array(GT_valid[i]), bboxes[0][:4])\n",
    "        giou_ious_list_valid.append([giou,ious])"
   ]
  },
  {
   "cell_type": "code",
   "execution_count": 41,
   "id": "dba4c5f5",
   "metadata": {},
   "outputs": [],
   "source": [
    "raw_training_giou = pd.DataFrame(data=np.array(giou_ious_list_train), index=[train_names], columns=[\"giou\", \"iou\"])"
   ]
  },
  {
   "cell_type": "code",
   "execution_count": 42,
   "id": "7302bb86",
   "metadata": {},
   "outputs": [],
   "source": [
    "raw_valid_giou = pd.DataFrame(data=np.array(giou_ious_list_valid), index=[valid_names], columns=[\"giou\", \"iou\"])"
   ]
  },
  {
   "cell_type": "code",
   "execution_count": 43,
   "id": "4e15a12b",
   "metadata": {},
   "outputs": [],
   "source": [
    "df_training_join = pd.merge(raw_training,raw_training_giou, left_index=True, right_index = True, \n",
    "                         how =\"outer\" )"
   ]
  },
  {
   "cell_type": "code",
   "execution_count": 44,
   "id": "10cca578",
   "metadata": {},
   "outputs": [],
   "source": [
    "df_valid_join = pd.merge(raw_valid,raw_valid_giou, left_index=True, right_index = True, \n",
    "                         how =\"outer\" )"
   ]
  },
  {
   "cell_type": "code",
   "execution_count": 45,
   "id": "e6fc8f35",
   "metadata": {},
   "outputs": [],
   "source": [
    "xlxs_dir='___final.xlsx' #경로 및 파일명 설정\n",
    "with pd.ExcelWriter(xlxs_dir) as writer:\n",
    "    df_training_join.to_excel(writer, sheet_name = 'training_data') #raw_data1 시트에 저장\n",
    "    df_valid_join.to_excel(writer, sheet_name = 'valid_data') #raw_data2 시트에 저장\n",
    "    raw_test.to_excel(writer, sheet_name = 'test_data') #raw_data2 시트에 저장\n",
    "    raw_anomaly.to_excel(writer, sheet_name = 'anomaly_data') #raw_data2 시트에 저장\n",
    "    raw_coco.to_excel(writer, sheet_name = 'coco_data') #raw_data1 시트에 저장\n",
    "    raw_anlge.to_excel(writer, sheet_name = 'angle_data') #raw_data2 시트에 저장\n",
    "    raw_braces.to_excel(writer, sheet_name = 'braces_data') #raw_data2 시트에 저장"
   ]
  },
  {
   "cell_type": "markdown",
   "id": "ddb2660d",
   "metadata": {},
   "source": [
    "#  test2 replace old_test_set"
   ]
  },
  {
   "cell_type": "code",
   "execution_count": 46,
   "id": "ec6ee2ef",
   "metadata": {},
   "outputs": [],
   "source": [
    "import pandas as pd\n",
    "import numpy as np\n",
    "from sklearn import metrics\n",
    "import matplotlib.pyplot as plt"
   ]
  },
  {
   "cell_type": "code",
   "execution_count": 47,
   "id": "e50a211e",
   "metadata": {},
   "outputs": [],
   "source": [
    "train_df =  pd.read_excel(\"___final.xlsx\", sheet_name=\"training_data\", engine='openpyxl', index_col=0)\n",
    "valid_df = pd.read_excel(\"___final.xlsx\", sheet_name=\"valid_data\", engine='openpyxl', index_col=0)\n",
    "# test_df = pd.read_excel(\"___final.xlsx\", sheet_name=\"test_data\", engine='openpyxl', index_col=0)\n",
    "anomaly_df = pd.read_excel(\"___final.xlsx\", sheet_name=\"anomaly_data\", engine='openpyxl', index_col=0)\n",
    "coco_df = pd.read_excel(\"___final.xlsx\", sheet_name=\"coco_data\", engine='openpyxl', index_col=0)\n",
    "angle_df = pd.read_excel(\"___final.xlsx\", sheet_name=\"angle_data\", engine='openpyxl', index_col=0)\n",
    "braces_df = pd.read_excel(\"___final.xlsx\", sheet_name=\"braces_data\", engine='openpyxl', index_col=0)"
   ]
  },
  {
   "cell_type": "code",
   "execution_count": 48,
   "id": "0854f643",
   "metadata": {},
   "outputs": [
    {
     "name": "stderr",
     "output_type": "stream",
     "text": [
      "Premature end of JPEG file\n"
     ]
    }
   ],
   "source": [
    "test2  =glob(r\"/home/jh/Desktop/teeth/github_td/test2/*.jpg\")\n",
    "test_names = []\n",
    "for i in range(len(test2)):\n",
    "    test_names.append(os.path.basename(test2[i]))\n",
    "\n",
    "test_score = []\n",
    "for i in range(len(test2)):\n",
    "    aa =prt_loss(test2[i] ,yolo)\n",
    "    test_score.append(aa)\n"
   ]
  },
  {
   "cell_type": "code",
   "execution_count": 49,
   "id": "9096538a",
   "metadata": {},
   "outputs": [
    {
     "name": "stderr",
     "output_type": "stream",
     "text": [
      "/tmp/ipykernel_78523/4164779704.py:1: VisibleDeprecationWarning: Creating an ndarray from ragged nested sequences (which is a list-or-tuple of lists-or-tuples-or ndarrays with different lengths or shapes) is deprecated. If you meant to do this, you must specify 'dtype=object' when creating the ndarray.\n",
      "  test2_df = pd.DataFrame(data=np.array(test_score), index=[test_names], columns=[\"score\",\"pred_conf\",\"pred_prob\"])\n"
     ]
    }
   ],
   "source": [
    "test2_df = pd.DataFrame(data=np.array(test_score), index=[test_names], columns=[\"score\",\"pred_conf\",\"pred_prob\"])"
   ]
  },
  {
   "cell_type": "code",
   "execution_count": 50,
   "id": "580680b1",
   "metadata": {},
   "outputs": [],
   "source": [
    "xlxs_dir='___final_2.xlsx' #경로 및 파일명 설정\n",
    "with pd.ExcelWriter(xlxs_dir) as writer:\n",
    "    train_df.to_excel(writer, sheet_name = 'training_data') #raw_data1 시트에 저장\n",
    "    valid_df.to_excel(writer, sheet_name = 'valid_data') #raw_data2 시트에 저장\n",
    "    test2_df.to_excel(writer, sheet_name = 'test_data') #raw_data2 시트에 저장\n",
    "    anomaly_df.to_excel(writer, sheet_name = 'anomaly_data') #raw_data2 시트에 저장\n",
    "    coco_df.to_excel(writer, sheet_name = 'coco_data') #raw_data1 시트에 저장\n",
    "    angle_df.to_excel(writer, sheet_name = 'angle_data') #raw_data2 시트에 저장\n",
    "    braces_df.to_excel(writer, sheet_name = 'braces_data') #raw_data2 시트에 저장"
   ]
  },
  {
   "cell_type": "markdown",
   "id": "0a7fc889",
   "metadata": {},
   "source": [
    "# remove overlab"
   ]
  },
  {
   "cell_type": "code",
   "execution_count": 51,
   "id": "3c2f6e29",
   "metadata": {},
   "outputs": [],
   "source": [
    "from glob import glob\n",
    "import numpy as np\n",
    "import pandas as pd\n",
    "import os"
   ]
  },
  {
   "cell_type": "code",
   "execution_count": 52,
   "id": "bcbba4f7",
   "metadata": {},
   "outputs": [
    {
     "name": "stdout",
     "output_type": "stream",
     "text": [
      "[  34  130  161  189  241  337  466  474  600  646  769  775  860  878\n",
      "  975  995 1016 1021 1076 1082 1184 1267 1275 1363 1478 1500 1528 1585\n",
      " 1685 1806 1899 1955 1981 2041 2047 2061 2363 2391 2433 2435 2556 2558\n",
      " 2612 2613 2734 2747 2824 2888 2904 2919 3005 3073 3092 3152 3171 3202\n",
      " 3342 3385 3444 3461 3556 3772 3798 3843 3890 3943 4014 4117 4297 4426\n",
      " 4551 4555 4658 4798 4843 4911]\n"
     ]
    }
   ],
   "source": [
    "coco_anomaly =  glob(r\"/home/jh/Desktop/teeth/github_td/val2017/*.jpg\")\n",
    "np.random.seed(42)\n",
    "a = np.random.randint(5000, size =76)\n",
    "a = np.sort(a)\n",
    "print(a)\n",
    "anomaly_76 = [coco_anomaly[i] for i in a]"
   ]
  },
  {
   "cell_type": "code",
   "execution_count": 53,
   "id": "fea2b717",
   "metadata": {},
   "outputs": [],
   "source": [
    "train_df =  pd.read_excel(\"___final_2.xlsx\", sheet_name=\"training_data\", engine='openpyxl', index_col=0)\n",
    "valid_df = pd.read_excel(\"___final_2.xlsx\", sheet_name=\"valid_data\", engine='openpyxl', index_col=0)\n",
    "test2_df = pd.read_excel(\"___final_2.xlsx\", sheet_name=\"test_data\", engine='openpyxl', index_col=0)\n",
    "anomaly_df = pd.read_excel(\"___final_2.xlsx\", sheet_name=\"anomaly_data\", engine='openpyxl', index_col=0)\n",
    "coco_df = pd.read_excel(\"___final_2.xlsx\", sheet_name=\"coco_data\", engine='openpyxl', index_col=0)\n",
    "angle_df = pd.read_excel(\"___final_2.xlsx\", sheet_name=\"angle_data\", engine='openpyxl', index_col=0)\n",
    "braces_df = pd.read_excel(\"___final_2.xlsx\", sheet_name=\"braces_data\", engine='openpyxl', index_col=0)"
   ]
  },
  {
   "cell_type": "code",
   "execution_count": 54,
   "id": "1b618b8b",
   "metadata": {},
   "outputs": [],
   "source": [
    "remove_name = [os.path.basename(i) for i in anomaly_76]\n",
    "coco_df = coco_df.drop(remove_name)"
   ]
  },
  {
   "cell_type": "code",
   "execution_count": 55,
   "id": "7cb7268b",
   "metadata": {},
   "outputs": [],
   "source": [
    "xlxs_dir='___final_3.xlsx' #경로 및 파일명 설정\n",
    "with pd.ExcelWriter(xlxs_dir) as writer:\n",
    "    train_df.to_excel(writer, sheet_name = 'training_data') #raw_data1 시트에 저장\n",
    "    valid_df.to_excel(writer, sheet_name = 'valid_data') #raw_data2 시트에 저장\n",
    "    test2_df.to_excel(writer, sheet_name = 'test_data') #raw_data2 시트에 저장\n",
    "    anomaly_df.to_excel(writer, sheet_name = 'anomaly_data') #raw_data2 시트에 저장\n",
    "    coco_df.to_excel(writer, sheet_name = 'coco_data') #raw_data1 시트에 저장\n",
    "    angle_df.to_excel(writer, sheet_name = 'angle_data') #raw_data2 시트에 저장\n",
    "    braces_df.to_excel(writer, sheet_name = 'braces_data') #raw_data2 시트에 저장"
   ]
  },
  {
   "cell_type": "markdown",
   "id": "86bba396",
   "metadata": {},
   "source": [
    "# AUC 계산"
   ]
  },
  {
   "cell_type": "code",
   "execution_count": 56,
   "id": "0decde75",
   "metadata": {},
   "outputs": [],
   "source": [
    "import pandas as pd\n",
    "import numpy as np\n",
    "from sklearn import metrics\n",
    "import matplotlib.pyplot as plt"
   ]
  },
  {
   "cell_type": "code",
   "execution_count": 57,
   "id": "453e74e9",
   "metadata": {},
   "outputs": [],
   "source": [
    "test_df = pd.read_excel(\"___final_3.xlsx\", sheet_name=\"test_data\", engine='openpyxl')\n",
    "# anomaly_df = pd.read_excel(\"___final_3.xlsx\", sheet_name=\"anomaly_data\", engine='openpyxl')\n",
    "coco_df = pd.read_excel(\"___final_3.xlsx\", sheet_name=\"coco_data\", engine='openpyxl')\n",
    "angle_df = pd.read_excel(\"___final_3.xlsx\", sheet_name=\"angle_data\", engine='openpyxl')\n",
    "braces_df = pd.read_excel(\"___final_3.xlsx\", sheet_name=\"braces_data\", engine='openpyxl')"
   ]
  },
  {
   "cell_type": "code",
   "execution_count": 58,
   "id": "e60c6046",
   "metadata": {},
   "outputs": [],
   "source": [
    "test_pred_score = [i for i in test_df[\"score\"]]\n",
    "# anomaly_pred_score = [i for i in anomaly_df[\"score\"]]\n",
    "coco_pred_score=  [i for i in coco_df[\"score\"]]\n",
    "angle_pred_score =  [i for i in angle_df[\"score\"]]\n",
    "braces_pred_score =  [i for i in braces_df[\"score\"]]"
   ]
  },
  {
   "cell_type": "code",
   "execution_count": 59,
   "id": "5530d544",
   "metadata": {},
   "outputs": [],
   "source": [
    "y = [1]*len(test_pred_score)  + [0]*len(coco_pred_score)+ [0]*len(angle_pred_score) +[1]*len(braces_pred_score)"
   ]
  },
  {
   "cell_type": "code",
   "execution_count": 60,
   "id": "3f40a308",
   "metadata": {},
   "outputs": [],
   "source": [
    "pred = np.array(test_pred_score +coco_pred_score +angle_pred_score+braces_pred_score)"
   ]
  },
  {
   "cell_type": "code",
   "execution_count": 61,
   "id": "ca18f4ff",
   "metadata": {},
   "outputs": [],
   "source": [
    "fpr, tpr, thresholds = metrics.roc_curve(y, pred)\n",
    "roc_auc = metrics.auc(fpr, tpr)"
   ]
  },
  {
   "cell_type": "code",
   "execution_count": 62,
   "id": "bfcd881a",
   "metadata": {},
   "outputs": [
    {
     "name": "stdout",
     "output_type": "stream",
     "text": [
      "0.9531122618501965\n"
     ]
    }
   ],
   "source": [
    "print(roc_auc)"
   ]
  },
  {
   "cell_type": "code",
   "execution_count": 63,
   "id": "cd9b936d",
   "metadata": {},
   "outputs": [
    {
     "data": {
      "image/png": "[encoded data removed]",
      "text/plain": [
       "<Figure size 432x288 with 1 Axes>"
      ]
     },
     "metadata": {
      "needs_background": "light"
     },
     "output_type": "display_data"
    }
   ],
   "source": [
    "plt.figure()\n",
    "lw = 2\n",
    "plt.plot(\n",
    "    fpr,\n",
    "    tpr,\n",
    "    color=\"darkorange\",\n",
    "    lw=lw,\n",
    "    label=\"ROC curve (area = %0.2f)\" % roc_auc,\n",
    ")\n",
    "plt.plot([0, 1], [0, 1], color=\"navy\", lw=lw, linestyle=\"--\")\n",
    "plt.xlim([0.0, 1.0])\n",
    "plt.ylim([0.0, 1.05])\n",
    "plt.xlabel(\"False Positive Rate\")\n",
    "plt.ylabel(\"True Positive Rate\")\n",
    "plt.title(\"Receiver operating characteristic example\")\n",
    "plt.legend(loc=\"lower right\")\n",
    "plt.show()"
   ]
  },
  {
   "cell_type": "code",
   "execution_count": 64,
   "id": "a3e0b056",
   "metadata": {},
   "outputs": [],
   "source": [
    "for i in range(len(pred)):\n",
    "    if pred[i]>0.8 :\n",
    "        pred[i]=1\n",
    "    else:\n",
    "        pred[i]=0"
   ]
  },
  {
   "cell_type": "code",
   "execution_count": 65,
   "id": "cf1b7929",
   "metadata": {},
   "outputs": [
    {
     "data": {
      "text/plain": [
       "(4939, 0, 5023, 0)"
      ]
     },
     "execution_count": 65,
     "metadata": {},
     "output_type": "execute_result"
    }
   ],
   "source": [
    "tn, fp, fn, tp = metrics.confusion_matrix(y, pred).ravel()\n",
    "(tn, fp, fn, tp)"
   ]
  },
  {
   "cell_type": "code",
   "execution_count": 66,
   "id": "d3bcd57f",
   "metadata": {},
   "outputs": [
    {
     "data": {
      "image/png": "[encoded data removed]",
      "text/plain": [
       "<Figure size 432x288 with 2 Axes>"
      ]
     },
     "metadata": {
      "needs_background": "light"
     },
     "output_type": "display_data"
    }
   ],
   "source": [
    "import seaborn as sns\n",
    "cf_matrix = metrics.confusion_matrix(y, pred)\n",
    "group_names = [\"True Neg\",\"False Pos\",\"False Neg\",\"True Pos\"]\n",
    "group_counts = [\"{0:0.0f}\".format(value) for value in\n",
    "                cf_matrix.flatten()]\n",
    "# group_percentages = [“{0:.2%}”.format(value) for value in\n",
    "#                      cf_matrix.flatten()/np.sum(cf_matrix)]\n",
    "labels = [f\"{v1}\\n{v2}\" for v1, v2  in zip(group_names,group_counts)]\n",
    "labels = np.asarray(labels).reshape(2,2)\n",
    "sns.heatmap(cf_matrix, annot=labels, fmt=\"\", cmap='Blues')\n",
    "plt.savefig(\"confusion_matrix.jpg\",bbox_inches = \"tight\")"
   ]
  },
  {
   "cell_type": "code",
   "execution_count": null,
   "id": "48d4e694",
   "metadata": {},
   "outputs": [],
   "source": []
  }
 ],
 "metadata": {
  "kernelspec": {
   "display_name": "Python 3 (ipykernel)",
   "language": "python",
   "name": "python3"
  },
  "language_info": {
   "codemirror_mode": {
    "name": "ipython",
    "version": 3
   },
   "file_extension": ".py",
   "mimetype": "text/x-python",
   "name": "python",
   "nbconvert_exporter": "python",
   "pygments_lexer": "ipython3",
   "version": "3.8.0"
  }
 },
 "nbformat": 4,
 "nbformat_minor": 5
}
