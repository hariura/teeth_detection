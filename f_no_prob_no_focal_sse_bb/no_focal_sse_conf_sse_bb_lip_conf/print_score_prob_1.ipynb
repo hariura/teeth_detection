{
 "cells": [
  {
   "cell_type": "code",
   "execution_count": 1,
   "id": "5746161a",
   "metadata": {},
   "outputs": [
    {
     "name": "stderr",
     "output_type": "stream",
     "text": [
      "2023-03-22 10:05:40.106500: E tensorflow/stream_executor/cuda/cuda_driver.cc:271] failed call to cuInit: CUDA_ERROR_NO_DEVICE: no CUDA-capable device is detected\n",
      "2023-03-22 10:05:40.106538: I tensorflow/stream_executor/cuda/cuda_diagnostics.cc:169] retrieving CUDA diagnostic information for host: jh-desktop\n",
      "2023-03-22 10:05:40.106543: I tensorflow/stream_executor/cuda/cuda_diagnostics.cc:176] hostname: jh-desktop\n",
      "2023-03-22 10:05:40.106620: I tensorflow/stream_executor/cuda/cuda_diagnostics.cc:200] libcuda reported version is: 470.161.3\n",
      "2023-03-22 10:05:40.106643: I tensorflow/stream_executor/cuda/cuda_diagnostics.cc:204] kernel reported version is: 470.161.3\n",
      "2023-03-22 10:05:40.106647: I tensorflow/stream_executor/cuda/cuda_diagnostics.cc:310] kernel version seems to match DSO: 470.161.3\n",
      "2023-03-22 10:05:40.106858: I tensorflow/core/platform/cpu_feature_guard.cc:151] This TensorFlow binary is optimized with oneAPI Deep Neural Network Library (oneDNN) to use the following CPU instructions in performance-critical operations:  AVX2 FMA\n",
      "To enable them in other operations, rebuild TensorFlow with the appropriate compiler flags.\n"
     ]
    }
   ],
   "source": [
    "import cv2\n",
    "import numpy as np\n",
    "import os\n",
    "import matplotlib\n",
    "import matplotlib.pyplot as plt\n",
    "%matplotlib inline  \n",
    "os.environ[\"CUDA_VISIBLE_DEVICES\"]=\"-1\"  \n",
    "import tensorflow as tf\n",
    "from glob import glob\n",
    "from yolov3.yolov4_config import Create_Yolo\n",
    "from yolov3.utils_config import load_yolo_weights, detect_image, image_preprocess, postprocess_boxes_excel, nms, draw_bbox\n",
    "from yolov3.configs_config import *\n",
    "from PIL import Image\n",
    "\n",
    "import os\n",
    "import pandas as pd\n",
    "\n",
    "if YOLO_TYPE == \"yolov4\":\n",
    "    Darknet_weights = YOLO_V4_TINY_WEIGHTS if TRAIN_YOLO_TINY else YOLO_V4_WEIGHTS\n",
    "if YOLO_TYPE == \"yolov3\":\n",
    "    Darknet_weights = YOLO_V3_TINY_WEIGHTS if TRAIN_YOLO_TINY else YOLO_V3_WEIGHTS\n",
    "\n",
    "yolo = Create_Yolo(input_size=YOLO_INPUT_SIZE)\n",
    "load_yolo_weights(yolo, Darknet_weights) # use Darknet weights"
   ]
  },
  {
   "cell_type": "code",
   "execution_count": 2,
   "id": "a91c03f3",
   "metadata": {},
   "outputs": [
    {
     "data": {
      "text/plain": [
       "<tensorflow.python.training.tracking.util.CheckpointLoadStatus at 0x7fbf8c113670>"
      ]
     },
     "execution_count": 2,
     "metadata": {},
     "output_type": "execute_result"
    }
   ],
   "source": [
    "yolo = Create_Yolo(input_size=YOLO_INPUT_SIZE, CLASSES=TRAIN_CLASSES)\n",
    "yolo.load_weights(\"./checkpoints/first/yolov3_custom\") # use keras weights"
   ]
  },
  {
   "cell_type": "code",
   "execution_count": 3,
   "id": "b5ba2685",
   "metadata": {},
   "outputs": [],
   "source": [
    "def prt_loss(image_path ,yolo):\n",
    "    input_size = 416\n",
    "    iou_threshold = 0.45\n",
    "    \n",
    "    original_image      = cv2.imread(image_path)\n",
    "    original_image      = cv2.cvtColor(original_image, cv2.COLOR_BGR2RGB)\n",
    "    original_image      = cv2.cvtColor(original_image, cv2.COLOR_BGR2RGB)\n",
    "    image_data = image_preprocess(np.copy(original_image), [input_size, input_size])\n",
    "    image_data = image_data[np.newaxis, ...].astype(np.float32)\n",
    "    pred_bbox = yolo.predict(image_data)\n",
    "    pred_bbox = [tf.reshape(x, (-1, tf.shape(x)[-1])) for x in pred_bbox]\n",
    "    pred_bbox = tf.concat(pred_bbox, axis=0)\n",
    "    bboxes, pred_coor, pred_conf, pred_prob  = postprocess_boxes_excel(pred_bbox, original_image, input_size, 0.0)\n",
    "    classes = np.argmax(pred_prob, axis=-1)\n",
    "    scores = pred_conf * pred_prob[np.arange(len(pred_coor)), classes]\n",
    "    argmax_score = np.argmax(scores)\n",
    "    max_score = np.max(scores)\n",
    "    print_conf, print_prob = pred_conf[argmax_score], pred_prob[argmax_score]\n",
    "    \n",
    "    return [max_score, print_conf, print_prob]"
   ]
  },
  {
   "cell_type": "code",
   "execution_count": 4,
   "id": "04b6c46a",
   "metadata": {},
   "outputs": [],
   "source": [
    "def GIoU(bboxes_1, bboxes_2):\n",
    "    # 1. calulate intersection over union\n",
    "    area_1 = (bboxes_1[2] - bboxes_1[0]) * (bboxes_1[3] - bboxes_1[1])\n",
    "    area_2 = (bboxes_2[2] - bboxes_2[0]) * (bboxes_2[3] - bboxes_2[1])\n",
    "    \n",
    "    intersection_wh = tf.minimum(bboxes_1[2:], bboxes_2[2:]) - tf.maximum(bboxes_1[ :2], bboxes_2[ :2])\n",
    "    intersection_wh = tf.maximum(intersection_wh, 0)\n",
    "    \n",
    "    intersection = intersection_wh[0] * intersection_wh[1]\n",
    "    union = (area_1 + area_2) - intersection\n",
    "    \n",
    "    ious = intersection / union\n",
    "    \n",
    "    # 2. (C - (A U B))/C\n",
    "    C_wh = tf.maximum(bboxes_1[2:], bboxes_2[2:]) - tf.minimum(bboxes_1[:2], bboxes_2[:2])\n",
    "    C_wh = C_wh\n",
    "    C = C_wh[0] * C_wh[1]\n",
    "\n",
    "    giou = ious - (C - union) / C\n",
    "    return giou, ious"
   ]
  },
  {
   "cell_type": "code",
   "execution_count": 5,
   "id": "d139c6f9",
   "metadata": {},
   "outputs": [],
   "source": [
    "r1 = glob(r\"teeth_including_lip_more/test/*.jpg\")"
   ]
  },
  {
   "cell_type": "code",
   "execution_count": 6,
   "id": "a6c8a42c",
   "metadata": {},
   "outputs": [],
   "source": [
    "r11 = glob(r\"teeth_including_lip_more/train/*.jpg\")"
   ]
  },
  {
   "cell_type": "code",
   "execution_count": 7,
   "id": "4aa283f8",
   "metadata": {},
   "outputs": [],
   "source": [
    "r5 = glob(r\"/home/jh/Desktop/teeth/github_td/test2/*.jpg\")"
   ]
  },
  {
   "cell_type": "code",
   "execution_count": 8,
   "id": "53212ea9",
   "metadata": {},
   "outputs": [
    {
     "name": "stdout",
     "output_type": "stream",
     "text": [
      "[  34  130  161  189  241  337  466  474  600  646  769  775  860  878\n",
      "  975  995 1016 1021 1076 1082 1184 1267 1275 1363 1478 1500 1528 1585\n",
      " 1685 1806 1899 1955 1981 2041 2047 2061 2363 2391 2433 2435 2556 2558\n",
      " 2612 2613 2734 2747 2824 2888 2904 2919 3005 3073 3092 3152 3171 3202\n",
      " 3342 3385 3444 3461 3556 3772 3798 3843 3890 3943 4014 4117 4297 4426\n",
      " 4551 4555 4658 4798 4843 4911]\n"
     ]
    }
   ],
   "source": [
    "coco_anomaly =  glob(r\"/home/jh/Desktop/teeth/github_td/val2017/*.jpg\")\n",
    "np.random.seed(42)\n",
    "a = np.random.randint(5000, size =76)\n",
    "a = np.sort(a)\n",
    "print(a)\n",
    "anomaly_76 = [coco_anomaly[i] for i in a]"
   ]
  },
  {
   "cell_type": "code",
   "execution_count": 9,
   "id": "ddec225d",
   "metadata": {},
   "outputs": [],
   "source": [
    "anomaly_85 = glob(r\"/home/jh/Desktop/teeth/github_td/ano/*.jpg\")"
   ]
  },
  {
   "cell_type": "code",
   "execution_count": 10,
   "id": "c920ca07",
   "metadata": {},
   "outputs": [],
   "source": [
    "brace_path = r\"braces\""
   ]
  },
  {
   "cell_type": "code",
   "execution_count": 11,
   "id": "cb202ba8",
   "metadata": {},
   "outputs": [],
   "source": [
    "angled_path = r\"angled\""
   ]
  },
  {
   "cell_type": "markdown",
   "id": "f68afb01",
   "metadata": {},
   "source": [
    "### pred score save "
   ]
  },
  {
   "cell_type": "code",
   "execution_count": 12,
   "id": "7bb63865",
   "metadata": {},
   "outputs": [],
   "source": [
    "train_names = []\n",
    "valid_names = []\n",
    "test_names = []\n",
    "anomaly_names = []"
   ]
  },
  {
   "cell_type": "code",
   "execution_count": 13,
   "id": "2cc93775",
   "metadata": {},
   "outputs": [],
   "source": [
    "coco_names = []\n",
    "braces_names = []\n",
    "angle_names = []"
   ]
  },
  {
   "cell_type": "code",
   "execution_count": 14,
   "id": "ce152975",
   "metadata": {},
   "outputs": [],
   "source": [
    "for i in range(len(r11)):\n",
    "    train_names.append(os.path.basename(r11[i]))\n",
    "for i in range(len(r1)):\n",
    "    valid_names.append(os.path.basename(r1[i]))\n",
    "for i in range(len(r5)):\n",
    "    test_names.append(os.path.basename(r5[i]))\n",
    "for i in range(len(anomaly_85)):\n",
    "    anomaly_names.append(os.path.basename(anomaly_85[i]))"
   ]
  },
  {
   "cell_type": "code",
   "execution_count": 15,
   "id": "46e56eea",
   "metadata": {},
   "outputs": [],
   "source": [
    "for i in range(len(coco_anomaly)):\n",
    "    coco_names.append(os.path.basename(coco_anomaly[i]))\n",
    "for i in range(len(os.listdir(brace_path))):\n",
    "    braces_names.append(os.path.basename(os.listdir(brace_path)[i]))\n",
    "for i in range(len(os.listdir(angled_path))):\n",
    "    angle_names.append(os.path.basename(os.listdir(angled_path)[i]))"
   ]
  },
  {
   "cell_type": "code",
   "execution_count": 16,
   "id": "a60fceb3",
   "metadata": {},
   "outputs": [],
   "source": [
    "train_score = []\n",
    "valid_score = []\n",
    "test_score = []\n",
    "anomaly_score = []"
   ]
  },
  {
   "cell_type": "code",
   "execution_count": 17,
   "id": "15aecaa0",
   "metadata": {},
   "outputs": [],
   "source": [
    "coco_score = []\n",
    "braces_score = []\n",
    "angle_score = []"
   ]
  },
  {
   "cell_type": "code",
   "execution_count": 18,
   "id": "ff893f97",
   "metadata": {},
   "outputs": [],
   "source": [
    "for i in range(len(r11)):\n",
    "    aa =prt_loss(r11[i] ,yolo)\n",
    "    train_score.append(aa)"
   ]
  },
  {
   "cell_type": "code",
   "execution_count": 19,
   "id": "46eb4ba6",
   "metadata": {},
   "outputs": [
    {
     "data": {
      "text/plain": [
       "[[0.55352956, 0.9999956, array([0.553532], dtype=float32)],\n",
       " [0.577271, 0.99955684, array([0.5775269], dtype=float32)],\n",
       " [0.57485074, 0.99987483, array([0.5749227], dtype=float32)],\n",
       " [0.5888997, 0.9999881, array([0.5889067], dtype=float32)],\n",
       " [0.57991505, 0.99777365, array([0.581209], dtype=float32)],\n",
       " [0.5872737, 0.99999547, array([0.5872764], dtype=float32)],\n",
       " [0.58731246, 0.9997478, array([0.58746064], dtype=float32)],\n",
       " [0.5897624, 0.99978137, array([0.5898914], dtype=float32)],\n",
       " [0.5789035, 0.9982188, array([0.5799365], dtype=float32)],\n",
       " [0.57054996, 0.98890305, array([0.5769524], dtype=float32)],\n",
       " [0.5951918, 0.999995, array([0.59519476], dtype=float32)],\n",
       " [0.5945499, 0.9999984, array([0.59455085], dtype=float32)],\n",
       " [0.57399833, 0.99094564, array([0.579243], dtype=float32)],\n",
       " [0.5916457, 0.9999752, array([0.5916604], dtype=float32)],\n",
       " [0.5776732, 0.9995955, array([0.57790697], dtype=float32)],\n",
       " [0.5593392, 0.9999994, array([0.5593396], dtype=float32)],\n",
       " [0.5825769, 0.99994934, array([0.5826064], dtype=float32)],\n",
       " [0.5798682, 0.9962412, array([0.58205605], dtype=float32)],\n",
       " [0.57508296, 0.99994934, array([0.5751121], dtype=float32)],\n",
       " [0.5862032, 0.9999342, array([0.5862418], dtype=float32)],\n",
       " [0.58675635, 0.9986619, array([0.58754253], dtype=float32)],\n",
       " [0.5810715, 0.999908, array([0.58112496], dtype=float32)],\n",
       " [0.56975937, 0.9935214, array([0.5734747], dtype=float32)],\n",
       " [0.56918204, 0.9999963, array([0.5691841], dtype=float32)],\n",
       " [0.598186, 0.99986863, array([0.59826463], dtype=float32)],\n",
       " [0.5797575, 0.9958793, array([0.5821564], dtype=float32)],\n",
       " [0.5934443, 0.99995136, array([0.59347314], dtype=float32)],\n",
       " [0.57947904, 0.9941071, array([0.58291405], dtype=float32)],\n",
       " [0.5832314, 0.99965477, array([0.5834328], dtype=float32)],\n",
       " [0.5913474, 0.99956506, array([0.5916047], dtype=float32)],\n",
       " [0.54785484, 0.999963, array([0.5478751], dtype=float32)],\n",
       " [0.5692681, 0.9947592, array([0.57226723], dtype=float32)],\n",
       " [0.5579947, 0.99902874, array([0.5585372], dtype=float32)],\n",
       " [0.58194536, 0.9998479, array([0.5820339], dtype=float32)],\n",
       " [0.5835314, 0.9982901, array([0.58453083], dtype=float32)],\n",
       " [0.58349854, 0.99999845, array([0.58349943], dtype=float32)],\n",
       " [0.5843016, 0.9984118, array([0.58523107], dtype=float32)],\n",
       " [0.59107774, 0.9998687, array([0.59115535], dtype=float32)],\n",
       " [0.58222485, 0.9998545, array([0.58230954], dtype=float32)],\n",
       " [0.58367383, 0.999977, array([0.58368725], dtype=float32)],\n",
       " [0.5930701, 0.9999138, array([0.59312123], dtype=float32)],\n",
       " [0.5807551, 0.99296767, array([0.5848681], dtype=float32)],\n",
       " [0.57832956, 0.999999, array([0.57833016], dtype=float32)],\n",
       " [0.5872724, 0.99981534, array([0.5873809], dtype=float32)],\n",
       " [0.5796261, 0.99246365, array([0.5840275], dtype=float32)],\n",
       " [0.5844836, 0.99976665, array([0.58462006], dtype=float32)],\n",
       " [0.56829953, 0.99999547, array([0.5683021], dtype=float32)],\n",
       " [0.5829747, 0.9992755, array([0.5833973], dtype=float32)],\n",
       " [0.5678797, 0.9999706, array([0.56789637], dtype=float32)],\n",
       " [0.568004, 0.99999297, array([0.568008], dtype=float32)],\n",
       " [0.56829774, 0.9999979, array([0.56829894], dtype=float32)],\n",
       " [0.5715279, 0.99886787, array([0.5721757], dtype=float32)],\n",
       " [0.5940858, 0.9939498, array([0.597702], dtype=float32)],\n",
       " [0.5756946, 0.99997, array([0.5757119], dtype=float32)],\n",
       " [0.58472306, 0.99994403, array([0.5847558], dtype=float32)],\n",
       " [0.5978887, 0.9999939, array([0.59789234], dtype=float32)],\n",
       " [0.57466984, 0.9999054, array([0.5747242], dtype=float32)],\n",
       " [0.5673364, 0.99999344, array([0.5673401], dtype=float32)],\n",
       " [0.5612928, 0.99996305, array([0.56131357], dtype=float32)],\n",
       " [0.56579965, 0.99991983, array([0.565845], dtype=float32)],\n",
       " [0.59747964, 0.99999326, array([0.5974837], dtype=float32)],\n",
       " [0.59448236, 0.99999595, array([0.59448475], dtype=float32)],\n",
       " [0.5782031, 0.99925196, array([0.57863593], dtype=float32)],\n",
       " [0.5678649, 0.9988993, array([0.5684906], dtype=float32)],\n",
       " [0.60704076, 0.99998844, array([0.6070478], dtype=float32)],\n",
       " [0.57021284, 0.997684, array([0.57153654], dtype=float32)],\n",
       " [0.5627769, 0.99999976, array([0.56277704], dtype=float32)],\n",
       " [0.5877704, 0.99196076, array([0.59253395], dtype=float32)],\n",
       " [0.59735787, 0.99999505, array([0.59736085], dtype=float32)],\n",
       " [0.5908149, 0.9954392, array([0.59352183], dtype=float32)],\n",
       " [0.58148986, 0.99999756, array([0.5814913], dtype=float32)],\n",
       " [0.5689398, 0.99998605, array([0.56894773], dtype=float32)],\n",
       " [0.5946321, 0.9999695, array([0.5946502], dtype=float32)],\n",
       " [0.5818224, 0.9999819, array([0.58183295], dtype=float32)],\n",
       " [0.5724019, 0.9999998, array([0.572402], dtype=float32)],\n",
       " [0.58944666, 0.99996114, array([0.58946955], dtype=float32)],\n",
       " [0.5963086, 0.9999949, array([0.5963116], dtype=float32)],\n",
       " [0.5925986, 0.9989722, array([0.5932083], dtype=float32)],\n",
       " [0.57950276, 0.9999151, array([0.57955194], dtype=float32)],\n",
       " [0.58457834, 0.99988294, array([0.58464676], dtype=float32)],\n",
       " [0.59213084, 0.9998021, array([0.592248], dtype=float32)],\n",
       " [0.57205904, 0.9995529, array([0.5723149], dtype=float32)],\n",
       " [0.56767493, 0.9964695, array([0.56968623], dtype=float32)],\n",
       " [0.5937122, 0.9996888, array([0.59389704], dtype=float32)],\n",
       " [0.56536955, 0.98734295, array([0.5726172], dtype=float32)],\n",
       " [0.568814, 0.99588525, array([0.5711642], dtype=float32)],\n",
       " [0.5654208, 0.99999875, array([0.5654215], dtype=float32)],\n",
       " [0.56389177, 0.99999666, array([0.5638937], dtype=float32)],\n",
       " [0.5950011, 0.99997723, array([0.59501463], dtype=float32)],\n",
       " [0.5891074, 0.9999981, array([0.5891085], dtype=float32)],\n",
       " [0.5961151, 0.99943304, array([0.59645325], dtype=float32)],\n",
       " [0.582585, 0.99988806, array([0.5826502], dtype=float32)],\n",
       " [0.5697317, 0.9992188, array([0.57017714], dtype=float32)],\n",
       " [0.59060824, 0.9999953, array([0.59061104], dtype=float32)],\n",
       " [0.5605143, 0.999781, array([0.56063706], dtype=float32)],\n",
       " [0.5852208, 0.99942183, array([0.58555937], dtype=float32)],\n",
       " [0.5759171, 0.9999932, array([0.57592106], dtype=float32)],\n",
       " [0.5776932, 0.99301565, array([0.5817564], dtype=float32)],\n",
       " [0.5656092, 0.9999907, array([0.56561446], dtype=float32)],\n",
       " [0.5835338, 0.99998784, array([0.5835409], dtype=float32)],\n",
       " [0.5879627, 0.9998239, array([0.5880662], dtype=float32)],\n",
       " [0.5841111, 0.9994198, array([0.5844502], dtype=float32)],\n",
       " [0.58462673, 0.9999914, array([0.58463174], dtype=float32)],\n",
       " [0.56483424, 0.9999965, array([0.5648362], dtype=float32)],\n",
       " [0.5818841, 0.9999832, array([0.58189386], dtype=float32)],\n",
       " [0.57242686, 0.9999567, array([0.57245165], dtype=float32)],\n",
       " [0.58099896, 0.99941456, array([0.5813393], dtype=float32)],\n",
       " [0.583589, 0.99917597, array([0.5840703], dtype=float32)],\n",
       " [0.57964, 0.99995106, array([0.57966834], dtype=float32)],\n",
       " [0.58153856, 0.99974394, array([0.5816875], dtype=float32)],\n",
       " [0.5449278, 0.9994094, array([0.5452498], dtype=float32)],\n",
       " [0.58461267, 0.9983528, array([0.5855772], dtype=float32)],\n",
       " [0.59231937, 0.9984183, array([0.5932577], dtype=float32)],\n",
       " [0.59524226, 0.9999213, array([0.5952891], dtype=float32)],\n",
       " [0.5816821, 0.9996427, array([0.58189], dtype=float32)],\n",
       " [0.58317524, 0.99998724, array([0.5831827], dtype=float32)],\n",
       " [0.5819515, 0.99635065, array([0.584083], dtype=float32)],\n",
       " [0.56965077, 0.9999962, array([0.5696529], dtype=float32)],\n",
       " [0.5824025, 0.99621284, array([0.58461654], dtype=float32)],\n",
       " [0.5705588, 0.9880717, array([0.57744676], dtype=float32)],\n",
       " [0.58653355, 0.99983346, array([0.58663124], dtype=float32)],\n",
       " [0.5941738, 0.99974597, array([0.59432477], dtype=float32)],\n",
       " [0.5691786, 0.9997792, array([0.5693043], dtype=float32)],\n",
       " [0.59866935, 0.9999953, array([0.59867215], dtype=float32)],\n",
       " [0.5957504, 0.99932504, array([0.5961528], dtype=float32)],\n",
       " [0.58122635, 0.9998094, array([0.58133715], dtype=float32)],\n",
       " [0.5681812, 0.9991765, array([0.5686495], dtype=float32)],\n",
       " [0.5847413, 0.9994587, array([0.585058], dtype=float32)],\n",
       " [0.5798471, 0.999985, array([0.5798558], dtype=float32)],\n",
       " [0.58070874, 0.99991333, array([0.58075905], dtype=float32)],\n",
       " [0.5841232, 0.99210846, array([0.5887695], dtype=float32)],\n",
       " [0.5972052, 0.99991727, array([0.59725463], dtype=float32)],\n",
       " [0.57792956, 0.99993193, array([0.5779689], dtype=float32)],\n",
       " [0.58361346, 0.9999962, array([0.58361566], dtype=float32)],\n",
       " [0.55987805, 0.99967027, array([0.5600627], dtype=float32)],\n",
       " [0.5963581, 0.9999802, array([0.5963699], dtype=float32)],\n",
       " [0.5730626, 0.99999785, array([0.57306385], dtype=float32)],\n",
       " [0.5993516, 0.9987378, array([0.60010904], dtype=float32)],\n",
       " [0.55398375, 0.99999297, array([0.5539876], dtype=float32)],\n",
       " [0.5953621, 0.99985766, array([0.5954469], dtype=float32)],\n",
       " [0.5655603, 0.99982417, array([0.56565976], dtype=float32)],\n",
       " [0.57267857, 0.9999927, array([0.57268274], dtype=float32)],\n",
       " [0.57831025, 0.99999905, array([0.5783108], dtype=float32)],\n",
       " [0.5926035, 0.9999535, array([0.59263104], dtype=float32)],\n",
       " [0.5713931, 0.9999874, array([0.5714003], dtype=float32)],\n",
       " [0.5721828, 0.994148, array([0.5755509], dtype=float32)],\n",
       " [0.58489364, 0.99996233, array([0.5849157], dtype=float32)],\n",
       " [0.5660747, 0.9999697, array([0.5660919], dtype=float32)],\n",
       " [0.59711176, 0.9993443, array([0.59750354], dtype=float32)],\n",
       " [0.5576923, 0.99999464, array([0.55769527], dtype=float32)],\n",
       " [0.60331374, 0.9999952, array([0.60331666], dtype=float32)],\n",
       " [0.58102506, 0.99995023, array([0.581054], dtype=float32)],\n",
       " [0.57225144, 0.9998301, array([0.57234865], dtype=float32)],\n",
       " [0.5739861, 0.9916508, array([0.5788188], dtype=float32)],\n",
       " [0.58093536, 0.99987656, array([0.58100706], dtype=float32)],\n",
       " [0.5841808, 0.9985745, array([0.5850147], dtype=float32)],\n",
       " [0.5876321, 0.9999982, array([0.5876332], dtype=float32)],\n",
       " [0.5769622, 0.9998445, array([0.57705194], dtype=float32)],\n",
       " [0.58001816, 0.9998956, array([0.5800787], dtype=float32)],\n",
       " [0.60750026, 0.9999956, array([0.60750294], dtype=float32)],\n",
       " [0.58514124, 0.9999989, array([0.5851419], dtype=float32)],\n",
       " [0.5573359, 0.976658, array([0.5706562], dtype=float32)],\n",
       " [0.5841773, 0.9952084, array([0.58698994], dtype=float32)],\n",
       " [0.5733549, 0.99997866, array([0.5733671], dtype=float32)],\n",
       " [0.58788073, 0.999718, array([0.58804655], dtype=float32)],\n",
       " [0.6004549, 0.9999982, array([0.600456], dtype=float32)],\n",
       " [0.5826816, 0.99996424, array([0.58270246], dtype=float32)],\n",
       " [0.5719421, 0.9981221, array([0.5730182], dtype=float32)],\n",
       " [0.59974027, 0.9999336, array([0.5997801], dtype=float32)],\n",
       " [0.58649224, 0.9985114, array([0.5873666], dtype=float32)],\n",
       " [0.5868895, 0.9997034, array([0.5870636], dtype=float32)],\n",
       " [0.5828403, 0.9974892, array([0.5843074], dtype=float32)],\n",
       " [0.572498, 0.97615105, array([0.5864851], dtype=float32)],\n",
       " [0.61147577, 0.9999864, array([0.61148405], dtype=float32)],\n",
       " [0.59384227, 0.999995, array([0.59384525], dtype=float32)],\n",
       " [0.6041846, 0.99975634, array([0.6043319], dtype=float32)],\n",
       " [0.5743879, 0.9993923, array([0.5747372], dtype=float32)],\n",
       " [0.5700783, 0.99994165, array([0.5701116], dtype=float32)],\n",
       " [0.60968864, 0.9999937, array([0.6096925], dtype=float32)],\n",
       " [0.5737981, 0.9995371, array([0.57406384], dtype=float32)],\n",
       " [0.59829384, 0.99998915, array([0.59830034], dtype=float32)],\n",
       " [0.58744675, 0.99994874, array([0.58747685], dtype=float32)],\n",
       " [0.59638953, 0.99998116, array([0.59640074], dtype=float32)],\n",
       " [0.57640404, 0.99998635, array([0.5764119], dtype=float32)],\n",
       " [0.5908488, 0.9999974, array([0.59085035], dtype=float32)],\n",
       " [0.5645179, 0.9859663, array([0.5725529], dtype=float32)],\n",
       " [0.58636016, 0.99999714, array([0.5863618], dtype=float32)],\n",
       " [0.58319515, 0.99998945, array([0.5832013], dtype=float32)],\n",
       " [0.5518345, 0.9998723, array([0.551905], dtype=float32)],\n",
       " [0.5840763, 0.9999847, array([0.5840852], dtype=float32)],\n",
       " [0.58368397, 0.99993014, array([0.58372474], dtype=float32)],\n",
       " [0.57746744, 0.99811506, array([0.57855797], dtype=float32)],\n",
       " [0.57981235, 0.9933599, array([0.5836881], dtype=float32)],\n",
       " [0.5783287, 0.9999021, array([0.57838535], dtype=float32)],\n",
       " [0.59081453, 0.9990263, array([0.5913904], dtype=float32)],\n",
       " [0.57654226, 0.99999964, array([0.57654244], dtype=float32)],\n",
       " [0.5827048, 0.9998798, array([0.5827748], dtype=float32)],\n",
       " [0.5623395, 0.9999836, array([0.5623487], dtype=float32)],\n",
       " [0.6025803, 0.99662673, array([0.60461986], dtype=float32)],\n",
       " [0.6249783, 0.9967943, array([0.62698823], dtype=float32)],\n",
       " [0.5802502, 0.998518, array([0.58111143], dtype=float32)],\n",
       " [0.5839651, 0.9999981, array([0.58396626], dtype=float32)],\n",
       " [0.5913988, 0.9999968, array([0.5914007], dtype=float32)],\n",
       " [0.56397533, 0.999799, array([0.5640887], dtype=float32)],\n",
       " [0.5874239, 0.9999962, array([0.5874262], dtype=float32)],\n",
       " [0.58305985, 0.99950147, array([0.58335066], dtype=float32)],\n",
       " [0.57616514, 0.99993706, array([0.5762014], dtype=float32)],\n",
       " [0.5750421, 0.99975514, array([0.575183], dtype=float32)],\n",
       " [0.586291, 0.9981103, array([0.58740103], dtype=float32)],\n",
       " [0.58211267, 0.9999243, array([0.5821567], dtype=float32)],\n",
       " [0.5714064, 0.99790525, array([0.5726059], dtype=float32)],\n",
       " [0.56411767, 0.99999857, array([0.5641185], dtype=float32)],\n",
       " [0.54995424, 0.99996424, array([0.5499739], dtype=float32)],\n",
       " [0.5705792, 0.9893234, array([0.57673675], dtype=float32)],\n",
       " [0.5696264, 0.99902487, array([0.5701824], dtype=float32)],\n",
       " [0.5838009, 0.9998176, array([0.5839074], dtype=float32)],\n",
       " [0.5886618, 0.9985493, array([0.589517], dtype=float32)],\n",
       " [0.5522581, 0.9871757, array([0.5594324], dtype=float32)],\n",
       " [0.5837662, 0.9989916, array([0.5843555], dtype=float32)],\n",
       " [0.5977483, 0.9999988, array([0.597749], dtype=float32)],\n",
       " [0.5825414, 0.9999901, array([0.5825472], dtype=float32)],\n",
       " [0.57480395, 0.9994819, array([0.5751019], dtype=float32)],\n",
       " [0.58698195, 0.99928576, array([0.5874015], dtype=float32)],\n",
       " [0.5833618, 0.99961174, array([0.58358836], dtype=float32)],\n",
       " [0.56190485, 0.9927505, array([0.5660081], dtype=float32)],\n",
       " [0.58064, 0.9999888, array([0.5806465], dtype=float32)],\n",
       " [0.5707118, 0.9927262, array([0.5748935], dtype=float32)],\n",
       " [0.6053438, 0.9999567, array([0.60537], dtype=float32)],\n",
       " [0.5684976, 0.9995593, array([0.56874824], dtype=float32)],\n",
       " [0.58609277, 0.99807423, array([0.58722365], dtype=float32)],\n",
       " [0.57290787, 0.99998856, array([0.5729144], dtype=float32)],\n",
       " [0.5796908, 0.99999, array([0.5796966], dtype=float32)],\n",
       " [0.58093214, 0.9999827, array([0.58094215], dtype=float32)],\n",
       " [0.5911581, 0.99991703, array([0.59120715], dtype=float32)],\n",
       " [0.5900513, 0.99999654, array([0.5900533], dtype=float32)],\n",
       " [0.59894454, 0.9999948, array([0.59894764], dtype=float32)],\n",
       " [0.59008795, 0.9999827, array([0.59009814], dtype=float32)],\n",
       " [0.5690527, 0.9999083, array([0.56910485], dtype=float32)],\n",
       " [0.58580965, 0.9999536, array([0.5858368], dtype=float32)],\n",
       " [0.5845361, 0.9985912, array([0.58536077], dtype=float32)],\n",
       " [0.5843813, 0.99996704, array([0.58440053], dtype=float32)],\n",
       " [0.58303285, 0.99995595, array([0.58305854], dtype=float32)],\n",
       " [0.59729755, 0.9999485, array([0.5973283], dtype=float32)],\n",
       " [0.5660982, 0.9994172, array([0.56642836], dtype=float32)],\n",
       " [0.57390624, 0.9999825, array([0.5739163], dtype=float32)],\n",
       " [0.56988966, 0.9968739, array([0.5716768], dtype=float32)],\n",
       " [0.58400804, 0.99933326, array([0.5843977], dtype=float32)],\n",
       " [0.5937604, 0.9996567, array([0.5939643], dtype=float32)],\n",
       " [0.57276434, 0.99936974, array([0.57312554], dtype=float32)],\n",
       " [0.567763, 0.99934256, array([0.5681365], dtype=float32)],\n",
       " [0.56932336, 0.99877214, array([0.57002324], dtype=float32)],\n",
       " [0.5896619, 0.99959254, array([0.5899023], dtype=float32)],\n",
       " [0.58922696, 0.9999884, array([0.5892338], dtype=float32)],\n",
       " [0.589121, 0.9999838, array([0.5891305], dtype=float32)],\n",
       " [0.5828241, 0.99436843, array([0.5861249], dtype=float32)],\n",
       " [0.57581556, 0.9999728, array([0.57583123], dtype=float32)],\n",
       " [0.57701606, 0.99946964, array([0.57732224], dtype=float32)],\n",
       " [0.5791732, 0.9989757, array([0.57976705], dtype=float32)],\n",
       " [0.5547535, 0.9999819, array([0.55476356], dtype=float32)],\n",
       " [0.5657079, 0.9999996, array([0.56570816], dtype=float32)],\n",
       " [0.57048696, 0.9999577, array([0.5705111], dtype=float32)],\n",
       " [0.5707708, 0.9989661, array([0.57136154], dtype=float32)],\n",
       " [0.5967688, 0.9999943, array([0.5967722], dtype=float32)],\n",
       " [0.5600532, 0.9997074, array([0.56021714], dtype=float32)],\n",
       " [0.57779557, 0.99999523, array([0.5777983], dtype=float32)],\n",
       " [0.5835466, 0.9999844, array([0.5835557], dtype=float32)],\n",
       " [0.5747211, 0.9998633, array([0.57479966], dtype=float32)],\n",
       " [0.5889603, 0.9999916, array([0.58896524], dtype=float32)],\n",
       " [0.5774826, 0.9999951, array([0.5774854], dtype=float32)],\n",
       " [0.5909278, 0.99998224, array([0.59093827], dtype=float32)],\n",
       " [0.57888395, 0.9998137, array([0.57899183], dtype=float32)],\n",
       " [0.5970789, 0.99978065, array([0.59720993], dtype=float32)],\n",
       " [0.56790483, 0.9998145, array([0.5680102], dtype=float32)],\n",
       " [0.5860892, 0.9998913, array([0.5861529], dtype=float32)],\n",
       " [0.5716433, 0.9977057, array([0.5729578], dtype=float32)],\n",
       " [0.58826584, 0.9999956, array([0.58826846], dtype=float32)],\n",
       " [0.58129966, 0.999981, array([0.5813107], dtype=float32)],\n",
       " [0.5943583, 0.99630034, array([0.5965654], dtype=float32)],\n",
       " [0.5727028, 0.9999933, array([0.57270664], dtype=float32)],\n",
       " [0.5745962, 0.9999083, array([0.5746489], dtype=float32)],\n",
       " [0.5675258, 0.9999934, array([0.56752956], dtype=float32)],\n",
       " [0.5653203, 0.9844379, array([0.57425696], dtype=float32)],\n",
       " [0.55204487, 0.99996066, array([0.55206656], dtype=float32)],\n",
       " [0.5747035, 0.9931524, array([0.578666], dtype=float32)],\n",
       " [0.5743422, 0.99999607, array([0.57434446], dtype=float32)],\n",
       " [0.5816349, 0.99992716, array([0.58167726], dtype=float32)],\n",
       " [0.60088277, 0.9999768, array([0.6008967], dtype=float32)],\n",
       " [0.5962593, 0.9999256, array([0.59630364], dtype=float32)],\n",
       " [0.5691684, 0.9999953, array([0.5691711], dtype=float32)],\n",
       " [0.6245493, 0.9985978, array([0.6254263], dtype=float32)],\n",
       " [0.5725338, 0.999998, array([0.5725349], dtype=float32)],\n",
       " [0.5858311, 0.9999777, array([0.58584416], dtype=float32)],\n",
       " [0.56977075, 0.99940467, array([0.57011014], dtype=float32)],\n",
       " [0.5856521, 0.9999033, array([0.58570874], dtype=float32)],\n",
       " [0.5750935, 0.9999926, array([0.57509774], dtype=float32)],\n",
       " [0.5531842, 0.9999807, array([0.5531949], dtype=float32)],\n",
       " [0.57830244, 0.999995, array([0.57830536], dtype=float32)],\n",
       " [0.56948024, 0.9998974, array([0.56953865], dtype=float32)],\n",
       " [0.5827685, 0.9999967, array([0.5827704], dtype=float32)],\n",
       " [0.587512, 0.9999627, array([0.58753395], dtype=float32)],\n",
       " [0.5592499, 0.99885064, array([0.55989337], dtype=float32)],\n",
       " [0.5545892, 0.997114, array([0.55619437], dtype=float32)],\n",
       " [0.5994757, 0.9998728, array([0.5995519], dtype=float32)],\n",
       " [0.5996783, 0.9999968, array([0.5996802], dtype=float32)],\n",
       " [0.5912587, 0.9998727, array([0.591334], dtype=float32)],\n",
       " [0.60011685, 0.9999763, array([0.6001311], dtype=float32)],\n",
       " [0.5874733, 0.99999774, array([0.5874746], dtype=float32)],\n",
       " [0.5766458, 0.9999956, array([0.57664835], dtype=float32)],\n",
       " [0.5751001, 0.99950767, array([0.5753834], dtype=float32)],\n",
       " [0.58165437, 0.99996793, array([0.581673], dtype=float32)],\n",
       " [0.5898165, 0.99995846, array([0.589841], dtype=float32)],\n",
       " [0.5914914, 0.9999406, array([0.59152657], dtype=float32)],\n",
       " [0.5501351, 0.99999297, array([0.55013895], dtype=float32)],\n",
       " [0.5807794, 0.9994515, array([0.5810981], dtype=float32)],\n",
       " [0.589693, 0.99951816, array([0.58997726], dtype=float32)],\n",
       " [0.58962864, 0.999827, array([0.5897306], dtype=float32)],\n",
       " [0.575131, 0.99998295, array([0.5751408], dtype=float32)],\n",
       " [0.5830758, 0.9999763, array([0.58308965], dtype=float32)],\n",
       " [0.6018746, 0.9999995, array([0.6018749], dtype=float32)],\n",
       " [0.57974756, 0.9999998, array([0.5797477], dtype=float32)],\n",
       " [0.5964789, 0.9994409, array([0.59681255], dtype=float32)],\n",
       " [0.5640693, 0.9995752, array([0.564309], dtype=float32)],\n",
       " [0.57940155, 0.9994304, array([0.57973176], dtype=float32)],\n",
       " [0.58011115, 0.9999758, array([0.5801252], dtype=float32)],\n",
       " [0.5826686, 0.9999962, array([0.5826708], dtype=float32)],\n",
       " [0.59536844, 0.99988055, array([0.59543955], dtype=float32)],\n",
       " [0.5609531, 0.9965508, array([0.56289464], dtype=float32)],\n",
       " [0.5850781, 0.99963987, array([0.5852889], dtype=float32)],\n",
       " [0.57005787, 0.99968433, array([0.5702379], dtype=float32)],\n",
       " [0.5841167, 0.9999988, array([0.5841174], dtype=float32)],\n",
       " [0.5810888, 0.99984574, array([0.5811784], dtype=float32)],\n",
       " [0.5519921, 0.9999982, array([0.55199313], dtype=float32)],\n",
       " [0.5598531, 0.99974155, array([0.5599978], dtype=float32)],\n",
       " [0.58587563, 0.9997628, array([0.5860146], dtype=float32)],\n",
       " [0.57956415, 0.9996327, array([0.5797771], dtype=float32)],\n",
       " [0.57119685, 0.9975389, array([0.5726061], dtype=float32)],\n",
       " [0.58155507, 0.9922831, array([0.58607775], dtype=float32)],\n",
       " [0.5626578, 0.9999367, array([0.5626934], dtype=float32)],\n",
       " [0.5860944, 0.99956393, array([0.5863501], dtype=float32)],\n",
       " [0.56772727, 0.98852, array([0.57432044], dtype=float32)]]"
      ]
     },
     "execution_count": 19,
     "metadata": {},
     "output_type": "execute_result"
    }
   ],
   "source": [
    "train_score"
   ]
  },
  {
   "cell_type": "code",
   "execution_count": 20,
   "id": "1f232c9f",
   "metadata": {},
   "outputs": [],
   "source": [
    "for i in range(len(r1)):\n",
    "    aa =prt_loss(r1[i] ,yolo)\n",
    "    valid_score.append(aa)"
   ]
  },
  {
   "cell_type": "code",
   "execution_count": 21,
   "id": "8363bdc1",
   "metadata": {},
   "outputs": [
    {
     "name": "stderr",
     "output_type": "stream",
     "text": [
      "Premature end of JPEG file\n"
     ]
    }
   ],
   "source": [
    "for i in range(len(r5)):\n",
    "    aa =prt_loss(r5[i] ,yolo)\n",
    "    test_score.append(aa)"
   ]
  },
  {
   "cell_type": "code",
   "execution_count": 22,
   "id": "2daf1c06",
   "metadata": {},
   "outputs": [],
   "source": [
    "for i in range(len(anomaly_85)):\n",
    "    aa =prt_loss(anomaly_85[i] ,yolo)\n",
    "    anomaly_score.append(aa)"
   ]
  },
  {
   "cell_type": "code",
   "execution_count": 23,
   "id": "cefcce19",
   "metadata": {},
   "outputs": [
    {
     "name": "stderr",
     "output_type": "stream",
     "text": [
      "/tmp/ipykernel_41220/2699754950.py:1: VisibleDeprecationWarning: Creating an ndarray from ragged nested sequences (which is a list-or-tuple of lists-or-tuples-or ndarrays with different lengths or shapes) is deprecated. If you meant to do this, you must specify 'dtype=object' when creating the ndarray.\n",
      "  raw_training = pd.DataFrame(data=np.array(train_score), index=[train_names], columns=[\"score\",\"pred_conf\",\"pred_prob\"])\n"
     ]
    }
   ],
   "source": [
    "raw_training = pd.DataFrame(data=np.array(train_score), index=[train_names], columns=[\"score\",\"pred_conf\",\"pred_prob\"])"
   ]
  },
  {
   "cell_type": "code",
   "execution_count": 24,
   "id": "1671f628",
   "metadata": {},
   "outputs": [
    {
     "data": {
      "text/html": [
       "<div>\n",
       "<style scoped>\n",
       "    .dataframe tbody tr th:only-of-type {\n",
       "        vertical-align: middle;\n",
       "    }\n",
       "\n",
       "    .dataframe tbody tr th {\n",
       "        vertical-align: top;\n",
       "    }\n",
       "\n",
       "    .dataframe thead th {\n",
       "        text-align: right;\n",
       "    }\n",
       "</style>\n",
       "<table border=\"1\" class=\"dataframe\">\n",
       "  <thead>\n",
       "    <tr style=\"text-align: right;\">\n",
       "      <th></th>\n",
       "      <th>score</th>\n",
       "      <th>pred_conf</th>\n",
       "      <th>pred_prob</th>\n",
       "    </tr>\n",
       "  </thead>\n",
       "  <tbody>\n",
       "    <tr>\n",
       "      <th>191_2_1.jpg</th>\n",
       "      <td>0.55353</td>\n",
       "      <td>0.999996</td>\n",
       "      <td>[0.553532]</td>\n",
       "    </tr>\n",
       "    <tr>\n",
       "      <th>28198_2_1.jpg</th>\n",
       "      <td>0.577271</td>\n",
       "      <td>0.999557</td>\n",
       "      <td>[0.5775269]</td>\n",
       "    </tr>\n",
       "    <tr>\n",
       "      <th>28586_2_3.jpg</th>\n",
       "      <td>0.574851</td>\n",
       "      <td>0.999875</td>\n",
       "      <td>[0.5749227]</td>\n",
       "    </tr>\n",
       "    <tr>\n",
       "      <th>8661_2_3.jpg</th>\n",
       "      <td>0.5889</td>\n",
       "      <td>0.999988</td>\n",
       "      <td>[0.5889067]</td>\n",
       "    </tr>\n",
       "    <tr>\n",
       "      <th>10353_2_7.jpg</th>\n",
       "      <td>0.579915</td>\n",
       "      <td>0.997774</td>\n",
       "      <td>[0.581209]</td>\n",
       "    </tr>\n",
       "    <tr>\n",
       "      <th>...</th>\n",
       "      <td>...</td>\n",
       "      <td>...</td>\n",
       "      <td>...</td>\n",
       "    </tr>\n",
       "    <tr>\n",
       "      <th>10002_2_9.jpg</th>\n",
       "      <td>0.571197</td>\n",
       "      <td>0.997539</td>\n",
       "      <td>[0.5726061]</td>\n",
       "    </tr>\n",
       "    <tr>\n",
       "      <th>2533_2_1.jpg</th>\n",
       "      <td>0.581555</td>\n",
       "      <td>0.992283</td>\n",
       "      <td>[0.58607775]</td>\n",
       "    </tr>\n",
       "    <tr>\n",
       "      <th>25744_2_3.jpg</th>\n",
       "      <td>0.562658</td>\n",
       "      <td>0.999937</td>\n",
       "      <td>[0.5626934]</td>\n",
       "    </tr>\n",
       "    <tr>\n",
       "      <th>24074_2_1.jpg</th>\n",
       "      <td>0.586094</td>\n",
       "      <td>0.999564</td>\n",
       "      <td>[0.5863501]</td>\n",
       "    </tr>\n",
       "    <tr>\n",
       "      <th>25042_2_1.jpg</th>\n",
       "      <td>0.567727</td>\n",
       "      <td>0.98852</td>\n",
       "      <td>[0.57432044]</td>\n",
       "    </tr>\n",
       "  </tbody>\n",
       "</table>\n",
       "<p>340 rows × 3 columns</p>\n",
       "</div>"
      ],
      "text/plain": [
       "                  score pred_conf     pred_prob\n",
       "191_2_1.jpg     0.55353  0.999996    [0.553532]\n",
       "28198_2_1.jpg  0.577271  0.999557   [0.5775269]\n",
       "28586_2_3.jpg  0.574851  0.999875   [0.5749227]\n",
       "8661_2_3.jpg     0.5889  0.999988   [0.5889067]\n",
       "10353_2_7.jpg  0.579915  0.997774    [0.581209]\n",
       "...                 ...       ...           ...\n",
       "10002_2_9.jpg  0.571197  0.997539   [0.5726061]\n",
       "2533_2_1.jpg   0.581555  0.992283  [0.58607775]\n",
       "25744_2_3.jpg  0.562658  0.999937   [0.5626934]\n",
       "24074_2_1.jpg  0.586094  0.999564   [0.5863501]\n",
       "25042_2_1.jpg  0.567727   0.98852  [0.57432044]\n",
       "\n",
       "[340 rows x 3 columns]"
      ]
     },
     "execution_count": 24,
     "metadata": {},
     "output_type": "execute_result"
    }
   ],
   "source": [
    "raw_training"
   ]
  },
  {
   "cell_type": "code",
   "execution_count": 25,
   "id": "6bf34236",
   "metadata": {},
   "outputs": [
    {
     "name": "stderr",
     "output_type": "stream",
     "text": [
      "/tmp/ipykernel_41220/1602272338.py:1: VisibleDeprecationWarning: Creating an ndarray from ragged nested sequences (which is a list-or-tuple of lists-or-tuples-or ndarrays with different lengths or shapes) is deprecated. If you meant to do this, you must specify 'dtype=object' when creating the ndarray.\n",
      "  raw_valid = pd.DataFrame(data=np.array(valid_score), index=[valid_names], columns=[\"score\",\"pred_conf\",\"pred_prob\"])\n"
     ]
    }
   ],
   "source": [
    "raw_valid = pd.DataFrame(data=np.array(valid_score), index=[valid_names], columns=[\"score\",\"pred_conf\",\"pred_prob\"])"
   ]
  },
  {
   "cell_type": "code",
   "execution_count": 26,
   "id": "7e6af977",
   "metadata": {},
   "outputs": [
    {
     "data": {
      "text/html": [
       "<div>\n",
       "<style scoped>\n",
       "    .dataframe tbody tr th:only-of-type {\n",
       "        vertical-align: middle;\n",
       "    }\n",
       "\n",
       "    .dataframe tbody tr th {\n",
       "        vertical-align: top;\n",
       "    }\n",
       "\n",
       "    .dataframe thead th {\n",
       "        text-align: right;\n",
       "    }\n",
       "</style>\n",
       "<table border=\"1\" class=\"dataframe\">\n",
       "  <thead>\n",
       "    <tr style=\"text-align: right;\">\n",
       "      <th></th>\n",
       "      <th>score</th>\n",
       "      <th>pred_conf</th>\n",
       "      <th>pred_prob</th>\n",
       "    </tr>\n",
       "  </thead>\n",
       "  <tbody>\n",
       "    <tr>\n",
       "      <th>27742_2_3.jpg</th>\n",
       "      <td>0.57914</td>\n",
       "      <td>0.999768</td>\n",
       "      <td>[0.5792743]</td>\n",
       "    </tr>\n",
       "    <tr>\n",
       "      <th>21770_2_1.jpg</th>\n",
       "      <td>0.590055</td>\n",
       "      <td>0.999999</td>\n",
       "      <td>[0.5900558]</td>\n",
       "    </tr>\n",
       "    <tr>\n",
       "      <th>28487_2_1.jpg</th>\n",
       "      <td>0.582902</td>\n",
       "      <td>0.999953</td>\n",
       "      <td>[0.58292973]</td>\n",
       "    </tr>\n",
       "    <tr>\n",
       "      <th>8946_2_3.jpg</th>\n",
       "      <td>0.571949</td>\n",
       "      <td>0.998872</td>\n",
       "      <td>[0.57259506]</td>\n",
       "    </tr>\n",
       "    <tr>\n",
       "      <th>28196_2_1.jpg</th>\n",
       "      <td>0.594968</td>\n",
       "      <td>0.999985</td>\n",
       "      <td>[0.5949767]</td>\n",
       "    </tr>\n",
       "    <tr>\n",
       "      <th>...</th>\n",
       "      <td>...</td>\n",
       "      <td>...</td>\n",
       "      <td>...</td>\n",
       "    </tr>\n",
       "    <tr>\n",
       "      <th>29919_2_1.jpg</th>\n",
       "      <td>0.587059</td>\n",
       "      <td>0.999948</td>\n",
       "      <td>[0.58708984]</td>\n",
       "    </tr>\n",
       "    <tr>\n",
       "      <th>29932_2_1.jpg</th>\n",
       "      <td>0.559272</td>\n",
       "      <td>0.999914</td>\n",
       "      <td>[0.5593197]</td>\n",
       "    </tr>\n",
       "    <tr>\n",
       "      <th>10355_2_1.jpg</th>\n",
       "      <td>0.579175</td>\n",
       "      <td>0.999986</td>\n",
       "      <td>[0.57918364]</td>\n",
       "    </tr>\n",
       "    <tr>\n",
       "      <th>5806_2_3.jpg</th>\n",
       "      <td>0.567575</td>\n",
       "      <td>0.999999</td>\n",
       "      <td>[0.56757593]</td>\n",
       "    </tr>\n",
       "    <tr>\n",
       "      <th>30985_2_1.jpg</th>\n",
       "      <td>0.60219</td>\n",
       "      <td>0.999731</td>\n",
       "      <td>[0.60235167]</td>\n",
       "    </tr>\n",
       "  </tbody>\n",
       "</table>\n",
       "<p>85 rows × 3 columns</p>\n",
       "</div>"
      ],
      "text/plain": [
       "                  score pred_conf     pred_prob\n",
       "27742_2_3.jpg   0.57914  0.999768   [0.5792743]\n",
       "21770_2_1.jpg  0.590055  0.999999   [0.5900558]\n",
       "28487_2_1.jpg  0.582902  0.999953  [0.58292973]\n",
       "8946_2_3.jpg   0.571949  0.998872  [0.57259506]\n",
       "28196_2_1.jpg  0.594968  0.999985   [0.5949767]\n",
       "...                 ...       ...           ...\n",
       "29919_2_1.jpg  0.587059  0.999948  [0.58708984]\n",
       "29932_2_1.jpg  0.559272  0.999914   [0.5593197]\n",
       "10355_2_1.jpg  0.579175  0.999986  [0.57918364]\n",
       "5806_2_3.jpg   0.567575  0.999999  [0.56757593]\n",
       "30985_2_1.jpg   0.60219  0.999731  [0.60235167]\n",
       "\n",
       "[85 rows x 3 columns]"
      ]
     },
     "execution_count": 26,
     "metadata": {},
     "output_type": "execute_result"
    }
   ],
   "source": [
    "raw_valid"
   ]
  },
  {
   "cell_type": "code",
   "execution_count": 27,
   "id": "9cdc7870",
   "metadata": {},
   "outputs": [
    {
     "name": "stderr",
     "output_type": "stream",
     "text": [
      "/tmp/ipykernel_41220/1281917758.py:1: VisibleDeprecationWarning: Creating an ndarray from ragged nested sequences (which is a list-or-tuple of lists-or-tuples-or ndarrays with different lengths or shapes) is deprecated. If you meant to do this, you must specify 'dtype=object' when creating the ndarray.\n",
      "  raw_test = pd.DataFrame(data=np.array(test_score), index=[test_names], columns=[\"score\",\"pred_conf\",\"pred_prob\"])\n"
     ]
    }
   ],
   "source": [
    "raw_test = pd.DataFrame(data=np.array(test_score), index=[test_names], columns=[\"score\",\"pred_conf\",\"pred_prob\"])"
   ]
  },
  {
   "cell_type": "code",
   "execution_count": 28,
   "id": "59ced0f1",
   "metadata": {},
   "outputs": [
    {
     "name": "stderr",
     "output_type": "stream",
     "text": [
      "/tmp/ipykernel_41220/911882621.py:1: VisibleDeprecationWarning: Creating an ndarray from ragged nested sequences (which is a list-or-tuple of lists-or-tuples-or ndarrays with different lengths or shapes) is deprecated. If you meant to do this, you must specify 'dtype=object' when creating the ndarray.\n",
      "  raw_anomaly = pd.DataFrame(data=np.array(anomaly_score), index=[anomaly_names], columns=[\"score\",\"pred_conf\",\"pred_prob\"])\n"
     ]
    }
   ],
   "source": [
    "raw_anomaly = pd.DataFrame(data=np.array(anomaly_score), index=[anomaly_names], columns=[\"score\",\"pred_conf\",\"pred_prob\"])"
   ]
  },
  {
   "cell_type": "code",
   "execution_count": 29,
   "id": "391d22dc",
   "metadata": {},
   "outputs": [],
   "source": [
    "for i in range(len(coco_anomaly)):\n",
    "    aa =prt_loss(coco_anomaly[i] ,yolo)\n",
    "    coco_score.append(aa)"
   ]
  },
  {
   "cell_type": "code",
   "execution_count": 30,
   "id": "da5fc039",
   "metadata": {},
   "outputs": [],
   "source": [
    "for i in range(len(os.listdir(angled_path))):\n",
    "    aa =prt_loss(os.path.join(angled_path, os.listdir(angled_path)[i]) ,yolo)\n",
    "    angle_score.append(aa)"
   ]
  },
  {
   "cell_type": "code",
   "execution_count": 31,
   "id": "a33bb72b",
   "metadata": {},
   "outputs": [],
   "source": [
    "for i in range(len(os.listdir(brace_path))):\n",
    "    aa =prt_loss(os.path.join(brace_path, os.listdir(brace_path)[i]) ,yolo)\n",
    "    braces_score.append(aa)"
   ]
  },
  {
   "cell_type": "code",
   "execution_count": 32,
   "id": "a66c53c0",
   "metadata": {},
   "outputs": [
    {
     "name": "stderr",
     "output_type": "stream",
     "text": [
      "/tmp/ipykernel_41220/794488856.py:1: VisibleDeprecationWarning: Creating an ndarray from ragged nested sequences (which is a list-or-tuple of lists-or-tuples-or ndarrays with different lengths or shapes) is deprecated. If you meant to do this, you must specify 'dtype=object' when creating the ndarray.\n",
      "  raw_coco= pd.DataFrame(data=np.array(coco_score), index=[coco_names], columns=[\"score\",\"pred_conf\",\"pred_prob\"])\n"
     ]
    }
   ],
   "source": [
    "raw_coco= pd.DataFrame(data=np.array(coco_score), index=[coco_names], columns=[\"score\",\"pred_conf\",\"pred_prob\"])"
   ]
  },
  {
   "cell_type": "code",
   "execution_count": 33,
   "id": "c0a40d56",
   "metadata": {},
   "outputs": [
    {
     "name": "stderr",
     "output_type": "stream",
     "text": [
      "/tmp/ipykernel_41220/3543986322.py:1: VisibleDeprecationWarning: Creating an ndarray from ragged nested sequences (which is a list-or-tuple of lists-or-tuples-or ndarrays with different lengths or shapes) is deprecated. If you meant to do this, you must specify 'dtype=object' when creating the ndarray.\n",
      "  raw_anlge= pd.DataFrame(data=np.array(angle_score), index=[angle_names], columns=[\"score\",\"pred_conf\",\"pred_prob\"])\n"
     ]
    }
   ],
   "source": [
    "raw_anlge= pd.DataFrame(data=np.array(angle_score), index=[angle_names], columns=[\"score\",\"pred_conf\",\"pred_prob\"])"
   ]
  },
  {
   "cell_type": "code",
   "execution_count": 34,
   "id": "96f5b8bb",
   "metadata": {},
   "outputs": [
    {
     "name": "stderr",
     "output_type": "stream",
     "text": [
      "/tmp/ipykernel_41220/928199419.py:1: VisibleDeprecationWarning: Creating an ndarray from ragged nested sequences (which is a list-or-tuple of lists-or-tuples-or ndarrays with different lengths or shapes) is deprecated. If you meant to do this, you must specify 'dtype=object' when creating the ndarray.\n",
      "  raw_braces= pd.DataFrame(data=np.array(braces_score), index=[braces_names], columns=[\"score\",\"pred_conf\",\"pred_prob\"])\n"
     ]
    }
   ],
   "source": [
    "raw_braces= pd.DataFrame(data=np.array(braces_score), index=[braces_names], columns=[\"score\",\"pred_conf\",\"pred_prob\"])"
   ]
  },
  {
   "cell_type": "markdown",
   "id": "b2ec407d",
   "metadata": {},
   "source": [
    "## GIOU(must change when change txt file)"
   ]
  },
  {
   "cell_type": "code",
   "execution_count": 35,
   "id": "85696726",
   "metadata": {},
   "outputs": [],
   "source": [
    "file = open(\"model_data/no_lip_more_train.txt\", \"r\")\n",
    "no_lip_train = file.readlines()\n",
    "file.close()\n",
    "file = open(\"model_data/no_lip_more_validation.txt\", \"r\")\n",
    "no_lip_valid = file.readlines()\n",
    "file.close()"
   ]
  },
  {
   "cell_type": "code",
   "execution_count": 36,
   "id": "8d727d62",
   "metadata": {},
   "outputs": [],
   "source": [
    "GT_train = []\n",
    "GT_valid = []"
   ]
  },
  {
   "cell_type": "code",
   "execution_count": 37,
   "id": "e8da4782",
   "metadata": {},
   "outputs": [],
   "source": [
    "giou_ious_list_train = []\n",
    "giou_ious_list_valid = []"
   ]
  },
  {
   "cell_type": "code",
   "execution_count": 38,
   "id": "d56da965",
   "metadata": {},
   "outputs": [],
   "source": [
    "#GT add\n",
    "for i in range(len(r11)):\n",
    "    bb = no_lip_train[i].split()[1].split(\",\")[0:4]\n",
    "    bb = [int(item) for item in bb]\n",
    "    GT_train.append(bb)\n",
    "for i in range(len(r1)):\n",
    "    bb = no_lip_valid[i].split()[1].split(\",\")[0:4]\n",
    "    bb = [int(item) for item in bb]\n",
    "    GT_valid.append(bb)"
   ]
  },
  {
   "cell_type": "code",
   "execution_count": 39,
   "id": "cc0ef0ef",
   "metadata": {},
   "outputs": [],
   "source": [
    "# train\n",
    "for i in range(len(r11)):\n",
    "    image, bboxes = detect_image(yolo, r11[i], \"\", input_size=YOLO_INPUT_SIZE, show=False, score_threshold=0.1, CLASSES=TRAIN_CLASSES, rectangle_colors=(255,0,0))\n",
    "    if len(bboxes) == 0 :\n",
    "        giou_ious_list_train.append([0,0])\n",
    "    else :\n",
    "        giou,ious = GIoU(np.array(GT_train[i]), bboxes[0][:4])\n",
    "        giou_ious_list_train.append([giou,ious])"
   ]
  },
  {
   "cell_type": "code",
   "execution_count": 40,
   "id": "45409d22",
   "metadata": {},
   "outputs": [],
   "source": [
    "# validation\n",
    "for i in range(len(r1)):\n",
    "    image, bboxes = detect_image(yolo, r1[i], \"\", input_size=YOLO_INPUT_SIZE,score_threshold=0.1, show=False, CLASSES=TRAIN_CLASSES, rectangle_colors=(255,0,0))\n",
    "    if len(bboxes) == 0 :\n",
    "        giou_ious_list_valid.append([0,0])\n",
    "    else :\n",
    "        giou,ious = GIoU(np.array(GT_valid[i]), bboxes[0][:4])\n",
    "        giou_ious_list_valid.append([giou,ious])"
   ]
  },
  {
   "cell_type": "code",
   "execution_count": 41,
   "id": "dba4c5f5",
   "metadata": {},
   "outputs": [],
   "source": [
    "raw_training_giou = pd.DataFrame(data=np.array(giou_ious_list_train), index=[train_names], columns=[\"giou\", \"iou\"])"
   ]
  },
  {
   "cell_type": "code",
   "execution_count": 42,
   "id": "7302bb86",
   "metadata": {},
   "outputs": [],
   "source": [
    "raw_valid_giou = pd.DataFrame(data=np.array(giou_ious_list_valid), index=[valid_names], columns=[\"giou\", \"iou\"])"
   ]
  },
  {
   "cell_type": "code",
   "execution_count": 43,
   "id": "4e15a12b",
   "metadata": {},
   "outputs": [],
   "source": [
    "df_training_join = pd.merge(raw_training,raw_training_giou, left_index=True, right_index = True, \n",
    "                         how =\"outer\" )"
   ]
  },
  {
   "cell_type": "code",
   "execution_count": 44,
   "id": "10cca578",
   "metadata": {},
   "outputs": [],
   "source": [
    "df_valid_join = pd.merge(raw_valid,raw_valid_giou, left_index=True, right_index = True, \n",
    "                         how =\"outer\" )"
   ]
  },
  {
   "cell_type": "code",
   "execution_count": 45,
   "id": "e6fc8f35",
   "metadata": {},
   "outputs": [],
   "source": [
    "xlxs_dir='___final.xlsx' #경로 및 파일명 설정\n",
    "with pd.ExcelWriter(xlxs_dir) as writer:\n",
    "    df_training_join.to_excel(writer, sheet_name = 'training_data') #raw_data1 시트에 저장\n",
    "    df_valid_join.to_excel(writer, sheet_name = 'valid_data') #raw_data2 시트에 저장\n",
    "    raw_test.to_excel(writer, sheet_name = 'test_data') #raw_data2 시트에 저장\n",
    "    raw_anomaly.to_excel(writer, sheet_name = 'anomaly_data') #raw_data2 시트에 저장\n",
    "    raw_coco.to_excel(writer, sheet_name = 'coco_data') #raw_data1 시트에 저장\n",
    "    raw_anlge.to_excel(writer, sheet_name = 'angle_data') #raw_data2 시트에 저장\n",
    "    raw_braces.to_excel(writer, sheet_name = 'braces_data') #raw_data2 시트에 저장"
   ]
  },
  {
   "cell_type": "markdown",
   "id": "ddb2660d",
   "metadata": {},
   "source": [
    "#  test2 replace old_test_set"
   ]
  },
  {
   "cell_type": "code",
   "execution_count": 46,
   "id": "ec6ee2ef",
   "metadata": {},
   "outputs": [],
   "source": [
    "import pandas as pd\n",
    "import numpy as np\n",
    "from sklearn import metrics\n",
    "import matplotlib.pyplot as plt"
   ]
  },
  {
   "cell_type": "code",
   "execution_count": 47,
   "id": "e50a211e",
   "metadata": {},
   "outputs": [],
   "source": [
    "train_df =  pd.read_excel(\"___final.xlsx\", sheet_name=\"training_data\", engine='openpyxl', index_col=0)\n",
    "valid_df = pd.read_excel(\"___final.xlsx\", sheet_name=\"valid_data\", engine='openpyxl', index_col=0)\n",
    "# test_df = pd.read_excel(\"___final.xlsx\", sheet_name=\"test_data\", engine='openpyxl', index_col=0)\n",
    "anomaly_df = pd.read_excel(\"___final.xlsx\", sheet_name=\"anomaly_data\", engine='openpyxl', index_col=0)\n",
    "coco_df = pd.read_excel(\"___final.xlsx\", sheet_name=\"coco_data\", engine='openpyxl', index_col=0)\n",
    "angle_df = pd.read_excel(\"___final.xlsx\", sheet_name=\"angle_data\", engine='openpyxl', index_col=0)\n",
    "braces_df = pd.read_excel(\"___final.xlsx\", sheet_name=\"braces_data\", engine='openpyxl', index_col=0)"
   ]
  },
  {
   "cell_type": "code",
   "execution_count": 48,
   "id": "0854f643",
   "metadata": {},
   "outputs": [
    {
     "name": "stderr",
     "output_type": "stream",
     "text": [
      "Premature end of JPEG file\n"
     ]
    }
   ],
   "source": [
    "test2  =glob(r\"/home/jh/Desktop/teeth/github_td/test2/*.jpg\")\n",
    "test_names = []\n",
    "for i in range(len(test2)):\n",
    "    test_names.append(os.path.basename(test2[i]))\n",
    "\n",
    "test_score = []\n",
    "for i in range(len(test2)):\n",
    "    aa =prt_loss(test2[i] ,yolo)\n",
    "    test_score.append(aa)\n"
   ]
  },
  {
   "cell_type": "code",
   "execution_count": 49,
   "id": "9096538a",
   "metadata": {},
   "outputs": [
    {
     "name": "stderr",
     "output_type": "stream",
     "text": [
      "/tmp/ipykernel_41220/4164779704.py:1: VisibleDeprecationWarning: Creating an ndarray from ragged nested sequences (which is a list-or-tuple of lists-or-tuples-or ndarrays with different lengths or shapes) is deprecated. If you meant to do this, you must specify 'dtype=object' when creating the ndarray.\n",
      "  test2_df = pd.DataFrame(data=np.array(test_score), index=[test_names], columns=[\"score\",\"pred_conf\",\"pred_prob\"])\n"
     ]
    }
   ],
   "source": [
    "test2_df = pd.DataFrame(data=np.array(test_score), index=[test_names], columns=[\"score\",\"pred_conf\",\"pred_prob\"])"
   ]
  },
  {
   "cell_type": "code",
   "execution_count": 50,
   "id": "580680b1",
   "metadata": {},
   "outputs": [],
   "source": [
    "xlxs_dir='___final_2.xlsx' #경로 및 파일명 설정\n",
    "with pd.ExcelWriter(xlxs_dir) as writer:\n",
    "    train_df.to_excel(writer, sheet_name = 'training_data') #raw_data1 시트에 저장\n",
    "    valid_df.to_excel(writer, sheet_name = 'valid_data') #raw_data2 시트에 저장\n",
    "    test2_df.to_excel(writer, sheet_name = 'test_data') #raw_data2 시트에 저장\n",
    "    anomaly_df.to_excel(writer, sheet_name = 'anomaly_data') #raw_data2 시트에 저장\n",
    "    coco_df.to_excel(writer, sheet_name = 'coco_data') #raw_data1 시트에 저장\n",
    "    angle_df.to_excel(writer, sheet_name = 'angle_data') #raw_data2 시트에 저장\n",
    "    braces_df.to_excel(writer, sheet_name = 'braces_data') #raw_data2 시트에 저장"
   ]
  },
  {
   "cell_type": "markdown",
   "id": "0a7fc889",
   "metadata": {},
   "source": [
    "# remove overlab"
   ]
  },
  {
   "cell_type": "code",
   "execution_count": 51,
   "id": "3c2f6e29",
   "metadata": {},
   "outputs": [],
   "source": [
    "from glob import glob\n",
    "import numpy as np\n",
    "import pandas as pd\n",
    "import os"
   ]
  },
  {
   "cell_type": "code",
   "execution_count": 52,
   "id": "bcbba4f7",
   "metadata": {},
   "outputs": [
    {
     "name": "stdout",
     "output_type": "stream",
     "text": [
      "[  34  130  161  189  241  337  466  474  600  646  769  775  860  878\n",
      "  975  995 1016 1021 1076 1082 1184 1267 1275 1363 1478 1500 1528 1585\n",
      " 1685 1806 1899 1955 1981 2041 2047 2061 2363 2391 2433 2435 2556 2558\n",
      " 2612 2613 2734 2747 2824 2888 2904 2919 3005 3073 3092 3152 3171 3202\n",
      " 3342 3385 3444 3461 3556 3772 3798 3843 3890 3943 4014 4117 4297 4426\n",
      " 4551 4555 4658 4798 4843 4911]\n"
     ]
    }
   ],
   "source": [
    "coco_anomaly =  glob(r\"/home/jh/Desktop/teeth/github_td/val2017/*.jpg\")\n",
    "np.random.seed(42)\n",
    "a = np.random.randint(5000, size =76)\n",
    "a = np.sort(a)\n",
    "print(a)\n",
    "anomaly_76 = [coco_anomaly[i] for i in a]"
   ]
  },
  {
   "cell_type": "code",
   "execution_count": 53,
   "id": "fea2b717",
   "metadata": {},
   "outputs": [],
   "source": [
    "train_df =  pd.read_excel(\"___final_2.xlsx\", sheet_name=\"training_data\", engine='openpyxl', index_col=0)\n",
    "valid_df = pd.read_excel(\"___final_2.xlsx\", sheet_name=\"valid_data\", engine='openpyxl', index_col=0)\n",
    "test2_df = pd.read_excel(\"___final_2.xlsx\", sheet_name=\"test_data\", engine='openpyxl', index_col=0)\n",
    "anomaly_df = pd.read_excel(\"___final_2.xlsx\", sheet_name=\"anomaly_data\", engine='openpyxl', index_col=0)\n",
    "coco_df = pd.read_excel(\"___final_2.xlsx\", sheet_name=\"coco_data\", engine='openpyxl', index_col=0)\n",
    "angle_df = pd.read_excel(\"___final_2.xlsx\", sheet_name=\"angle_data\", engine='openpyxl', index_col=0)\n",
    "braces_df = pd.read_excel(\"___final_2.xlsx\", sheet_name=\"braces_data\", engine='openpyxl', index_col=0)"
   ]
  },
  {
   "cell_type": "code",
   "execution_count": 54,
   "id": "1b618b8b",
   "metadata": {},
   "outputs": [],
   "source": [
    "remove_name = [os.path.basename(i) for i in anomaly_76]\n",
    "coco_df = coco_df.drop(remove_name)"
   ]
  },
  {
   "cell_type": "code",
   "execution_count": 55,
   "id": "7cb7268b",
   "metadata": {},
   "outputs": [],
   "source": [
    "xlxs_dir='___final_3.xlsx' #경로 및 파일명 설정\n",
    "with pd.ExcelWriter(xlxs_dir) as writer:\n",
    "    train_df.to_excel(writer, sheet_name = 'training_data') #raw_data1 시트에 저장\n",
    "    valid_df.to_excel(writer, sheet_name = 'valid_data') #raw_data2 시트에 저장\n",
    "    test2_df.to_excel(writer, sheet_name = 'test_data') #raw_data2 시트에 저장\n",
    "    anomaly_df.to_excel(writer, sheet_name = 'anomaly_data') #raw_data2 시트에 저장\n",
    "    coco_df.to_excel(writer, sheet_name = 'coco_data') #raw_data1 시트에 저장\n",
    "    angle_df.to_excel(writer, sheet_name = 'angle_data') #raw_data2 시트에 저장\n",
    "    braces_df.to_excel(writer, sheet_name = 'braces_data') #raw_data2 시트에 저장"
   ]
  },
  {
   "cell_type": "markdown",
   "id": "86bba396",
   "metadata": {},
   "source": [
    "# AUC 계산"
   ]
  },
  {
   "cell_type": "code",
   "execution_count": 56,
   "id": "0decde75",
   "metadata": {},
   "outputs": [],
   "source": [
    "import pandas as pd\n",
    "import numpy as np\n",
    "from sklearn import metrics\n",
    "import matplotlib.pyplot as plt"
   ]
  },
  {
   "cell_type": "code",
   "execution_count": 57,
   "id": "453e74e9",
   "metadata": {},
   "outputs": [],
   "source": [
    "test_df = pd.read_excel(\"___final_3.xlsx\", sheet_name=\"test_data\", engine='openpyxl')\n",
    "# anomaly_df = pd.read_excel(\"___final_3.xlsx\", sheet_name=\"anomaly_data\", engine='openpyxl')\n",
    "coco_df = pd.read_excel(\"___final_3.xlsx\", sheet_name=\"coco_data\", engine='openpyxl')\n",
    "angle_df = pd.read_excel(\"___final_3.xlsx\", sheet_name=\"angle_data\", engine='openpyxl')\n",
    "braces_df = pd.read_excel(\"___final_3.xlsx\", sheet_name=\"braces_data\", engine='openpyxl')"
   ]
  },
  {
   "cell_type": "code",
   "execution_count": 58,
   "id": "e60c6046",
   "metadata": {},
   "outputs": [],
   "source": [
    "test_pred_score = [i for i in test_df[\"score\"]]\n",
    "# anomaly_pred_score = [i for i in anomaly_df[\"score\"]]\n",
    "coco_pred_score=  [i for i in coco_df[\"score\"]]\n",
    "angle_pred_score =  [i for i in angle_df[\"score\"]]\n",
    "braces_pred_score =  [i for i in braces_df[\"score\"]]"
   ]
  },
  {
   "cell_type": "code",
   "execution_count": 59,
   "id": "5530d544",
   "metadata": {},
   "outputs": [],
   "source": [
    "y = [1]*len(test_pred_score)  + [0]*len(coco_pred_score)+ [0]*len(angle_pred_score) +[1]*len(braces_pred_score)"
   ]
  },
  {
   "cell_type": "code",
   "execution_count": 60,
   "id": "3f40a308",
   "metadata": {},
   "outputs": [],
   "source": [
    "pred = np.array(test_pred_score +coco_pred_score +angle_pred_score+braces_pred_score)"
   ]
  },
  {
   "cell_type": "code",
   "execution_count": 61,
   "id": "ca18f4ff",
   "metadata": {},
   "outputs": [],
   "source": [
    "fpr, tpr, thresholds = metrics.roc_curve(y, pred)\n",
    "roc_auc = metrics.auc(fpr, tpr)"
   ]
  },
  {
   "cell_type": "code",
   "execution_count": 62,
   "id": "bfcd881a",
   "metadata": {},
   "outputs": [
    {
     "name": "stdout",
     "output_type": "stream",
     "text": [
      "0.9831910688057046\n"
     ]
    }
   ],
   "source": [
    "print(roc_auc)"
   ]
  },
  {
   "cell_type": "code",
   "execution_count": 63,
   "id": "cd9b936d",
   "metadata": {},
   "outputs": [
    {
     "data": {
      "image/png": "[encoded data removed]",
      "text/plain": [
       "<Figure size 432x288 with 1 Axes>"
      ]
     },
     "metadata": {
      "needs_background": "light"
     },
     "output_type": "display_data"
    }
   ],
   "source": [
    "plt.figure()\n",
    "lw = 2\n",
    "plt.plot(\n",
    "    fpr,\n",
    "    tpr,\n",
    "    color=\"darkorange\",\n",
    "    lw=lw,\n",
    "    label=\"ROC curve (area = %0.2f)\" % roc_auc,\n",
    ")\n",
    "plt.plot([0, 1], [0, 1], color=\"navy\", lw=lw, linestyle=\"--\")\n",
    "plt.xlim([0.0, 1.0])\n",
    "plt.ylim([0.0, 1.05])\n",
    "plt.xlabel(\"False Positive Rate\")\n",
    "plt.ylabel(\"True Positive Rate\")\n",
    "plt.title(\"Receiver operating characteristic example\")\n",
    "plt.legend(loc=\"lower right\")\n",
    "plt.show()"
   ]
  },
  {
   "cell_type": "code",
   "execution_count": 64,
   "id": "a3e0b056",
   "metadata": {},
   "outputs": [],
   "source": [
    "for i in range(len(pred)):\n",
    "    if pred[i]>0.8 :\n",
    "        pred[i]=1\n",
    "    else:\n",
    "        pred[i]=0"
   ]
  },
  {
   "cell_type": "code",
   "execution_count": 65,
   "id": "cf1b7929",
   "metadata": {},
   "outputs": [
    {
     "data": {
      "text/plain": [
       "(4939, 0, 5023, 0)"
      ]
     },
     "execution_count": 65,
     "metadata": {},
     "output_type": "execute_result"
    }
   ],
   "source": [
    "tn, fp, fn, tp = metrics.confusion_matrix(y, pred).ravel()\n",
    "(tn, fp, fn, tp)"
   ]
  },
  {
   "cell_type": "code",
   "execution_count": 66,
   "id": "d3bcd57f",
   "metadata": {},
   "outputs": [
    {
     "data": {
      "image/png": "[encoded data removed]",
      "text/plain": [
       "<Figure size 432x288 with 2 Axes>"
      ]
     },
     "metadata": {
      "needs_background": "light"
     },
     "output_type": "display_data"
    }
   ],
   "source": [
    "import seaborn as sns\n",
    "cf_matrix = metrics.confusion_matrix(y, pred)\n",
    "group_names = [\"True Neg\",\"False Pos\",\"False Neg\",\"True Pos\"]\n",
    "group_counts = [\"{0:0.0f}\".format(value) for value in\n",
    "                cf_matrix.flatten()]\n",
    "# group_percentages = [“{0:.2%}”.format(value) for value in\n",
    "#                      cf_matrix.flatten()/np.sum(cf_matrix)]\n",
    "labels = [f\"{v1}\\n{v2}\" for v1, v2  in zip(group_names,group_counts)]\n",
    "labels = np.asarray(labels).reshape(2,2)\n",
    "sns.heatmap(cf_matrix, annot=labels, fmt=\"\", cmap='Blues')\n",
    "plt.savefig(\"confusion_matrix.jpg\",bbox_inches = \"tight\")"
   ]
  },
  {
   "cell_type": "code",
   "execution_count": null,
   "id": "48d4e694",
   "metadata": {},
   "outputs": [],
   "source": []
  }
 ],
 "metadata": {
  "kernelspec": {
   "display_name": "Python 3 (ipykernel)",
   "language": "python",
   "name": "python3"
  },
  "language_info": {
   "codemirror_mode": {
    "name": "ipython",
    "version": 3
   },
   "file_extension": ".py",
   "mimetype": "text/x-python",
   "name": "python",
   "nbconvert_exporter": "python",
   "pygments_lexer": "ipython3",
   "version": "3.8.0"
  }
 },
 "nbformat": 4,
 "nbformat_minor": 5
}
