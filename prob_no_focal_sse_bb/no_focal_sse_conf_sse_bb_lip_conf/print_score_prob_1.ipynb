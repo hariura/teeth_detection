{
 "cells": [
  {
   "cell_type": "code",
   "execution_count": null,
   "id": "5746161a",
   "metadata": {},
   "outputs": [],
   "source": [
    "import cv2\n",
    "import numpy as np\n",
    "import os\n",
    "import matplotlib\n",
    "import matplotlib.pyplot as plt\n",
    "%matplotlib inline  \n",
    "os.environ[\"CUDA_VISIBLE_DEVICES\"]=\"-1\"  \n",
    "import tensorflow as tf\n",
    "from glob import glob\n",
    "from yolov3.yolov4_config import Create_Yolo\n",
    "from yolov3.utils_config import load_yolo_weights, detect_image, image_preprocess, postprocess_boxes_excel, nms, draw_bbox\n",
    "from yolov3.configs_config import *\n",
    "from PIL import Image\n",
    "\n",
    "import os\n",
    "import pandas as pd\n",
    "\n",
    "if YOLO_TYPE == \"yolov4\":\n",
    "    Darknet_weights = YOLO_V4_TINY_WEIGHTS if TRAIN_YOLO_TINY else YOLO_V4_WEIGHTS\n",
    "if YOLO_TYPE == \"yolov3\":\n",
    "    Darknet_weights = YOLO_V3_TINY_WEIGHTS if TRAIN_YOLO_TINY else YOLO_V3_WEIGHTS\n",
    "\n",
    "yolo = Create_Yolo(input_size=YOLO_INPUT_SIZE)\n",
    "load_yolo_weights(yolo, Darknet_weights) # use Darknet weights"
   ]
  },
  {
   "cell_type": "code",
   "execution_count": 21,
   "id": "a91c03f3",
   "metadata": {},
   "outputs": [
    {
     "data": {
      "text/plain": [
       "<tensorflow.python.training.tracking.util.CheckpointLoadStatus at 0x7f2a64717d00>"
      ]
     },
     "execution_count": 21,
     "metadata": {},
     "output_type": "execute_result"
    }
   ],
   "source": [
    "yolo = Create_Yolo(input_size=YOLO_INPUT_SIZE, CLASSES=TRAIN_CLASSES)\n",
    "yolo.load_weights(\"./checkpoints/frist/yolov3_custom\") # use keras weights"
   ]
  },
  {
   "cell_type": "code",
   "execution_count": 22,
   "id": "b5ba2685",
   "metadata": {},
   "outputs": [],
   "source": [
    "def prt_loss(image_path ,yolo):\n",
    "    input_size = 416\n",
    "    iou_threshold = 0.45\n",
    "    \n",
    "    original_image      = cv2.imread(image_path)\n",
    "    original_image      = cv2.cvtColor(original_image, cv2.COLOR_BGR2RGB)\n",
    "    original_image      = cv2.cvtColor(original_image, cv2.COLOR_BGR2RGB)\n",
    "    image_data = image_preprocess(np.copy(original_image), [input_size, input_size])\n",
    "    image_data = image_data[np.newaxis, ...].astype(np.float32)\n",
    "    pred_bbox = yolo.predict(image_data)\n",
    "    pred_bbox = [tf.reshape(x, (-1, tf.shape(x)[-1])) for x in pred_bbox]\n",
    "    pred_bbox = tf.concat(pred_bbox, axis=0)\n",
    "    bboxes, pred_coor, pred_conf, pred_prob  = postprocess_boxes_excel(pred_bbox, original_image, input_size, 0.0)\n",
    "    classes = np.argmax(pred_prob, axis=-1)\n",
    "    scores = pred_conf * pred_prob[np.arange(len(pred_coor)), classes]\n",
    "    argmax_score = np.argmax(scores)\n",
    "    max_score = np.max(scores)\n",
    "    print_conf, print_prob = pred_conf[argmax_score], pred_prob[argmax_score]\n",
    "    \n",
    "    return [max_score, print_conf, print_prob]"
   ]
  },
  {
   "cell_type": "code",
   "execution_count": 23,
   "id": "04b6c46a",
   "metadata": {},
   "outputs": [],
   "source": [
    "def GIoU(bboxes_1, bboxes_2):\n",
    "    # 1. calulate intersection over union\n",
    "    area_1 = (bboxes_1[2] - bboxes_1[0]) * (bboxes_1[3] - bboxes_1[1])\n",
    "    area_2 = (bboxes_2[2] - bboxes_2[0]) * (bboxes_2[3] - bboxes_2[1])\n",
    "    \n",
    "    intersection_wh = tf.minimum(bboxes_1[2:], bboxes_2[2:]) - tf.maximum(bboxes_1[ :2], bboxes_2[ :2])\n",
    "    intersection_wh = tf.maximum(intersection_wh, 0)\n",
    "    \n",
    "    intersection = intersection_wh[0] * intersection_wh[1]\n",
    "    union = (area_1 + area_2) - intersection\n",
    "    \n",
    "    ious = intersection / union\n",
    "    \n",
    "    # 2. (C - (A U B))/C\n",
    "    C_wh = tf.maximum(bboxes_1[2:], bboxes_2[2:]) - tf.minimum(bboxes_1[:2], bboxes_2[:2])\n",
    "    C_wh = C_wh\n",
    "    C = C_wh[0] * C_wh[1]\n",
    "\n",
    "    giou = ious - (C - union) / C\n",
    "    return giou, ious"
   ]
  },
  {
   "cell_type": "code",
   "execution_count": 24,
   "id": "d139c6f9",
   "metadata": {},
   "outputs": [],
   "source": [
    "r1 = glob(r\"teeth_including_lip_more/test/*.jpg\")"
   ]
  },
  {
   "cell_type": "code",
   "execution_count": 25,
   "id": "a6c8a42c",
   "metadata": {},
   "outputs": [],
   "source": [
    "r11 = glob(r\"teeth_including_lip_more/train/*.jpg\")"
   ]
  },
  {
   "cell_type": "code",
   "execution_count": 26,
   "id": "4aa283f8",
   "metadata": {},
   "outputs": [],
   "source": [
    "r5 = glob(r\"/home/jh/Desktop/teeth/github_td/test2/*.jpg\")"
   ]
  },
  {
   "cell_type": "code",
   "execution_count": 27,
   "id": "53212ea9",
   "metadata": {},
   "outputs": [
    {
     "name": "stdout",
     "output_type": "stream",
     "text": [
      "[  34  130  161  189  241  337  466  474  600  646  769  775  860  878\n",
      "  975  995 1016 1021 1076 1082 1184 1267 1275 1363 1478 1500 1528 1585\n",
      " 1685 1806 1899 1955 1981 2041 2047 2061 2363 2391 2433 2435 2556 2558\n",
      " 2612 2613 2734 2747 2824 2888 2904 2919 3005 3073 3092 3152 3171 3202\n",
      " 3342 3385 3444 3461 3556 3772 3798 3843 3890 3943 4014 4117 4297 4426\n",
      " 4551 4555 4658 4798 4843 4911]\n"
     ]
    }
   ],
   "source": [
    "coco_anomaly =  glob(r\"/home/jh/Desktop/teeth/github_td/val2017/*.jpg\")\n",
    "np.random.seed(42)\n",
    "a = np.random.randint(5000, size =76)\n",
    "a = np.sort(a)\n",
    "print(a)\n",
    "anomaly_76 = [coco_anomaly[i] for i in a]"
   ]
  },
  {
   "cell_type": "code",
   "execution_count": 28,
   "id": "ddec225d",
   "metadata": {},
   "outputs": [],
   "source": [
    "anomaly_85 = glob(r\"/home/jh/Desktop/teeth/github_td/ano/*.jpg\")"
   ]
  },
  {
   "cell_type": "code",
   "execution_count": 29,
   "id": "c920ca07",
   "metadata": {},
   "outputs": [],
   "source": [
    "brace_path = r\"braces\""
   ]
  },
  {
   "cell_type": "code",
   "execution_count": 30,
   "id": "cb202ba8",
   "metadata": {},
   "outputs": [],
   "source": [
    "angled_path = r\"angled\""
   ]
  },
  {
   "cell_type": "markdown",
   "id": "f68afb01",
   "metadata": {},
   "source": [
    "### pred score save "
   ]
  },
  {
   "cell_type": "code",
   "execution_count": 67,
   "id": "7bb63865",
   "metadata": {},
   "outputs": [],
   "source": [
    "train_names = []\n",
    "valid_names = []\n",
    "test_names = []\n",
    "anomaly_names = []"
   ]
  },
  {
   "cell_type": "code",
   "execution_count": 68,
   "id": "2cc93775",
   "metadata": {},
   "outputs": [],
   "source": [
    "coco_names = []\n",
    "braces_names = []\n",
    "angle_names = []"
   ]
  },
  {
   "cell_type": "code",
   "execution_count": 69,
   "id": "ce152975",
   "metadata": {},
   "outputs": [],
   "source": [
    "for i in range(len(r11)):\n",
    "    train_names.append(os.path.basename(r11[i]))\n",
    "for i in range(len(r1)):\n",
    "    valid_names.append(os.path.basename(r1[i]))\n",
    "for i in range(len(r5)):\n",
    "    test_names.append(os.path.basename(r5[i]))\n",
    "for i in range(len(anomaly_85)):\n",
    "    anomaly_names.append(os.path.basename(anomaly_85[i]))"
   ]
  },
  {
   "cell_type": "code",
   "execution_count": 70,
   "id": "46e56eea",
   "metadata": {},
   "outputs": [],
   "source": [
    "for i in range(len(coco_anomaly)):\n",
    "    coco_names.append(os.path.basename(coco_anomaly[i]))\n",
    "for i in range(len(os.listdir(brace_path))):\n",
    "    braces_names.append(os.path.basename(os.listdir(brace_path)[i]))\n",
    "for i in range(len(os.listdir(angled_path))):\n",
    "    angle_names.append(os.path.basename(os.listdir(angled_path)[i]))"
   ]
  },
  {
   "cell_type": "code",
   "execution_count": 35,
   "id": "a60fceb3",
   "metadata": {},
   "outputs": [],
   "source": [
    "train_score = []\n",
    "valid_score = []\n",
    "test_score = []\n",
    "anomaly_score = []"
   ]
  },
  {
   "cell_type": "code",
   "execution_count": 36,
   "id": "15aecaa0",
   "metadata": {},
   "outputs": [],
   "source": [
    "coco_score = []\n",
    "braces_score = []\n",
    "angle_score = []"
   ]
  },
  {
   "cell_type": "code",
   "execution_count": 37,
   "id": "ff893f97",
   "metadata": {},
   "outputs": [],
   "source": [
    "for i in range(len(r11)):\n",
    "    aa =prt_loss(r11[i] ,yolo)\n",
    "    train_score.append(aa)"
   ]
  },
  {
   "cell_type": "code",
   "execution_count": 38,
   "id": "46eb4ba6",
   "metadata": {},
   "outputs": [
    {
     "data": {
      "text/plain": [
       "[[0.99284226, 0.9942776, array([0.9985564], dtype=float32)],\n",
       " [0.991545, 0.99326116, array([0.99827224], dtype=float32)],\n",
       " [0.9779309, 0.97923505, array([0.9986682], dtype=float32)],\n",
       " [0.9929294, 0.9939331, array([0.9989902], dtype=float32)],\n",
       " [0.99507797, 0.9962523, array([0.99882126], dtype=float32)],\n",
       " [0.9938316, 0.99503446, array([0.9987911], dtype=float32)],\n",
       " [0.9899793, 0.99254817, array([0.99741185], dtype=float32)],\n",
       " [0.9985319, 0.99938345, array([0.9991479], dtype=float32)],\n",
       " [0.97202855, 0.9749172, array([0.99703705], dtype=float32)],\n",
       " [0.9812279, 0.98277855, array([0.99842215], dtype=float32)],\n",
       " [0.9933387, 0.9947362, array([0.9985951], dtype=float32)],\n",
       " [0.99032176, 0.99153566, array([0.9987757], dtype=float32)],\n",
       " [0.9904391, 0.99191856, array([0.9985085], dtype=float32)],\n",
       " [0.99326575, 0.9944846, array([0.9987744], dtype=float32)],\n",
       " [0.99184424, 0.99287975, array([0.99895704], dtype=float32)],\n",
       " [0.995041, 0.9967212, array([0.99831426], dtype=float32)],\n",
       " [0.9965205, 0.99785197, array([0.9986657], dtype=float32)],\n",
       " [0.99550027, 0.99714637, array([0.9983492], dtype=float32)],\n",
       " [0.98884594, 0.99290323, array([0.9959137], dtype=float32)],\n",
       " [0.9923132, 0.99380565, array([0.99849826], dtype=float32)],\n",
       " [0.9982135, 0.9989262, array([0.99928653], dtype=float32)],\n",
       " [0.9970581, 0.9980884, array([0.9989677], dtype=float32)],\n",
       " [0.9904516, 0.9917503, array([0.9986905], dtype=float32)],\n",
       " [0.9970999, 0.99797416, array([0.99912393], dtype=float32)],\n",
       " [0.9915517, 0.99221045, array([0.99933606], dtype=float32)],\n",
       " [0.9957107, 0.9968348, array([0.9988723], dtype=float32)],\n",
       " [0.9968347, 0.99785686, array([0.99897563], dtype=float32)],\n",
       " [0.99172664, 0.99503636, array([0.99667376], dtype=float32)],\n",
       " [0.9973445, 0.99849284, array([0.9988499], dtype=float32)],\n",
       " [0.9929423, 0.9940258, array([0.99890995], dtype=float32)],\n",
       " [0.9720438, 0.97397196, array([0.99802035], dtype=float32)],\n",
       " [0.99168175, 0.9933435, array([0.99832714], dtype=float32)],\n",
       " [0.98407257, 0.9889421, array([0.995076], dtype=float32)],\n",
       " [0.9780384, 0.9800921, array([0.99790454], dtype=float32)],\n",
       " [0.99454796, 0.99548584, array([0.9990579], dtype=float32)],\n",
       " [0.99208987, 0.99350965, array([0.9985709], dtype=float32)],\n",
       " [0.9865149, 0.9874854, array([0.99901724], dtype=float32)],\n",
       " [0.9868006, 0.9883351, array([0.9984474], dtype=float32)],\n",
       " [0.99134123, 0.9929038, array([0.99842626], dtype=float32)],\n",
       " [0.98745227, 0.98883474, array([0.9986019], dtype=float32)],\n",
       " [0.996716, 0.99789226, array([0.99882126], dtype=float32)],\n",
       " [0.99640507, 0.9977942, array([0.99860775], dtype=float32)],\n",
       " [0.9972773, 0.9982626, array([0.999013], dtype=float32)],\n",
       " [0.99200714, 0.9931447, array([0.9988546], dtype=float32)],\n",
       " [0.99738926, 0.99824727, array([0.9991405], dtype=float32)],\n",
       " [0.99767053, 0.9986484, array([0.9990208], dtype=float32)],\n",
       " [0.9931644, 0.99435544, array([0.99880224], dtype=float32)],\n",
       " [0.9897437, 0.9909004, array([0.9988327], dtype=float32)],\n",
       " [0.99748516, 0.9988309, array([0.9986527], dtype=float32)],\n",
       " [0.99759436, 0.9987104, array([0.99888253], dtype=float32)],\n",
       " [0.98787683, 0.9887129, array([0.9991544], dtype=float32)],\n",
       " [0.99709153, 0.99807596, array([0.99901366], dtype=float32)],\n",
       " [0.99633735, 0.99769634, array([0.99863786], dtype=float32)],\n",
       " [0.9949231, 0.9961213, array([0.9987972], dtype=float32)],\n",
       " [0.94753516, 0.95005363, array([0.99734914], dtype=float32)],\n",
       " [0.98791844, 0.98977005, array([0.99812925], dtype=float32)],\n",
       " [0.9968488, 0.99809694, array([0.9987495], dtype=float32)],\n",
       " [0.9932988, 0.99549615, array([0.9977927], dtype=float32)],\n",
       " [0.9976157, 0.99883616, array([0.9987781], dtype=float32)],\n",
       " [0.98950434, 0.99374795, array([0.9957297], dtype=float32)],\n",
       " [0.9962607, 0.99821556, array([0.9980416], dtype=float32)],\n",
       " [0.9979746, 0.99880135, array([0.9991722], dtype=float32)],\n",
       " [0.9955955, 0.9975457, array([0.998045], dtype=float32)],\n",
       " [0.98753685, 0.989622, array([0.997893], dtype=float32)],\n",
       " [0.9931008, 0.9943423, array([0.9987514], dtype=float32)],\n",
       " [0.9434191, 0.94722044, array([0.9959868], dtype=float32)],\n",
       " [0.9964163, 0.99744374, array([0.9989699], dtype=float32)],\n",
       " [0.95890194, 0.9612453, array([0.99756217], dtype=float32)],\n",
       " [0.9989698, 0.9996369, array([0.99933267], dtype=float32)],\n",
       " [0.99353266, 0.99566746, array([0.9978559], dtype=float32)],\n",
       " [0.9586741, 0.96046704, array([0.99813324], dtype=float32)],\n",
       " [0.99540085, 0.99629736, array([0.99910015], dtype=float32)],\n",
       " [0.9791985, 0.9804307, array([0.9987432], dtype=float32)],\n",
       " [0.97810906, 0.9798822, array([0.99819046], dtype=float32)],\n",
       " [0.99613434, 0.99756384, array([0.998567], dtype=float32)],\n",
       " [0.99778265, 0.998794, array([0.99898744], dtype=float32)],\n",
       " [0.9944333, 0.99569046, array([0.9987374], dtype=float32)],\n",
       " [0.9974188, 0.99852, array([0.9988972], dtype=float32)],\n",
       " [0.99617684, 0.997718, array([0.99845535], dtype=float32)],\n",
       " [0.9735788, 0.97570026, array([0.99782574], dtype=float32)],\n",
       " [0.9979161, 0.9988581, array([0.99905694], dtype=float32)],\n",
       " [0.9780413, 0.97974247, array([0.99826366], dtype=float32)],\n",
       " [0.9974491, 0.9985584, array([0.9988891], dtype=float32)],\n",
       " [0.99486536, 0.9971267, array([0.99773216], dtype=float32)],\n",
       " [0.9906884, 0.9919591, array([0.998719], dtype=float32)],\n",
       " [0.99661595, 0.997826, array([0.99878734], dtype=float32)],\n",
       " [0.9762917, 0.9783768, array([0.99786884], dtype=float32)],\n",
       " [0.9941581, 0.99524844, array([0.99890447], dtype=float32)],\n",
       " [0.9963105, 0.9977596, array([0.9985476], dtype=float32)],\n",
       " [0.9956851, 0.9962644, array([0.99941856], dtype=float32)],\n",
       " [0.98927355, 0.99055284, array([0.9987085], dtype=float32)],\n",
       " [0.9961946, 0.9973649, array([0.9988266], dtype=float32)],\n",
       " [0.99782455, 0.99875855, array([0.99906486], dtype=float32)],\n",
       " [0.99801683, 0.9988061, array([0.99920976], dtype=float32)],\n",
       " [0.99282706, 0.9942902, array([0.9985285], dtype=float32)],\n",
       " [0.97369087, 0.97542894, array([0.9982181], dtype=float32)],\n",
       " [0.9962848, 0.998058, array([0.9982233], dtype=float32)],\n",
       " [0.9941409, 0.99646485, array([0.99766785], dtype=float32)],\n",
       " [0.99407136, 0.9950943, array([0.998972], dtype=float32)],\n",
       " [0.9851965, 0.98672867, array([0.9984472], dtype=float32)],\n",
       " [0.9854887, 0.9888102, array([0.9966409], dtype=float32)],\n",
       " [0.99472964, 0.9957107, array([0.99901474], dtype=float32)],\n",
       " [0.9936548, 0.99459547, array([0.9990542], dtype=float32)],\n",
       " [0.9915421, 0.992408, array([0.9991275], dtype=float32)],\n",
       " [0.9927364, 0.9940022, array([0.99872655], dtype=float32)],\n",
       " [0.9971929, 0.99852026, array([0.9986707], dtype=float32)],\n",
       " [0.97725594, 0.9804623, array([0.99672973], dtype=float32)],\n",
       " [0.9967531, 0.99749875, array([0.9992525], dtype=float32)],\n",
       " [0.9924771, 0.9953548, array([0.99710894], dtype=float32)],\n",
       " [0.98448294, 0.98552537, array([0.99894226], dtype=float32)],\n",
       " [0.92959654, 0.9419172, array([0.98691964], dtype=float32)],\n",
       " [0.96078587, 0.9626957, array([0.9980161], dtype=float32)],\n",
       " [0.9969046, 0.9982418, array([0.99866045], dtype=float32)],\n",
       " [0.99113816, 0.9932234, array([0.9979005], dtype=float32)],\n",
       " [0.96708834, 0.9709635, array([0.996009], dtype=float32)],\n",
       " [0.99814975, 0.9988862, array([0.9992627], dtype=float32)],\n",
       " [0.9433464, 0.94785726, array([0.995241], dtype=float32)],\n",
       " [0.99763954, 0.99887615, array([0.998762], dtype=float32)],\n",
       " [0.99409026, 0.99483967, array([0.9992467], dtype=float32)],\n",
       " [0.9909484, 0.9924252, array([0.9985119], dtype=float32)],\n",
       " [0.995924, 0.99729645, array([0.99862385], dtype=float32)],\n",
       " [0.9976535, 0.9989285, array([0.9987236], dtype=float32)],\n",
       " [0.99626464, 0.9977347, array([0.9985266], dtype=float32)],\n",
       " [0.99737763, 0.99853134, array([0.9988446], dtype=float32)],\n",
       " [0.99498004, 0.99599475, array([0.99898124], dtype=float32)],\n",
       " [0.99554294, 0.99726784, array([0.9982704], dtype=float32)],\n",
       " [0.99673486, 0.99790764, array([0.9988248], dtype=float32)],\n",
       " [0.9978172, 0.9989744, array([0.99884164], dtype=float32)],\n",
       " [0.98407537, 0.98592603, array([0.99812293], dtype=float32)],\n",
       " [0.99474514, 0.9954599, array([0.99928194], dtype=float32)],\n",
       " [0.9912263, 0.99226487, array([0.99895334], dtype=float32)],\n",
       " [0.99249756, 0.9935082, array([0.9989827], dtype=float32)],\n",
       " [0.9958042, 0.99720585, array([0.9985944], dtype=float32)],\n",
       " [0.9963063, 0.9973336, array([0.99897], dtype=float32)],\n",
       " [0.9348597, 0.9372802, array([0.99741757], dtype=float32)],\n",
       " [0.9977583, 0.99871933, array([0.99903774], dtype=float32)],\n",
       " [0.99584824, 0.99715805, array([0.99868643], dtype=float32)],\n",
       " [0.9907269, 0.9947193, array([0.99598634], dtype=float32)],\n",
       " [0.9972768, 0.99815494, array([0.99912024], dtype=float32)],\n",
       " [0.9841677, 0.9857565, array([0.99838823], dtype=float32)],\n",
       " [0.9962376, 0.99751073, array([0.9987237], dtype=float32)],\n",
       " [0.99093854, 0.9923553, array([0.99857235], dtype=float32)],\n",
       " [0.99539036, 0.9964812, array([0.9989053], dtype=float32)],\n",
       " [0.995848, 0.9971984, array([0.9986458], dtype=float32)],\n",
       " [0.9966616, 0.9982869, array([0.9983719], dtype=float32)],\n",
       " [0.992237, 0.9931251, array([0.99910575], dtype=float32)],\n",
       " [0.99528396, 0.9964607, array([0.9988191], dtype=float32)],\n",
       " [0.9947203, 0.9956338, array([0.9990825], dtype=float32)],\n",
       " [0.992798, 0.99375653, array([0.9990354], dtype=float32)],\n",
       " [0.99443, 0.9960463, array([0.99837726], dtype=float32)],\n",
       " [0.9978711, 0.9984286, array([0.9994416], dtype=float32)],\n",
       " [0.98218006, 0.98375165, array([0.9984024], dtype=float32)],\n",
       " [0.9771432, 0.97885835, array([0.99824786], dtype=float32)],\n",
       " [0.95583576, 0.9591721, array([0.9965216], dtype=float32)],\n",
       " [0.9910278, 0.9921013, array([0.99891794], dtype=float32)],\n",
       " [0.9905819, 0.99237084, array([0.9981973], dtype=float32)],\n",
       " [0.99802357, 0.9987544, array([0.9992683], dtype=float32)],\n",
       " [0.9913631, 0.99317455, array([0.9981761], dtype=float32)],\n",
       " [0.99484634, 0.99570155, array([0.9991411], dtype=float32)],\n",
       " [0.97755426, 0.9785913, array([0.9989402], dtype=float32)],\n",
       " [0.99235004, 0.9934044, array([0.9989387], dtype=float32)],\n",
       " [0.9950884, 0.9967013, array([0.99838173], dtype=float32)],\n",
       " [0.9271626, 0.93294054, array([0.9938067], dtype=float32)],\n",
       " [0.9880206, 0.99235594, array([0.9956313], dtype=float32)],\n",
       " [0.9752521, 0.9779757, array([0.99721503], dtype=float32)],\n",
       " [0.99656624, 0.99756825, array([0.99899554], dtype=float32)],\n",
       " [0.9800878, 0.98132026, array([0.9987441], dtype=float32)],\n",
       " [0.99602413, 0.9973165, array([0.9987042], dtype=float32)],\n",
       " [0.9953082, 0.99683845, array([0.99846494], dtype=float32)],\n",
       " [0.99720645, 0.9979289, array([0.99927604], dtype=float32)],\n",
       " [0.9967861, 0.99806666, array([0.99871695], dtype=float32)],\n",
       " [0.9933462, 0.9943213, array([0.9990194], dtype=float32)],\n",
       " [0.95738906, 0.9592508, array([0.99805915], dtype=float32)],\n",
       " [0.99692196, 0.9980495, array([0.99887025], dtype=float32)],\n",
       " [0.99671257, 0.99818647, array([0.9985234], dtype=float32)],\n",
       " [0.99498236, 0.99638444, array([0.99859285], dtype=float32)],\n",
       " [0.9976053, 0.9984119, array([0.9991921], dtype=float32)],\n",
       " [0.99252176, 0.9936582, array([0.9988563], dtype=float32)],\n",
       " [0.994903, 0.9961356, array([0.99876267], dtype=float32)],\n",
       " [0.9839409, 0.987905, array([0.99598736], dtype=float32)],\n",
       " [0.95166594, 0.9552335, array([0.99626523], dtype=float32)],\n",
       " [0.9902675, 0.99109447, array([0.9991656], dtype=float32)],\n",
       " [0.9964215, 0.9977679, array([0.99865055], dtype=float32)],\n",
       " [0.9984124, 0.99928546, array([0.9991263], dtype=float32)],\n",
       " [0.9976372, 0.9985135, array([0.9991224], dtype=float32)],\n",
       " [0.9747103, 0.97628355, array([0.9983885], dtype=float32)],\n",
       " [0.9959738, 0.99672854, array([0.9992428], dtype=float32)],\n",
       " [0.9933556, 0.9944305, array([0.99891907], dtype=float32)],\n",
       " [0.9961137, 0.9979056, array([0.99820435], dtype=float32)],\n",
       " [0.99782, 0.9989221, array([0.9988967], dtype=float32)],\n",
       " [0.99342996, 0.99446464, array([0.99895954], dtype=float32)],\n",
       " [0.9873831, 0.98865336, array([0.99871516], dtype=float32)],\n",
       " [0.990888, 0.9919288, array([0.9989507], dtype=float32)],\n",
       " [0.9885825, 0.9924664, array([0.9960866], dtype=float32)],\n",
       " [0.9983164, 0.9991531, array([0.9991626], dtype=float32)],\n",
       " [0.9963861, 0.99810743, array([0.9982754], dtype=float32)],\n",
       " [0.9981868, 0.9992685, array([0.9989176], dtype=float32)],\n",
       " [0.9670455, 0.9692059, array([0.9977709], dtype=float32)],\n",
       " [0.8923791, 0.89616257, array([0.99577814], dtype=float32)],\n",
       " [0.97737885, 0.9849441, array([0.9923191], dtype=float32)],\n",
       " [0.99836797, 0.9993781, array([0.9989892], dtype=float32)],\n",
       " [0.99842256, 0.99922615, array([0.9991958], dtype=float32)],\n",
       " [0.9928327, 0.9938863, array([0.99893993], dtype=float32)],\n",
       " [0.9943982, 0.9963892, array([0.99800175], dtype=float32)],\n",
       " [0.99320686, 0.99520236, array([0.9979949], dtype=float32)],\n",
       " [0.99479795, 0.9969346, array([0.9978568], dtype=float32)],\n",
       " [0.995496, 0.9971787, array([0.99831253], dtype=float32)],\n",
       " [0.9960584, 0.9976914, array([0.99836326], dtype=float32)],\n",
       " [0.97808576, 0.9798862, array([0.9981626], dtype=float32)],\n",
       " [0.9960273, 0.9972484, array([0.9987755], dtype=float32)],\n",
       " [0.99289, 0.9941037, array([0.99877906], dtype=float32)],\n",
       " [0.99675316, 0.998003, array([0.99874765], dtype=float32)],\n",
       " [0.9970618, 0.9978918, array([0.9991683], dtype=float32)],\n",
       " [0.9785712, 0.98066545, array([0.9978644], dtype=float32)],\n",
       " [0.9964786, 0.9981019, array([0.9983736], dtype=float32)],\n",
       " [0.9924022, 0.99333894, array([0.999057], dtype=float32)],\n",
       " [0.98834115, 0.99118817, array([0.99712765], dtype=float32)],\n",
       " [0.8976752, 0.8995018, array([0.9979693], dtype=float32)],\n",
       " [0.9968796, 0.99817944, array([0.99869776], dtype=float32)],\n",
       " [0.99533015, 0.9968654, array([0.99845994], dtype=float32)],\n",
       " [0.9901299, 0.99283695, array([0.9972734], dtype=float32)],\n",
       " [0.9674794, 0.9703575, array([0.997034], dtype=float32)],\n",
       " [0.9951303, 0.99606174, array([0.99906486], dtype=float32)],\n",
       " [0.9964906, 0.9975585, array([0.9989295], dtype=float32)],\n",
       " [0.99534625, 0.9975472, array([0.9977936], dtype=float32)],\n",
       " [0.9971244, 0.9985011, array([0.99862117], dtype=float32)],\n",
       " [0.99157774, 0.9926771, array([0.99889255], dtype=float32)],\n",
       " [0.94459504, 0.9466748, array([0.99780303], dtype=float32)],\n",
       " [0.9908252, 0.99375266, array([0.9970541], dtype=float32)],\n",
       " [0.9891779, 0.9903512, array([0.99881524], dtype=float32)],\n",
       " [0.9488942, 0.9563644, array([0.992189], dtype=float32)],\n",
       " [0.9970299, 0.998496, array([0.9985317], dtype=float32)],\n",
       " [0.98133904, 0.9833487, array([0.9979563], dtype=float32)],\n",
       " [0.9906336, 0.9923629, array([0.9982574], dtype=float32)],\n",
       " [0.9962414, 0.9977318, array([0.9985062], dtype=float32)],\n",
       " [0.9977437, 0.99866754, array([0.99907494], dtype=float32)],\n",
       " [0.9904855, 0.99147016, array([0.99900687], dtype=float32)],\n",
       " [0.9976095, 0.99863136, array([0.99897677], dtype=float32)],\n",
       " [0.9941214, 0.99617535, array([0.99793816], dtype=float32)],\n",
       " [0.994727, 0.9971678, array([0.9975523], dtype=float32)],\n",
       " [0.99699533, 0.99801517, array([0.99897814], dtype=float32)],\n",
       " [0.9967596, 0.9978087, array([0.9989486], dtype=float32)],\n",
       " [0.9969958, 0.99836683, array([0.9986267], dtype=float32)],\n",
       " [0.96462, 0.9678049, array([0.9967091], dtype=float32)],\n",
       " [0.9943197, 0.99581826, array([0.9984951], dtype=float32)],\n",
       " [0.99516964, 0.9962791, array([0.99888635], dtype=float32)],\n",
       " [0.9949808, 0.99617946, array([0.99879676], dtype=float32)],\n",
       " [0.98983395, 0.9921136, array([0.99770224], dtype=float32)],\n",
       " [0.9981374, 0.9990097, array([0.9991268], dtype=float32)],\n",
       " [0.9932285, 0.9944649, array([0.99875677], dtype=float32)],\n",
       " [0.9931493, 0.99462605, array([0.99851525], dtype=float32)],\n",
       " [0.9920783, 0.9934425, array([0.9986268], dtype=float32)],\n",
       " [0.9968498, 0.9976586, array([0.99918926], dtype=float32)],\n",
       " [0.99645627, 0.99735236, array([0.9991015], dtype=float32)],\n",
       " [0.98776305, 0.98941433, array([0.99833107], dtype=float32)],\n",
       " [0.99783534, 0.9988491, array([0.99898505], dtype=float32)],\n",
       " [0.9975842, 0.99836993, array([0.999213], dtype=float32)],\n",
       " [0.99509966, 0.99714077, array([0.99795306], dtype=float32)],\n",
       " [0.97721076, 0.97866803, array([0.99851096], dtype=float32)],\n",
       " [0.99826497, 0.999138, array([0.9991262], dtype=float32)],\n",
       " [0.99651694, 0.99828696, array([0.99822694], dtype=float32)],\n",
       " [0.9942706, 0.9964713, array([0.9977915], dtype=float32)],\n",
       " [0.99629754, 0.9973695, array([0.9989252], dtype=float32)],\n",
       " [0.9925443, 0.9935528, array([0.99898493], dtype=float32)],\n",
       " [0.9976219, 0.998784, array([0.99883646], dtype=float32)],\n",
       " [0.98743045, 0.9889306, array([0.99848306], dtype=float32)],\n",
       " [0.9948258, 0.9966701, array([0.9981495], dtype=float32)],\n",
       " [0.99694175, 0.9977925, array([0.99914736], dtype=float32)],\n",
       " [0.9932454, 0.9955934, array([0.9976416], dtype=float32)],\n",
       " [0.9855931, 0.98685557, array([0.9987207], dtype=float32)],\n",
       " [0.99763954, 0.99888736, array([0.9987508], dtype=float32)],\n",
       " [0.98866206, 0.9900954, array([0.9985523], dtype=float32)],\n",
       " [0.9899807, 0.9918331, array([0.99813235], dtype=float32)],\n",
       " [0.9931542, 0.99458295, array([0.99856347], dtype=float32)],\n",
       " [0.99784315, 0.99868, array([0.999162], dtype=float32)],\n",
       " [0.99760914, 0.9987856, array([0.9988221], dtype=float32)],\n",
       " [0.9943668, 0.995314, array([0.99904835], dtype=float32)],\n",
       " [0.9959128, 0.997242, array([0.9986671], dtype=float32)],\n",
       " [0.9878774, 0.98916566, array([0.99869764], dtype=float32)],\n",
       " [0.9936016, 0.99520063, array([0.9983933], dtype=float32)],\n",
       " [0.9966098, 0.99825644, array([0.9983505], dtype=float32)],\n",
       " [0.98718953, 0.99113935, array([0.9960149], dtype=float32)],\n",
       " [0.996718, 0.998029, array([0.99868643], dtype=float32)],\n",
       " [0.9883794, 0.98965687, array([0.9987092], dtype=float32)],\n",
       " [0.9971294, 0.9983127, array([0.99881464], dtype=float32)],\n",
       " [0.9958603, 0.99722314, array([0.9986333], dtype=float32)],\n",
       " [0.99707246, 0.9985368, array([0.9985335], dtype=float32)],\n",
       " [0.9858532, 0.98753864, array([0.9982933], dtype=float32)],\n",
       " [0.98424494, 0.98659813, array([0.99761486], dtype=float32)],\n",
       " [0.99566835, 0.9965346, array([0.9991307], dtype=float32)],\n",
       " [0.9956237, 0.99691296, array([0.99870676], dtype=float32)],\n",
       " [0.98350155, 0.9853356, array([0.99813867], dtype=float32)],\n",
       " [0.98832726, 0.9930909, array([0.9952032], dtype=float32)],\n",
       " [0.9965787, 0.9976752, array([0.99890095], dtype=float32)],\n",
       " [0.9974479, 0.9985044, array([0.9989419], dtype=float32)],\n",
       " [0.9913395, 0.99486446, array([0.99645686], dtype=float32)],\n",
       " [0.991349, 0.9929516, array([0.998386], dtype=float32)],\n",
       " [0.9976614, 0.99846244, array([0.9991977], dtype=float32)],\n",
       " [0.99375874, 0.99541193, array([0.9983392], dtype=float32)],\n",
       " [0.9949982, 0.99698806, array([0.99800414], dtype=float32)],\n",
       " [0.9866707, 0.9892539, array([0.9973887], dtype=float32)],\n",
       " [0.9961112, 0.9970931, array([0.9990153], dtype=float32)],\n",
       " [0.9934804, 0.99558437, array([0.99788666], dtype=float32)],\n",
       " [0.9983171, 0.99904776, array([0.99926865], dtype=float32)],\n",
       " [0.9766972, 0.9789095, array([0.99774003], dtype=float32)],\n",
       " [0.9957078, 0.99636084, array([0.9993446], dtype=float32)],\n",
       " [0.99753666, 0.9986557, array([0.9988795], dtype=float32)],\n",
       " [0.9732377, 0.97455573, array([0.9986476], dtype=float32)],\n",
       " [0.9980596, 0.99902725, array([0.99903136], dtype=float32)],\n",
       " [0.9977931, 0.9989599, array([0.998832], dtype=float32)],\n",
       " [0.99558634, 0.99716645, array([0.9984154], dtype=float32)],\n",
       " [0.99352235, 0.99440336, array([0.99911404], dtype=float32)],\n",
       " [0.99606025, 0.9977453, array([0.99831116], dtype=float32)],\n",
       " [0.99545324, 0.99711233, array([0.9983361], dtype=float32)],\n",
       " [0.99544966, 0.99678403, array([0.99866134], dtype=float32)],\n",
       " [0.9800169, 0.98302984, array([0.996935], dtype=float32)],\n",
       " [0.9961619, 0.9973532, array([0.9988055], dtype=float32)],\n",
       " [0.9967908, 0.998034, array([0.9987544], dtype=float32)],\n",
       " [0.99740595, 0.9984703, array([0.99893403], dtype=float32)],\n",
       " [0.994739, 0.9957855, array([0.9989491], dtype=float32)],\n",
       " [0.9238997, 0.92599547, array([0.99773675], dtype=float32)],\n",
       " [0.9904663, 0.9921197, array([0.99833345], dtype=float32)],\n",
       " [0.9697071, 0.9729111, array([0.9967067], dtype=float32)],\n",
       " [0.99417007, 0.99646056, array([0.9977014], dtype=float32)],\n",
       " [0.98593634, 0.9872309, array([0.9986887], dtype=float32)],\n",
       " [0.9982359, 0.999164, array([0.9990711], dtype=float32)],\n",
       " [0.9971369, 0.99839026, array([0.9987446], dtype=float32)],\n",
       " [0.9938126, 0.9951983, array([0.99860764], dtype=float32)],\n",
       " [0.9816986, 0.9831258, array([0.99854827], dtype=float32)],\n",
       " [0.9968386, 0.9975914, array([0.99924546], dtype=float32)],\n",
       " [0.9705995, 0.9748715, array([0.99561787], dtype=float32)],\n",
       " [0.99619645, 0.99748886, array([0.9987043], dtype=float32)],\n",
       " [0.997006, 0.9983326, array([0.9986712], dtype=float32)],\n",
       " [0.99507505, 0.9966043, array([0.99846554], dtype=float32)],\n",
       " [0.96264786, 0.96768796, array([0.9947916], dtype=float32)],\n",
       " [0.9776238, 0.9796767, array([0.99790454], dtype=float32)],\n",
       " [0.99526983, 0.99667966, array([0.99858546], dtype=float32)],\n",
       " [0.99152124, 0.9929352, array([0.998576], dtype=float32)],\n",
       " [0.99154377, 0.9932739, array([0.9982581], dtype=float32)],\n",
       " [0.99332964, 0.99461436, array([0.9987083], dtype=float32)]]"
      ]
     },
     "execution_count": 38,
     "metadata": {},
     "output_type": "execute_result"
    }
   ],
   "source": [
    "train_score"
   ]
  },
  {
   "cell_type": "code",
   "execution_count": 43,
   "id": "1f232c9f",
   "metadata": {},
   "outputs": [],
   "source": [
    "for i in range(len(r1)):\n",
    "    aa =prt_loss(r1[i] ,yolo)\n",
    "    valid_score.append(aa)"
   ]
  },
  {
   "cell_type": "code",
   "execution_count": 44,
   "id": "8363bdc1",
   "metadata": {},
   "outputs": [
    {
     "name": "stderr",
     "output_type": "stream",
     "text": [
      "Premature end of JPEG file\n"
     ]
    }
   ],
   "source": [
    "for i in range(len(r5)):\n",
    "    aa =prt_loss(r5[i] ,yolo)\n",
    "    test_score.append(aa)"
   ]
  },
  {
   "cell_type": "code",
   "execution_count": 45,
   "id": "2daf1c06",
   "metadata": {},
   "outputs": [],
   "source": [
    "for i in range(len(anomaly_85)):\n",
    "    aa =prt_loss(anomaly_85[i] ,yolo)\n",
    "    anomaly_score.append(aa)"
   ]
  },
  {
   "cell_type": "code",
   "execution_count": 46,
   "id": "cefcce19",
   "metadata": {},
   "outputs": [
    {
     "name": "stderr",
     "output_type": "stream",
     "text": [
      "/tmp/ipykernel_226877/2699754950.py:1: VisibleDeprecationWarning: Creating an ndarray from ragged nested sequences (which is a list-or-tuple of lists-or-tuples-or ndarrays with different lengths or shapes) is deprecated. If you meant to do this, you must specify 'dtype=object' when creating the ndarray.\n",
      "  raw_training = pd.DataFrame(data=np.array(train_score), index=[train_names], columns=[\"score\",\"pred_conf\",\"pred_prob\"])\n"
     ]
    }
   ],
   "source": [
    "raw_training = pd.DataFrame(data=np.array(train_score), index=[train_names], columns=[\"score\",\"pred_conf\",\"pred_prob\"])"
   ]
  },
  {
   "cell_type": "code",
   "execution_count": 52,
   "id": "1671f628",
   "metadata": {},
   "outputs": [
    {
     "data": {
      "text/html": [
       "<div>\n",
       "<style scoped>\n",
       "    .dataframe tbody tr th:only-of-type {\n",
       "        vertical-align: middle;\n",
       "    }\n",
       "\n",
       "    .dataframe tbody tr th {\n",
       "        vertical-align: top;\n",
       "    }\n",
       "\n",
       "    .dataframe thead th {\n",
       "        text-align: right;\n",
       "    }\n",
       "</style>\n",
       "<table border=\"1\" class=\"dataframe\">\n",
       "  <thead>\n",
       "    <tr style=\"text-align: right;\">\n",
       "      <th></th>\n",
       "      <th>score</th>\n",
       "      <th>pred_conf</th>\n",
       "      <th>pred_prob</th>\n",
       "    </tr>\n",
       "  </thead>\n",
       "  <tbody>\n",
       "    <tr>\n",
       "      <th>191_2_1.jpg</th>\n",
       "      <td>0.992842</td>\n",
       "      <td>0.994278</td>\n",
       "      <td>[0.9985564]</td>\n",
       "    </tr>\n",
       "    <tr>\n",
       "      <th>28198_2_1.jpg</th>\n",
       "      <td>0.991545</td>\n",
       "      <td>0.993261</td>\n",
       "      <td>[0.99827224]</td>\n",
       "    </tr>\n",
       "    <tr>\n",
       "      <th>28586_2_3.jpg</th>\n",
       "      <td>0.977931</td>\n",
       "      <td>0.979235</td>\n",
       "      <td>[0.9986682]</td>\n",
       "    </tr>\n",
       "    <tr>\n",
       "      <th>8661_2_3.jpg</th>\n",
       "      <td>0.992929</td>\n",
       "      <td>0.993933</td>\n",
       "      <td>[0.9989902]</td>\n",
       "    </tr>\n",
       "    <tr>\n",
       "      <th>10353_2_7.jpg</th>\n",
       "      <td>0.995078</td>\n",
       "      <td>0.996252</td>\n",
       "      <td>[0.99882126]</td>\n",
       "    </tr>\n",
       "    <tr>\n",
       "      <th>...</th>\n",
       "      <td>...</td>\n",
       "      <td>...</td>\n",
       "      <td>...</td>\n",
       "    </tr>\n",
       "    <tr>\n",
       "      <th>10002_2_9.jpg</th>\n",
       "      <td>0.977624</td>\n",
       "      <td>0.979677</td>\n",
       "      <td>[0.99790454]</td>\n",
       "    </tr>\n",
       "    <tr>\n",
       "      <th>2533_2_1.jpg</th>\n",
       "      <td>0.99527</td>\n",
       "      <td>0.99668</td>\n",
       "      <td>[0.99858546]</td>\n",
       "    </tr>\n",
       "    <tr>\n",
       "      <th>25744_2_3.jpg</th>\n",
       "      <td>0.991521</td>\n",
       "      <td>0.992935</td>\n",
       "      <td>[0.998576]</td>\n",
       "    </tr>\n",
       "    <tr>\n",
       "      <th>24074_2_1.jpg</th>\n",
       "      <td>0.991544</td>\n",
       "      <td>0.993274</td>\n",
       "      <td>[0.9982581]</td>\n",
       "    </tr>\n",
       "    <tr>\n",
       "      <th>25042_2_1.jpg</th>\n",
       "      <td>0.99333</td>\n",
       "      <td>0.994614</td>\n",
       "      <td>[0.9987083]</td>\n",
       "    </tr>\n",
       "  </tbody>\n",
       "</table>\n",
       "<p>340 rows × 3 columns</p>\n",
       "</div>"
      ],
      "text/plain": [
       "                  score pred_conf     pred_prob\n",
       "191_2_1.jpg    0.992842  0.994278   [0.9985564]\n",
       "28198_2_1.jpg  0.991545  0.993261  [0.99827224]\n",
       "28586_2_3.jpg  0.977931  0.979235   [0.9986682]\n",
       "8661_2_3.jpg   0.992929  0.993933   [0.9989902]\n",
       "10353_2_7.jpg  0.995078  0.996252  [0.99882126]\n",
       "...                 ...       ...           ...\n",
       "10002_2_9.jpg  0.977624  0.979677  [0.99790454]\n",
       "2533_2_1.jpg    0.99527   0.99668  [0.99858546]\n",
       "25744_2_3.jpg  0.991521  0.992935    [0.998576]\n",
       "24074_2_1.jpg  0.991544  0.993274   [0.9982581]\n",
       "25042_2_1.jpg   0.99333  0.994614   [0.9987083]\n",
       "\n",
       "[340 rows x 3 columns]"
      ]
     },
     "execution_count": 52,
     "metadata": {},
     "output_type": "execute_result"
    }
   ],
   "source": [
    "raw_training"
   ]
  },
  {
   "cell_type": "code",
   "execution_count": 47,
   "id": "6bf34236",
   "metadata": {},
   "outputs": [
    {
     "name": "stderr",
     "output_type": "stream",
     "text": [
      "/tmp/ipykernel_226877/1602272338.py:1: VisibleDeprecationWarning: Creating an ndarray from ragged nested sequences (which is a list-or-tuple of lists-or-tuples-or ndarrays with different lengths or shapes) is deprecated. If you meant to do this, you must specify 'dtype=object' when creating the ndarray.\n",
      "  raw_valid = pd.DataFrame(data=np.array(valid_score), index=[valid_names], columns=[\"score\",\"pred_conf\",\"pred_prob\"])\n"
     ]
    }
   ],
   "source": [
    "raw_valid = pd.DataFrame(data=np.array(valid_score), index=[valid_names], columns=[\"score\",\"pred_conf\",\"pred_prob\"])"
   ]
  },
  {
   "cell_type": "code",
   "execution_count": 53,
   "id": "7e6af977",
   "metadata": {},
   "outputs": [
    {
     "data": {
      "text/html": [
       "<div>\n",
       "<style scoped>\n",
       "    .dataframe tbody tr th:only-of-type {\n",
       "        vertical-align: middle;\n",
       "    }\n",
       "\n",
       "    .dataframe tbody tr th {\n",
       "        vertical-align: top;\n",
       "    }\n",
       "\n",
       "    .dataframe thead th {\n",
       "        text-align: right;\n",
       "    }\n",
       "</style>\n",
       "<table border=\"1\" class=\"dataframe\">\n",
       "  <thead>\n",
       "    <tr style=\"text-align: right;\">\n",
       "      <th></th>\n",
       "      <th>score</th>\n",
       "      <th>pred_conf</th>\n",
       "      <th>pred_prob</th>\n",
       "    </tr>\n",
       "  </thead>\n",
       "  <tbody>\n",
       "    <tr>\n",
       "      <th>27742_2_3.jpg</th>\n",
       "      <td>0.976035</td>\n",
       "      <td>0.977575</td>\n",
       "      <td>[0.9984244]</td>\n",
       "    </tr>\n",
       "    <tr>\n",
       "      <th>21770_2_1.jpg</th>\n",
       "      <td>0.990988</td>\n",
       "      <td>0.992206</td>\n",
       "      <td>[0.9987728]</td>\n",
       "    </tr>\n",
       "    <tr>\n",
       "      <th>28487_2_1.jpg</th>\n",
       "      <td>0.967515</td>\n",
       "      <td>0.968683</td>\n",
       "      <td>[0.9987948]</td>\n",
       "    </tr>\n",
       "    <tr>\n",
       "      <th>8946_2_3.jpg</th>\n",
       "      <td>0.993421</td>\n",
       "      <td>0.994654</td>\n",
       "      <td>[0.9987606]</td>\n",
       "    </tr>\n",
       "    <tr>\n",
       "      <th>28196_2_1.jpg</th>\n",
       "      <td>0.997473</td>\n",
       "      <td>0.998624</td>\n",
       "      <td>[0.99884737]</td>\n",
       "    </tr>\n",
       "    <tr>\n",
       "      <th>...</th>\n",
       "      <td>...</td>\n",
       "      <td>...</td>\n",
       "      <td>...</td>\n",
       "    </tr>\n",
       "    <tr>\n",
       "      <th>29919_2_1.jpg</th>\n",
       "      <td>0.987404</td>\n",
       "      <td>0.988816</td>\n",
       "      <td>[0.99857295]</td>\n",
       "    </tr>\n",
       "    <tr>\n",
       "      <th>29932_2_1.jpg</th>\n",
       "      <td>0.997117</td>\n",
       "      <td>0.998548</td>\n",
       "      <td>[0.99856687]</td>\n",
       "    </tr>\n",
       "    <tr>\n",
       "      <th>10355_2_1.jpg</th>\n",
       "      <td>0.99829</td>\n",
       "      <td>0.999097</td>\n",
       "      <td>[0.9991921]</td>\n",
       "    </tr>\n",
       "    <tr>\n",
       "      <th>5806_2_3.jpg</th>\n",
       "      <td>0.993589</td>\n",
       "      <td>0.994666</td>\n",
       "      <td>[0.998918]</td>\n",
       "    </tr>\n",
       "    <tr>\n",
       "      <th>30985_2_1.jpg</th>\n",
       "      <td>0.996149</td>\n",
       "      <td>0.997184</td>\n",
       "      <td>[0.9989618]</td>\n",
       "    </tr>\n",
       "  </tbody>\n",
       "</table>\n",
       "<p>85 rows × 3 columns</p>\n",
       "</div>"
      ],
      "text/plain": [
       "                  score pred_conf     pred_prob\n",
       "27742_2_3.jpg  0.976035  0.977575   [0.9984244]\n",
       "21770_2_1.jpg  0.990988  0.992206   [0.9987728]\n",
       "28487_2_1.jpg  0.967515  0.968683   [0.9987948]\n",
       "8946_2_3.jpg   0.993421  0.994654   [0.9987606]\n",
       "28196_2_1.jpg  0.997473  0.998624  [0.99884737]\n",
       "...                 ...       ...           ...\n",
       "29919_2_1.jpg  0.987404  0.988816  [0.99857295]\n",
       "29932_2_1.jpg  0.997117  0.998548  [0.99856687]\n",
       "10355_2_1.jpg   0.99829  0.999097   [0.9991921]\n",
       "5806_2_3.jpg   0.993589  0.994666    [0.998918]\n",
       "30985_2_1.jpg  0.996149  0.997184   [0.9989618]\n",
       "\n",
       "[85 rows x 3 columns]"
      ]
     },
     "execution_count": 53,
     "metadata": {},
     "output_type": "execute_result"
    }
   ],
   "source": [
    "raw_valid"
   ]
  },
  {
   "cell_type": "code",
   "execution_count": 71,
   "id": "9cdc7870",
   "metadata": {},
   "outputs": [
    {
     "name": "stderr",
     "output_type": "stream",
     "text": [
      "/tmp/ipykernel_226877/1281917758.py:1: VisibleDeprecationWarning: Creating an ndarray from ragged nested sequences (which is a list-or-tuple of lists-or-tuples-or ndarrays with different lengths or shapes) is deprecated. If you meant to do this, you must specify 'dtype=object' when creating the ndarray.\n",
      "  raw_test = pd.DataFrame(data=np.array(test_score), index=[test_names], columns=[\"score\",\"pred_conf\",\"pred_prob\"])\n"
     ]
    }
   ],
   "source": [
    "raw_test = pd.DataFrame(data=np.array(test_score), index=[test_names], columns=[\"score\",\"pred_conf\",\"pred_prob\"])"
   ]
  },
  {
   "cell_type": "code",
   "execution_count": 72,
   "id": "59ced0f1",
   "metadata": {},
   "outputs": [
    {
     "name": "stderr",
     "output_type": "stream",
     "text": [
      "/tmp/ipykernel_226877/911882621.py:1: VisibleDeprecationWarning: Creating an ndarray from ragged nested sequences (which is a list-or-tuple of lists-or-tuples-or ndarrays with different lengths or shapes) is deprecated. If you meant to do this, you must specify 'dtype=object' when creating the ndarray.\n",
      "  raw_anomaly = pd.DataFrame(data=np.array(anomaly_score), index=[anomaly_names], columns=[\"score\",\"pred_conf\",\"pred_prob\"])\n"
     ]
    }
   ],
   "source": [
    "raw_anomaly = pd.DataFrame(data=np.array(anomaly_score), index=[anomaly_names], columns=[\"score\",\"pred_conf\",\"pred_prob\"])"
   ]
  },
  {
   "cell_type": "code",
   "execution_count": 73,
   "id": "391d22dc",
   "metadata": {},
   "outputs": [],
   "source": [
    "for i in range(len(coco_anomaly)):\n",
    "    aa =prt_loss(coco_anomaly[i] ,yolo)\n",
    "    coco_score.append(aa)"
   ]
  },
  {
   "cell_type": "code",
   "execution_count": 74,
   "id": "da5fc039",
   "metadata": {},
   "outputs": [],
   "source": [
    "for i in range(len(os.listdir(angled_path))):\n",
    "    aa =prt_loss(os.path.join(angled_path, os.listdir(angled_path)[i]) ,yolo)\n",
    "    angle_score.append(aa)"
   ]
  },
  {
   "cell_type": "code",
   "execution_count": 75,
   "id": "a33bb72b",
   "metadata": {},
   "outputs": [],
   "source": [
    "for i in range(len(os.listdir(brace_path))):\n",
    "    aa =prt_loss(os.path.join(brace_path, os.listdir(brace_path)[i]) ,yolo)\n",
    "    braces_score.append(aa)"
   ]
  },
  {
   "cell_type": "code",
   "execution_count": null,
   "id": "a66c53c0",
   "metadata": {},
   "outputs": [],
   "source": [
    "raw_coco= pd.DataFrame(data=np.array(coco_score), index=[coco_names], columns=[\"score\",\"pred_conf\",\"pred_prob\"])"
   ]
  },
  {
   "cell_type": "code",
   "execution_count": null,
   "id": "c0a40d56",
   "metadata": {},
   "outputs": [],
   "source": [
    "raw_anlge= pd.DataFrame(data=np.array(angle_score), index=[angle_names], columns=[\"score\",\"pred_conf\",\"pred_prob\"])"
   ]
  },
  {
   "cell_type": "code",
   "execution_count": null,
   "id": "96f5b8bb",
   "metadata": {},
   "outputs": [],
   "source": [
    "raw_braces= pd.DataFrame(data=np.array(braces_score), index=[braces_names], columns=[\"score\",\"pred_conf\",\"pred_prob\"])"
   ]
  },
  {
   "cell_type": "markdown",
   "id": "b2ec407d",
   "metadata": {},
   "source": [
    "## GIOU(must change when change txt file)"
   ]
  },
  {
   "cell_type": "code",
   "execution_count": null,
   "id": "85696726",
   "metadata": {},
   "outputs": [],
   "source": [
    "file = open(\"model_data/no_lip_more_train.txt\", \"r\")\n",
    "no_lip_train = file.readlines()\n",
    "file.close()\n",
    "file = open(\"model_data/no_lip_more_validation.txt\", \"r\")\n",
    "no_lip_valid = file.readlines()\n",
    "file.close()"
   ]
  },
  {
   "cell_type": "code",
   "execution_count": null,
   "id": "8d727d62",
   "metadata": {},
   "outputs": [],
   "source": [
    "GT_train = []\n",
    "GT_valid = []"
   ]
  },
  {
   "cell_type": "code",
   "execution_count": null,
   "id": "e8da4782",
   "metadata": {},
   "outputs": [],
   "source": [
    "giou_ious_list_train = []\n",
    "giou_ious_list_valid = []"
   ]
  },
  {
   "cell_type": "code",
   "execution_count": null,
   "id": "d56da965",
   "metadata": {},
   "outputs": [],
   "source": [
    "#GT add\n",
    "for i in range(len(r11)):\n",
    "    bb = no_lip_train[i].split()[1].split(\",\")[0:4]\n",
    "    bb = [int(item) for item in bb]\n",
    "    GT_train.append(bb)\n",
    "for i in range(len(r1)):\n",
    "    bb = no_lip_valid[i].split()[1].split(\",\")[0:4]\n",
    "    bb = [int(item) for item in bb]\n",
    "    GT_valid.append(bb)"
   ]
  },
  {
   "cell_type": "code",
   "execution_count": null,
   "id": "cc0ef0ef",
   "metadata": {},
   "outputs": [],
   "source": [
    "# train\n",
    "for i in range(len(r11)):\n",
    "    image, bboxes = detect_image(yolo, r11[i], \"\", input_size=YOLO_INPUT_SIZE, show=False, score_threshold=0.1, CLASSES=TRAIN_CLASSES, rectangle_colors=(255,0,0))\n",
    "    if len(bboxes) == 0 :\n",
    "        giou_ious_list_train.append([0,0])\n",
    "    else :\n",
    "        giou,ious = GIoU(np.array(GT_train[i]), bboxes[0][:4])\n",
    "        giou_ious_list_train.append([giou,ious])"
   ]
  },
  {
   "cell_type": "code",
   "execution_count": null,
   "id": "45409d22",
   "metadata": {},
   "outputs": [],
   "source": [
    "# validation\n",
    "for i in range(len(r1)):\n",
    "    image, bboxes = detect_image(yolo, r1[i], \"\", input_size=YOLO_INPUT_SIZE,score_threshold=0.1, show=False, CLASSES=TRAIN_CLASSES, rectangle_colors=(255,0,0))\n",
    "    if len(bboxes) == 0 :\n",
    "        giou_ious_list_valid.append([0,0])\n",
    "    else :\n",
    "        giou,ious = GIoU(np.array(GT_valid[i]), bboxes[0][:4])\n",
    "        giou_ious_list_valid.append([giou,ious])"
   ]
  },
  {
   "cell_type": "code",
   "execution_count": null,
   "id": "dba4c5f5",
   "metadata": {},
   "outputs": [],
   "source": [
    "raw_training_giou = pd.DataFrame(data=np.array(giou_ious_list_train), index=[train_names], columns=[\"giou\", \"iou\"])"
   ]
  },
  {
   "cell_type": "code",
   "execution_count": null,
   "id": "7302bb86",
   "metadata": {},
   "outputs": [],
   "source": [
    "raw_valid_giou = pd.DataFrame(data=np.array(giou_ious_list_valid), index=[valid_names], columns=[\"giou\", \"iou\"])"
   ]
  },
  {
   "cell_type": "code",
   "execution_count": null,
   "id": "4e15a12b",
   "metadata": {},
   "outputs": [],
   "source": [
    "df_training_join = pd.merge(raw_training,raw_training_giou, left_index=True, right_index = True, \n",
    "                         how =\"outer\" )"
   ]
  },
  {
   "cell_type": "code",
   "execution_count": null,
   "id": "10cca578",
   "metadata": {},
   "outputs": [],
   "source": [
    "df_valid_join = pd.merge(raw_valid,raw_valid_giou, left_index=True, right_index = True, \n",
    "                         how =\"outer\" )"
   ]
  },
  {
   "cell_type": "code",
   "execution_count": null,
   "id": "e6fc8f35",
   "metadata": {},
   "outputs": [],
   "source": [
    "xlxs_dir='___final.xlsx' #경로 및 파일명 설정\n",
    "with pd.ExcelWriter(xlxs_dir) as writer:\n",
    "    df_training_join.to_excel(writer, sheet_name = 'training_data') #raw_data1 시트에 저장\n",
    "    df_valid_join.to_excel(writer, sheet_name = 'valid_data') #raw_data2 시트에 저장\n",
    "    raw_test.to_excel(writer, sheet_name = 'test_data') #raw_data2 시트에 저장\n",
    "    raw_anomaly.to_excel(writer, sheet_name = 'anomaly_data') #raw_data2 시트에 저장\n",
    "    raw_coco.to_excel(writer, sheet_name = 'coco_data') #raw_data1 시트에 저장\n",
    "    raw_anlge.to_excel(writer, sheet_name = 'angle_data') #raw_data2 시트에 저장\n",
    "    raw_braces.to_excel(writer, sheet_name = 'braces_data') #raw_data2 시트에 저장"
   ]
  },
  {
   "cell_type": "markdown",
   "id": "ddb2660d",
   "metadata": {},
   "source": [
    "#  test2 replace old_test_set"
   ]
  },
  {
   "cell_type": "code",
   "execution_count": null,
   "id": "ec6ee2ef",
   "metadata": {},
   "outputs": [],
   "source": [
    "import pandas as pd\n",
    "import numpy as np\n",
    "from sklearn import metrics\n",
    "import matplotlib.pyplot as plt"
   ]
  },
  {
   "cell_type": "code",
   "execution_count": null,
   "id": "e50a211e",
   "metadata": {},
   "outputs": [],
   "source": [
    "train_df =  pd.read_excel(\"___final.xlsx\", sheet_name=\"training_data\", engine='openpyxl', index_col=0)\n",
    "valid_df = pd.read_excel(\"___final.xlsx\", sheet_name=\"valid_data\", engine='openpyxl', index_col=0)\n",
    "# test_df = pd.read_excel(\"___final.xlsx\", sheet_name=\"test_data\", engine='openpyxl', index_col=0)\n",
    "anomaly_df = pd.read_excel(\"___final.xlsx\", sheet_name=\"anomaly_data\", engine='openpyxl', index_col=0)\n",
    "coco_df = pd.read_excel(\"___final.xlsx\", sheet_name=\"coco_data\", engine='openpyxl', index_col=0)\n",
    "angle_df = pd.read_excel(\"___final.xlsx\", sheet_name=\"angle_data\", engine='openpyxl', index_col=0)\n",
    "braces_df = pd.read_excel(\"___final.xlsx\", sheet_name=\"braces_data\", engine='openpyxl', index_col=0)"
   ]
  },
  {
   "cell_type": "code",
   "execution_count": null,
   "id": "0854f643",
   "metadata": {},
   "outputs": [],
   "source": [
    "test2  =glob(r\"/home/jh/Desktop/teeth/github_td/test2/*.jpg\")\n",
    "test_names = []\n",
    "for i in range(len(test2)):\n",
    "    test_names.append(os.path.basename(test2[i]))\n",
    "\n",
    "test_score = []\n",
    "for i in range(len(test2)):\n",
    "    aa =prt_loss(test2[i] ,yolo)\n",
    "    test_score.append(aa)\n"
   ]
  },
  {
   "cell_type": "code",
   "execution_count": null,
   "id": "9096538a",
   "metadata": {},
   "outputs": [],
   "source": [
    "test2_df = pd.DataFrame(data=np.array(test_score), index=[test_names], columns=[\"score\",\"pred_conf\",\"pred_prob\"])"
   ]
  },
  {
   "cell_type": "code",
   "execution_count": null,
   "id": "580680b1",
   "metadata": {},
   "outputs": [],
   "source": [
    "xlxs_dir='___final_2.xlsx' #경로 및 파일명 설정\n",
    "with pd.ExcelWriter(xlxs_dir) as writer:\n",
    "    train_df.to_excel(writer, sheet_name = 'training_data') #raw_data1 시트에 저장\n",
    "    valid_df.to_excel(writer, sheet_name = 'valid_data') #raw_data2 시트에 저장\n",
    "    test2_df.to_excel(writer, sheet_name = 'test_data') #raw_data2 시트에 저장\n",
    "    anomaly_df.to_excel(writer, sheet_name = 'anomaly_data') #raw_data2 시트에 저장\n",
    "    coco_df.to_excel(writer, sheet_name = 'coco_data') #raw_data1 시트에 저장\n",
    "    angle_df.to_excel(writer, sheet_name = 'angle_data') #raw_data2 시트에 저장\n",
    "    braces_df.to_excel(writer, sheet_name = 'braces_data') #raw_data2 시트에 저장"
   ]
  },
  {
   "cell_type": "markdown",
   "id": "0a7fc889",
   "metadata": {},
   "source": [
    "# remove overlab"
   ]
  },
  {
   "cell_type": "code",
   "execution_count": null,
   "id": "3c2f6e29",
   "metadata": {},
   "outputs": [],
   "source": [
    "from glob import glob\n",
    "import numpy as np\n",
    "import pandas as pd\n",
    "import os"
   ]
  },
  {
   "cell_type": "code",
   "execution_count": null,
   "id": "bcbba4f7",
   "metadata": {},
   "outputs": [],
   "source": [
    "coco_anomaly =  glob(r\"/home/jh/Desktop/teeth/github_td/val2017/*.jpg\")\n",
    "np.random.seed(42)\n",
    "a = np.random.randint(5000, size =76)\n",
    "a = np.sort(a)\n",
    "print(a)\n",
    "anomaly_76 = [coco_anomaly[i] for i in a]"
   ]
  },
  {
   "cell_type": "code",
   "execution_count": null,
   "id": "fea2b717",
   "metadata": {},
   "outputs": [],
   "source": [
    "train_df =  pd.read_excel(\"___final_2.xlsx\", sheet_name=\"training_data\", engine='openpyxl', index_col=0)\n",
    "valid_df = pd.read_excel(\"___final_2.xlsx\", sheet_name=\"valid_data\", engine='openpyxl', index_col=0)\n",
    "test2_df = pd.read_excel(\"___final_2.xlsx\", sheet_name=\"test_data\", engine='openpyxl', index_col=0)\n",
    "anomaly_df = pd.read_excel(\"___final_2.xlsx\", sheet_name=\"anomaly_data\", engine='openpyxl', index_col=0)\n",
    "coco_df = pd.read_excel(\"___final_2.xlsx\", sheet_name=\"coco_data\", engine='openpyxl', index_col=0)\n",
    "angle_df = pd.read_excel(\"___final_2.xlsx\", sheet_name=\"angle_data\", engine='openpyxl', index_col=0)\n",
    "braces_df = pd.read_excel(\"___final_2.xlsx\", sheet_name=\"braces_data\", engine='openpyxl', index_col=0)"
   ]
  },
  {
   "cell_type": "code",
   "execution_count": null,
   "id": "1b618b8b",
   "metadata": {},
   "outputs": [],
   "source": [
    "remove_name = [os.path.basename(i) for i in anomaly_76]\n",
    "coco_df = coco_df.drop(remove_name)"
   ]
  },
  {
   "cell_type": "code",
   "execution_count": null,
   "id": "7cb7268b",
   "metadata": {},
   "outputs": [],
   "source": [
    "xlxs_dir='___final_3.xlsx' #경로 및 파일명 설정\n",
    "with pd.ExcelWriter(xlxs_dir) as writer:\n",
    "    train_df.to_excel(writer, sheet_name = 'training_data') #raw_data1 시트에 저장\n",
    "    valid_df.to_excel(writer, sheet_name = 'valid_data') #raw_data2 시트에 저장\n",
    "    test2_df.to_excel(writer, sheet_name = 'test_data') #raw_data2 시트에 저장\n",
    "    anomaly_df.to_excel(writer, sheet_name = 'anomaly_data') #raw_data2 시트에 저장\n",
    "    coco_df.to_excel(writer, sheet_name = 'coco_data') #raw_data1 시트에 저장\n",
    "    angle_df.to_excel(writer, sheet_name = 'angle_data') #raw_data2 시트에 저장\n",
    "    braces_df.to_excel(writer, sheet_name = 'braces_data') #raw_data2 시트에 저장"
   ]
  },
  {
   "cell_type": "markdown",
   "id": "86bba396",
   "metadata": {},
   "source": [
    "# AUC 계산"
   ]
  },
  {
   "cell_type": "code",
   "execution_count": null,
   "id": "0decde75",
   "metadata": {},
   "outputs": [],
   "source": [
    "import pandas as pd\n",
    "import numpy as np\n",
    "from sklearn import metrics\n",
    "import matplotlib.pyplot as plt"
   ]
  },
  {
   "cell_type": "code",
   "execution_count": null,
   "id": "453e74e9",
   "metadata": {},
   "outputs": [],
   "source": [
    "test_df = pd.read_excel(\"___final_3.xlsx\", sheet_name=\"test_data\", engine='openpyxl')\n",
    "# anomaly_df = pd.read_excel(\"___final_3.xlsx\", sheet_name=\"anomaly_data\", engine='openpyxl')\n",
    "coco_df = pd.read_excel(\"___final_3.xlsx\", sheet_name=\"coco_data\", engine='openpyxl')\n",
    "angle_df = pd.read_excel(\"___final_3.xlsx\", sheet_name=\"angle_data\", engine='openpyxl')\n",
    "braces_df = pd.read_excel(\"___final_3.xlsx\", sheet_name=\"braces_data\", engine='openpyxl')"
   ]
  },
  {
   "cell_type": "code",
   "execution_count": null,
   "id": "e60c6046",
   "metadata": {},
   "outputs": [],
   "source": [
    "test_pred_score = [i for i in test_df[\"score\"]]\n",
    "# anomaly_pred_score = [i for i in anomaly_df[\"score\"]]\n",
    "coco_pred_score=  [i for i in coco_df[\"score\"]]\n",
    "angle_pred_score =  [i for i in angle_df[\"score\"]]\n",
    "braces_pred_score =  [i for i in braces_df[\"score\"]]"
   ]
  },
  {
   "cell_type": "code",
   "execution_count": null,
   "id": "5530d544",
   "metadata": {},
   "outputs": [],
   "source": [
    "y = [1]*len(test_pred_score)  + [0]*len(coco_pred_score)+ [0]*len(angle_pred_score) +[1]*len(braces_pred_score)"
   ]
  },
  {
   "cell_type": "code",
   "execution_count": null,
   "id": "3f40a308",
   "metadata": {},
   "outputs": [],
   "source": [
    "pred = np.array(test_pred_score +coco_pred_score +angle_pred_score+braces_pred_score)"
   ]
  },
  {
   "cell_type": "code",
   "execution_count": null,
   "id": "ca18f4ff",
   "metadata": {},
   "outputs": [],
   "source": [
    "fpr, tpr, thresholds = metrics.roc_curve(y, pred)\n",
    "roc_auc = metrics.auc(fpr, tpr)"
   ]
  },
  {
   "cell_type": "code",
   "execution_count": null,
   "id": "bfcd881a",
   "metadata": {},
   "outputs": [],
   "source": [
    "print(roc_auc)"
   ]
  },
  {
   "cell_type": "code",
   "execution_count": null,
   "id": "cd9b936d",
   "metadata": {},
   "outputs": [],
   "source": [
    "plt.figure()\n",
    "lw = 2\n",
    "plt.plot(\n",
    "    fpr,\n",
    "    tpr,\n",
    "    color=\"darkorange\",\n",
    "    lw=lw,\n",
    "    label=\"ROC curve (area = %0.2f)\" % roc_auc,\n",
    ")\n",
    "plt.plot([0, 1], [0, 1], color=\"navy\", lw=lw, linestyle=\"--\")\n",
    "plt.xlim([0.0, 1.0])\n",
    "plt.ylim([0.0, 1.05])\n",
    "plt.xlabel(\"False Positive Rate\")\n",
    "plt.ylabel(\"True Positive Rate\")\n",
    "plt.title(\"Receiver operating characteristic example\")\n",
    "plt.legend(loc=\"lower right\")\n",
    "plt.show()"
   ]
  },
  {
   "cell_type": "code",
   "execution_count": null,
   "id": "a3e0b056",
   "metadata": {},
   "outputs": [],
   "source": [
    "for i in range(len(pred)):\n",
    "    if pred[i]>0.8 :\n",
    "        pred[i]=1\n",
    "    else:\n",
    "        pred[i]=0"
   ]
  },
  {
   "cell_type": "code",
   "execution_count": null,
   "id": "cf1b7929",
   "metadata": {},
   "outputs": [],
   "source": [
    "tn, fp, fn, tp = metrics.confusion_matrix(y, pred).ravel()\n",
    "(tn, fp, fn, tp)"
   ]
  },
  {
   "cell_type": "code",
   "execution_count": null,
   "id": "d3bcd57f",
   "metadata": {},
   "outputs": [],
   "source": [
    "import seaborn as sns\n",
    "cf_matrix = metrics.confusion_matrix(y, pred)\n",
    "group_names = [\"True Neg\",\"False Pos\",\"False Neg\",\"True Pos\"]\n",
    "group_counts = [\"{0:0.0f}\".format(value) for value in\n",
    "                cf_matrix.flatten()]\n",
    "# group_percentages = [“{0:.2%}”.format(value) for value in\n",
    "#                      cf_matrix.flatten()/np.sum(cf_matrix)]\n",
    "labels = [f\"{v1}\\n{v2}\" for v1, v2  in zip(group_names,group_counts)]\n",
    "labels = np.asarray(labels).reshape(2,2)\n",
    "sns.heatmap(cf_matrix, annot=labels, fmt=\"\", cmap='Blues')\n",
    "plt.savefig(\"confusion_matrix.jpg\",bbox_inches = \"tight\")"
   ]
  },
  {
   "cell_type": "code",
   "execution_count": null,
   "id": "48d4e694",
   "metadata": {},
   "outputs": [],
   "source": []
  }
 ],
 "metadata": {
  "kernelspec": {
   "display_name": "Python 3 (ipykernel)",
   "language": "python",
   "name": "python3"
  },
  "language_info": {
   "codemirror_mode": {
    "name": "ipython",
    "version": 3
   },
   "file_extension": ".py",
   "mimetype": "text/x-python",
   "name": "python",
   "nbconvert_exporter": "python",
   "pygments_lexer": "ipython3",
   "version": "3.8.0"
  }
 },
 "nbformat": 4,
 "nbformat_minor": 5
}
