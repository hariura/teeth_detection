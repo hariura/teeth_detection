{
 "cells": [
  {
   "cell_type": "code",
   "execution_count": 1,
   "id": "5746161a",
   "metadata": {},
   "outputs": [
    {
     "name": "stderr",
     "output_type": "stream",
     "text": [
      "2023-02-02 22:26:46.675845: E tensorflow/stream_executor/cuda/cuda_driver.cc:271] failed call to cuInit: CUDA_ERROR_NO_DEVICE: no CUDA-capable device is detected\n",
      "2023-02-02 22:26:46.675880: I tensorflow/stream_executor/cuda/cuda_diagnostics.cc:169] retrieving CUDA diagnostic information for host: jh-desktop\n",
      "2023-02-02 22:26:46.675886: I tensorflow/stream_executor/cuda/cuda_diagnostics.cc:176] hostname: jh-desktop\n",
      "2023-02-02 22:26:46.675969: I tensorflow/stream_executor/cuda/cuda_diagnostics.cc:200] libcuda reported version is: 470.161.3\n",
      "2023-02-02 22:26:46.675991: I tensorflow/stream_executor/cuda/cuda_diagnostics.cc:204] kernel reported version is: 470.161.3\n",
      "2023-02-02 22:26:46.675995: I tensorflow/stream_executor/cuda/cuda_diagnostics.cc:310] kernel version seems to match DSO: 470.161.3\n",
      "2023-02-02 22:26:46.676187: I tensorflow/core/platform/cpu_feature_guard.cc:151] This TensorFlow binary is optimized with oneAPI Deep Neural Network Library (oneDNN) to use the following CPU instructions in performance-critical operations:  AVX2 FMA\n",
      "To enable them in other operations, rebuild TensorFlow with the appropriate compiler flags.\n"
     ]
    }
   ],
   "source": [
    "import cv2\n",
    "import numpy as np\n",
    "import os\n",
    "import matplotlib\n",
    "import matplotlib.pyplot as plt\n",
    "%matplotlib inline  \n",
    "os.environ[\"CUDA_VISIBLE_DEVICES\"]=\"-1\"  \n",
    "import tensorflow as tf\n",
    "from glob import glob\n",
    "from yolov3.yolov4_config import Create_Yolo\n",
    "from yolov3.utils_config import load_yolo_weights, detect_image, image_preprocess, postprocess_boxes_excel, nms, draw_bbox\n",
    "from yolov3.configs_config import *\n",
    "from PIL import Image\n",
    "\n",
    "import os\n",
    "import pandas as pd\n",
    "\n",
    "if YOLO_TYPE == \"yolov4\":\n",
    "    Darknet_weights = YOLO_V4_TINY_WEIGHTS if TRAIN_YOLO_TINY else YOLO_V4_WEIGHTS\n",
    "if YOLO_TYPE == \"yolov3\":\n",
    "    Darknet_weights = YOLO_V3_TINY_WEIGHTS if TRAIN_YOLO_TINY else YOLO_V3_WEIGHTS\n",
    "\n",
    "yolo = Create_Yolo(input_size=YOLO_INPUT_SIZE)\n",
    "load_yolo_weights(yolo, Darknet_weights) # use Darknet weights"
   ]
  },
  {
   "cell_type": "code",
   "execution_count": 2,
   "id": "a91c03f3",
   "metadata": {},
   "outputs": [
    {
     "data": {
      "text/plain": [
       "<tensorflow.python.training.tracking.util.CheckpointLoadStatus at 0x7f49987205b0>"
      ]
     },
     "execution_count": 2,
     "metadata": {},
     "output_type": "execute_result"
    }
   ],
   "source": [
    "yolo = Create_Yolo(input_size=YOLO_INPUT_SIZE, CLASSES=TRAIN_CLASSES)\n",
    "yolo.load_weights(\"./checkpoints/frist/yolov3_custom\") # use keras weights"
   ]
  },
  {
   "cell_type": "code",
   "execution_count": 3,
   "id": "b5ba2685",
   "metadata": {},
   "outputs": [],
   "source": [
    "def prt_loss(image_path ,yolo):\n",
    "    input_size = 416\n",
    "    iou_threshold = 0.45\n",
    "    \n",
    "    original_image      = cv2.imread(image_path)\n",
    "    original_image      = cv2.cvtColor(original_image, cv2.COLOR_BGR2RGB)\n",
    "    original_image      = cv2.cvtColor(original_image, cv2.COLOR_BGR2RGB)\n",
    "    image_data = image_preprocess(np.copy(original_image), [input_size, input_size])\n",
    "    image_data = image_data[np.newaxis, ...].astype(np.float32)\n",
    "    pred_bbox = yolo.predict(image_data)\n",
    "    pred_bbox = [tf.reshape(x, (-1, tf.shape(x)[-1])) for x in pred_bbox]\n",
    "    pred_bbox = tf.concat(pred_bbox, axis=0)\n",
    "    bboxes, pred_coor, pred_conf, pred_prob  = postprocess_boxes_excel(pred_bbox, original_image, input_size, 0.0)\n",
    "    classes = np.argmax(pred_prob, axis=-1)\n",
    "    scores = pred_conf * pred_prob[np.arange(len(pred_coor)), classes]\n",
    "    argmax_score = np.argmax(scores)\n",
    "    max_score = np.max(scores)\n",
    "    print_conf, print_prob = pred_conf[argmax_score], pred_prob[argmax_score]\n",
    "    \n",
    "    return [max_score, print_conf, print_prob]"
   ]
  },
  {
   "cell_type": "code",
   "execution_count": 4,
   "id": "04b6c46a",
   "metadata": {},
   "outputs": [],
   "source": [
    "def GIoU(bboxes_1, bboxes_2):\n",
    "    # 1. calulate intersection over union\n",
    "    area_1 = (bboxes_1[2] - bboxes_1[0]) * (bboxes_1[3] - bboxes_1[1])\n",
    "    area_2 = (bboxes_2[2] - bboxes_2[0]) * (bboxes_2[3] - bboxes_2[1])\n",
    "    \n",
    "    intersection_wh = tf.minimum(bboxes_1[2:], bboxes_2[2:]) - tf.maximum(bboxes_1[ :2], bboxes_2[ :2])\n",
    "    intersection_wh = tf.maximum(intersection_wh, 0)\n",
    "    \n",
    "    intersection = intersection_wh[0] * intersection_wh[1]\n",
    "    union = (area_1 + area_2) - intersection\n",
    "    \n",
    "    ious = intersection / union\n",
    "    \n",
    "    # 2. (C - (A U B))/C\n",
    "    C_wh = tf.maximum(bboxes_1[2:], bboxes_2[2:]) - tf.minimum(bboxes_1[:2], bboxes_2[:2])\n",
    "    C_wh = C_wh\n",
    "    C = C_wh[0] * C_wh[1]\n",
    "\n",
    "    giou = ious - (C - union) / C\n",
    "    return giou, ious"
   ]
  },
  {
   "cell_type": "code",
   "execution_count": 5,
   "id": "d139c6f9",
   "metadata": {},
   "outputs": [],
   "source": [
    "r1 = glob(r\"teeth_including_lip_more/test/*.jpg\")"
   ]
  },
  {
   "cell_type": "code",
   "execution_count": 6,
   "id": "a6c8a42c",
   "metadata": {},
   "outputs": [],
   "source": [
    "r11 = glob(r\"teeth_including_lip_more/train/*.jpg\")"
   ]
  },
  {
   "cell_type": "code",
   "execution_count": 7,
   "id": "4aa283f8",
   "metadata": {},
   "outputs": [],
   "source": [
    "r5 = glob(r\"/home/jh/Desktop/teeth/github_td/test2/*.jpg\")"
   ]
  },
  {
   "cell_type": "code",
   "execution_count": 8,
   "id": "53212ea9",
   "metadata": {},
   "outputs": [
    {
     "name": "stdout",
     "output_type": "stream",
     "text": [
      "[  34  130  161  189  241  337  466  474  600  646  769  775  860  878\n",
      "  975  995 1016 1021 1076 1082 1184 1267 1275 1363 1478 1500 1528 1585\n",
      " 1685 1806 1899 1955 1981 2041 2047 2061 2363 2391 2433 2435 2556 2558\n",
      " 2612 2613 2734 2747 2824 2888 2904 2919 3005 3073 3092 3152 3171 3202\n",
      " 3342 3385 3444 3461 3556 3772 3798 3843 3890 3943 4014 4117 4297 4426\n",
      " 4551 4555 4658 4798 4843 4911]\n"
     ]
    }
   ],
   "source": [
    "coco_anomaly =  glob(r\"/home/jh/Desktop/teeth/github_td/val2017/*.jpg\")\n",
    "np.random.seed(42)\n",
    "a = np.random.randint(5000, size =76)\n",
    "a = np.sort(a)\n",
    "print(a)\n",
    "anomaly_76 = [coco_anomaly[i] for i in a]"
   ]
  },
  {
   "cell_type": "code",
   "execution_count": 9,
   "id": "ddec225d",
   "metadata": {},
   "outputs": [],
   "source": [
    "anomaly_85 = glob(r\"/home/jh/Desktop/teeth/github_td/ano/*.jpg\")"
   ]
  },
  {
   "cell_type": "code",
   "execution_count": 10,
   "id": "c920ca07",
   "metadata": {},
   "outputs": [],
   "source": [
    "brace_path = r\"braces\""
   ]
  },
  {
   "cell_type": "code",
   "execution_count": 11,
   "id": "cb202ba8",
   "metadata": {},
   "outputs": [],
   "source": [
    "angled_path = r\"angled\""
   ]
  },
  {
   "cell_type": "markdown",
   "id": "f68afb01",
   "metadata": {},
   "source": [
    "### pred score save "
   ]
  },
  {
   "cell_type": "code",
   "execution_count": 12,
   "id": "7bb63865",
   "metadata": {},
   "outputs": [],
   "source": [
    "train_names = []\n",
    "valid_names = []\n",
    "test_names = []\n",
    "anomaly_names = []"
   ]
  },
  {
   "cell_type": "code",
   "execution_count": 13,
   "id": "2cc93775",
   "metadata": {},
   "outputs": [],
   "source": [
    "coco_names = []\n",
    "braces_names = []\n",
    "angle_names = []"
   ]
  },
  {
   "cell_type": "code",
   "execution_count": 14,
   "id": "ce152975",
   "metadata": {},
   "outputs": [],
   "source": [
    "for i in range(len(r11)):\n",
    "    train_names.append(os.path.basename(r11[i]))\n",
    "for i in range(len(r1)):\n",
    "    valid_names.append(os.path.basename(r1[i]))\n",
    "for i in range(len(r5)):\n",
    "    test_names.append(os.path.basename(r5[i]))\n",
    "for i in range(len(anomaly_85)):\n",
    "    anomaly_names.append(os.path.basename(anomaly_85[i]))"
   ]
  },
  {
   "cell_type": "code",
   "execution_count": 15,
   "id": "46e56eea",
   "metadata": {},
   "outputs": [],
   "source": [
    "for i in range(len(coco_anomaly)):\n",
    "    coco_names.append(os.path.basename(coco_anomaly[i]))\n",
    "for i in range(len(os.listdir(brace_path))):\n",
    "    braces_names.append(os.path.basename(os.listdir(brace_path)[i]))\n",
    "for i in range(len(os.listdir(angled_path))):\n",
    "    angle_names.append(os.path.basename(os.listdir(angled_path)[i]))"
   ]
  },
  {
   "cell_type": "code",
   "execution_count": 16,
   "id": "a60fceb3",
   "metadata": {},
   "outputs": [],
   "source": [
    "train_score = []\n",
    "valid_score = []\n",
    "test_score = []\n",
    "anomaly_score = []"
   ]
  },
  {
   "cell_type": "code",
   "execution_count": 17,
   "id": "15aecaa0",
   "metadata": {},
   "outputs": [],
   "source": [
    "coco_score = []\n",
    "braces_score = []\n",
    "angle_score = []"
   ]
  },
  {
   "cell_type": "code",
   "execution_count": 18,
   "id": "ff893f97",
   "metadata": {},
   "outputs": [],
   "source": [
    "for i in range(len(r11)):\n",
    "    aa =prt_loss(r11[i] ,yolo)\n",
    "    train_score.append(aa)"
   ]
  },
  {
   "cell_type": "code",
   "execution_count": 19,
   "id": "46eb4ba6",
   "metadata": {},
   "outputs": [
    {
     "data": {
      "text/plain": [
       "[[0.99979144, 0.999804, array([0.9999874], dtype=float32)],\n",
       " [0.99999785, 0.99999785, array([1.], dtype=float32)],\n",
       " [0.99999523, 0.99999523, array([1.], dtype=float32)],\n",
       " [0.9999994, 0.9999994, array([1.], dtype=float32)],\n",
       " [0.9999941, 0.9999943, array([0.9999998], dtype=float32)],\n",
       " [0.99996036, 0.999961, array([0.99999934], dtype=float32)],\n",
       " [0.99997663, 0.9999771, array([0.9999995], dtype=float32)],\n",
       " [0.99999815, 0.99999815, array([1.], dtype=float32)],\n",
       " [0.9999962, 0.9999962, array([1.], dtype=float32)],\n",
       " [0.99999315, 0.9999933, array([0.9999998], dtype=float32)],\n",
       " [0.99999166, 0.9999919, array([0.99999976], dtype=float32)],\n",
       " [0.9999963, 0.9999963, array([1.], dtype=float32)],\n",
       " [0.99999124, 0.99999124, array([1.], dtype=float32)],\n",
       " [0.9999924, 0.9999926, array([0.99999976], dtype=float32)],\n",
       " [0.999995, 0.9999951, array([0.9999999], dtype=float32)],\n",
       " [0.99999875, 0.99999875, array([1.], dtype=float32)],\n",
       " [0.9999819, 0.9999826, array([0.9999993], dtype=float32)],\n",
       " [0.9999038, 0.99991024, array([0.99999356], dtype=float32)],\n",
       " [0.999903, 0.9999057, array([0.9999973], dtype=float32)],\n",
       " [0.9999906, 0.9999908, array([0.99999976], dtype=float32)],\n",
       " [0.999997, 0.999997, array([1.], dtype=float32)],\n",
       " [0.99999756, 0.99999756, array([1.], dtype=float32)],\n",
       " [0.9999334, 0.99993616, array([0.99999726], dtype=float32)],\n",
       " [0.99999547, 0.99999547, array([1.], dtype=float32)],\n",
       " [0.9999914, 0.99999166, array([0.99999976], dtype=float32)],\n",
       " [0.99999464, 0.99999464, array([1.], dtype=float32)],\n",
       " [0.99999785, 0.99999785, array([1.], dtype=float32)],\n",
       " [0.99987185, 0.99987924, array([0.9999926], dtype=float32)],\n",
       " [0.99999654, 0.99999654, array([1.], dtype=float32)],\n",
       " [0.9999952, 0.9999952, array([1.], dtype=float32)],\n",
       " [0.9999281, 0.99993217, array([0.99999595], dtype=float32)],\n",
       " [0.99999714, 0.99999714, array([1.], dtype=float32)],\n",
       " [0.99995315, 0.9999583, array([0.9999949], dtype=float32)],\n",
       " [0.999987, 0.99998754, array([0.99999946], dtype=float32)],\n",
       " [0.99998116, 0.9999815, array([0.99999964], dtype=float32)],\n",
       " [0.99998146, 0.9999829, array([0.99999857], dtype=float32)],\n",
       " [0.9999947, 0.9999947, array([1.], dtype=float32)],\n",
       " [0.99999607, 0.9999962, array([0.9999999], dtype=float32)],\n",
       " [0.99999803, 0.99999803, array([1.], dtype=float32)],\n",
       " [0.999929, 0.99993163, array([0.9999974], dtype=float32)],\n",
       " [0.9999621, 0.9999646, array([0.9999975], dtype=float32)],\n",
       " [0.9999935, 0.99999374, array([0.99999976], dtype=float32)],\n",
       " [0.9999994, 0.9999994, array([1.], dtype=float32)],\n",
       " [0.9999671, 0.9999682, array([0.9999989], dtype=float32)],\n",
       " [0.9999968, 0.9999968, array([1.], dtype=float32)],\n",
       " [0.9999978, 0.9999978, array([1.], dtype=float32)],\n",
       " [0.9999989, 0.9999989, array([1.], dtype=float32)],\n",
       " [0.99999785, 0.99999785, array([1.], dtype=float32)],\n",
       " [0.9999722, 0.9999732, array([0.99999905], dtype=float32)],\n",
       " [0.9999976, 0.9999976, array([1.], dtype=float32)],\n",
       " [0.99999547, 0.99999547, array([1.], dtype=float32)],\n",
       " [0.9999763, 0.9999769, array([0.9999994], dtype=float32)],\n",
       " [0.9999907, 0.9999913, array([0.9999994], dtype=float32)],\n",
       " [0.9999821, 0.9999826, array([0.9999995], dtype=float32)],\n",
       " [0.99983597, 0.9998535, array([0.9999825], dtype=float32)],\n",
       " [0.9999859, 0.9999862, array([0.9999997], dtype=float32)],\n",
       " [0.999963, 0.9999649, array([0.9999981], dtype=float32)],\n",
       " [0.99998593, 0.9999863, array([0.99999964], dtype=float32)],\n",
       " [0.9999959, 0.9999959, array([1.], dtype=float32)],\n",
       " [0.9999292, 0.9999341, array([0.9999951], dtype=float32)],\n",
       " [0.9999894, 0.9999896, array([0.99999976], dtype=float32)],\n",
       " [0.99999136, 0.9999916, array([0.99999976], dtype=float32)],\n",
       " [0.9999738, 0.99997437, array([0.9999994], dtype=float32)],\n",
       " [0.9999969, 0.9999969, array([1.], dtype=float32)],\n",
       " [0.99997765, 0.9999782, array([0.99999946], dtype=float32)],\n",
       " [0.9999805, 0.99998087, array([0.99999964], dtype=float32)],\n",
       " [0.99999976, 0.99999976, array([1.], dtype=float32)],\n",
       " [0.9998667, 0.9998765, array([0.9999902], dtype=float32)],\n",
       " [0.99999666, 0.99999666, array([1.], dtype=float32)],\n",
       " [0.9999519, 0.9999542, array([0.9999977], dtype=float32)],\n",
       " [0.99999595, 0.9999962, array([0.99999976], dtype=float32)],\n",
       " [0.99998903, 0.9999896, array([0.9999994], dtype=float32)],\n",
       " [0.9999874, 0.99998856, array([0.99999887], dtype=float32)],\n",
       " [0.9996942, 0.99970734, array([0.9999869], dtype=float32)],\n",
       " [0.99998933, 0.9999896, array([0.9999997], dtype=float32)],\n",
       " [0.9999871, 0.9999874, array([0.9999997], dtype=float32)],\n",
       " [0.99998945, 0.9999899, array([0.9999995], dtype=float32)],\n",
       " [0.9999942, 0.9999942, array([1.], dtype=float32)],\n",
       " [0.9999963, 0.9999963, array([1.], dtype=float32)],\n",
       " [0.9999734, 0.99997485, array([0.99999857], dtype=float32)],\n",
       " [0.99998826, 0.99998856, array([0.9999997], dtype=float32)],\n",
       " [0.9997719, 0.99979967, array([0.9999722], dtype=float32)],\n",
       " [0.9999937, 0.9999938, array([0.9999999], dtype=float32)],\n",
       " [0.99999243, 0.99999297, array([0.99999946], dtype=float32)],\n",
       " [0.9999933, 0.99999356, array([0.99999976], dtype=float32)],\n",
       " [0.9998725, 0.9998816, array([0.9999909], dtype=float32)],\n",
       " [0.9999975, 0.9999975, array([1.], dtype=float32)],\n",
       " [0.9999904, 0.9999905, array([0.9999999], dtype=float32)],\n",
       " [0.99998367, 0.999984, array([0.99999964], dtype=float32)],\n",
       " [0.9999985, 0.9999985, array([1.], dtype=float32)],\n",
       " [0.99998957, 0.99998957, array([1.], dtype=float32)],\n",
       " [0.9999911, 0.9999916, array([0.9999995], dtype=float32)],\n",
       " [0.9999987, 0.9999987, array([1.], dtype=float32)],\n",
       " [0.9999956, 0.9999956, array([1.], dtype=float32)],\n",
       " [0.99995637, 0.99995875, array([0.9999976], dtype=float32)],\n",
       " [0.999999, 0.999999, array([1.], dtype=float32)],\n",
       " [0.9999938, 0.9999938, array([1.], dtype=float32)],\n",
       " [0.99932474, 0.9993574, array([0.99996734], dtype=float32)],\n",
       " [0.9999688, 0.9999701, array([0.99999875], dtype=float32)],\n",
       " [0.999937, 0.9999384, array([0.99999857], dtype=float32)],\n",
       " [0.99996793, 0.999969, array([0.9999989], dtype=float32)],\n",
       " [0.9999932, 0.9999933, array([0.9999999], dtype=float32)],\n",
       " [0.9999988, 0.9999988, array([1.], dtype=float32)],\n",
       " [0.9999975, 0.9999975, array([1.], dtype=float32)],\n",
       " [0.9999821, 0.9999826, array([0.9999995], dtype=float32)],\n",
       " [0.9999973, 0.9999973, array([1.], dtype=float32)],\n",
       " [0.99993074, 0.99993527, array([0.99999547], dtype=float32)],\n",
       " [0.99999917, 0.99999917, array([1.], dtype=float32)],\n",
       " [0.99996924, 0.99996996, array([0.9999993], dtype=float32)],\n",
       " [0.9999685, 0.9999697, array([0.9999988], dtype=float32)],\n",
       " [0.9986508, 0.99872047, array([0.99993026], dtype=float32)],\n",
       " [0.9999497, 0.99995184, array([0.99999785], dtype=float32)],\n",
       " [0.9998481, 0.99985385, array([0.9999943], dtype=float32)],\n",
       " [0.99999654, 0.99999654, array([1.], dtype=float32)],\n",
       " [0.9998303, 0.99984413, array([0.9999862], dtype=float32)],\n",
       " [0.99998015, 0.9999808, array([0.99999934], dtype=float32)],\n",
       " [0.9999912, 0.9999914, array([0.99999976], dtype=float32)],\n",
       " [0.9999674, 0.9999682, array([0.9999992], dtype=float32)],\n",
       " [0.99999905, 0.99999905, array([1.], dtype=float32)],\n",
       " [0.9999701, 0.9999709, array([0.99999917], dtype=float32)],\n",
       " [0.9999731, 0.99997544, array([0.9999977], dtype=float32)],\n",
       " [0.9999007, 0.9999037, array([0.999997], dtype=float32)],\n",
       " [0.9999676, 0.99996805, array([0.9999995], dtype=float32)],\n",
       " [0.9999989, 0.9999989, array([1.], dtype=float32)],\n",
       " [0.99999017, 0.9999906, array([0.9999996], dtype=float32)],\n",
       " [0.9997338, 0.9997431, array([0.9999907], dtype=float32)],\n",
       " [0.9999917, 0.99999183, array([0.9999999], dtype=float32)],\n",
       " [0.999998, 0.999998, array([1.], dtype=float32)],\n",
       " [0.99998987, 0.99999064, array([0.9999992], dtype=float32)],\n",
       " [0.99999857, 0.99999857, array([1.], dtype=float32)],\n",
       " [0.99997365, 0.99997544, array([0.9999982], dtype=float32)],\n",
       " [0.99999535, 0.99999535, array([1.], dtype=float32)],\n",
       " [0.99995893, 0.99996084, array([0.9999981], dtype=float32)],\n",
       " [0.99999785, 0.99999785, array([1.], dtype=float32)],\n",
       " [0.99871176, 0.998846, array([0.9998656], dtype=float32)],\n",
       " [0.99999535, 0.99999535, array([1.], dtype=float32)],\n",
       " [0.999999, 0.999999, array([1.], dtype=float32)],\n",
       " [0.9985689, 0.9987138, array([0.9998549], dtype=float32)],\n",
       " [0.9999658, 0.9999664, array([0.9999994], dtype=float32)],\n",
       " [0.99999577, 0.99999577, array([1.], dtype=float32)],\n",
       " [0.9999809, 0.9999814, array([0.9999995], dtype=float32)],\n",
       " [0.99999607, 0.99999607, array([1.], dtype=float32)],\n",
       " [0.9999858, 0.9999863, array([0.9999995], dtype=float32)],\n",
       " [0.9999913, 0.9999913, array([1.], dtype=float32)],\n",
       " [0.99999213, 0.9999924, array([0.99999976], dtype=float32)],\n",
       " [0.9999845, 0.99998474, array([0.99999976], dtype=float32)],\n",
       " [0.9999958, 0.9999958, array([1.], dtype=float32)],\n",
       " [0.9999844, 0.99998486, array([0.9999995], dtype=float32)],\n",
       " [0.9999987, 0.9999987, array([1.], dtype=float32)],\n",
       " [0.9999453, 0.9999496, array([0.9999957], dtype=float32)],\n",
       " [0.99999875, 0.99999875, array([1.], dtype=float32)],\n",
       " [0.9999931, 0.9999931, array([1.], dtype=float32)],\n",
       " [0.99994797, 0.9999501, array([0.99999785], dtype=float32)],\n",
       " [0.999902, 0.9999087, array([0.9999933], dtype=float32)],\n",
       " [0.9999945, 0.9999945, array([1.], dtype=float32)],\n",
       " [0.99939954, 0.9994465, array([0.99995303], dtype=float32)],\n",
       " [0.99999833, 0.99999833, array([1.], dtype=float32)],\n",
       " [0.9999922, 0.9999922, array([1.], dtype=float32)],\n",
       " [0.99998355, 0.999984, array([0.9999995], dtype=float32)],\n",
       " [0.9999912, 0.99999154, array([0.99999964], dtype=float32)],\n",
       " [0.999997, 0.999997, array([1.], dtype=float32)],\n",
       " [0.9999957, 0.9999957, array([1.], dtype=float32)],\n",
       " [0.9999393, 0.9999433, array([0.999996], dtype=float32)],\n",
       " [0.99998, 0.99998045, array([0.9999995], dtype=float32)],\n",
       " [0.99942625, 0.9994589, array([0.99996734], dtype=float32)],\n",
       " [0.99999815, 0.99999815, array([1.], dtype=float32)],\n",
       " [0.9999844, 0.9999852, array([0.99999917], dtype=float32)],\n",
       " [0.9999876, 0.9999882, array([0.9999994], dtype=float32)],\n",
       " [0.9999869, 0.99998766, array([0.9999992], dtype=float32)],\n",
       " [0.9999864, 0.99998695, array([0.99999946], dtype=float32)],\n",
       " [0.9999962, 0.9999962, array([1.], dtype=float32)],\n",
       " [0.9999586, 0.9999613, array([0.99999726], dtype=float32)],\n",
       " [0.9999312, 0.99993706, array([0.99999416], dtype=float32)],\n",
       " [0.9999962, 0.9999963, array([0.9999999], dtype=float32)],\n",
       " [0.9999884, 0.9999888, array([0.9999996], dtype=float32)],\n",
       " [0.9999989, 0.9999989, array([1.], dtype=float32)],\n",
       " [0.9999717, 0.9999721, array([0.9999996], dtype=float32)],\n",
       " [0.99996716, 0.9999696, array([0.99999756], dtype=float32)],\n",
       " [0.99999964, 0.99999964, array([1.], dtype=float32)],\n",
       " [0.9993998, 0.99945647, array([0.99994326], dtype=float32)],\n",
       " [0.99991035, 0.99991393, array([0.9999964], dtype=float32)],\n",
       " [0.9999959, 0.9999961, array([0.99999976], dtype=float32)],\n",
       " [0.99999523, 0.99999523, array([1.], dtype=float32)],\n",
       " [0.9999925, 0.9999927, array([0.99999976], dtype=float32)],\n",
       " [0.9999978, 0.9999978, array([1.], dtype=float32)],\n",
       " [0.9999714, 0.99997234, array([0.99999905], dtype=float32)],\n",
       " [0.99998844, 0.9999889, array([0.9999995], dtype=float32)],\n",
       " [0.9999981, 0.9999981, array([1.], dtype=float32)],\n",
       " [0.9998368, 0.9998461, array([0.9999907], dtype=float32)],\n",
       " [0.99999833, 0.99999833, array([1.], dtype=float32)],\n",
       " [0.9999962, 0.9999962, array([1.], dtype=float32)],\n",
       " [0.99998426, 0.99998474, array([0.9999995], dtype=float32)],\n",
       " [0.99999875, 0.99999875, array([1.], dtype=float32)],\n",
       " [0.99985284, 0.99985653, array([0.9999963], dtype=float32)],\n",
       " [0.99999857, 0.99999857, array([1.], dtype=float32)],\n",
       " [0.99999905, 0.99999905, array([1.], dtype=float32)],\n",
       " [0.9999997, 0.9999997, array([1.], dtype=float32)],\n",
       " [0.9999831, 0.99998367, array([0.9999994], dtype=float32)],\n",
       " [0.9992316, 0.99930036, array([0.99993116], dtype=float32)],\n",
       " [0.9994755, 0.9995222, array([0.99995327], dtype=float32)],\n",
       " [0.99999964, 0.99999964, array([1.], dtype=float32)],\n",
       " [0.99999845, 0.99999845, array([1.], dtype=float32)],\n",
       " [0.9999824, 0.99998283, array([0.9999996], dtype=float32)],\n",
       " [0.9999967, 0.9999967, array([1.], dtype=float32)],\n",
       " [0.9999913, 0.9999918, array([0.9999995], dtype=float32)],\n",
       " [0.99998915, 0.9999894, array([0.99999976], dtype=float32)],\n",
       " [0.9999394, 0.999944, array([0.9999954], dtype=float32)],\n",
       " [0.99991864, 0.99992305, array([0.9999956], dtype=float32)],\n",
       " [0.9999947, 0.9999949, array([0.9999998], dtype=float32)],\n",
       " [0.9999966, 0.9999966, array([1.], dtype=float32)],\n",
       " [0.9997489, 0.99977463, array([0.99997425], dtype=float32)],\n",
       " [0.99999917, 0.99999917, array([1.], dtype=float32)],\n",
       " [0.99999857, 0.99999857, array([1.], dtype=float32)],\n",
       " [0.9999543, 0.9999579, array([0.99999636], dtype=float32)],\n",
       " [0.99998593, 0.9999862, array([0.99999976], dtype=float32)],\n",
       " [0.9999736, 0.9999746, array([0.999999], dtype=float32)],\n",
       " [0.9999982, 0.9999982, array([1.], dtype=float32)],\n",
       " [0.99997926, 0.99998, array([0.9999993], dtype=float32)],\n",
       " [0.9999726, 0.99997425, array([0.99999833], dtype=float32)],\n",
       " [0.9999981, 0.9999981, array([1.], dtype=float32)],\n",
       " [0.9999618, 0.99996245, array([0.99999934], dtype=float32)],\n",
       " [0.99993545, 0.99993706, array([0.9999984], dtype=float32)],\n",
       " [0.9999854, 0.9999859, array([0.9999995], dtype=float32)],\n",
       " [0.9999134, 0.99991816, array([0.99999523], dtype=float32)],\n",
       " [0.9999614, 0.99996233, array([0.99999905], dtype=float32)],\n",
       " [0.99999356, 0.99999356, array([1.], dtype=float32)],\n",
       " [0.999995, 0.99999523, array([0.99999976], dtype=float32)],\n",
       " [0.99998784, 0.99998844, array([0.9999994], dtype=float32)],\n",
       " [0.99998784, 0.99998826, array([0.9999996], dtype=float32)],\n",
       " [0.9999903, 0.9999906, array([0.9999997], dtype=float32)],\n",
       " [0.9993405, 0.99936354, array([0.99997693], dtype=float32)],\n",
       " [0.99999124, 0.99999124, array([1.], dtype=float32)],\n",
       " [0.9999956, 0.9999956, array([1.], dtype=float32)],\n",
       " [0.99998283, 0.9999832, array([0.99999964], dtype=float32)],\n",
       " [0.9999617, 0.9999629, array([0.99999875], dtype=float32)],\n",
       " [0.9999983, 0.9999983, array([1.], dtype=float32)],\n",
       " [0.9999903, 0.9999906, array([0.9999997], dtype=float32)],\n",
       " [0.9999962, 0.9999962, array([1.], dtype=float32)],\n",
       " [0.9999785, 0.9999797, array([0.9999988], dtype=float32)],\n",
       " [0.99996775, 0.9999699, array([0.99999785], dtype=float32)],\n",
       " [0.99998623, 0.9999869, array([0.99999934], dtype=float32)],\n",
       " [0.99999315, 0.9999934, array([0.99999976], dtype=float32)],\n",
       " [0.9999523, 0.9999541, array([0.9999982], dtype=float32)],\n",
       " [0.99999195, 0.9999922, array([0.99999976], dtype=float32)],\n",
       " [0.99998915, 0.9999894, array([0.99999976], dtype=float32)],\n",
       " [0.9998846, 0.9998945, array([0.9999901], dtype=float32)],\n",
       " [0.999982, 0.9999832, array([0.9999988], dtype=float32)],\n",
       " [0.999948, 0.99995244, array([0.9999956], dtype=float32)],\n",
       " [0.99999666, 0.99999666, array([1.], dtype=float32)],\n",
       " [0.9999887, 0.9999893, array([0.9999994], dtype=float32)],\n",
       " [0.9999918, 0.9999918, array([1.], dtype=float32)],\n",
       " [0.9999986, 0.9999986, array([1.], dtype=float32)],\n",
       " [0.9999949, 0.9999949, array([1.], dtype=float32)],\n",
       " [0.99999505, 0.99999523, array([0.9999998], dtype=float32)],\n",
       " [0.9995893, 0.9996214, array([0.99996793], dtype=float32)],\n",
       " [0.99999577, 0.99999577, array([1.], dtype=float32)],\n",
       " [0.9999946, 0.99999475, array([0.9999998], dtype=float32)],\n",
       " [0.9999977, 0.9999977, array([1.], dtype=float32)],\n",
       " [0.999992, 0.99999213, array([0.9999999], dtype=float32)],\n",
       " [0.99999654, 0.99999654, array([1.], dtype=float32)],\n",
       " [0.9999883, 0.99998856, array([0.99999976], dtype=float32)],\n",
       " [0.99999225, 0.9999925, array([0.99999976], dtype=float32)],\n",
       " [0.9999967, 0.9999967, array([1.], dtype=float32)],\n",
       " [0.9997816, 0.99978936, array([0.99999225], dtype=float32)],\n",
       " [0.9999856, 0.9999858, array([0.99999976], dtype=float32)],\n",
       " [0.99999696, 0.99999696, array([1.], dtype=float32)],\n",
       " [0.9997014, 0.9997134, array([0.99998796], dtype=float32)],\n",
       " [0.99999464, 0.9999949, array([0.99999976], dtype=float32)],\n",
       " [0.9999939, 0.9999939, array([1.], dtype=float32)],\n",
       " [0.9999523, 0.9999536, array([0.9999987], dtype=float32)],\n",
       " [0.99998486, 0.9999851, array([0.99999976], dtype=float32)],\n",
       " [0.99995154, 0.9999549, array([0.99999666], dtype=float32)],\n",
       " [0.9999291, 0.99993336, array([0.9999957], dtype=float32)],\n",
       " [0.9999974, 0.9999974, array([1.], dtype=float32)],\n",
       " [0.99999535, 0.99999535, array([1.], dtype=float32)],\n",
       " [0.9999816, 0.9999819, array([0.9999997], dtype=float32)],\n",
       " [0.99998343, 0.99998415, array([0.9999993], dtype=float32)],\n",
       " [0.9999993, 0.9999993, array([1.], dtype=float32)],\n",
       " [0.9999963, 0.9999963, array([1.], dtype=float32)],\n",
       " [0.9999747, 0.99997675, array([0.999998], dtype=float32)],\n",
       " [0.99999833, 0.99999833, array([1.], dtype=float32)],\n",
       " [0.99988556, 0.99988854, array([0.999997], dtype=float32)],\n",
       " [0.9998369, 0.99984896, array([0.99998796], dtype=float32)],\n",
       " [0.99999154, 0.9999919, array([0.99999964], dtype=float32)],\n",
       " [0.9999907, 0.99999094, array([0.99999976], dtype=float32)],\n",
       " [0.9999924, 0.9999924, array([1.], dtype=float32)],\n",
       " [0.99999154, 0.99999154, array([1.], dtype=float32)],\n",
       " [0.9999496, 0.9999515, array([0.9999981], dtype=float32)],\n",
       " [0.99999017, 0.9999905, array([0.99999964], dtype=float32)],\n",
       " [0.9999677, 0.9999684, array([0.9999993], dtype=float32)],\n",
       " [0.9999955, 0.9999955, array([1.], dtype=float32)],\n",
       " [0.9999141, 0.99991775, array([0.99999636], dtype=float32)],\n",
       " [0.9999671, 0.99996793, array([0.99999917], dtype=float32)],\n",
       " [0.99999416, 0.9999944, array([0.99999976], dtype=float32)],\n",
       " [0.9999975, 0.9999975, array([1.], dtype=float32)],\n",
       " [0.9999925, 0.9999925, array([1.], dtype=float32)],\n",
       " [0.99993896, 0.99994075, array([0.9999982], dtype=float32)],\n",
       " [0.99997544, 0.9999763, array([0.99999917], dtype=float32)],\n",
       " [0.9999819, 0.99998295, array([0.9999989], dtype=float32)],\n",
       " [0.9999799, 0.9999806, array([0.9999993], dtype=float32)],\n",
       " [0.9999943, 0.9999945, array([0.99999976], dtype=float32)],\n",
       " [0.9999539, 0.9999557, array([0.9999982], dtype=float32)],\n",
       " [0.9999237, 0.9999285, array([0.99999523], dtype=float32)],\n",
       " [0.99999595, 0.99999595, array([1.], dtype=float32)],\n",
       " [0.99990666, 0.99990976, array([0.9999969], dtype=float32)],\n",
       " [0.99997497, 0.99997604, array([0.9999989], dtype=float32)],\n",
       " [0.9999951, 0.9999951, array([1.], dtype=float32)],\n",
       " [0.9999987, 0.9999987, array([1.], dtype=float32)],\n",
       " [0.99999845, 0.99999845, array([1.], dtype=float32)],\n",
       " [0.9999939, 0.9999939, array([1.], dtype=float32)],\n",
       " [0.99993193, 0.9999391, array([0.99999285], dtype=float32)],\n",
       " [0.9999733, 0.99997437, array([0.9999989], dtype=float32)],\n",
       " [0.9999888, 0.99998903, array([0.99999976], dtype=float32)],\n",
       " [0.99998164, 0.999982, array([0.99999964], dtype=float32)],\n",
       " [0.99997276, 0.99997336, array([0.9999994], dtype=float32)],\n",
       " [0.99982715, 0.999835, array([0.99999213], dtype=float32)],\n",
       " [0.99999607, 0.99999607, array([1.], dtype=float32)],\n",
       " [0.9999983, 0.9999983, array([1.], dtype=float32)],\n",
       " [0.99999845, 0.99999845, array([1.], dtype=float32)],\n",
       " [0.99999976, 0.99999976, array([1.], dtype=float32)],\n",
       " [0.99995464, 0.9999577, array([0.99999696], dtype=float32)],\n",
       " [0.99999076, 0.99999076, array([1.], dtype=float32)],\n",
       " [0.9999764, 0.9999776, array([0.9999988], dtype=float32)],\n",
       " [0.99998677, 0.999987, array([0.99999976], dtype=float32)],\n",
       " [0.99997115, 0.999972, array([0.99999917], dtype=float32)],\n",
       " [0.99999857, 0.99999857, array([1.], dtype=float32)],\n",
       " [0.99998236, 0.9999827, array([0.99999964], dtype=float32)],\n",
       " [0.99999475, 0.99999475, array([1.], dtype=float32)],\n",
       " [0.9999974, 0.9999974, array([1.], dtype=float32)],\n",
       " [0.99999523, 0.99999523, array([1.], dtype=float32)],\n",
       " [0.9999643, 0.99996597, array([0.99999833], dtype=float32)],\n",
       " [0.9999838, 0.99998426, array([0.9999995], dtype=float32)],\n",
       " [0.99997383, 0.99997485, array([0.999999], dtype=float32)],\n",
       " [0.9999965, 0.9999966, array([0.9999999], dtype=float32)],\n",
       " [0.9999467, 0.99994767, array([0.99999905], dtype=float32)],\n",
       " [0.99999726, 0.99999726, array([1.], dtype=float32)],\n",
       " [0.99999624, 0.99999624, array([1.], dtype=float32)],\n",
       " [0.9999802, 0.99998057, array([0.99999964], dtype=float32)],\n",
       " [0.99996406, 0.99996537, array([0.9999987], dtype=float32)],\n",
       " [0.99988663, 0.9998938, array([0.99999285], dtype=float32)]]"
      ]
     },
     "execution_count": 19,
     "metadata": {},
     "output_type": "execute_result"
    }
   ],
   "source": [
    "train_score"
   ]
  },
  {
   "cell_type": "code",
   "execution_count": 20,
   "id": "1f232c9f",
   "metadata": {},
   "outputs": [],
   "source": [
    "for i in range(len(r1)):\n",
    "    aa =prt_loss(r1[i] ,yolo)\n",
    "    valid_score.append(aa)"
   ]
  },
  {
   "cell_type": "code",
   "execution_count": 21,
   "id": "8363bdc1",
   "metadata": {},
   "outputs": [
    {
     "name": "stderr",
     "output_type": "stream",
     "text": [
      "Premature end of JPEG file\n"
     ]
    }
   ],
   "source": [
    "for i in range(len(r5)):\n",
    "    aa =prt_loss(r5[i] ,yolo)\n",
    "    test_score.append(aa)"
   ]
  },
  {
   "cell_type": "code",
   "execution_count": 22,
   "id": "2daf1c06",
   "metadata": {},
   "outputs": [],
   "source": [
    "for i in range(len(anomaly_85)):\n",
    "    aa =prt_loss(anomaly_85[i] ,yolo)\n",
    "    anomaly_score.append(aa)"
   ]
  },
  {
   "cell_type": "code",
   "execution_count": 23,
   "id": "cefcce19",
   "metadata": {},
   "outputs": [
    {
     "name": "stderr",
     "output_type": "stream",
     "text": [
      "/tmp/ipykernel_451858/2699754950.py:1: VisibleDeprecationWarning: Creating an ndarray from ragged nested sequences (which is a list-or-tuple of lists-or-tuples-or ndarrays with different lengths or shapes) is deprecated. If you meant to do this, you must specify 'dtype=object' when creating the ndarray.\n",
      "  raw_training = pd.DataFrame(data=np.array(train_score), index=[train_names], columns=[\"score\",\"pred_conf\",\"pred_prob\"])\n"
     ]
    }
   ],
   "source": [
    "raw_training = pd.DataFrame(data=np.array(train_score), index=[train_names], columns=[\"score\",\"pred_conf\",\"pred_prob\"])"
   ]
  },
  {
   "cell_type": "code",
   "execution_count": 24,
   "id": "1671f628",
   "metadata": {},
   "outputs": [
    {
     "data": {
      "text/html": [
       "<div>\n",
       "<style scoped>\n",
       "    .dataframe tbody tr th:only-of-type {\n",
       "        vertical-align: middle;\n",
       "    }\n",
       "\n",
       "    .dataframe tbody tr th {\n",
       "        vertical-align: top;\n",
       "    }\n",
       "\n",
       "    .dataframe thead th {\n",
       "        text-align: right;\n",
       "    }\n",
       "</style>\n",
       "<table border=\"1\" class=\"dataframe\">\n",
       "  <thead>\n",
       "    <tr style=\"text-align: right;\">\n",
       "      <th></th>\n",
       "      <th>score</th>\n",
       "      <th>pred_conf</th>\n",
       "      <th>pred_prob</th>\n",
       "    </tr>\n",
       "  </thead>\n",
       "  <tbody>\n",
       "    <tr>\n",
       "      <th>191_2_1.jpg</th>\n",
       "      <td>0.999791</td>\n",
       "      <td>0.999804</td>\n",
       "      <td>[0.9999874]</td>\n",
       "    </tr>\n",
       "    <tr>\n",
       "      <th>28198_2_1.jpg</th>\n",
       "      <td>0.999998</td>\n",
       "      <td>0.999998</td>\n",
       "      <td>[1.0]</td>\n",
       "    </tr>\n",
       "    <tr>\n",
       "      <th>28586_2_3.jpg</th>\n",
       "      <td>0.999995</td>\n",
       "      <td>0.999995</td>\n",
       "      <td>[1.0]</td>\n",
       "    </tr>\n",
       "    <tr>\n",
       "      <th>8661_2_3.jpg</th>\n",
       "      <td>0.999999</td>\n",
       "      <td>0.999999</td>\n",
       "      <td>[1.0]</td>\n",
       "    </tr>\n",
       "    <tr>\n",
       "      <th>10353_2_7.jpg</th>\n",
       "      <td>0.999994</td>\n",
       "      <td>0.999994</td>\n",
       "      <td>[0.9999998]</td>\n",
       "    </tr>\n",
       "    <tr>\n",
       "      <th>...</th>\n",
       "      <td>...</td>\n",
       "      <td>...</td>\n",
       "      <td>...</td>\n",
       "    </tr>\n",
       "    <tr>\n",
       "      <th>10002_2_9.jpg</th>\n",
       "      <td>0.999997</td>\n",
       "      <td>0.999997</td>\n",
       "      <td>[1.0]</td>\n",
       "    </tr>\n",
       "    <tr>\n",
       "      <th>2533_2_1.jpg</th>\n",
       "      <td>0.999996</td>\n",
       "      <td>0.999996</td>\n",
       "      <td>[1.0]</td>\n",
       "    </tr>\n",
       "    <tr>\n",
       "      <th>25744_2_3.jpg</th>\n",
       "      <td>0.99998</td>\n",
       "      <td>0.999981</td>\n",
       "      <td>[0.99999964]</td>\n",
       "    </tr>\n",
       "    <tr>\n",
       "      <th>24074_2_1.jpg</th>\n",
       "      <td>0.999964</td>\n",
       "      <td>0.999965</td>\n",
       "      <td>[0.9999987]</td>\n",
       "    </tr>\n",
       "    <tr>\n",
       "      <th>25042_2_1.jpg</th>\n",
       "      <td>0.999887</td>\n",
       "      <td>0.999894</td>\n",
       "      <td>[0.99999285]</td>\n",
       "    </tr>\n",
       "  </tbody>\n",
       "</table>\n",
       "<p>340 rows × 3 columns</p>\n",
       "</div>"
      ],
      "text/plain": [
       "                  score pred_conf     pred_prob\n",
       "191_2_1.jpg    0.999791  0.999804   [0.9999874]\n",
       "28198_2_1.jpg  0.999998  0.999998         [1.0]\n",
       "28586_2_3.jpg  0.999995  0.999995         [1.0]\n",
       "8661_2_3.jpg   0.999999  0.999999         [1.0]\n",
       "10353_2_7.jpg  0.999994  0.999994   [0.9999998]\n",
       "...                 ...       ...           ...\n",
       "10002_2_9.jpg  0.999997  0.999997         [1.0]\n",
       "2533_2_1.jpg   0.999996  0.999996         [1.0]\n",
       "25744_2_3.jpg   0.99998  0.999981  [0.99999964]\n",
       "24074_2_1.jpg  0.999964  0.999965   [0.9999987]\n",
       "25042_2_1.jpg  0.999887  0.999894  [0.99999285]\n",
       "\n",
       "[340 rows x 3 columns]"
      ]
     },
     "execution_count": 24,
     "metadata": {},
     "output_type": "execute_result"
    }
   ],
   "source": [
    "raw_training"
   ]
  },
  {
   "cell_type": "code",
   "execution_count": 25,
   "id": "6bf34236",
   "metadata": {},
   "outputs": [
    {
     "name": "stderr",
     "output_type": "stream",
     "text": [
      "/tmp/ipykernel_451858/1602272338.py:1: VisibleDeprecationWarning: Creating an ndarray from ragged nested sequences (which is a list-or-tuple of lists-or-tuples-or ndarrays with different lengths or shapes) is deprecated. If you meant to do this, you must specify 'dtype=object' when creating the ndarray.\n",
      "  raw_valid = pd.DataFrame(data=np.array(valid_score), index=[valid_names], columns=[\"score\",\"pred_conf\",\"pred_prob\"])\n"
     ]
    }
   ],
   "source": [
    "raw_valid = pd.DataFrame(data=np.array(valid_score), index=[valid_names], columns=[\"score\",\"pred_conf\",\"pred_prob\"])"
   ]
  },
  {
   "cell_type": "code",
   "execution_count": 26,
   "id": "7e6af977",
   "metadata": {},
   "outputs": [
    {
     "data": {
      "text/html": [
       "<div>\n",
       "<style scoped>\n",
       "    .dataframe tbody tr th:only-of-type {\n",
       "        vertical-align: middle;\n",
       "    }\n",
       "\n",
       "    .dataframe tbody tr th {\n",
       "        vertical-align: top;\n",
       "    }\n",
       "\n",
       "    .dataframe thead th {\n",
       "        text-align: right;\n",
       "    }\n",
       "</style>\n",
       "<table border=\"1\" class=\"dataframe\">\n",
       "  <thead>\n",
       "    <tr style=\"text-align: right;\">\n",
       "      <th></th>\n",
       "      <th>score</th>\n",
       "      <th>pred_conf</th>\n",
       "      <th>pred_prob</th>\n",
       "    </tr>\n",
       "  </thead>\n",
       "  <tbody>\n",
       "    <tr>\n",
       "      <th>27742_2_3.jpg</th>\n",
       "      <td>0.999985</td>\n",
       "      <td>0.999985</td>\n",
       "      <td>[0.99999905]</td>\n",
       "    </tr>\n",
       "    <tr>\n",
       "      <th>21770_2_1.jpg</th>\n",
       "      <td>0.999999</td>\n",
       "      <td>0.999999</td>\n",
       "      <td>[1.0]</td>\n",
       "    </tr>\n",
       "    <tr>\n",
       "      <th>28487_2_1.jpg</th>\n",
       "      <td>0.999996</td>\n",
       "      <td>0.999996</td>\n",
       "      <td>[1.0]</td>\n",
       "    </tr>\n",
       "    <tr>\n",
       "      <th>8946_2_3.jpg</th>\n",
       "      <td>0.999995</td>\n",
       "      <td>0.999995</td>\n",
       "      <td>[0.9999999]</td>\n",
       "    </tr>\n",
       "    <tr>\n",
       "      <th>28196_2_1.jpg</th>\n",
       "      <td>0.999989</td>\n",
       "      <td>0.999989</td>\n",
       "      <td>[1.0]</td>\n",
       "    </tr>\n",
       "    <tr>\n",
       "      <th>...</th>\n",
       "      <td>...</td>\n",
       "      <td>...</td>\n",
       "      <td>...</td>\n",
       "    </tr>\n",
       "    <tr>\n",
       "      <th>29919_2_1.jpg</th>\n",
       "      <td>0.999975</td>\n",
       "      <td>0.999975</td>\n",
       "      <td>[0.9999996]</td>\n",
       "    </tr>\n",
       "    <tr>\n",
       "      <th>29932_2_1.jpg</th>\n",
       "      <td>0.999987</td>\n",
       "      <td>0.999987</td>\n",
       "      <td>[0.99999964]</td>\n",
       "    </tr>\n",
       "    <tr>\n",
       "      <th>10355_2_1.jpg</th>\n",
       "      <td>0.999981</td>\n",
       "      <td>0.999982</td>\n",
       "      <td>[0.99999946]</td>\n",
       "    </tr>\n",
       "    <tr>\n",
       "      <th>5806_2_3.jpg</th>\n",
       "      <td>0.999996</td>\n",
       "      <td>0.999996</td>\n",
       "      <td>[1.0]</td>\n",
       "    </tr>\n",
       "    <tr>\n",
       "      <th>30985_2_1.jpg</th>\n",
       "      <td>0.999998</td>\n",
       "      <td>0.999998</td>\n",
       "      <td>[1.0]</td>\n",
       "    </tr>\n",
       "  </tbody>\n",
       "</table>\n",
       "<p>85 rows × 3 columns</p>\n",
       "</div>"
      ],
      "text/plain": [
       "                  score pred_conf     pred_prob\n",
       "27742_2_3.jpg  0.999985  0.999985  [0.99999905]\n",
       "21770_2_1.jpg  0.999999  0.999999         [1.0]\n",
       "28487_2_1.jpg  0.999996  0.999996         [1.0]\n",
       "8946_2_3.jpg   0.999995  0.999995   [0.9999999]\n",
       "28196_2_1.jpg  0.999989  0.999989         [1.0]\n",
       "...                 ...       ...           ...\n",
       "29919_2_1.jpg  0.999975  0.999975   [0.9999996]\n",
       "29932_2_1.jpg  0.999987  0.999987  [0.99999964]\n",
       "10355_2_1.jpg  0.999981  0.999982  [0.99999946]\n",
       "5806_2_3.jpg   0.999996  0.999996         [1.0]\n",
       "30985_2_1.jpg  0.999998  0.999998         [1.0]\n",
       "\n",
       "[85 rows x 3 columns]"
      ]
     },
     "execution_count": 26,
     "metadata": {},
     "output_type": "execute_result"
    }
   ],
   "source": [
    "raw_valid"
   ]
  },
  {
   "cell_type": "code",
   "execution_count": 27,
   "id": "9cdc7870",
   "metadata": {},
   "outputs": [
    {
     "name": "stderr",
     "output_type": "stream",
     "text": [
      "/tmp/ipykernel_451858/1281917758.py:1: VisibleDeprecationWarning: Creating an ndarray from ragged nested sequences (which is a list-or-tuple of lists-or-tuples-or ndarrays with different lengths or shapes) is deprecated. If you meant to do this, you must specify 'dtype=object' when creating the ndarray.\n",
      "  raw_test = pd.DataFrame(data=np.array(test_score), index=[test_names], columns=[\"score\",\"pred_conf\",\"pred_prob\"])\n"
     ]
    }
   ],
   "source": [
    "raw_test = pd.DataFrame(data=np.array(test_score), index=[test_names], columns=[\"score\",\"pred_conf\",\"pred_prob\"])"
   ]
  },
  {
   "cell_type": "code",
   "execution_count": 28,
   "id": "59ced0f1",
   "metadata": {},
   "outputs": [
    {
     "name": "stderr",
     "output_type": "stream",
     "text": [
      "/tmp/ipykernel_451858/911882621.py:1: VisibleDeprecationWarning: Creating an ndarray from ragged nested sequences (which is a list-or-tuple of lists-or-tuples-or ndarrays with different lengths or shapes) is deprecated. If you meant to do this, you must specify 'dtype=object' when creating the ndarray.\n",
      "  raw_anomaly = pd.DataFrame(data=np.array(anomaly_score), index=[anomaly_names], columns=[\"score\",\"pred_conf\",\"pred_prob\"])\n"
     ]
    }
   ],
   "source": [
    "raw_anomaly = pd.DataFrame(data=np.array(anomaly_score), index=[anomaly_names], columns=[\"score\",\"pred_conf\",\"pred_prob\"])"
   ]
  },
  {
   "cell_type": "code",
   "execution_count": 29,
   "id": "391d22dc",
   "metadata": {},
   "outputs": [],
   "source": [
    "for i in range(len(coco_anomaly)):\n",
    "    aa =prt_loss(coco_anomaly[i] ,yolo)\n",
    "    coco_score.append(aa)"
   ]
  },
  {
   "cell_type": "code",
   "execution_count": 30,
   "id": "da5fc039",
   "metadata": {},
   "outputs": [],
   "source": [
    "for i in range(len(os.listdir(angled_path))):\n",
    "    aa =prt_loss(os.path.join(angled_path, os.listdir(angled_path)[i]) ,yolo)\n",
    "    angle_score.append(aa)"
   ]
  },
  {
   "cell_type": "code",
   "execution_count": 31,
   "id": "a33bb72b",
   "metadata": {},
   "outputs": [],
   "source": [
    "for i in range(len(os.listdir(brace_path))):\n",
    "    aa =prt_loss(os.path.join(brace_path, os.listdir(brace_path)[i]) ,yolo)\n",
    "    braces_score.append(aa)"
   ]
  },
  {
   "cell_type": "code",
   "execution_count": 32,
   "id": "a66c53c0",
   "metadata": {},
   "outputs": [
    {
     "name": "stderr",
     "output_type": "stream",
     "text": [
      "/tmp/ipykernel_451858/794488856.py:1: VisibleDeprecationWarning: Creating an ndarray from ragged nested sequences (which is a list-or-tuple of lists-or-tuples-or ndarrays with different lengths or shapes) is deprecated. If you meant to do this, you must specify 'dtype=object' when creating the ndarray.\n",
      "  raw_coco= pd.DataFrame(data=np.array(coco_score), index=[coco_names], columns=[\"score\",\"pred_conf\",\"pred_prob\"])\n"
     ]
    }
   ],
   "source": [
    "raw_coco= pd.DataFrame(data=np.array(coco_score), index=[coco_names], columns=[\"score\",\"pred_conf\",\"pred_prob\"])"
   ]
  },
  {
   "cell_type": "code",
   "execution_count": 33,
   "id": "c0a40d56",
   "metadata": {},
   "outputs": [
    {
     "name": "stderr",
     "output_type": "stream",
     "text": [
      "/tmp/ipykernel_451858/3543986322.py:1: VisibleDeprecationWarning: Creating an ndarray from ragged nested sequences (which is a list-or-tuple of lists-or-tuples-or ndarrays with different lengths or shapes) is deprecated. If you meant to do this, you must specify 'dtype=object' when creating the ndarray.\n",
      "  raw_anlge= pd.DataFrame(data=np.array(angle_score), index=[angle_names], columns=[\"score\",\"pred_conf\",\"pred_prob\"])\n"
     ]
    }
   ],
   "source": [
    "raw_anlge= pd.DataFrame(data=np.array(angle_score), index=[angle_names], columns=[\"score\",\"pred_conf\",\"pred_prob\"])"
   ]
  },
  {
   "cell_type": "code",
   "execution_count": 34,
   "id": "96f5b8bb",
   "metadata": {},
   "outputs": [
    {
     "name": "stderr",
     "output_type": "stream",
     "text": [
      "/tmp/ipykernel_451858/928199419.py:1: VisibleDeprecationWarning: Creating an ndarray from ragged nested sequences (which is a list-or-tuple of lists-or-tuples-or ndarrays with different lengths or shapes) is deprecated. If you meant to do this, you must specify 'dtype=object' when creating the ndarray.\n",
      "  raw_braces= pd.DataFrame(data=np.array(braces_score), index=[braces_names], columns=[\"score\",\"pred_conf\",\"pred_prob\"])\n"
     ]
    }
   ],
   "source": [
    "raw_braces= pd.DataFrame(data=np.array(braces_score), index=[braces_names], columns=[\"score\",\"pred_conf\",\"pred_prob\"])"
   ]
  },
  {
   "cell_type": "markdown",
   "id": "b2ec407d",
   "metadata": {},
   "source": [
    "## GIOU(must change when change txt file)"
   ]
  },
  {
   "cell_type": "code",
   "execution_count": 35,
   "id": "85696726",
   "metadata": {},
   "outputs": [],
   "source": [
    "file = open(\"model_data/no_lip_more_train.txt\", \"r\")\n",
    "no_lip_train = file.readlines()\n",
    "file.close()\n",
    "file = open(\"model_data/no_lip_more_validation.txt\", \"r\")\n",
    "no_lip_valid = file.readlines()\n",
    "file.close()"
   ]
  },
  {
   "cell_type": "code",
   "execution_count": 36,
   "id": "8d727d62",
   "metadata": {},
   "outputs": [],
   "source": [
    "GT_train = []\n",
    "GT_valid = []"
   ]
  },
  {
   "cell_type": "code",
   "execution_count": 37,
   "id": "e8da4782",
   "metadata": {},
   "outputs": [],
   "source": [
    "giou_ious_list_train = []\n",
    "giou_ious_list_valid = []"
   ]
  },
  {
   "cell_type": "code",
   "execution_count": 38,
   "id": "d56da965",
   "metadata": {},
   "outputs": [],
   "source": [
    "#GT add\n",
    "for i in range(len(r11)):\n",
    "    bb = no_lip_train[i].split()[1].split(\",\")[0:4]\n",
    "    bb = [int(item) for item in bb]\n",
    "    GT_train.append(bb)\n",
    "for i in range(len(r1)):\n",
    "    bb = no_lip_valid[i].split()[1].split(\",\")[0:4]\n",
    "    bb = [int(item) for item in bb]\n",
    "    GT_valid.append(bb)"
   ]
  },
  {
   "cell_type": "code",
   "execution_count": 39,
   "id": "cc0ef0ef",
   "metadata": {},
   "outputs": [],
   "source": [
    "# train\n",
    "for i in range(len(r11)):\n",
    "    image, bboxes = detect_image(yolo, r11[i], \"\", input_size=YOLO_INPUT_SIZE, show=False, score_threshold=0.1, CLASSES=TRAIN_CLASSES, rectangle_colors=(255,0,0))\n",
    "    if len(bboxes) == 0 :\n",
    "        giou_ious_list_train.append([0,0])\n",
    "    else :\n",
    "        giou,ious = GIoU(np.array(GT_train[i]), bboxes[0][:4])\n",
    "        giou_ious_list_train.append([giou,ious])"
   ]
  },
  {
   "cell_type": "code",
   "execution_count": 40,
   "id": "45409d22",
   "metadata": {},
   "outputs": [],
   "source": [
    "# validation\n",
    "for i in range(len(r1)):\n",
    "    image, bboxes = detect_image(yolo, r1[i], \"\", input_size=YOLO_INPUT_SIZE,score_threshold=0.1, show=False, CLASSES=TRAIN_CLASSES, rectangle_colors=(255,0,0))\n",
    "    if len(bboxes) == 0 :\n",
    "        giou_ious_list_valid.append([0,0])\n",
    "    else :\n",
    "        giou,ious = GIoU(np.array(GT_valid[i]), bboxes[0][:4])\n",
    "        giou_ious_list_valid.append([giou,ious])"
   ]
  },
  {
   "cell_type": "code",
   "execution_count": 41,
   "id": "dba4c5f5",
   "metadata": {},
   "outputs": [],
   "source": [
    "raw_training_giou = pd.DataFrame(data=np.array(giou_ious_list_train), index=[train_names], columns=[\"giou\", \"iou\"])"
   ]
  },
  {
   "cell_type": "code",
   "execution_count": 42,
   "id": "7302bb86",
   "metadata": {},
   "outputs": [],
   "source": [
    "raw_valid_giou = pd.DataFrame(data=np.array(giou_ious_list_valid), index=[valid_names], columns=[\"giou\", \"iou\"])"
   ]
  },
  {
   "cell_type": "code",
   "execution_count": 43,
   "id": "4e15a12b",
   "metadata": {},
   "outputs": [],
   "source": [
    "df_training_join = pd.merge(raw_training,raw_training_giou, left_index=True, right_index = True, \n",
    "                         how =\"outer\" )"
   ]
  },
  {
   "cell_type": "code",
   "execution_count": 44,
   "id": "10cca578",
   "metadata": {},
   "outputs": [],
   "source": [
    "df_valid_join = pd.merge(raw_valid,raw_valid_giou, left_index=True, right_index = True, \n",
    "                         how =\"outer\" )"
   ]
  },
  {
   "cell_type": "code",
   "execution_count": 45,
   "id": "e6fc8f35",
   "metadata": {},
   "outputs": [],
   "source": [
    "xlxs_dir='___final.xlsx' #경로 및 파일명 설정\n",
    "with pd.ExcelWriter(xlxs_dir) as writer:\n",
    "    df_training_join.to_excel(writer, sheet_name = 'training_data') #raw_data1 시트에 저장\n",
    "    df_valid_join.to_excel(writer, sheet_name = 'valid_data') #raw_data2 시트에 저장\n",
    "    raw_test.to_excel(writer, sheet_name = 'test_data') #raw_data2 시트에 저장\n",
    "    raw_anomaly.to_excel(writer, sheet_name = 'anomaly_data') #raw_data2 시트에 저장\n",
    "    raw_coco.to_excel(writer, sheet_name = 'coco_data') #raw_data1 시트에 저장\n",
    "    raw_anlge.to_excel(writer, sheet_name = 'angle_data') #raw_data2 시트에 저장\n",
    "    raw_braces.to_excel(writer, sheet_name = 'braces_data') #raw_data2 시트에 저장"
   ]
  },
  {
   "cell_type": "markdown",
   "id": "ddb2660d",
   "metadata": {},
   "source": [
    "#  test2 replace old_test_set"
   ]
  },
  {
   "cell_type": "code",
   "execution_count": 46,
   "id": "ec6ee2ef",
   "metadata": {},
   "outputs": [],
   "source": [
    "import pandas as pd\n",
    "import numpy as np\n",
    "from sklearn import metrics\n",
    "import matplotlib.pyplot as plt"
   ]
  },
  {
   "cell_type": "code",
   "execution_count": 47,
   "id": "e50a211e",
   "metadata": {},
   "outputs": [],
   "source": [
    "train_df =  pd.read_excel(\"___final.xlsx\", sheet_name=\"training_data\", engine='openpyxl', index_col=0)\n",
    "valid_df = pd.read_excel(\"___final.xlsx\", sheet_name=\"valid_data\", engine='openpyxl', index_col=0)\n",
    "# test_df = pd.read_excel(\"___final.xlsx\", sheet_name=\"test_data\", engine='openpyxl', index_col=0)\n",
    "anomaly_df = pd.read_excel(\"___final.xlsx\", sheet_name=\"anomaly_data\", engine='openpyxl', index_col=0)\n",
    "coco_df = pd.read_excel(\"___final.xlsx\", sheet_name=\"coco_data\", engine='openpyxl', index_col=0)\n",
    "angle_df = pd.read_excel(\"___final.xlsx\", sheet_name=\"angle_data\", engine='openpyxl', index_col=0)\n",
    "braces_df = pd.read_excel(\"___final.xlsx\", sheet_name=\"braces_data\", engine='openpyxl', index_col=0)"
   ]
  },
  {
   "cell_type": "code",
   "execution_count": 48,
   "id": "0854f643",
   "metadata": {},
   "outputs": [
    {
     "name": "stderr",
     "output_type": "stream",
     "text": [
      "Premature end of JPEG file\n"
     ]
    }
   ],
   "source": [
    "test2  =glob(r\"/home/jh/Desktop/teeth/github_td/test2/*.jpg\")\n",
    "test_names = []\n",
    "for i in range(len(test2)):\n",
    "    test_names.append(os.path.basename(test2[i]))\n",
    "\n",
    "test_score = []\n",
    "for i in range(len(test2)):\n",
    "    aa =prt_loss(test2[i] ,yolo)\n",
    "    test_score.append(aa)\n"
   ]
  },
  {
   "cell_type": "code",
   "execution_count": 49,
   "id": "9096538a",
   "metadata": {},
   "outputs": [
    {
     "name": "stderr",
     "output_type": "stream",
     "text": [
      "/tmp/ipykernel_451858/4164779704.py:1: VisibleDeprecationWarning: Creating an ndarray from ragged nested sequences (which is a list-or-tuple of lists-or-tuples-or ndarrays with different lengths or shapes) is deprecated. If you meant to do this, you must specify 'dtype=object' when creating the ndarray.\n",
      "  test2_df = pd.DataFrame(data=np.array(test_score), index=[test_names], columns=[\"score\",\"pred_conf\",\"pred_prob\"])\n"
     ]
    }
   ],
   "source": [
    "test2_df = pd.DataFrame(data=np.array(test_score), index=[test_names], columns=[\"score\",\"pred_conf\",\"pred_prob\"])"
   ]
  },
  {
   "cell_type": "code",
   "execution_count": 50,
   "id": "580680b1",
   "metadata": {},
   "outputs": [],
   "source": [
    "xlxs_dir='___final_2.xlsx' #경로 및 파일명 설정\n",
    "with pd.ExcelWriter(xlxs_dir) as writer:\n",
    "    train_df.to_excel(writer, sheet_name = 'training_data') #raw_data1 시트에 저장\n",
    "    valid_df.to_excel(writer, sheet_name = 'valid_data') #raw_data2 시트에 저장\n",
    "    test2_df.to_excel(writer, sheet_name = 'test_data') #raw_data2 시트에 저장\n",
    "    anomaly_df.to_excel(writer, sheet_name = 'anomaly_data') #raw_data2 시트에 저장\n",
    "    coco_df.to_excel(writer, sheet_name = 'coco_data') #raw_data1 시트에 저장\n",
    "    angle_df.to_excel(writer, sheet_name = 'angle_data') #raw_data2 시트에 저장\n",
    "    braces_df.to_excel(writer, sheet_name = 'braces_data') #raw_data2 시트에 저장"
   ]
  },
  {
   "cell_type": "markdown",
   "id": "0a7fc889",
   "metadata": {},
   "source": [
    "# remove overlab"
   ]
  },
  {
   "cell_type": "code",
   "execution_count": 51,
   "id": "3c2f6e29",
   "metadata": {},
   "outputs": [],
   "source": [
    "from glob import glob\n",
    "import numpy as np\n",
    "import pandas as pd\n",
    "import os"
   ]
  },
  {
   "cell_type": "code",
   "execution_count": 52,
   "id": "bcbba4f7",
   "metadata": {},
   "outputs": [
    {
     "name": "stdout",
     "output_type": "stream",
     "text": [
      "[  34  130  161  189  241  337  466  474  600  646  769  775  860  878\n",
      "  975  995 1016 1021 1076 1082 1184 1267 1275 1363 1478 1500 1528 1585\n",
      " 1685 1806 1899 1955 1981 2041 2047 2061 2363 2391 2433 2435 2556 2558\n",
      " 2612 2613 2734 2747 2824 2888 2904 2919 3005 3073 3092 3152 3171 3202\n",
      " 3342 3385 3444 3461 3556 3772 3798 3843 3890 3943 4014 4117 4297 4426\n",
      " 4551 4555 4658 4798 4843 4911]\n"
     ]
    }
   ],
   "source": [
    "coco_anomaly =  glob(r\"/home/jh/Desktop/teeth/github_td/val2017/*.jpg\")\n",
    "np.random.seed(42)\n",
    "a = np.random.randint(5000, size =76)\n",
    "a = np.sort(a)\n",
    "print(a)\n",
    "anomaly_76 = [coco_anomaly[i] for i in a]"
   ]
  },
  {
   "cell_type": "code",
   "execution_count": 53,
   "id": "fea2b717",
   "metadata": {},
   "outputs": [],
   "source": [
    "train_df =  pd.read_excel(\"___final_2.xlsx\", sheet_name=\"training_data\", engine='openpyxl', index_col=0)\n",
    "valid_df = pd.read_excel(\"___final_2.xlsx\", sheet_name=\"valid_data\", engine='openpyxl', index_col=0)\n",
    "test2_df = pd.read_excel(\"___final_2.xlsx\", sheet_name=\"test_data\", engine='openpyxl', index_col=0)\n",
    "anomaly_df = pd.read_excel(\"___final_2.xlsx\", sheet_name=\"anomaly_data\", engine='openpyxl', index_col=0)\n",
    "coco_df = pd.read_excel(\"___final_2.xlsx\", sheet_name=\"coco_data\", engine='openpyxl', index_col=0)\n",
    "angle_df = pd.read_excel(\"___final_2.xlsx\", sheet_name=\"angle_data\", engine='openpyxl', index_col=0)\n",
    "braces_df = pd.read_excel(\"___final_2.xlsx\", sheet_name=\"braces_data\", engine='openpyxl', index_col=0)"
   ]
  },
  {
   "cell_type": "code",
   "execution_count": 54,
   "id": "1b618b8b",
   "metadata": {},
   "outputs": [],
   "source": [
    "remove_name = [os.path.basename(i) for i in anomaly_76]\n",
    "coco_df = coco_df.drop(remove_name)"
   ]
  },
  {
   "cell_type": "code",
   "execution_count": 55,
   "id": "7cb7268b",
   "metadata": {},
   "outputs": [],
   "source": [
    "xlxs_dir='___final_3.xlsx' #경로 및 파일명 설정\n",
    "with pd.ExcelWriter(xlxs_dir) as writer:\n",
    "    train_df.to_excel(writer, sheet_name = 'training_data') #raw_data1 시트에 저장\n",
    "    valid_df.to_excel(writer, sheet_name = 'valid_data') #raw_data2 시트에 저장\n",
    "    test2_df.to_excel(writer, sheet_name = 'test_data') #raw_data2 시트에 저장\n",
    "    anomaly_df.to_excel(writer, sheet_name = 'anomaly_data') #raw_data2 시트에 저장\n",
    "    coco_df.to_excel(writer, sheet_name = 'coco_data') #raw_data1 시트에 저장\n",
    "    angle_df.to_excel(writer, sheet_name = 'angle_data') #raw_data2 시트에 저장\n",
    "    braces_df.to_excel(writer, sheet_name = 'braces_data') #raw_data2 시트에 저장"
   ]
  },
  {
   "cell_type": "markdown",
   "id": "86bba396",
   "metadata": {},
   "source": [
    "# AUC 계산"
   ]
  },
  {
   "cell_type": "code",
   "execution_count": 56,
   "id": "0decde75",
   "metadata": {},
   "outputs": [],
   "source": [
    "import pandas as pd\n",
    "import numpy as np\n",
    "from sklearn import metrics\n",
    "import matplotlib.pyplot as plt"
   ]
  },
  {
   "cell_type": "code",
   "execution_count": 57,
   "id": "453e74e9",
   "metadata": {},
   "outputs": [],
   "source": [
    "test_df = pd.read_excel(\"___final_3.xlsx\", sheet_name=\"test_data\", engine='openpyxl')\n",
    "# anomaly_df = pd.read_excel(\"___final_3.xlsx\", sheet_name=\"anomaly_data\", engine='openpyxl')\n",
    "coco_df = pd.read_excel(\"___final_3.xlsx\", sheet_name=\"coco_data\", engine='openpyxl')\n",
    "angle_df = pd.read_excel(\"___final_3.xlsx\", sheet_name=\"angle_data\", engine='openpyxl')\n",
    "braces_df = pd.read_excel(\"___final_3.xlsx\", sheet_name=\"braces_data\", engine='openpyxl')"
   ]
  },
  {
   "cell_type": "code",
   "execution_count": 58,
   "id": "e60c6046",
   "metadata": {},
   "outputs": [],
   "source": [
    "test_pred_score = [i for i in test_df[\"score\"]]\n",
    "# anomaly_pred_score = [i for i in anomaly_df[\"score\"]]\n",
    "coco_pred_score=  [i for i in coco_df[\"score\"]]\n",
    "angle_pred_score =  [i for i in angle_df[\"score\"]]\n",
    "braces_pred_score =  [i for i in braces_df[\"score\"]]"
   ]
  },
  {
   "cell_type": "code",
   "execution_count": 59,
   "id": "5530d544",
   "metadata": {},
   "outputs": [],
   "source": [
    "y = [1]*len(test_pred_score)  + [0]*len(coco_pred_score)+ [0]*len(angle_pred_score) +[1]*len(braces_pred_score)"
   ]
  },
  {
   "cell_type": "code",
   "execution_count": 60,
   "id": "3f40a308",
   "metadata": {},
   "outputs": [],
   "source": [
    "pred = np.array(test_pred_score +coco_pred_score +angle_pred_score+braces_pred_score)"
   ]
  },
  {
   "cell_type": "code",
   "execution_count": 61,
   "id": "ca18f4ff",
   "metadata": {},
   "outputs": [],
   "source": [
    "fpr, tpr, thresholds = metrics.roc_curve(y, pred)\n",
    "roc_auc = metrics.auc(fpr, tpr)"
   ]
  },
  {
   "cell_type": "code",
   "execution_count": 62,
   "id": "bfcd881a",
   "metadata": {},
   "outputs": [
    {
     "name": "stdout",
     "output_type": "stream",
     "text": [
      "0.9937538789476889\n"
     ]
    }
   ],
   "source": [
    "print(roc_auc)"
   ]
  },
  {
   "cell_type": "code",
   "execution_count": 63,
   "id": "cd9b936d",
   "metadata": {},
   "outputs": [
    {
     "data": {
      "image/png": "[encoded data removed]",
      "text/plain": [
       "<Figure size 432x288 with 1 Axes>"
      ]
     },
     "metadata": {
      "needs_background": "light"
     },
     "output_type": "display_data"
    }
   ],
   "source": [
    "plt.figure()\n",
    "lw = 2\n",
    "plt.plot(\n",
    "    fpr,\n",
    "    tpr,\n",
    "    color=\"darkorange\",\n",
    "    lw=lw,\n",
    "    label=\"ROC curve (area = %0.2f)\" % roc_auc,\n",
    ")\n",
    "plt.plot([0, 1], [0, 1], color=\"navy\", lw=lw, linestyle=\"--\")\n",
    "plt.xlim([0.0, 1.0])\n",
    "plt.ylim([0.0, 1.05])\n",
    "plt.xlabel(\"False Positive Rate\")\n",
    "plt.ylabel(\"True Positive Rate\")\n",
    "plt.title(\"Receiver operating characteristic example\")\n",
    "plt.legend(loc=\"lower right\")\n",
    "plt.show()"
   ]
  },
  {
   "cell_type": "code",
   "execution_count": 64,
   "id": "a3e0b056",
   "metadata": {},
   "outputs": [],
   "source": [
    "for i in range(len(pred)):\n",
    "    if pred[i]>0.8 :\n",
    "        pred[i]=1\n",
    "    else:\n",
    "        pred[i]=0"
   ]
  },
  {
   "cell_type": "code",
   "execution_count": 65,
   "id": "cf1b7929",
   "metadata": {},
   "outputs": [
    {
     "data": {
      "text/plain": [
       "(4264, 675, 32, 4991)"
      ]
     },
     "execution_count": 65,
     "metadata": {},
     "output_type": "execute_result"
    }
   ],
   "source": [
    "tn, fp, fn, tp = metrics.confusion_matrix(y, pred).ravel()\n",
    "(tn, fp, fn, tp)"
   ]
  },
  {
   "cell_type": "code",
   "execution_count": 66,
   "id": "d3bcd57f",
   "metadata": {},
   "outputs": [
    {
     "data": {
      "image/png": "[encoded data removed]",
      "text/plain": [
       "<Figure size 432x288 with 2 Axes>"
      ]
     },
     "metadata": {
      "needs_background": "light"
     },
     "output_type": "display_data"
    }
   ],
   "source": [
    "import seaborn as sns\n",
    "cf_matrix = metrics.confusion_matrix(y, pred)\n",
    "group_names = [\"True Neg\",\"False Pos\",\"False Neg\",\"True Pos\"]\n",
    "group_counts = [\"{0:0.0f}\".format(value) for value in\n",
    "                cf_matrix.flatten()]\n",
    "# group_percentages = [“{0:.2%}”.format(value) for value in\n",
    "#                      cf_matrix.flatten()/np.sum(cf_matrix)]\n",
    "labels = [f\"{v1}\\n{v2}\" for v1, v2  in zip(group_names,group_counts)]\n",
    "labels = np.asarray(labels).reshape(2,2)\n",
    "sns.heatmap(cf_matrix, annot=labels, fmt=\"\", cmap='Blues')\n",
    "plt.savefig(\"confusion_matrix.jpg\",bbox_inches = \"tight\")"
   ]
  },
  {
   "cell_type": "code",
   "execution_count": null,
   "id": "48d4e694",
   "metadata": {},
   "outputs": [],
   "source": []
  }
 ],
 "metadata": {
  "kernelspec": {
   "display_name": "Python 3 (ipykernel)",
   "language": "python",
   "name": "python3"
  },
  "language_info": {
   "codemirror_mode": {
    "name": "ipython",
    "version": 3
   },
   "file_extension": ".py",
   "mimetype": "text/x-python",
   "name": "python",
   "nbconvert_exporter": "python",
   "pygments_lexer": "ipython3",
   "version": "3.8.0"
  }
 },
 "nbformat": 4,
 "nbformat_minor": 5
}
