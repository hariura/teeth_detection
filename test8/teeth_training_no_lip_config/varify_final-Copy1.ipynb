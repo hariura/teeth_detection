{
 "cells": [
  {
   "cell_type": "code",
   "execution_count": 1,
   "id": "19da1345",
   "metadata": {},
   "outputs": [],
   "source": [
    "import pandas as pd\n",
    "import numpy as np\n",
    "from sklearn import metrics\n",
    "import matplotlib.pyplot as plt"
   ]
  },
  {
   "cell_type": "markdown",
   "id": "cb078768",
   "metadata": {},
   "source": [
    "# prob"
   ]
  },
  {
   "cell_type": "code",
   "execution_count": 2,
   "id": "78cbfab7",
   "metadata": {},
   "outputs": [],
   "source": [
    "train_df = pd.read_excel(\"___final_3.xlsx\", sheet_name=\"training_data\", engine='openpyxl')\n",
    "valid_df = pd.read_excel(\"___final_3.xlsx\", sheet_name=\"valid_data\", engine='openpyxl')\n",
    "test_df = pd.read_excel(\"___final_3.xlsx\", sheet_name=\"test_data\", engine='openpyxl')\n",
    "anomaly_df = pd.read_excel(\"___final_3.xlsx\", sheet_name=\"anomaly_data\", engine='openpyxl')\n",
    "coco_df = pd.read_excel(\"___final_3.xlsx\", sheet_name=\"coco_data\", engine='openpyxl')\n",
    "angle_df = pd.read_excel(\"___final_3.xlsx\", sheet_name=\"angle_data\", engine='openpyxl')\n",
    "braces_df = pd.read_excel(\"___final_3.xlsx\", sheet_name=\"braces_data\", engine='openpyxl')"
   ]
  },
  {
   "cell_type": "code",
   "execution_count": 3,
   "id": "76b18118",
   "metadata": {},
   "outputs": [],
   "source": [
    "train_pred_score = [i for i in train_df[\"score\"]]\n",
    "valid_pred_score = [i for i in valid_df[\"score\"]]\n",
    "test_pred_score = [i for i in test_df[\"score\"]]\n",
    "anomaly_pred_score = [i for i in anomaly_df[\"score\"]]\n",
    "coco_pred_score=  [i for i in coco_df[\"score\"]]\n",
    "angle_pred_score =  [i for i in angle_df[\"score\"]]\n",
    "braces_pred_score =  [i for i in braces_df[\"score\"]]"
   ]
  },
  {
   "cell_type": "code",
   "execution_count": 4,
   "id": "323d9d20",
   "metadata": {},
   "outputs": [],
   "source": [
    "train_pred_prob = [i for i in train_df[\"pred_prob\"]]\n",
    "valid_pred_prob = [i for i in valid_df[\"pred_prob\"]]\n",
    "test_pred_prob = [i for i in test_df[\"pred_prob\"]]\n",
    "anomaly_pred_prob = [i for i in anomaly_df[\"pred_prob\"]]\n",
    "coco_pred_prob =  [i for i in coco_df[\"pred_prob\"]]\n",
    "angle_pred_prob =  [i for i in angle_df[\"pred_prob\"]]\n",
    "braces_pred_prob =  [i for i in braces_df[\"pred_prob\"]]"
   ]
  },
  {
   "cell_type": "code",
   "execution_count": 5,
   "id": "42640044",
   "metadata": {},
   "outputs": [],
   "source": [
    "train_pred_giou = [i for i in train_df[\"giou\"]]\n",
    "valid_pred_giou = [i for i in valid_df[\"giou\"]]"
   ]
  },
  {
   "cell_type": "markdown",
   "id": "e42ff7ee",
   "metadata": {},
   "source": [
    "# Table 1"
   ]
  },
  {
   "cell_type": "code",
   "execution_count": 13,
   "id": "da1947a9",
   "metadata": {},
   "outputs": [
    {
     "name": "stdout",
     "output_type": "stream",
     "text": [
      "class mean: 0.9999999996493845 \n",
      " class std: 6.46503143962193e-09 \n",
      " model mean: 0.9914969489854925 \n",
      " model std: 0.0030890220922595826 \n",
      " Giou mean: 0.9780281818990852 \n",
      " Giou std: 0.009321261975746769\n"
     ]
    }
   ],
   "source": [
    "print(\"class mean: {0}\".format(np.mean(train_pred_prob)), \"\\n\", \n",
    "     \"class std: {0}\".format(np.std(train_pred_prob, ddof=1)),\"\\n\",  \n",
    "     \"model mean: {0}\".format(np.mean(train_pred_score)),\"\\n\",\n",
    "     \"model std: {0}\".format(np.std(train_pred_score, ddof=1)), \"\\n\",\n",
    "      \"Giou mean: {0}\".format(np.mean(train_pred_giou)), \"\\n\" ,\n",
    "     \"Giou std: {0}\".format(np.std(train_pred_giou, ddof=1)))"
   ]
  },
  {
   "cell_type": "code",
   "execution_count": 15,
   "id": "fcb03f0f",
   "metadata": {},
   "outputs": [
    {
     "name": "stdout",
     "output_type": "stream",
     "text": [
      "class mean: 0.9999999971950755 \n",
      " class std: 2.586012575848772e-08 \n",
      " model mean: 0.9892781089333927 \n",
      " model std: 0.007191186397835406 \n",
      " Giou mean: 0.9027621017098051 \n",
      " Giou std : 0.04583779309933229\n"
     ]
    }
   ],
   "source": [
    "print(\"class mean: {0}\".format(np.mean(valid_pred_prob)), \"\\n\", \n",
    "     \"class std: {0}\".format(np.std(valid_pred_prob, ddof=1)),\"\\n\",  \n",
    "     \"model mean: {0}\".format(np.mean(valid_pred_score)),\"\\n\",\n",
    "     \"model std: {0}\".format(np.std(valid_pred_score, ddof=1)), \"\\n\",\n",
    "      \"Giou mean: {0}\".format(np.mean(valid_pred_giou)), \"\\n\" ,\n",
    "     \"Giou std : {0}\".format(np.std(valid_pred_giou, ddof=1)))"
   ]
  },
  {
   "cell_type": "markdown",
   "id": "9e3fa167",
   "metadata": {},
   "source": [
    "# Table 2 : anomaly set"
   ]
  },
  {
   "cell_type": "code",
   "execution_count": 8,
   "id": "210698c7",
   "metadata": {},
   "outputs": [
    {
     "name": "stdout",
     "output_type": "stream",
     "text": [
      "class mean: 0.9781439739115098 \n",
      " class std: 0.04747909990417409 \n",
      " model mean: 0.02139644732917933 \n",
      " model std: 0.06204458522429237 \n",
      " model max: 0.4971985518932343 \n",
      "valid min: 0.9330523014068604 \n",
      "\n"
     ]
    }
   ],
   "source": [
    "print(\"class mean: {0}\".format(np.mean(anomaly_pred_prob)), \"\\n\", \n",
    "     \"class std: {0}\".format(np.std(anomaly_pred_prob)),\"\\n\",  \n",
    "     \"model mean: {0}\".format(np.mean(anomaly_pred_score)),\"\\n\",\n",
    "     \"model std: {0}\".format(np.std(anomaly_pred_score)), \"\\n\",\n",
    "      \"model max: {0}\".format(np.max(anomaly_pred_score)), \"\\n\"\n",
    "      \"valid min: {0}\".format(np.min(valid_pred_score)), \"\\n\",\n",
    "     )"
   ]
  },
  {
   "cell_type": "markdown",
   "id": "972df9f9",
   "metadata": {},
   "source": [
    "# Tabl 4 :metric"
   ]
  },
  {
   "cell_type": "code",
   "execution_count": 9,
   "id": "bb1ebd90",
   "metadata": {},
   "outputs": [],
   "source": [
    "y = [1]*len(test_pred_score)  + [0]*len(coco_pred_score)+ [0]*len(angle_pred_score) +[1]*len(braces_pred_score)"
   ]
  },
  {
   "cell_type": "code",
   "execution_count": 10,
   "id": "e5cf331b",
   "metadata": {},
   "outputs": [],
   "source": [
    "pred = np.array(test_pred_score +coco_pred_score +angle_pred_score+braces_pred_score)"
   ]
  },
  {
   "cell_type": "code",
   "execution_count": 11,
   "id": "603792cb",
   "metadata": {},
   "outputs": [],
   "source": [
    "for i in range(len(pred)):\n",
    "    if pred[i]>0.8 :\n",
    "        pred[i]=1\n",
    "    else:\n",
    "        pred[i]=0"
   ]
  },
  {
   "cell_type": "code",
   "execution_count": 12,
   "id": "c77e3882",
   "metadata": {},
   "outputs": [
    {
     "name": "stdout",
     "output_type": "stream",
     "text": [
      "Accuracy: 0.9967877936157398\n",
      "Precision: 0.9995995995995997\n",
      "Recall: 0.9940274736213418\n",
      "F1 score: 0.996805749650629\n"
     ]
    }
   ],
   "source": [
    "print('Accuracy:', metrics.accuracy_score(y, pred))\n",
    "print('Precision:', metrics.precision_score(y, pred))\n",
    "print('Recall:', metrics.recall_score(y, pred))\n",
    "print('F1 score:', metrics.f1_score(y, pred))\n",
    "# print '\\n clasification report:\\n', classification_report(y_test,prediction)"
   ]
  },
  {
   "cell_type": "markdown",
   "id": "b0ad0f07",
   "metadata": {},
   "source": [
    "# no prob"
   ]
  },
  {
   "cell_type": "code",
   "execution_count": null,
   "id": "a4cb8f2d",
   "metadata": {},
   "outputs": [],
   "source": [
    "train_df = pd.read_excel(\"___final_3.xlsx\", sheet_name=\"training_data\", engine='openpyxl')\n",
    "valid_df = pd.read_excel(\"___final_3.xlsx\", sheet_name=\"valid_data\", engine='openpyxl')\n",
    "test_df = pd.read_excel(\"___final_3.xlsx\", sheet_name=\"test_data\", engine='openpyxl')\n",
    "anomaly_df = pd.read_excel(\"___final_3.xlsx\", sheet_name=\"anomaly_data\", engine='openpyxl')\n",
    "coco_df = pd.read_excel(\"___final_3.xlsx\", sheet_name=\"coco_data\", engine='openpyxl')\n",
    "angle_df = pd.read_excel(\"___final_3.xlsx\", sheet_name=\"angle_data\", engine='openpyxl')\n",
    "braces_df = pd.read_excel(\"___final_3.xlsx\", sheet_name=\"braces_data\", engine='openpyxl')"
   ]
  },
  {
   "cell_type": "code",
   "execution_count": null,
   "id": "a43cff7d",
   "metadata": {},
   "outputs": [],
   "source": [
    "train_pred_score = [i for i in train_df[\"pred_conf\"]]\n",
    "valid_pred_score = [i for i in valid_df[\"pred_conf\"]]\n",
    "test_pred_score = [i for i in test_df[\"pred_conf\"]]\n",
    "anomaly_pred_score = [i for i in anomaly_df[\"pred_conf\"]]\n",
    "coco_pred_score=  [i for i in coco_df[\"pred_conf\"]]\n",
    "angle_pred_score =  [i for i in angle_df[\"pred_conf\"]]\n",
    "braces_pred_score =  [i for i in braces_df[\"pred_conf\"]]"
   ]
  },
  {
   "cell_type": "code",
   "execution_count": null,
   "id": "fe4455f3",
   "metadata": {},
   "outputs": [],
   "source": [
    "train_pred_giou = [i for i in train_df[\"giou\"]]\n",
    "valid_pred_giou = [i for i in valid_df[\"giou\"]]"
   ]
  },
  {
   "cell_type": "markdown",
   "id": "e6704b63",
   "metadata": {},
   "source": [
    "# Table 5"
   ]
  },
  {
   "cell_type": "code",
   "execution_count": null,
   "id": "3d44fea3",
   "metadata": {},
   "outputs": [],
   "source": [
    "print(\"model mean: {0}\".format(np.mean(train_pred_score)),\"\\n\",\n",
    "     \"model std: {0}\".format(np.std(train_pred_score)), \"\\n\",\n",
    "      \"Giou mean: {0}\".format(np.mean(train_pred_giou)), \"\\n\" ,\n",
    "     \"Giou std: {0}\".format(np.std(train_pred_giou)))"
   ]
  },
  {
   "cell_type": "code",
   "execution_count": null,
   "id": "ae67e670",
   "metadata": {},
   "outputs": [],
   "source": [
    "print(\"model mean: {0}\".format(np.mean(valid_pred_score)),\"\\n\",\n",
    "     \"model std: {0}\".format(np.std(valid_pred_score)), \"\\n\",\n",
    "      \"Giou mean: {0}\".format(np.mean(valid_pred_giou)), \"\\n\" ,\n",
    "     \"Giou std : {0}\".format(np.std(valid_pred_giou)))"
   ]
  },
  {
   "cell_type": "markdown",
   "id": "0c0dcdb5",
   "metadata": {},
   "source": [
    "# Table 6"
   ]
  },
  {
   "cell_type": "code",
   "execution_count": null,
   "id": "e14594a2",
   "metadata": {},
   "outputs": [],
   "source": [
    "print(\"model mean: {0}\".format(np.mean(anomaly_pred_score)),\"\\n\",\n",
    "     \"model std: {0}\".format(np.std(anomaly_pred_score)), \"\\n\",\n",
    "      \"model max: {0}\".format(np.max(anomaly_pred_score)), \"\\n\"\n",
    "      \"valid min: {0}\".format(np.min(valid_pred_score)), \"\\n\",\n",
    "     )"
   ]
  },
  {
   "cell_type": "code",
   "execution_count": null,
   "id": "251f6686",
   "metadata": {},
   "outputs": [],
   "source": [
    "y = [1]*len(test_pred_score)  + [0]*len(coco_pred_score)+ [0]*len(angle_pred_score) +[1]*len(braces_pred_score)"
   ]
  },
  {
   "cell_type": "code",
   "execution_count": null,
   "id": "eafce19a",
   "metadata": {},
   "outputs": [],
   "source": [
    "pred = np.array(test_pred_score +coco_pred_score +angle_pred_score+braces_pred_score)"
   ]
  },
  {
   "cell_type": "code",
   "execution_count": null,
   "id": "c71a18ca",
   "metadata": {},
   "outputs": [],
   "source": [
    "for i in range(len(pred)):\n",
    "    if pred[i]>0.8 :\n",
    "        pred[i]=1\n",
    "    else:\n",
    "        pred[i]=0"
   ]
  },
  {
   "cell_type": "markdown",
   "id": "f337ac3b",
   "metadata": {},
   "source": [
    "# Table8 "
   ]
  },
  {
   "cell_type": "code",
   "execution_count": null,
   "id": "53bc0479",
   "metadata": {},
   "outputs": [],
   "source": [
    "print('Accuracy:', metrics.accuracy_score(y, pred))\n",
    "print('Precision:', metrics.precision_score(y, pred))\n",
    "print('Recall:', metrics.recall_score(y, pred))\n",
    "print('F1 score:', metrics.f1_score(y, pred))"
   ]
  },
  {
   "cell_type": "code",
   "execution_count": null,
   "id": "d844b3a4",
   "metadata": {},
   "outputs": [],
   "source": []
  }
 ],
 "metadata": {
  "kernelspec": {
   "display_name": "Python 3",
   "language": "python",
   "name": "python3"
  },
  "language_info": {
   "codemirror_mode": {
    "name": "ipython",
    "version": 3
   },
   "file_extension": ".py",
   "mimetype": "text/x-python",
   "name": "python",
   "nbconvert_exporter": "python",
   "pygments_lexer": "ipython3",
   "version": "3.6.9"
  }
 },
 "nbformat": 4,
 "nbformat_minor": 5
}
