{
 "cells": [
  {
   "cell_type": "code",
   "execution_count": 1,
   "id": "19da1345",
   "metadata": {},
   "outputs": [],
   "source": [
    "import pandas as pd\n",
    "import numpy as np\n",
    "from sklearn import metrics\n",
    "import matplotlib.pyplot as plt"
   ]
  },
  {
   "cell_type": "markdown",
   "id": "cb078768",
   "metadata": {},
   "source": [
    "# prob"
   ]
  },
  {
   "cell_type": "code",
   "execution_count": 2,
   "id": "78cbfab7",
   "metadata": {},
   "outputs": [],
   "source": [
    "train_df = pd.read_excel(\"___final_3.xlsx\", sheet_name=\"training_data\", engine='openpyxl')\n",
    "valid_df = pd.read_excel(\"___final_3.xlsx\", sheet_name=\"valid_data\", engine='openpyxl')\n",
    "test_df = pd.read_excel(\"___final_3.xlsx\", sheet_name=\"test_data\", engine='openpyxl')\n",
    "anomaly_df = pd.read_excel(\"___final_3.xlsx\", sheet_name=\"anomaly_data\", engine='openpyxl')\n",
    "coco_df = pd.read_excel(\"___final_3.xlsx\", sheet_name=\"coco_data\", engine='openpyxl')\n",
    "angle_df = pd.read_excel(\"___final_3.xlsx\", sheet_name=\"angle_data\", engine='openpyxl')\n",
    "braces_df = pd.read_excel(\"___final_3.xlsx\", sheet_name=\"braces_data\", engine='openpyxl')"
   ]
  },
  {
   "cell_type": "code",
   "execution_count": 3,
   "id": "76b18118",
   "metadata": {},
   "outputs": [],
   "source": [
    "train_pred_score = [i for i in train_df[\"score\"]]\n",
    "valid_pred_score = [i for i in valid_df[\"score\"]]\n",
    "test_pred_score = [i for i in test_df[\"score\"]]\n",
    "anomaly_pred_score = [i for i in anomaly_df[\"score\"]]\n",
    "coco_pred_score=  [i for i in coco_df[\"score\"]]\n",
    "angle_pred_score =  [i for i in angle_df[\"score\"]]\n",
    "braces_pred_score =  [i for i in braces_df[\"score\"]]"
   ]
  },
  {
   "cell_type": "code",
   "execution_count": 4,
   "id": "323d9d20",
   "metadata": {},
   "outputs": [],
   "source": [
    "train_pred_prob = [i for i in train_df[\"pred_prob\"]]\n",
    "valid_pred_prob = [i for i in valid_df[\"pred_prob\"]]\n",
    "test_pred_prob = [i for i in test_df[\"pred_prob\"]]\n",
    "anomaly_pred_prob = [i for i in anomaly_df[\"pred_prob\"]]\n",
    "coco_pred_prob =  [i for i in coco_df[\"pred_prob\"]]\n",
    "angle_pred_prob =  [i for i in angle_df[\"pred_prob\"]]\n",
    "braces_pred_prob =  [i for i in braces_df[\"pred_prob\"]]"
   ]
  },
  {
   "cell_type": "code",
   "execution_count": 6,
   "id": "42640044",
   "metadata": {},
   "outputs": [],
   "source": [
    "train_pred_giou = [i for i in train_df[\"giou\"]]\n",
    "valid_pred_giou = [i for i in valid_df[\"giou\"]]"
   ]
  },
  {
   "cell_type": "markdown",
   "id": "e8eb13bc",
   "metadata": {},
   "source": [
    "# Table 1"
   ]
  },
  {
   "cell_type": "code",
   "execution_count": 39,
   "id": "eb23aca4",
   "metadata": {},
   "outputs": [
    {
     "name": "stdout",
     "output_type": "stream",
     "text": [
      "class mean: 0.9999999996493845 \n",
      " class std: 6.46503143962193e-09 \n",
      " model mean: 0.9947394972338396 \n",
      " model std: 0.00236018548392837 \n",
      " Giou mean: 0.9715365675702108 \n",
      " Giou std: 0.020750347232460012\n"
     ]
    }
   ],
   "source": [
    "print(\"class mean: {0}\".format(np.mean(train_pred_prob)), \"\\n\", \n",
    "     \"class std: {0}\".format(np.std(train_pred_prob, ddof=1)),\"\\n\",  \n",
    "     \"model mean: {0}\".format(np.mean(train_pred_score)),\"\\n\",\n",
    "     \"model std: {0}\".format(np.std(train_pred_score, ddof=1)), \"\\n\",\n",
    "      \"Giou mean: {0}\".format(np.mean(train_pred_giou)), \"\\n\" ,\n",
    "     \"Giou std: {0}\".format(np.std(train_pred_giou, ddof=1)))"
   ]
  },
  {
   "cell_type": "code",
   "execution_count": 41,
   "id": "10a1923e",
   "metadata": {},
   "outputs": [
    {
     "name": "stdout",
     "output_type": "stream",
     "text": [
      "class mean: 0.9999999929876888 \n",
      " class std: 3.3682042667754424e-08 \n",
      " model mean: 0.9924604366807377 \n",
      " model std: 0.006516331778203164 \n",
      " Giou mean: 0.8841075793132043 \n",
      " Giou std : 0.056965849831668136\n"
     ]
    }
   ],
   "source": [
    "print(\"class mean: {0}\".format(np.mean(valid_pred_prob)), \"\\n\", \n",
    "     \"class std: {0}\".format(np.std(valid_pred_prob, ddof=1)),\"\\n\",  \n",
    "     \"model mean: {0}\".format(np.mean(valid_pred_score)),\"\\n\",\n",
    "     \"model std: {0}\".format(np.std(valid_pred_score, ddof=1)), \"\\n\",\n",
    "      \"Giou mean: {0}\".format(np.mean(valid_pred_giou)), \"\\n\" ,\n",
    "     \"Giou std : {0}\".format(np.std(valid_pred_giou, ddof=1)))"
   ]
  },
  {
   "cell_type": "markdown",
   "id": "6d9a745f",
   "metadata": {},
   "source": [
    "# Table 2 : anomaly set"
   ]
  },
  {
   "cell_type": "code",
   "execution_count": 32,
   "id": "3a185ec3",
   "metadata": {},
   "outputs": [
    {
     "name": "stdout",
     "output_type": "stream",
     "text": [
      "class mean: 0.9981880265123704 \n",
      " class std: 0.010919796320483809 \n",
      " model mean: 0.09840072779505349 \n",
      " model std: 0.17865331383958044 \n",
      " model max: 0.8830093145370483 \n",
      "valid min: 0.9450271129608154 \n",
      "\n"
     ]
    }
   ],
   "source": [
    "print(\"class mean: {0}\".format(np.mean(anomaly_pred_prob)), \"\\n\", \n",
    "     \"class std: {0}\".format(np.std(anomaly_pred_prob)),\"\\n\",  \n",
    "     \"model mean: {0}\".format(np.mean(anomaly_pred_score)),\"\\n\",\n",
    "     \"model std: {0}\".format(np.std(anomaly_pred_score)), \"\\n\",\n",
    "      \"model max: {0}\".format(np.max(anomaly_pred_score)), \"\\n\"\n",
    "      \"valid min: {0}\".format(np.min(valid_pred_score)), \"\\n\",\n",
    "     )"
   ]
  },
  {
   "cell_type": "markdown",
   "id": "2efd2f88",
   "metadata": {},
   "source": [
    "# Tabl 4 :metric"
   ]
  },
  {
   "cell_type": "code",
   "execution_count": 33,
   "id": "bb1ebd90",
   "metadata": {},
   "outputs": [],
   "source": [
    "y = [1]*len(test_pred_score)  + [0]*len(coco_pred_score)+ [0]*len(angle_pred_score) +[1]*len(braces_pred_score)"
   ]
  },
  {
   "cell_type": "code",
   "execution_count": 34,
   "id": "e5cf331b",
   "metadata": {},
   "outputs": [],
   "source": [
    "pred = np.array(test_pred_score +coco_pred_score +angle_pred_score+braces_pred_score)"
   ]
  },
  {
   "cell_type": "code",
   "execution_count": 35,
   "id": "603792cb",
   "metadata": {},
   "outputs": [],
   "source": [
    "for i in range(len(pred)):\n",
    "    if pred[i]>0.8 :\n",
    "        pred[i]=1\n",
    "    else:\n",
    "        pred[i]=0"
   ]
  },
  {
   "cell_type": "code",
   "execution_count": 38,
   "id": "020f38ff",
   "metadata": {},
   "outputs": [
    {
     "name": "stdout",
     "output_type": "stream",
     "text": [
      "Accuracy: 0.9876530817104999\n",
      "Precision: 0.9870775347912525\n",
      "Recall: 0.9884531156679275\n",
      "F1 score: 0.987764846314533\n"
     ]
    }
   ],
   "source": [
    "print('Accuracy:', metrics.accuracy_score(y, pred))\n",
    "print('Precision:', metrics.precision_score(y, pred))\n",
    "print('Recall:', metrics.recall_score(y, pred))\n",
    "print('F1 score:', metrics.f1_score(y, pred))\n",
    "# print '\\n clasification report:\\n', classification_report(y_test,prediction)"
   ]
  },
  {
   "cell_type": "markdown",
   "id": "b0ad0f07",
   "metadata": {},
   "source": [
    "# no prob"
   ]
  },
  {
   "cell_type": "code",
   "execution_count": null,
   "id": "a4cb8f2d",
   "metadata": {},
   "outputs": [],
   "source": [
    "train_df = pd.read_excel(\"___final_3.xlsx\", sheet_name=\"training_data\", engine='openpyxl')\n",
    "valid_df = pd.read_excel(\"___final_3.xlsx\", sheet_name=\"valid_data\", engine='openpyxl')\n",
    "test_df = pd.read_excel(\"___final_3.xlsx\", sheet_name=\"test_data\", engine='openpyxl')\n",
    "anomaly_df = pd.read_excel(\"___final_3.xlsx\", sheet_name=\"anomaly_data\", engine='openpyxl')\n",
    "coco_df = pd.read_excel(\"___final_3.xlsx\", sheet_name=\"coco_data\", engine='openpyxl')\n",
    "angle_df = pd.read_excel(\"___final_3.xlsx\", sheet_name=\"angle_data\", engine='openpyxl')\n",
    "braces_df = pd.read_excel(\"___final_3.xlsx\", sheet_name=\"braces_data\", engine='openpyxl')"
   ]
  },
  {
   "cell_type": "code",
   "execution_count": null,
   "id": "a43cff7d",
   "metadata": {},
   "outputs": [],
   "source": [
    "train_pred_score = [i for i in train_df[\"pred_conf\"]]\n",
    "valid_pred_score = [i for i in valid_df[\"pred_conf\"]]\n",
    "test_pred_score = [i for i in test_df[\"pred_conf\"]]\n",
    "anomaly_pred_score = [i for i in anomaly_df[\"pred_conf\"]]\n",
    "coco_pred_score=  [i for i in coco_df[\"pred_conf\"]]\n",
    "angle_pred_score =  [i for i in angle_df[\"pred_conf\"]]\n",
    "braces_pred_score =  [i for i in braces_df[\"pred_conf\"]]"
   ]
  },
  {
   "cell_type": "code",
   "execution_count": null,
   "id": "6fe8e995",
   "metadata": {},
   "outputs": [],
   "source": [
    "train_pred_giou = [i for i in train_df[\"giou\"]]\n",
    "valid_pred_giou = [i for i in valid_df[\"giou\"]]"
   ]
  },
  {
   "cell_type": "markdown",
   "id": "92a51560",
   "metadata": {},
   "source": [
    "# Table 5"
   ]
  },
  {
   "cell_type": "code",
   "execution_count": null,
   "id": "a1446825",
   "metadata": {},
   "outputs": [],
   "source": [
    "print(\"model mean: {0}\".format(np.mean(train_pred_score)),\"\\n\",\n",
    "     \"model std: {0}\".format(np.std(train_pred_score)), \"\\n\",\n",
    "      \"Giou mean: {0}\".format(np.mean(train_pred_giou)), \"\\n\" ,\n",
    "     \"Giou std: {0}\".format(np.std(train_pred_giou)))"
   ]
  },
  {
   "cell_type": "code",
   "execution_count": null,
   "id": "b468cb28",
   "metadata": {},
   "outputs": [],
   "source": [
    "print(\"model mean: {0}\".format(np.mean(valid_pred_score)),\"\\n\",\n",
    "     \"model std: {0}\".format(np.std(valid_pred_score)), \"\\n\",\n",
    "      \"Giou mean: {0}\".format(np.mean(valid_pred_giou)), \"\\n\" ,\n",
    "     \"Giou std : {0}\".format(np.std(valid_pred_giou)))"
   ]
  },
  {
   "cell_type": "markdown",
   "id": "2bc8f23f",
   "metadata": {},
   "source": [
    "# Table 6"
   ]
  },
  {
   "cell_type": "code",
   "execution_count": null,
   "id": "afcc2073",
   "metadata": {},
   "outputs": [],
   "source": [
    "print(\"model mean: {0}\".format(np.mean(anomaly_pred_score)),\"\\n\",\n",
    "     \"model std: {0}\".format(np.std(anomaly_pred_score)), \"\\n\",\n",
    "      \"model max: {0}\".format(np.max(anomaly_pred_score)), \"\\n\"\n",
    "      \"valid min: {0}\".format(np.min(valid_pred_score)), \"\\n\",\n",
    "     )"
   ]
  },
  {
   "cell_type": "code",
   "execution_count": null,
   "id": "251f6686",
   "metadata": {},
   "outputs": [],
   "source": [
    "y = [1]*len(test_pred_score)  + [0]*len(coco_pred_score)+ [0]*len(angle_pred_score) +[1]*len(braces_pred_score)"
   ]
  },
  {
   "cell_type": "code",
   "execution_count": null,
   "id": "eafce19a",
   "metadata": {},
   "outputs": [],
   "source": [
    "pred = np.array(test_pred_score +coco_pred_score +angle_pred_score+braces_pred_score)"
   ]
  },
  {
   "cell_type": "code",
   "execution_count": null,
   "id": "c71a18ca",
   "metadata": {},
   "outputs": [],
   "source": [
    "for i in range(len(pred)):\n",
    "    if pred[i]>0.8 :\n",
    "        pred[i]=1\n",
    "    else:\n",
    "        pred[i]=0"
   ]
  },
  {
   "cell_type": "markdown",
   "id": "78a9ee6b",
   "metadata": {},
   "source": [
    "# Table8 "
   ]
  },
  {
   "cell_type": "code",
   "execution_count": null,
   "id": "75fc5ae6",
   "metadata": {},
   "outputs": [],
   "source": [
    "print('Accuracy:', metrics.accuracy_score(y, pred))\n",
    "print('Precision:', metrics.precision_score(y, pred))\n",
    "print('Recall:', metrics.recall_score(y, pred))\n",
    "print('F1 score:', metrics.f1_score(y, pred))"
   ]
  },
  {
   "cell_type": "code",
   "execution_count": null,
   "id": "d844b3a4",
   "metadata": {},
   "outputs": [],
   "source": []
  }
 ],
 "metadata": {
  "kernelspec": {
   "display_name": "Python 3",
   "language": "python",
   "name": "python3"
  },
  "language_info": {
   "codemirror_mode": {
    "name": "ipython",
    "version": 3
   },
   "file_extension": ".py",
   "mimetype": "text/x-python",
   "name": "python",
   "nbconvert_exporter": "python",
   "pygments_lexer": "ipython3",
   "version": "3.6.9"
  }
 },
 "nbformat": 4,
 "nbformat_minor": 5
}
