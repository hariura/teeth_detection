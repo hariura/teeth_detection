{
 "cells": [
  {
   "cell_type": "code",
   "execution_count": 1,
   "id": "5746161a",
   "metadata": {},
   "outputs": [
    {
     "name": "stderr",
     "output_type": "stream",
     "text": [
      "2023-02-02 23:12:10.515437: E tensorflow/stream_executor/cuda/cuda_driver.cc:271] failed call to cuInit: CUDA_ERROR_NO_DEVICE: no CUDA-capable device is detected\n",
      "2023-02-02 23:12:10.515460: I tensorflow/stream_executor/cuda/cuda_diagnostics.cc:169] retrieving CUDA diagnostic information for host: jh-desktop\n",
      "2023-02-02 23:12:10.515463: I tensorflow/stream_executor/cuda/cuda_diagnostics.cc:176] hostname: jh-desktop\n",
      "2023-02-02 23:12:10.515528: I tensorflow/stream_executor/cuda/cuda_diagnostics.cc:200] libcuda reported version is: 470.161.3\n",
      "2023-02-02 23:12:10.515546: I tensorflow/stream_executor/cuda/cuda_diagnostics.cc:204] kernel reported version is: 470.161.3\n",
      "2023-02-02 23:12:10.515548: I tensorflow/stream_executor/cuda/cuda_diagnostics.cc:310] kernel version seems to match DSO: 470.161.3\n",
      "2023-02-02 23:12:10.515676: I tensorflow/core/platform/cpu_feature_guard.cc:151] This TensorFlow binary is optimized with oneAPI Deep Neural Network Library (oneDNN) to use the following CPU instructions in performance-critical operations:  AVX2 FMA\n",
      "To enable them in other operations, rebuild TensorFlow with the appropriate compiler flags.\n"
     ]
    }
   ],
   "source": [
    "import cv2\n",
    "import numpy as np\n",
    "import os\n",
    "import matplotlib\n",
    "import matplotlib.pyplot as plt\n",
    "%matplotlib inline  \n",
    "os.environ[\"CUDA_VISIBLE_DEVICES\"]=\"-1\"  \n",
    "import tensorflow as tf\n",
    "from glob import glob\n",
    "from yolov3.yolov4_config import Create_Yolo\n",
    "from yolov3.utils_config import load_yolo_weights, detect_image, image_preprocess, postprocess_boxes_excel, nms, draw_bbox\n",
    "from yolov3.configs_config import *\n",
    "from PIL import Image\n",
    "\n",
    "import os\n",
    "import pandas as pd\n",
    "\n",
    "if YOLO_TYPE == \"yolov4\":\n",
    "    Darknet_weights = YOLO_V4_TINY_WEIGHTS if TRAIN_YOLO_TINY else YOLO_V4_WEIGHTS\n",
    "if YOLO_TYPE == \"yolov3\":\n",
    "    Darknet_weights = YOLO_V3_TINY_WEIGHTS if TRAIN_YOLO_TINY else YOLO_V3_WEIGHTS\n",
    "\n",
    "yolo = Create_Yolo(input_size=YOLO_INPUT_SIZE)\n",
    "load_yolo_weights(yolo, Darknet_weights) # use Darknet weights"
   ]
  },
  {
   "cell_type": "code",
   "execution_count": 2,
   "id": "a91c03f3",
   "metadata": {},
   "outputs": [
    {
     "data": {
      "text/plain": [
       "<tensorflow.python.training.tracking.util.CheckpointLoadStatus at 0x7f2b7c425be0>"
      ]
     },
     "execution_count": 2,
     "metadata": {},
     "output_type": "execute_result"
    }
   ],
   "source": [
    "yolo = Create_Yolo(input_size=YOLO_INPUT_SIZE, CLASSES=TRAIN_CLASSES)\n",
    "yolo.load_weights(\"./checkpoints/frist/yolov3_custom\") # use keras weights"
   ]
  },
  {
   "cell_type": "code",
   "execution_count": 3,
   "id": "b5ba2685",
   "metadata": {},
   "outputs": [],
   "source": [
    "def prt_loss(image_path ,yolo):\n",
    "    input_size = 416\n",
    "    iou_threshold = 0.45\n",
    "    \n",
    "    original_image      = cv2.imread(image_path)\n",
    "    original_image      = cv2.cvtColor(original_image, cv2.COLOR_BGR2RGB)\n",
    "    original_image      = cv2.cvtColor(original_image, cv2.COLOR_BGR2RGB)\n",
    "    image_data = image_preprocess(np.copy(original_image), [input_size, input_size])\n",
    "    image_data = image_data[np.newaxis, ...].astype(np.float32)\n",
    "    pred_bbox = yolo.predict(image_data)\n",
    "    pred_bbox = [tf.reshape(x, (-1, tf.shape(x)[-1])) for x in pred_bbox]\n",
    "    pred_bbox = tf.concat(pred_bbox, axis=0)\n",
    "    bboxes, pred_coor, pred_conf, pred_prob  = postprocess_boxes_excel(pred_bbox, original_image, input_size, 0.0)\n",
    "    classes = np.argmax(pred_prob, axis=-1)\n",
    "    scores = pred_conf * pred_prob[np.arange(len(pred_coor)), classes]\n",
    "    argmax_score = np.argmax(scores)\n",
    "    max_score = np.max(scores)\n",
    "    print_conf, print_prob = pred_conf[argmax_score], pred_prob[argmax_score]\n",
    "    \n",
    "    return [max_score, print_conf, print_prob]"
   ]
  },
  {
   "cell_type": "code",
   "execution_count": 4,
   "id": "04b6c46a",
   "metadata": {},
   "outputs": [],
   "source": [
    "def GIoU(bboxes_1, bboxes_2):\n",
    "    # 1. calulate intersection over union\n",
    "    area_1 = (bboxes_1[2] - bboxes_1[0]) * (bboxes_1[3] - bboxes_1[1])\n",
    "    area_2 = (bboxes_2[2] - bboxes_2[0]) * (bboxes_2[3] - bboxes_2[1])\n",
    "    \n",
    "    intersection_wh = tf.minimum(bboxes_1[2:], bboxes_2[2:]) - tf.maximum(bboxes_1[ :2], bboxes_2[ :2])\n",
    "    intersection_wh = tf.maximum(intersection_wh, 0)\n",
    "    \n",
    "    intersection = intersection_wh[0] * intersection_wh[1]\n",
    "    union = (area_1 + area_2) - intersection\n",
    "    \n",
    "    ious = intersection / union\n",
    "    \n",
    "    # 2. (C - (A U B))/C\n",
    "    C_wh = tf.maximum(bboxes_1[2:], bboxes_2[2:]) - tf.minimum(bboxes_1[:2], bboxes_2[:2])\n",
    "    C_wh = C_wh\n",
    "    C = C_wh[0] * C_wh[1]\n",
    "\n",
    "    giou = ious - (C - union) / C\n",
    "    return giou, ious"
   ]
  },
  {
   "cell_type": "code",
   "execution_count": 5,
   "id": "d139c6f9",
   "metadata": {},
   "outputs": [],
   "source": [
    "r1 = glob(r\"teeth_including_lip_more/test/*.jpg\")"
   ]
  },
  {
   "cell_type": "code",
   "execution_count": 6,
   "id": "a6c8a42c",
   "metadata": {},
   "outputs": [],
   "source": [
    "r11 = glob(r\"teeth_including_lip_more/train/*.jpg\")"
   ]
  },
  {
   "cell_type": "code",
   "execution_count": 7,
   "id": "4aa283f8",
   "metadata": {},
   "outputs": [],
   "source": [
    "r5 = glob(r\"/home/jh/Desktop/teeth/github_td/test2/*.jpg\")"
   ]
  },
  {
   "cell_type": "code",
   "execution_count": 8,
   "id": "53212ea9",
   "metadata": {},
   "outputs": [
    {
     "name": "stdout",
     "output_type": "stream",
     "text": [
      "[  34  130  161  189  241  337  466  474  600  646  769  775  860  878\n",
      "  975  995 1016 1021 1076 1082 1184 1267 1275 1363 1478 1500 1528 1585\n",
      " 1685 1806 1899 1955 1981 2041 2047 2061 2363 2391 2433 2435 2556 2558\n",
      " 2612 2613 2734 2747 2824 2888 2904 2919 3005 3073 3092 3152 3171 3202\n",
      " 3342 3385 3444 3461 3556 3772 3798 3843 3890 3943 4014 4117 4297 4426\n",
      " 4551 4555 4658 4798 4843 4911]\n"
     ]
    }
   ],
   "source": [
    "coco_anomaly =  glob(r\"/home/jh/Desktop/teeth/github_td/val2017/*.jpg\")\n",
    "np.random.seed(42)\n",
    "a = np.random.randint(5000, size =76)\n",
    "a = np.sort(a)\n",
    "print(a)\n",
    "anomaly_76 = [coco_anomaly[i] for i in a]"
   ]
  },
  {
   "cell_type": "code",
   "execution_count": 9,
   "id": "ddec225d",
   "metadata": {},
   "outputs": [],
   "source": [
    "anomaly_85 = glob(r\"/home/jh/Desktop/teeth/github_td/ano/*.jpg\")"
   ]
  },
  {
   "cell_type": "code",
   "execution_count": 10,
   "id": "c920ca07",
   "metadata": {},
   "outputs": [],
   "source": [
    "brace_path = r\"braces\""
   ]
  },
  {
   "cell_type": "code",
   "execution_count": 11,
   "id": "cb202ba8",
   "metadata": {},
   "outputs": [],
   "source": [
    "angled_path = r\"angled\""
   ]
  },
  {
   "cell_type": "markdown",
   "id": "f68afb01",
   "metadata": {},
   "source": [
    "### pred score save "
   ]
  },
  {
   "cell_type": "code",
   "execution_count": 12,
   "id": "7bb63865",
   "metadata": {},
   "outputs": [],
   "source": [
    "train_names = []\n",
    "valid_names = []\n",
    "test_names = []\n",
    "anomaly_names = []"
   ]
  },
  {
   "cell_type": "code",
   "execution_count": 13,
   "id": "2cc93775",
   "metadata": {},
   "outputs": [],
   "source": [
    "coco_names = []\n",
    "braces_names = []\n",
    "angle_names = []"
   ]
  },
  {
   "cell_type": "code",
   "execution_count": 14,
   "id": "ce152975",
   "metadata": {},
   "outputs": [],
   "source": [
    "for i in range(len(r11)):\n",
    "    train_names.append(os.path.basename(r11[i]))\n",
    "for i in range(len(r1)):\n",
    "    valid_names.append(os.path.basename(r1[i]))\n",
    "for i in range(len(r5)):\n",
    "    test_names.append(os.path.basename(r5[i]))\n",
    "for i in range(len(anomaly_85)):\n",
    "    anomaly_names.append(os.path.basename(anomaly_85[i]))"
   ]
  },
  {
   "cell_type": "code",
   "execution_count": 15,
   "id": "46e56eea",
   "metadata": {},
   "outputs": [],
   "source": [
    "for i in range(len(coco_anomaly)):\n",
    "    coco_names.append(os.path.basename(coco_anomaly[i]))\n",
    "for i in range(len(os.listdir(brace_path))):\n",
    "    braces_names.append(os.path.basename(os.listdir(brace_path)[i]))\n",
    "for i in range(len(os.listdir(angled_path))):\n",
    "    angle_names.append(os.path.basename(os.listdir(angled_path)[i]))"
   ]
  },
  {
   "cell_type": "code",
   "execution_count": 16,
   "id": "a60fceb3",
   "metadata": {},
   "outputs": [],
   "source": [
    "train_score = []\n",
    "valid_score = []\n",
    "test_score = []\n",
    "anomaly_score = []"
   ]
  },
  {
   "cell_type": "code",
   "execution_count": 17,
   "id": "15aecaa0",
   "metadata": {},
   "outputs": [],
   "source": [
    "coco_score = []\n",
    "braces_score = []\n",
    "angle_score = []"
   ]
  },
  {
   "cell_type": "code",
   "execution_count": 18,
   "id": "ff893f97",
   "metadata": {},
   "outputs": [],
   "source": [
    "for i in range(len(r11)):\n",
    "    aa =prt_loss(r11[i] ,yolo)\n",
    "    train_score.append(aa)"
   ]
  },
  {
   "cell_type": "code",
   "execution_count": 19,
   "id": "46eb4ba6",
   "metadata": {},
   "outputs": [
    {
     "data": {
      "text/plain": [
       "[[0.99983793, 0.9998486, array([0.99998933], dtype=float32)],\n",
       " [0.99997824, 0.9999801, array([0.99999815], dtype=float32)],\n",
       " [0.9999864, 0.9999875, array([0.9999989], dtype=float32)],\n",
       " [0.99987555, 0.99988675, array([0.9999888], dtype=float32)],\n",
       " [0.99955106, 0.99959576, array([0.9999553], dtype=float32)],\n",
       " [0.9998836, 0.9998993, array([0.99998426], dtype=float32)],\n",
       " [0.9999962, 0.9999963, array([0.9999999], dtype=float32)],\n",
       " [0.9999981, 0.9999982, array([0.9999999], dtype=float32)],\n",
       " [0.9999494, 0.99995214, array([0.99999726], dtype=float32)],\n",
       " [0.99968505, 0.99973047, array([0.9999546], dtype=float32)],\n",
       " [0.99996746, 0.99997175, array([0.9999957], dtype=float32)],\n",
       " [0.9999546, 0.9999608, array([0.9999938], dtype=float32)],\n",
       " [0.9999969, 0.99999714, array([0.99999976], dtype=float32)],\n",
       " [0.99999404, 0.99999475, array([0.9999993], dtype=float32)],\n",
       " [0.9999894, 0.9999907, array([0.9999987], dtype=float32)],\n",
       " [0.99998754, 0.9999881, array([0.99999946], dtype=float32)],\n",
       " [0.99999607, 0.99999666, array([0.9999994], dtype=float32)],\n",
       " [0.9999767, 0.9999784, array([0.9999983], dtype=float32)],\n",
       " [0.99999803, 0.9999989, array([0.9999991], dtype=float32)],\n",
       " [0.99997556, 0.99997735, array([0.9999982], dtype=float32)],\n",
       " [0.9999987, 0.9999987, array([1.], dtype=float32)],\n",
       " [0.9999911, 0.9999918, array([0.99999934], dtype=float32)],\n",
       " [0.99998033, 0.99998164, array([0.9999987], dtype=float32)],\n",
       " [0.99997455, 0.9999776, array([0.99999696], dtype=float32)],\n",
       " [0.999946, 0.9999521, array([0.9999939], dtype=float32)],\n",
       " [0.9999194, 0.9999293, array([0.9999901], dtype=float32)],\n",
       " [0.99998575, 0.999987, array([0.99999875], dtype=float32)],\n",
       " [0.9999789, 0.9999807, array([0.9999982], dtype=float32)],\n",
       " [0.9999968, 0.999997, array([0.99999976], dtype=float32)],\n",
       " [0.99999166, 0.9999927, array([0.9999989], dtype=float32)],\n",
       " [0.9999207, 0.99992883, array([0.9999919], dtype=float32)],\n",
       " [0.9997923, 0.9998179, array([0.99997437], dtype=float32)],\n",
       " [0.999999, 0.9999994, array([0.9999996], dtype=float32)],\n",
       " [0.999926, 0.9999342, array([0.9999918], dtype=float32)],\n",
       " [0.9999923, 0.9999929, array([0.9999994], dtype=float32)],\n",
       " [0.9997586, 0.99978596, array([0.99997264], dtype=float32)],\n",
       " [0.99997926, 0.9999821, array([0.99999714], dtype=float32)],\n",
       " [0.9999645, 0.9999683, array([0.9999962], dtype=float32)],\n",
       " [0.99997604, 0.99997985, array([0.9999962], dtype=float32)],\n",
       " [0.9999782, 0.9999802, array([0.999998], dtype=float32)],\n",
       " [0.9999787, 0.99998087, array([0.99999785], dtype=float32)],\n",
       " [0.99998426, 0.9999863, array([0.999998], dtype=float32)],\n",
       " [0.99999607, 0.9999964, array([0.99999964], dtype=float32)],\n",
       " [0.9999776, 0.99997956, array([0.99999803], dtype=float32)],\n",
       " [0.99998933, 0.9999903, array([0.99999905], dtype=float32)],\n",
       " [0.9999876, 0.9999894, array([0.9999982], dtype=float32)],\n",
       " [0.99999917, 0.99999917, array([1.], dtype=float32)],\n",
       " [0.9999938, 0.9999944, array([0.9999994], dtype=float32)],\n",
       " [0.9999915, 0.9999934, array([0.9999981], dtype=float32)],\n",
       " [0.9999979, 0.9999979, array([1.], dtype=float32)],\n",
       " [0.9999466, 0.99995255, array([0.99999404], dtype=float32)],\n",
       " [0.9999653, 0.99996924, array([0.99999607], dtype=float32)],\n",
       " [0.9999602, 0.9999652, array([0.999995], dtype=float32)],\n",
       " [0.9999449, 0.9999521, array([0.99999285], dtype=float32)],\n",
       " [0.9993285, 0.9993961, array([0.99993235], dtype=float32)],\n",
       " [0.9999957, 0.9999963, array([0.9999994], dtype=float32)],\n",
       " [0.99998945, 0.99999094, array([0.9999985], dtype=float32)],\n",
       " [0.9999979, 0.9999983, array([0.99999964], dtype=float32)],\n",
       " [0.99999905, 0.99999905, array([1.], dtype=float32)],\n",
       " [0.9999999, 0.9999999, array([1.], dtype=float32)],\n",
       " [0.99999714, 0.99999714, array([1.], dtype=float32)],\n",
       " [0.99999064, 0.99999166, array([0.999999], dtype=float32)],\n",
       " [0.99999714, 0.9999976, array([0.9999995], dtype=float32)],\n",
       " [0.9999469, 0.999954, array([0.9999929], dtype=float32)],\n",
       " [0.99998695, 0.9999876, array([0.99999934], dtype=float32)],\n",
       " [0.99998814, 0.99999064, array([0.9999975], dtype=float32)],\n",
       " [0.9999977, 0.9999979, array([0.99999976], dtype=float32)],\n",
       " [0.99999017, 0.9999946, array([0.9999956], dtype=float32)],\n",
       " [0.9999986, 0.9999988, array([0.9999998], dtype=float32)],\n",
       " [0.99997795, 0.9999796, array([0.99999833], dtype=float32)],\n",
       " [0.9999583, 0.99996185, array([0.9999964], dtype=float32)],\n",
       " [0.999972, 0.9999752, array([0.9999968], dtype=float32)],\n",
       " [0.9996146, 0.99964833, array([0.99996626], dtype=float32)],\n",
       " [0.9999568, 0.99996096, array([0.9999958], dtype=float32)],\n",
       " [0.9999825, 0.99998367, array([0.9999988], dtype=float32)],\n",
       " [0.9999898, 0.9999912, array([0.9999986], dtype=float32)],\n",
       " [0.9999041, 0.999917, array([0.9999871], dtype=float32)],\n",
       " [0.99999964, 0.99999964, array([1.], dtype=float32)],\n",
       " [0.9999445, 0.9999501, array([0.9999944], dtype=float32)],\n",
       " [0.999865, 0.99988294, array([0.99998206], dtype=float32)],\n",
       " [0.9999975, 0.9999978, array([0.9999997], dtype=float32)],\n",
       " [0.99976766, 0.9997859, array([0.99998176], dtype=float32)],\n",
       " [0.9999944, 0.99999475, array([0.99999964], dtype=float32)],\n",
       " [0.99999833, 0.99999857, array([0.99999976], dtype=float32)],\n",
       " [0.9999747, 0.9999778, array([0.9999969], dtype=float32)],\n",
       " [0.9999472, 0.9999548, array([0.9999924], dtype=float32)],\n",
       " [0.99998826, 0.99998903, array([0.9999992], dtype=float32)],\n",
       " [0.99999106, 0.999992, array([0.99999905], dtype=float32)],\n",
       " [0.99997914, 0.99998105, array([0.9999981], dtype=float32)],\n",
       " [0.9999437, 0.9999483, array([0.99999535], dtype=float32)],\n",
       " [0.9999992, 0.9999992, array([1.], dtype=float32)],\n",
       " [0.99999344, 0.9999944, array([0.99999905], dtype=float32)],\n",
       " [0.99999815, 0.99999833, array([0.9999998], dtype=float32)],\n",
       " [0.99999774, 0.999998, array([0.99999976], dtype=float32)],\n",
       " [0.9999686, 0.9999717, array([0.9999969], dtype=float32)],\n",
       " [0.9999803, 0.99998236, array([0.9999979], dtype=float32)],\n",
       " [0.99998814, 0.9999895, array([0.9999986], dtype=float32)],\n",
       " [0.999992, 0.9999925, array([0.9999995], dtype=float32)],\n",
       " [0.99992716, 0.9999368, array([0.99999034], dtype=float32)],\n",
       " [0.9999118, 0.99992645, array([0.99998534], dtype=float32)],\n",
       " [0.999998, 0.99999857, array([0.9999994], dtype=float32)],\n",
       " [0.99998814, 0.9999889, array([0.9999992], dtype=float32)],\n",
       " [0.9999975, 0.9999975, array([1.], dtype=float32)],\n",
       " [0.9999935, 0.99999416, array([0.99999934], dtype=float32)],\n",
       " [0.99999464, 0.99999523, array([0.9999994], dtype=float32)],\n",
       " [0.9999694, 0.99997187, array([0.99999756], dtype=float32)],\n",
       " [0.9999753, 0.99998105, array([0.9999943], dtype=float32)],\n",
       " [0.9999778, 0.99997985, array([0.999998], dtype=float32)],\n",
       " [0.9999963, 0.9999969, array([0.9999994], dtype=float32)],\n",
       " [0.9999668, 0.9999703, array([0.9999965], dtype=float32)],\n",
       " [0.99936545, 0.9994557, array([0.9999097], dtype=float32)],\n",
       " [0.9999602, 0.99996483, array([0.99999535], dtype=float32)],\n",
       " [0.9999872, 0.99998844, array([0.99999875], dtype=float32)],\n",
       " [0.99999744, 0.99999774, array([0.9999997], dtype=float32)],\n",
       " [0.9999945, 0.9999956, array([0.9999989], dtype=float32)],\n",
       " [0.99998766, 0.9999887, array([0.999999], dtype=float32)],\n",
       " [0.9997847, 0.9998239, array([0.9999608], dtype=float32)],\n",
       " [0.9999978, 0.999998, array([0.9999998], dtype=float32)],\n",
       " [0.99999744, 0.99999774, array([0.9999997], dtype=float32)],\n",
       " [0.9999899, 0.99999064, array([0.9999993], dtype=float32)],\n",
       " [0.9999944, 0.9999949, array([0.9999995], dtype=float32)],\n",
       " [0.9999945, 0.99999535, array([0.99999917], dtype=float32)],\n",
       " [0.99999803, 0.9999985, array([0.9999995], dtype=float32)],\n",
       " [0.9999872, 0.9999885, array([0.9999987], dtype=float32)],\n",
       " [0.9999937, 0.9999943, array([0.9999994], dtype=float32)],\n",
       " [0.99994254, 0.9999484, array([0.99999416], dtype=float32)],\n",
       " [0.9999881, 0.9999893, array([0.9999988], dtype=float32)],\n",
       " [0.9999924, 0.9999932, array([0.99999917], dtype=float32)],\n",
       " [0.9999525, 0.99995714, array([0.99999535], dtype=float32)],\n",
       " [0.99999744, 0.9999977, array([0.99999976], dtype=float32)],\n",
       " [0.9999931, 0.9999936, array([0.99999946], dtype=float32)],\n",
       " [0.99999714, 0.99999714, array([1.], dtype=float32)],\n",
       " [0.99998444, 0.9999867, array([0.99999774], dtype=float32)],\n",
       " [0.99999315, 0.9999941, array([0.99999905], dtype=float32)],\n",
       " [0.9995562, 0.9996345, array([0.9999217], dtype=float32)],\n",
       " [0.9999974, 0.99999774, array([0.99999964], dtype=float32)],\n",
       " [0.99998915, 0.9999906, array([0.99999857], dtype=float32)],\n",
       " [0.99998945, 0.9999899, array([0.9999995], dtype=float32)],\n",
       " [0.9999815, 0.99998295, array([0.99999857], dtype=float32)],\n",
       " [0.9999721, 0.99997544, array([0.99999666], dtype=float32)],\n",
       " [0.9999957, 0.9999962, array([0.9999995], dtype=float32)],\n",
       " [0.99999595, 0.9999962, array([0.99999976], dtype=float32)],\n",
       " [0.9994316, 0.9994941, array([0.9999375], dtype=float32)],\n",
       " [0.9999596, 0.9999645, array([0.9999951], dtype=float32)],\n",
       " [0.9999481, 0.9999561, array([0.999992], dtype=float32)],\n",
       " [0.9999748, 0.9999775, array([0.99999726], dtype=float32)],\n",
       " [0.9999875, 0.99998975, array([0.99999774], dtype=float32)],\n",
       " [0.99999744, 0.99999744, array([1.], dtype=float32)],\n",
       " [0.99996245, 0.99996567, array([0.9999968], dtype=float32)],\n",
       " [0.99992687, 0.99993694, array([0.9999899], dtype=float32)],\n",
       " [0.9999883, 0.9999895, array([0.9999988], dtype=float32)],\n",
       " [0.99996144, 0.9999661, array([0.99999535], dtype=float32)],\n",
       " [0.99958247, 0.9996265, array([0.99995595], dtype=float32)],\n",
       " [0.9988639, 0.999003, array([0.99986076], dtype=float32)],\n",
       " [0.9999882, 0.9999894, array([0.9999988], dtype=float32)],\n",
       " [0.9999937, 0.99999464, array([0.99999905], dtype=float32)],\n",
       " [0.9999941, 0.99999464, array([0.99999946], dtype=float32)],\n",
       " [0.99999624, 0.99999666, array([0.9999996], dtype=float32)],\n",
       " [0.99998474, 0.9999865, array([0.9999982], dtype=float32)],\n",
       " [0.99989784, 0.9999049, array([0.99999297], dtype=float32)],\n",
       " [0.9999905, 0.9999916, array([0.9999989], dtype=float32)],\n",
       " [0.9999912, 0.9999919, array([0.9999993], dtype=float32)],\n",
       " [0.99952686, 0.9995768, array([0.99995005], dtype=float32)],\n",
       " [0.9999968, 0.9999975, array([0.9999993], dtype=float32)],\n",
       " [0.9999301, 0.99993724, array([0.99999285], dtype=float32)],\n",
       " [0.9999965, 0.9999967, array([0.99999976], dtype=float32)],\n",
       " [0.9999379, 0.99994516, array([0.9999927], dtype=float32)],\n",
       " [0.9999576, 0.99996287, array([0.99999475], dtype=float32)],\n",
       " [0.9999721, 0.9999757, array([0.9999964], dtype=float32)],\n",
       " [0.9999517, 0.9999552, array([0.99999654], dtype=float32)],\n",
       " [0.99999756, 0.9999978, array([0.99999976], dtype=float32)],\n",
       " [0.99982935, 0.9998441, array([0.9999853], dtype=float32)],\n",
       " [0.9997185, 0.9997443, array([0.9999742], dtype=float32)],\n",
       " [0.99999213, 0.9999931, array([0.99999905], dtype=float32)],\n",
       " [0.9999801, 0.9999827, array([0.9999974], dtype=float32)],\n",
       " [0.99999464, 0.999995, array([0.99999964], dtype=float32)],\n",
       " [0.999999, 0.999999, array([1.], dtype=float32)],\n",
       " [0.9999917, 0.9999922, array([0.9999995], dtype=float32)],\n",
       " [0.9999837, 0.9999853, array([0.99999845], dtype=float32)],\n",
       " [0.99999255, 0.99999523, array([0.9999973], dtype=float32)],\n",
       " [0.99999875, 0.9999993, array([0.99999946], dtype=float32)],\n",
       " [0.9999859, 0.9999868, array([0.99999905], dtype=float32)],\n",
       " [0.9999953, 0.99999595, array([0.99999934], dtype=float32)],\n",
       " [0.99999934, 0.99999934, array([1.], dtype=float32)],\n",
       " [0.99999565, 0.99999595, array([0.9999997], dtype=float32)],\n",
       " [0.99985385, 0.9998807, array([0.9999732], dtype=float32)],\n",
       " [0.9999973, 0.99999774, array([0.9999996], dtype=float32)],\n",
       " [0.99999505, 0.99999535, array([0.9999997], dtype=float32)],\n",
       " [0.9999953, 0.9999959, array([0.9999994], dtype=float32)],\n",
       " [0.99999726, 0.9999975, array([0.99999976], dtype=float32)],\n",
       " [0.99999833, 0.99999833, array([1.], dtype=float32)],\n",
       " [0.9999759, 0.999979, array([0.9999969], dtype=float32)],\n",
       " [0.999965, 0.9999687, array([0.9999963], dtype=float32)],\n",
       " [0.9999943, 0.99999535, array([0.9999989], dtype=float32)],\n",
       " [0.9999966, 0.9999971, array([0.9999995], dtype=float32)],\n",
       " [0.999996, 0.9999963, array([0.9999997], dtype=float32)],\n",
       " [0.9999999, 0.9999999, array([1.], dtype=float32)],\n",
       " [0.9999506, 0.9999562, array([0.9999944], dtype=float32)],\n",
       " [0.9999924, 0.99999404, array([0.99999833], dtype=float32)],\n",
       " [0.9999962, 0.999997, array([0.99999917], dtype=float32)],\n",
       " [0.9999993, 0.9999993, array([1.], dtype=float32)],\n",
       " [0.9999921, 0.99999285, array([0.9999992], dtype=float32)],\n",
       " [0.99998546, 0.99998724, array([0.9999982], dtype=float32)],\n",
       " [0.9999968, 0.999997, array([0.99999976], dtype=float32)],\n",
       " [0.99999815, 0.99999857, array([0.9999996], dtype=float32)],\n",
       " [0.99999857, 0.99999857, array([1.], dtype=float32)],\n",
       " [0.9999981, 0.99999833, array([0.99999976], dtype=float32)],\n",
       " [0.99997723, 0.99998, array([0.99999726], dtype=float32)],\n",
       " [0.9999701, 0.9999758, array([0.9999943], dtype=float32)],\n",
       " [0.9999926, 0.9999933, array([0.9999993], dtype=float32)],\n",
       " [0.99991846, 0.9999243, array([0.99999416], dtype=float32)],\n",
       " [0.99999905, 0.99999905, array([1.], dtype=float32)],\n",
       " [0.9999938, 0.9999944, array([0.9999994], dtype=float32)],\n",
       " [0.99996513, 0.99996775, array([0.9999974], dtype=float32)],\n",
       " [0.9999886, 0.9999899, array([0.9999987], dtype=float32)],\n",
       " [0.9999724, 0.99997556, array([0.99999684], dtype=float32)],\n",
       " [0.9998849, 0.99989724, array([0.99998766], dtype=float32)],\n",
       " [0.9999675, 0.9999723, array([0.99999523], dtype=float32)],\n",
       " [0.9999957, 0.99999774, array([0.999998], dtype=float32)],\n",
       " [0.9999732, 0.9999771, array([0.99999607], dtype=float32)],\n",
       " [0.99994826, 0.9999529, array([0.99999535], dtype=float32)],\n",
       " [0.9999823, 0.99998504, array([0.99999726], dtype=float32)],\n",
       " [0.9999764, 0.999979, array([0.9999974], dtype=float32)],\n",
       " [0.99993694, 0.99994445, array([0.9999925], dtype=float32)],\n",
       " [0.99998915, 0.9999896, array([0.9999995], dtype=float32)],\n",
       " [0.99999696, 0.999998, array([0.999999], dtype=float32)],\n",
       " [0.99997437, 0.99997723, array([0.99999714], dtype=float32)],\n",
       " [0.99994224, 0.99994886, array([0.9999934], dtype=float32)],\n",
       " [0.99999905, 0.99999905, array([1.], dtype=float32)],\n",
       " [0.99999416, 0.99999464, array([0.9999995], dtype=float32)],\n",
       " [0.9999918, 0.9999933, array([0.99999845], dtype=float32)],\n",
       " [0.9999552, 0.9999585, array([0.99999666], dtype=float32)],\n",
       " [0.99996656, 0.99996847, array([0.9999981], dtype=float32)],\n",
       " [0.9999689, 0.9999713, array([0.9999976], dtype=float32)],\n",
       " [0.999983, 0.99998504, array([0.999998], dtype=float32)],\n",
       " [0.99999124, 0.9999919, array([0.99999934], dtype=float32)],\n",
       " [0.99991417, 0.99992335, array([0.9999908], dtype=float32)],\n",
       " [0.99999523, 0.9999956, array([0.99999964], dtype=float32)],\n",
       " [0.9999927, 0.9999932, array([0.9999995], dtype=float32)],\n",
       " [0.99999547, 0.9999963, array([0.99999917], dtype=float32)],\n",
       " [0.99998844, 0.99998975, array([0.9999987], dtype=float32)],\n",
       " [0.99997216, 0.9999748, array([0.9999974], dtype=float32)],\n",
       " [0.99998206, 0.99998426, array([0.9999978], dtype=float32)],\n",
       " [0.99999535, 0.9999957, array([0.99999964], dtype=float32)],\n",
       " [0.99999666, 0.9999969, array([0.99999976], dtype=float32)],\n",
       " [0.99998707, 0.9999884, array([0.9999987], dtype=float32)],\n",
       " [0.99998, 0.9999826, array([0.9999974], dtype=float32)],\n",
       " [0.9999567, 0.99996114, array([0.9999956], dtype=float32)],\n",
       " [0.9999918, 0.9999925, array([0.9999993], dtype=float32)],\n",
       " [0.99999565, 0.99999696, array([0.9999987], dtype=float32)],\n",
       " [0.99998707, 0.999988, array([0.99999905], dtype=float32)],\n",
       " [0.99996126, 0.9999665, array([0.99999475], dtype=float32)],\n",
       " [0.99998945, 0.9999905, array([0.9999989], dtype=float32)],\n",
       " [0.9999962, 0.9999966, array([0.9999996], dtype=float32)],\n",
       " [0.9999985, 0.9999991, array([0.9999994], dtype=float32)],\n",
       " [0.99999976, 0.99999976, array([1.], dtype=float32)],\n",
       " [0.9999988, 0.9999988, array([1.], dtype=float32)],\n",
       " [0.9999619, 0.99996597, array([0.99999595], dtype=float32)],\n",
       " [0.9999655, 0.99996775, array([0.99999774], dtype=float32)],\n",
       " [0.9999994, 0.9999994, array([1.], dtype=float32)],\n",
       " [0.99999785, 0.99999785, array([1.], dtype=float32)],\n",
       " [0.99999595, 0.99999607, array([0.9999999], dtype=float32)],\n",
       " [0.99998975, 0.9999908, array([0.9999989], dtype=float32)],\n",
       " [0.9999622, 0.99996674, array([0.99999547], dtype=float32)],\n",
       " [0.9999987, 0.9999987, array([1.], dtype=float32)],\n",
       " [0.99972486, 0.99975777, array([0.9999671], dtype=float32)],\n",
       " [0.9999857, 0.99998987, array([0.9999958], dtype=float32)],\n",
       " [0.9999887, 0.99998987, array([0.9999988], dtype=float32)],\n",
       " [0.9999988, 0.9999988, array([1.], dtype=float32)],\n",
       " [0.99999696, 0.9999972, array([0.99999976], dtype=float32)],\n",
       " [0.99999106, 0.99999225, array([0.9999988], dtype=float32)],\n",
       " [0.99999446, 0.9999947, array([0.99999976], dtype=float32)],\n",
       " [0.999175, 0.9992573, array([0.9999176], dtype=float32)],\n",
       " [0.9999899, 0.9999907, array([0.9999992], dtype=float32)],\n",
       " [0.99999654, 0.999997, array([0.9999995], dtype=float32)],\n",
       " [0.9999953, 0.9999956, array([0.9999997], dtype=float32)],\n",
       " [0.99996275, 0.99996805, array([0.9999947], dtype=float32)],\n",
       " [0.99998844, 0.9999895, array([0.9999989], dtype=float32)],\n",
       " [0.9999877, 0.99998856, array([0.99999917], dtype=float32)],\n",
       " [0.9999962, 0.999997, array([0.99999917], dtype=float32)],\n",
       " [0.9999946, 0.99999505, array([0.9999995], dtype=float32)],\n",
       " [0.99999, 0.999993, array([0.99999696], dtype=float32)],\n",
       " [0.9999611, 0.99996686, array([0.9999942], dtype=float32)],\n",
       " [0.999853, 0.9998685, array([0.9999845], dtype=float32)],\n",
       " [0.9999938, 0.9999943, array([0.9999995], dtype=float32)],\n",
       " [0.99999774, 0.999998, array([0.99999976], dtype=float32)],\n",
       " [0.9999861, 0.99998796, array([0.99999815], dtype=float32)],\n",
       " [0.9999912, 0.9999927, array([0.99999845], dtype=float32)],\n",
       " [0.99996763, 0.9999729, array([0.99999475], dtype=float32)],\n",
       " [0.99996674, 0.99997056, array([0.9999962], dtype=float32)],\n",
       " [0.9999927, 0.9999933, array([0.9999994], dtype=float32)],\n",
       " [0.9999615, 0.99996555, array([0.99999595], dtype=float32)],\n",
       " [0.9999969, 0.99999785, array([0.99999905], dtype=float32)],\n",
       " [0.99999285, 0.9999938, array([0.99999905], dtype=float32)],\n",
       " [0.9999988, 0.9999988, array([1.], dtype=float32)],\n",
       " [0.9999786, 0.99998045, array([0.99999815], dtype=float32)],\n",
       " [0.99998933, 0.9999915, array([0.99999785], dtype=float32)],\n",
       " [0.9999899, 0.999991, array([0.9999989], dtype=float32)],\n",
       " [0.9999541, 0.9999572, array([0.9999969], dtype=float32)],\n",
       " [0.99999255, 0.9999944, array([0.99999815], dtype=float32)],\n",
       " [0.99991184, 0.9999213, array([0.9999905], dtype=float32)],\n",
       " [0.9999913, 0.9999921, array([0.9999992], dtype=float32)],\n",
       " [0.9999948, 0.9999952, array([0.99999964], dtype=float32)],\n",
       " [0.9999956, 0.9999958, array([0.99999976], dtype=float32)],\n",
       " [0.99990976, 0.9999201, array([0.9999896], dtype=float32)],\n",
       " [0.9998375, 0.99986243, array([0.9999751], dtype=float32)],\n",
       " [0.9999956, 0.99999595, array([0.99999964], dtype=float32)],\n",
       " [0.99997157, 0.999975, array([0.99999654], dtype=float32)],\n",
       " [0.999996, 0.99999654, array([0.99999946], dtype=float32)],\n",
       " [0.9999943, 0.99999475, array([0.9999995], dtype=float32)],\n",
       " [0.999789, 0.9998132, array([0.9999758], dtype=float32)],\n",
       " [0.99998474, 0.9999857, array([0.99999905], dtype=float32)],\n",
       " [0.9999994, 0.9999994, array([1.], dtype=float32)],\n",
       " [0.99996734, 0.999972, array([0.99999535], dtype=float32)],\n",
       " [0.9999963, 0.9999976, array([0.9999987], dtype=float32)],\n",
       " [0.99997926, 0.99998164, array([0.9999976], dtype=float32)],\n",
       " [0.99999416, 0.99999475, array([0.9999994], dtype=float32)],\n",
       " [0.9999927, 0.9999932, array([0.9999995], dtype=float32)],\n",
       " [0.99999624, 0.9999966, array([0.99999964], dtype=float32)],\n",
       " [0.9999989, 0.9999989, array([1.], dtype=float32)],\n",
       " [0.9999931, 0.99999475, array([0.99999833], dtype=float32)],\n",
       " [0.9999803, 0.9999824, array([0.99999785], dtype=float32)],\n",
       " [0.99997616, 0.9999807, array([0.99999547], dtype=float32)],\n",
       " [0.9999917, 0.99999404, array([0.9999977], dtype=float32)],\n",
       " [0.9999816, 0.99998325, array([0.99999833], dtype=float32)],\n",
       " [0.9999993, 0.9999993, array([1.], dtype=float32)],\n",
       " [0.9999994, 0.9999994, array([1.], dtype=float32)],\n",
       " [0.9999842, 0.9999857, array([0.9999985], dtype=float32)],\n",
       " [0.9999711, 0.999973, array([0.9999981], dtype=float32)],\n",
       " [0.9999987, 0.9999987, array([1.], dtype=float32)],\n",
       " [0.99999416, 0.9999958, array([0.99999833], dtype=float32)],\n",
       " [0.9999779, 0.9999804, array([0.9999975], dtype=float32)],\n",
       " [0.9999906, 0.9999918, array([0.9999988], dtype=float32)],\n",
       " [0.9999635, 0.9999684, array([0.9999951], dtype=float32)],\n",
       " [0.99999213, 0.99999464, array([0.9999975], dtype=float32)],\n",
       " [0.99995995, 0.9999633, array([0.99999666], dtype=float32)],\n",
       " [0.9999841, 0.9999851, array([0.999999], dtype=float32)],\n",
       " [0.9999894, 0.99999034, array([0.99999905], dtype=float32)],\n",
       " [0.99998236, 0.99998355, array([0.9999988], dtype=float32)],\n",
       " [0.99998146, 0.9999836, array([0.99999785], dtype=float32)]]"
      ]
     },
     "execution_count": 19,
     "metadata": {},
     "output_type": "execute_result"
    }
   ],
   "source": [
    "train_score"
   ]
  },
  {
   "cell_type": "code",
   "execution_count": 20,
   "id": "1f232c9f",
   "metadata": {},
   "outputs": [],
   "source": [
    "for i in range(len(r1)):\n",
    "    aa =prt_loss(r1[i] ,yolo)\n",
    "    valid_score.append(aa)"
   ]
  },
  {
   "cell_type": "code",
   "execution_count": 21,
   "id": "8363bdc1",
   "metadata": {},
   "outputs": [
    {
     "name": "stderr",
     "output_type": "stream",
     "text": [
      "Premature end of JPEG file\n"
     ]
    }
   ],
   "source": [
    "for i in range(len(r5)):\n",
    "    aa =prt_loss(r5[i] ,yolo)\n",
    "    test_score.append(aa)"
   ]
  },
  {
   "cell_type": "code",
   "execution_count": 22,
   "id": "2daf1c06",
   "metadata": {},
   "outputs": [],
   "source": [
    "for i in range(len(anomaly_85)):\n",
    "    aa =prt_loss(anomaly_85[i] ,yolo)\n",
    "    anomaly_score.append(aa)"
   ]
  },
  {
   "cell_type": "code",
   "execution_count": 23,
   "id": "cefcce19",
   "metadata": {},
   "outputs": [
    {
     "name": "stderr",
     "output_type": "stream",
     "text": [
      "/tmp/ipykernel_883990/2699754950.py:1: VisibleDeprecationWarning: Creating an ndarray from ragged nested sequences (which is a list-or-tuple of lists-or-tuples-or ndarrays with different lengths or shapes) is deprecated. If you meant to do this, you must specify 'dtype=object' when creating the ndarray.\n",
      "  raw_training = pd.DataFrame(data=np.array(train_score), index=[train_names], columns=[\"score\",\"pred_conf\",\"pred_prob\"])\n"
     ]
    }
   ],
   "source": [
    "raw_training = pd.DataFrame(data=np.array(train_score), index=[train_names], columns=[\"score\",\"pred_conf\",\"pred_prob\"])"
   ]
  },
  {
   "cell_type": "code",
   "execution_count": 24,
   "id": "1671f628",
   "metadata": {},
   "outputs": [
    {
     "data": {
      "text/html": [
       "<div>\n",
       "<style scoped>\n",
       "    .dataframe tbody tr th:only-of-type {\n",
       "        vertical-align: middle;\n",
       "    }\n",
       "\n",
       "    .dataframe tbody tr th {\n",
       "        vertical-align: top;\n",
       "    }\n",
       "\n",
       "    .dataframe thead th {\n",
       "        text-align: right;\n",
       "    }\n",
       "</style>\n",
       "<table border=\"1\" class=\"dataframe\">\n",
       "  <thead>\n",
       "    <tr style=\"text-align: right;\">\n",
       "      <th></th>\n",
       "      <th>score</th>\n",
       "      <th>pred_conf</th>\n",
       "      <th>pred_prob</th>\n",
       "    </tr>\n",
       "  </thead>\n",
       "  <tbody>\n",
       "    <tr>\n",
       "      <th>191_2_1.jpg</th>\n",
       "      <td>0.999838</td>\n",
       "      <td>0.999849</td>\n",
       "      <td>[0.99998933]</td>\n",
       "    </tr>\n",
       "    <tr>\n",
       "      <th>28198_2_1.jpg</th>\n",
       "      <td>0.999978</td>\n",
       "      <td>0.99998</td>\n",
       "      <td>[0.99999815]</td>\n",
       "    </tr>\n",
       "    <tr>\n",
       "      <th>28586_2_3.jpg</th>\n",
       "      <td>0.999986</td>\n",
       "      <td>0.999987</td>\n",
       "      <td>[0.9999989]</td>\n",
       "    </tr>\n",
       "    <tr>\n",
       "      <th>8661_2_3.jpg</th>\n",
       "      <td>0.999876</td>\n",
       "      <td>0.999887</td>\n",
       "      <td>[0.9999888]</td>\n",
       "    </tr>\n",
       "    <tr>\n",
       "      <th>10353_2_7.jpg</th>\n",
       "      <td>0.999551</td>\n",
       "      <td>0.999596</td>\n",
       "      <td>[0.9999553]</td>\n",
       "    </tr>\n",
       "    <tr>\n",
       "      <th>...</th>\n",
       "      <td>...</td>\n",
       "      <td>...</td>\n",
       "      <td>...</td>\n",
       "    </tr>\n",
       "    <tr>\n",
       "      <th>10002_2_9.jpg</th>\n",
       "      <td>0.99996</td>\n",
       "      <td>0.999963</td>\n",
       "      <td>[0.99999666]</td>\n",
       "    </tr>\n",
       "    <tr>\n",
       "      <th>2533_2_1.jpg</th>\n",
       "      <td>0.999984</td>\n",
       "      <td>0.999985</td>\n",
       "      <td>[0.999999]</td>\n",
       "    </tr>\n",
       "    <tr>\n",
       "      <th>25744_2_3.jpg</th>\n",
       "      <td>0.999989</td>\n",
       "      <td>0.99999</td>\n",
       "      <td>[0.99999905]</td>\n",
       "    </tr>\n",
       "    <tr>\n",
       "      <th>24074_2_1.jpg</th>\n",
       "      <td>0.999982</td>\n",
       "      <td>0.999984</td>\n",
       "      <td>[0.9999988]</td>\n",
       "    </tr>\n",
       "    <tr>\n",
       "      <th>25042_2_1.jpg</th>\n",
       "      <td>0.999981</td>\n",
       "      <td>0.999984</td>\n",
       "      <td>[0.99999785]</td>\n",
       "    </tr>\n",
       "  </tbody>\n",
       "</table>\n",
       "<p>340 rows × 3 columns</p>\n",
       "</div>"
      ],
      "text/plain": [
       "                  score pred_conf     pred_prob\n",
       "191_2_1.jpg    0.999838  0.999849  [0.99998933]\n",
       "28198_2_1.jpg  0.999978   0.99998  [0.99999815]\n",
       "28586_2_3.jpg  0.999986  0.999987   [0.9999989]\n",
       "8661_2_3.jpg   0.999876  0.999887   [0.9999888]\n",
       "10353_2_7.jpg  0.999551  0.999596   [0.9999553]\n",
       "...                 ...       ...           ...\n",
       "10002_2_9.jpg   0.99996  0.999963  [0.99999666]\n",
       "2533_2_1.jpg   0.999984  0.999985    [0.999999]\n",
       "25744_2_3.jpg  0.999989   0.99999  [0.99999905]\n",
       "24074_2_1.jpg  0.999982  0.999984   [0.9999988]\n",
       "25042_2_1.jpg  0.999981  0.999984  [0.99999785]\n",
       "\n",
       "[340 rows x 3 columns]"
      ]
     },
     "execution_count": 24,
     "metadata": {},
     "output_type": "execute_result"
    }
   ],
   "source": [
    "raw_training"
   ]
  },
  {
   "cell_type": "code",
   "execution_count": 25,
   "id": "6bf34236",
   "metadata": {},
   "outputs": [
    {
     "name": "stderr",
     "output_type": "stream",
     "text": [
      "/tmp/ipykernel_883990/1602272338.py:1: VisibleDeprecationWarning: Creating an ndarray from ragged nested sequences (which is a list-or-tuple of lists-or-tuples-or ndarrays with different lengths or shapes) is deprecated. If you meant to do this, you must specify 'dtype=object' when creating the ndarray.\n",
      "  raw_valid = pd.DataFrame(data=np.array(valid_score), index=[valid_names], columns=[\"score\",\"pred_conf\",\"pred_prob\"])\n"
     ]
    }
   ],
   "source": [
    "raw_valid = pd.DataFrame(data=np.array(valid_score), index=[valid_names], columns=[\"score\",\"pred_conf\",\"pred_prob\"])"
   ]
  },
  {
   "cell_type": "code",
   "execution_count": 26,
   "id": "7e6af977",
   "metadata": {},
   "outputs": [
    {
     "data": {
      "text/html": [
       "<div>\n",
       "<style scoped>\n",
       "    .dataframe tbody tr th:only-of-type {\n",
       "        vertical-align: middle;\n",
       "    }\n",
       "\n",
       "    .dataframe tbody tr th {\n",
       "        vertical-align: top;\n",
       "    }\n",
       "\n",
       "    .dataframe thead th {\n",
       "        text-align: right;\n",
       "    }\n",
       "</style>\n",
       "<table border=\"1\" class=\"dataframe\">\n",
       "  <thead>\n",
       "    <tr style=\"text-align: right;\">\n",
       "      <th></th>\n",
       "      <th>score</th>\n",
       "      <th>pred_conf</th>\n",
       "      <th>pred_prob</th>\n",
       "    </tr>\n",
       "  </thead>\n",
       "  <tbody>\n",
       "    <tr>\n",
       "      <th>27742_2_3.jpg</th>\n",
       "      <td>0.999971</td>\n",
       "      <td>0.999974</td>\n",
       "      <td>[0.99999726]</td>\n",
       "    </tr>\n",
       "    <tr>\n",
       "      <th>21770_2_1.jpg</th>\n",
       "      <td>0.999995</td>\n",
       "      <td>0.999996</td>\n",
       "      <td>[0.9999995]</td>\n",
       "    </tr>\n",
       "    <tr>\n",
       "      <th>28487_2_1.jpg</th>\n",
       "      <td>0.999986</td>\n",
       "      <td>0.999988</td>\n",
       "      <td>[0.99999785]</td>\n",
       "    </tr>\n",
       "    <tr>\n",
       "      <th>8946_2_3.jpg</th>\n",
       "      <td>0.99997</td>\n",
       "      <td>0.999972</td>\n",
       "      <td>[0.99999744]</td>\n",
       "    </tr>\n",
       "    <tr>\n",
       "      <th>28196_2_1.jpg</th>\n",
       "      <td>0.999995</td>\n",
       "      <td>0.999996</td>\n",
       "      <td>[0.9999995]</td>\n",
       "    </tr>\n",
       "    <tr>\n",
       "      <th>...</th>\n",
       "      <td>...</td>\n",
       "      <td>...</td>\n",
       "      <td>...</td>\n",
       "    </tr>\n",
       "    <tr>\n",
       "      <th>29919_2_1.jpg</th>\n",
       "      <td>0.999981</td>\n",
       "      <td>0.999982</td>\n",
       "      <td>[0.9999989]</td>\n",
       "    </tr>\n",
       "    <tr>\n",
       "      <th>29932_2_1.jpg</th>\n",
       "      <td>0.999997</td>\n",
       "      <td>0.999997</td>\n",
       "      <td>[0.9999998]</td>\n",
       "    </tr>\n",
       "    <tr>\n",
       "      <th>10355_2_1.jpg</th>\n",
       "      <td>0.999999</td>\n",
       "      <td>0.999999</td>\n",
       "      <td>[1.0]</td>\n",
       "    </tr>\n",
       "    <tr>\n",
       "      <th>5806_2_3.jpg</th>\n",
       "      <td>0.999988</td>\n",
       "      <td>0.999989</td>\n",
       "      <td>[0.99999875]</td>\n",
       "    </tr>\n",
       "    <tr>\n",
       "      <th>30985_2_1.jpg</th>\n",
       "      <td>0.999978</td>\n",
       "      <td>0.999981</td>\n",
       "      <td>[0.99999666]</td>\n",
       "    </tr>\n",
       "  </tbody>\n",
       "</table>\n",
       "<p>85 rows × 3 columns</p>\n",
       "</div>"
      ],
      "text/plain": [
       "                  score pred_conf     pred_prob\n",
       "27742_2_3.jpg  0.999971  0.999974  [0.99999726]\n",
       "21770_2_1.jpg  0.999995  0.999996   [0.9999995]\n",
       "28487_2_1.jpg  0.999986  0.999988  [0.99999785]\n",
       "8946_2_3.jpg    0.99997  0.999972  [0.99999744]\n",
       "28196_2_1.jpg  0.999995  0.999996   [0.9999995]\n",
       "...                 ...       ...           ...\n",
       "29919_2_1.jpg  0.999981  0.999982   [0.9999989]\n",
       "29932_2_1.jpg  0.999997  0.999997   [0.9999998]\n",
       "10355_2_1.jpg  0.999999  0.999999         [1.0]\n",
       "5806_2_3.jpg   0.999988  0.999989  [0.99999875]\n",
       "30985_2_1.jpg  0.999978  0.999981  [0.99999666]\n",
       "\n",
       "[85 rows x 3 columns]"
      ]
     },
     "execution_count": 26,
     "metadata": {},
     "output_type": "execute_result"
    }
   ],
   "source": [
    "raw_valid"
   ]
  },
  {
   "cell_type": "code",
   "execution_count": 27,
   "id": "9cdc7870",
   "metadata": {},
   "outputs": [
    {
     "name": "stderr",
     "output_type": "stream",
     "text": [
      "/tmp/ipykernel_883990/1281917758.py:1: VisibleDeprecationWarning: Creating an ndarray from ragged nested sequences (which is a list-or-tuple of lists-or-tuples-or ndarrays with different lengths or shapes) is deprecated. If you meant to do this, you must specify 'dtype=object' when creating the ndarray.\n",
      "  raw_test = pd.DataFrame(data=np.array(test_score), index=[test_names], columns=[\"score\",\"pred_conf\",\"pred_prob\"])\n"
     ]
    }
   ],
   "source": [
    "raw_test = pd.DataFrame(data=np.array(test_score), index=[test_names], columns=[\"score\",\"pred_conf\",\"pred_prob\"])"
   ]
  },
  {
   "cell_type": "code",
   "execution_count": 28,
   "id": "59ced0f1",
   "metadata": {},
   "outputs": [
    {
     "name": "stderr",
     "output_type": "stream",
     "text": [
      "/tmp/ipykernel_883990/911882621.py:1: VisibleDeprecationWarning: Creating an ndarray from ragged nested sequences (which is a list-or-tuple of lists-or-tuples-or ndarrays with different lengths or shapes) is deprecated. If you meant to do this, you must specify 'dtype=object' when creating the ndarray.\n",
      "  raw_anomaly = pd.DataFrame(data=np.array(anomaly_score), index=[anomaly_names], columns=[\"score\",\"pred_conf\",\"pred_prob\"])\n"
     ]
    }
   ],
   "source": [
    "raw_anomaly = pd.DataFrame(data=np.array(anomaly_score), index=[anomaly_names], columns=[\"score\",\"pred_conf\",\"pred_prob\"])"
   ]
  },
  {
   "cell_type": "code",
   "execution_count": 29,
   "id": "391d22dc",
   "metadata": {},
   "outputs": [],
   "source": [
    "for i in range(len(coco_anomaly)):\n",
    "    aa =prt_loss(coco_anomaly[i] ,yolo)\n",
    "    coco_score.append(aa)"
   ]
  },
  {
   "cell_type": "code",
   "execution_count": 30,
   "id": "da5fc039",
   "metadata": {},
   "outputs": [],
   "source": [
    "for i in range(len(os.listdir(angled_path))):\n",
    "    aa =prt_loss(os.path.join(angled_path, os.listdir(angled_path)[i]) ,yolo)\n",
    "    angle_score.append(aa)"
   ]
  },
  {
   "cell_type": "code",
   "execution_count": 31,
   "id": "a33bb72b",
   "metadata": {},
   "outputs": [],
   "source": [
    "for i in range(len(os.listdir(brace_path))):\n",
    "    aa =prt_loss(os.path.join(brace_path, os.listdir(brace_path)[i]) ,yolo)\n",
    "    braces_score.append(aa)"
   ]
  },
  {
   "cell_type": "code",
   "execution_count": 32,
   "id": "a66c53c0",
   "metadata": {},
   "outputs": [
    {
     "name": "stderr",
     "output_type": "stream",
     "text": [
      "/tmp/ipykernel_883990/794488856.py:1: VisibleDeprecationWarning: Creating an ndarray from ragged nested sequences (which is a list-or-tuple of lists-or-tuples-or ndarrays with different lengths or shapes) is deprecated. If you meant to do this, you must specify 'dtype=object' when creating the ndarray.\n",
      "  raw_coco= pd.DataFrame(data=np.array(coco_score), index=[coco_names], columns=[\"score\",\"pred_conf\",\"pred_prob\"])\n"
     ]
    }
   ],
   "source": [
    "raw_coco= pd.DataFrame(data=np.array(coco_score), index=[coco_names], columns=[\"score\",\"pred_conf\",\"pred_prob\"])"
   ]
  },
  {
   "cell_type": "code",
   "execution_count": 33,
   "id": "c0a40d56",
   "metadata": {},
   "outputs": [
    {
     "name": "stderr",
     "output_type": "stream",
     "text": [
      "/tmp/ipykernel_883990/3543986322.py:1: VisibleDeprecationWarning: Creating an ndarray from ragged nested sequences (which is a list-or-tuple of lists-or-tuples-or ndarrays with different lengths or shapes) is deprecated. If you meant to do this, you must specify 'dtype=object' when creating the ndarray.\n",
      "  raw_anlge= pd.DataFrame(data=np.array(angle_score), index=[angle_names], columns=[\"score\",\"pred_conf\",\"pred_prob\"])\n"
     ]
    }
   ],
   "source": [
    "raw_anlge= pd.DataFrame(data=np.array(angle_score), index=[angle_names], columns=[\"score\",\"pred_conf\",\"pred_prob\"])"
   ]
  },
  {
   "cell_type": "code",
   "execution_count": 34,
   "id": "96f5b8bb",
   "metadata": {},
   "outputs": [
    {
     "name": "stderr",
     "output_type": "stream",
     "text": [
      "/tmp/ipykernel_883990/928199419.py:1: VisibleDeprecationWarning: Creating an ndarray from ragged nested sequences (which is a list-or-tuple of lists-or-tuples-or ndarrays with different lengths or shapes) is deprecated. If you meant to do this, you must specify 'dtype=object' when creating the ndarray.\n",
      "  raw_braces= pd.DataFrame(data=np.array(braces_score), index=[braces_names], columns=[\"score\",\"pred_conf\",\"pred_prob\"])\n"
     ]
    }
   ],
   "source": [
    "raw_braces= pd.DataFrame(data=np.array(braces_score), index=[braces_names], columns=[\"score\",\"pred_conf\",\"pred_prob\"])"
   ]
  },
  {
   "cell_type": "markdown",
   "id": "b2ec407d",
   "metadata": {},
   "source": [
    "## GIOU(must change when change txt file)"
   ]
  },
  {
   "cell_type": "code",
   "execution_count": 35,
   "id": "85696726",
   "metadata": {},
   "outputs": [],
   "source": [
    "file = open(\"model_data/no_lip_more_train.txt\", \"r\")\n",
    "no_lip_train = file.readlines()\n",
    "file.close()\n",
    "file = open(\"model_data/no_lip_more_validation.txt\", \"r\")\n",
    "no_lip_valid = file.readlines()\n",
    "file.close()"
   ]
  },
  {
   "cell_type": "code",
   "execution_count": 36,
   "id": "8d727d62",
   "metadata": {},
   "outputs": [],
   "source": [
    "GT_train = []\n",
    "GT_valid = []"
   ]
  },
  {
   "cell_type": "code",
   "execution_count": 37,
   "id": "e8da4782",
   "metadata": {},
   "outputs": [],
   "source": [
    "giou_ious_list_train = []\n",
    "giou_ious_list_valid = []"
   ]
  },
  {
   "cell_type": "code",
   "execution_count": 38,
   "id": "d56da965",
   "metadata": {},
   "outputs": [],
   "source": [
    "#GT add\n",
    "for i in range(len(r11)):\n",
    "    bb = no_lip_train[i].split()[1].split(\",\")[0:4]\n",
    "    bb = [int(item) for item in bb]\n",
    "    GT_train.append(bb)\n",
    "for i in range(len(r1)):\n",
    "    bb = no_lip_valid[i].split()[1].split(\",\")[0:4]\n",
    "    bb = [int(item) for item in bb]\n",
    "    GT_valid.append(bb)"
   ]
  },
  {
   "cell_type": "code",
   "execution_count": 39,
   "id": "cc0ef0ef",
   "metadata": {},
   "outputs": [],
   "source": [
    "# train\n",
    "for i in range(len(r11)):\n",
    "    image, bboxes = detect_image(yolo, r11[i], \"\", input_size=YOLO_INPUT_SIZE, show=False, score_threshold=0.1, CLASSES=TRAIN_CLASSES, rectangle_colors=(255,0,0))\n",
    "    if len(bboxes) == 0 :\n",
    "        giou_ious_list_train.append([0,0])\n",
    "    else :\n",
    "        giou,ious = GIoU(np.array(GT_train[i]), bboxes[0][:4])\n",
    "        giou_ious_list_train.append([giou,ious])"
   ]
  },
  {
   "cell_type": "code",
   "execution_count": 40,
   "id": "45409d22",
   "metadata": {},
   "outputs": [],
   "source": [
    "# validation\n",
    "for i in range(len(r1)):\n",
    "    image, bboxes = detect_image(yolo, r1[i], \"\", input_size=YOLO_INPUT_SIZE,score_threshold=0.1, show=False, CLASSES=TRAIN_CLASSES, rectangle_colors=(255,0,0))\n",
    "    if len(bboxes) == 0 :\n",
    "        giou_ious_list_valid.append([0,0])\n",
    "    else :\n",
    "        giou,ious = GIoU(np.array(GT_valid[i]), bboxes[0][:4])\n",
    "        giou_ious_list_valid.append([giou,ious])"
   ]
  },
  {
   "cell_type": "code",
   "execution_count": 41,
   "id": "dba4c5f5",
   "metadata": {},
   "outputs": [],
   "source": [
    "raw_training_giou = pd.DataFrame(data=np.array(giou_ious_list_train), index=[train_names], columns=[\"giou\", \"iou\"])"
   ]
  },
  {
   "cell_type": "code",
   "execution_count": 42,
   "id": "7302bb86",
   "metadata": {},
   "outputs": [],
   "source": [
    "raw_valid_giou = pd.DataFrame(data=np.array(giou_ious_list_valid), index=[valid_names], columns=[\"giou\", \"iou\"])"
   ]
  },
  {
   "cell_type": "code",
   "execution_count": 43,
   "id": "4e15a12b",
   "metadata": {},
   "outputs": [],
   "source": [
    "df_training_join = pd.merge(raw_training,raw_training_giou, left_index=True, right_index = True, \n",
    "                         how =\"outer\" )"
   ]
  },
  {
   "cell_type": "code",
   "execution_count": 44,
   "id": "10cca578",
   "metadata": {},
   "outputs": [],
   "source": [
    "df_valid_join = pd.merge(raw_valid,raw_valid_giou, left_index=True, right_index = True, \n",
    "                         how =\"outer\" )"
   ]
  },
  {
   "cell_type": "code",
   "execution_count": 45,
   "id": "e6fc8f35",
   "metadata": {},
   "outputs": [],
   "source": [
    "xlxs_dir='___final.xlsx' #경로 및 파일명 설정\n",
    "with pd.ExcelWriter(xlxs_dir) as writer:\n",
    "    df_training_join.to_excel(writer, sheet_name = 'training_data') #raw_data1 시트에 저장\n",
    "    df_valid_join.to_excel(writer, sheet_name = 'valid_data') #raw_data2 시트에 저장\n",
    "    raw_test.to_excel(writer, sheet_name = 'test_data') #raw_data2 시트에 저장\n",
    "    raw_anomaly.to_excel(writer, sheet_name = 'anomaly_data') #raw_data2 시트에 저장\n",
    "    raw_coco.to_excel(writer, sheet_name = 'coco_data') #raw_data1 시트에 저장\n",
    "    raw_anlge.to_excel(writer, sheet_name = 'angle_data') #raw_data2 시트에 저장\n",
    "    raw_braces.to_excel(writer, sheet_name = 'braces_data') #raw_data2 시트에 저장"
   ]
  },
  {
   "cell_type": "markdown",
   "id": "ddb2660d",
   "metadata": {},
   "source": [
    "#  test2 replace old_test_set"
   ]
  },
  {
   "cell_type": "code",
   "execution_count": 46,
   "id": "ec6ee2ef",
   "metadata": {},
   "outputs": [],
   "source": [
    "import pandas as pd\n",
    "import numpy as np\n",
    "from sklearn import metrics\n",
    "import matplotlib.pyplot as plt"
   ]
  },
  {
   "cell_type": "code",
   "execution_count": 47,
   "id": "e50a211e",
   "metadata": {},
   "outputs": [],
   "source": [
    "train_df =  pd.read_excel(\"___final.xlsx\", sheet_name=\"training_data\", engine='openpyxl', index_col=0)\n",
    "valid_df = pd.read_excel(\"___final.xlsx\", sheet_name=\"valid_data\", engine='openpyxl', index_col=0)\n",
    "# test_df = pd.read_excel(\"___final.xlsx\", sheet_name=\"test_data\", engine='openpyxl', index_col=0)\n",
    "anomaly_df = pd.read_excel(\"___final.xlsx\", sheet_name=\"anomaly_data\", engine='openpyxl', index_col=0)\n",
    "coco_df = pd.read_excel(\"___final.xlsx\", sheet_name=\"coco_data\", engine='openpyxl', index_col=0)\n",
    "angle_df = pd.read_excel(\"___final.xlsx\", sheet_name=\"angle_data\", engine='openpyxl', index_col=0)\n",
    "braces_df = pd.read_excel(\"___final.xlsx\", sheet_name=\"braces_data\", engine='openpyxl', index_col=0)"
   ]
  },
  {
   "cell_type": "code",
   "execution_count": 48,
   "id": "0854f643",
   "metadata": {},
   "outputs": [
    {
     "name": "stderr",
     "output_type": "stream",
     "text": [
      "Premature end of JPEG file\n"
     ]
    }
   ],
   "source": [
    "test2  =glob(r\"/home/jh/Desktop/teeth/github_td/test2/*.jpg\")\n",
    "test_names = []\n",
    "for i in range(len(test2)):\n",
    "    test_names.append(os.path.basename(test2[i]))\n",
    "\n",
    "test_score = []\n",
    "for i in range(len(test2)):\n",
    "    aa =prt_loss(test2[i] ,yolo)\n",
    "    test_score.append(aa)\n"
   ]
  },
  {
   "cell_type": "code",
   "execution_count": 49,
   "id": "9096538a",
   "metadata": {},
   "outputs": [
    {
     "name": "stderr",
     "output_type": "stream",
     "text": [
      "/tmp/ipykernel_883990/4164779704.py:1: VisibleDeprecationWarning: Creating an ndarray from ragged nested sequences (which is a list-or-tuple of lists-or-tuples-or ndarrays with different lengths or shapes) is deprecated. If you meant to do this, you must specify 'dtype=object' when creating the ndarray.\n",
      "  test2_df = pd.DataFrame(data=np.array(test_score), index=[test_names], columns=[\"score\",\"pred_conf\",\"pred_prob\"])\n"
     ]
    }
   ],
   "source": [
    "test2_df = pd.DataFrame(data=np.array(test_score), index=[test_names], columns=[\"score\",\"pred_conf\",\"pred_prob\"])"
   ]
  },
  {
   "cell_type": "code",
   "execution_count": 50,
   "id": "580680b1",
   "metadata": {},
   "outputs": [],
   "source": [
    "xlxs_dir='___final_2.xlsx' #경로 및 파일명 설정\n",
    "with pd.ExcelWriter(xlxs_dir) as writer:\n",
    "    train_df.to_excel(writer, sheet_name = 'training_data') #raw_data1 시트에 저장\n",
    "    valid_df.to_excel(writer, sheet_name = 'valid_data') #raw_data2 시트에 저장\n",
    "    test2_df.to_excel(writer, sheet_name = 'test_data') #raw_data2 시트에 저장\n",
    "    anomaly_df.to_excel(writer, sheet_name = 'anomaly_data') #raw_data2 시트에 저장\n",
    "    coco_df.to_excel(writer, sheet_name = 'coco_data') #raw_data1 시트에 저장\n",
    "    angle_df.to_excel(writer, sheet_name = 'angle_data') #raw_data2 시트에 저장\n",
    "    braces_df.to_excel(writer, sheet_name = 'braces_data') #raw_data2 시트에 저장"
   ]
  },
  {
   "cell_type": "markdown",
   "id": "0a7fc889",
   "metadata": {},
   "source": [
    "# remove overlab"
   ]
  },
  {
   "cell_type": "code",
   "execution_count": 51,
   "id": "3c2f6e29",
   "metadata": {},
   "outputs": [],
   "source": [
    "from glob import glob\n",
    "import numpy as np\n",
    "import pandas as pd\n",
    "import os"
   ]
  },
  {
   "cell_type": "code",
   "execution_count": 52,
   "id": "bcbba4f7",
   "metadata": {},
   "outputs": [
    {
     "name": "stdout",
     "output_type": "stream",
     "text": [
      "[  34  130  161  189  241  337  466  474  600  646  769  775  860  878\n",
      "  975  995 1016 1021 1076 1082 1184 1267 1275 1363 1478 1500 1528 1585\n",
      " 1685 1806 1899 1955 1981 2041 2047 2061 2363 2391 2433 2435 2556 2558\n",
      " 2612 2613 2734 2747 2824 2888 2904 2919 3005 3073 3092 3152 3171 3202\n",
      " 3342 3385 3444 3461 3556 3772 3798 3843 3890 3943 4014 4117 4297 4426\n",
      " 4551 4555 4658 4798 4843 4911]\n"
     ]
    }
   ],
   "source": [
    "coco_anomaly =  glob(r\"/home/jh/Desktop/teeth/github_td/val2017/*.jpg\")\n",
    "np.random.seed(42)\n",
    "a = np.random.randint(5000, size =76)\n",
    "a = np.sort(a)\n",
    "print(a)\n",
    "anomaly_76 = [coco_anomaly[i] for i in a]"
   ]
  },
  {
   "cell_type": "code",
   "execution_count": 53,
   "id": "fea2b717",
   "metadata": {},
   "outputs": [],
   "source": [
    "train_df =  pd.read_excel(\"___final_2.xlsx\", sheet_name=\"training_data\", engine='openpyxl', index_col=0)\n",
    "valid_df = pd.read_excel(\"___final_2.xlsx\", sheet_name=\"valid_data\", engine='openpyxl', index_col=0)\n",
    "test2_df = pd.read_excel(\"___final_2.xlsx\", sheet_name=\"test_data\", engine='openpyxl', index_col=0)\n",
    "anomaly_df = pd.read_excel(\"___final_2.xlsx\", sheet_name=\"anomaly_data\", engine='openpyxl', index_col=0)\n",
    "coco_df = pd.read_excel(\"___final_2.xlsx\", sheet_name=\"coco_data\", engine='openpyxl', index_col=0)\n",
    "angle_df = pd.read_excel(\"___final_2.xlsx\", sheet_name=\"angle_data\", engine='openpyxl', index_col=0)\n",
    "braces_df = pd.read_excel(\"___final_2.xlsx\", sheet_name=\"braces_data\", engine='openpyxl', index_col=0)"
   ]
  },
  {
   "cell_type": "code",
   "execution_count": 54,
   "id": "1b618b8b",
   "metadata": {},
   "outputs": [],
   "source": [
    "remove_name = [os.path.basename(i) for i in anomaly_76]\n",
    "coco_df = coco_df.drop(remove_name)"
   ]
  },
  {
   "cell_type": "code",
   "execution_count": 55,
   "id": "7cb7268b",
   "metadata": {},
   "outputs": [],
   "source": [
    "xlxs_dir='___final_3.xlsx' #경로 및 파일명 설정\n",
    "with pd.ExcelWriter(xlxs_dir) as writer:\n",
    "    train_df.to_excel(writer, sheet_name = 'training_data') #raw_data1 시트에 저장\n",
    "    valid_df.to_excel(writer, sheet_name = 'valid_data') #raw_data2 시트에 저장\n",
    "    test2_df.to_excel(writer, sheet_name = 'test_data') #raw_data2 시트에 저장\n",
    "    anomaly_df.to_excel(writer, sheet_name = 'anomaly_data') #raw_data2 시트에 저장\n",
    "    coco_df.to_excel(writer, sheet_name = 'coco_data') #raw_data1 시트에 저장\n",
    "    angle_df.to_excel(writer, sheet_name = 'angle_data') #raw_data2 시트에 저장\n",
    "    braces_df.to_excel(writer, sheet_name = 'braces_data') #raw_data2 시트에 저장"
   ]
  },
  {
   "cell_type": "markdown",
   "id": "86bba396",
   "metadata": {},
   "source": [
    "# AUC 계산"
   ]
  },
  {
   "cell_type": "code",
   "execution_count": 56,
   "id": "0decde75",
   "metadata": {},
   "outputs": [],
   "source": [
    "import pandas as pd\n",
    "import numpy as np\n",
    "from sklearn import metrics\n",
    "import matplotlib.pyplot as plt"
   ]
  },
  {
   "cell_type": "code",
   "execution_count": 57,
   "id": "453e74e9",
   "metadata": {},
   "outputs": [],
   "source": [
    "test_df = pd.read_excel(\"___final_3.xlsx\", sheet_name=\"test_data\", engine='openpyxl')\n",
    "# anomaly_df = pd.read_excel(\"___final_3.xlsx\", sheet_name=\"anomaly_data\", engine='openpyxl')\n",
    "coco_df = pd.read_excel(\"___final_3.xlsx\", sheet_name=\"coco_data\", engine='openpyxl')\n",
    "angle_df = pd.read_excel(\"___final_3.xlsx\", sheet_name=\"angle_data\", engine='openpyxl')\n",
    "braces_df = pd.read_excel(\"___final_3.xlsx\", sheet_name=\"braces_data\", engine='openpyxl')"
   ]
  },
  {
   "cell_type": "code",
   "execution_count": 58,
   "id": "e60c6046",
   "metadata": {},
   "outputs": [],
   "source": [
    "test_pred_score = [i for i in test_df[\"score\"]]\n",
    "# anomaly_pred_score = [i for i in anomaly_df[\"score\"]]\n",
    "coco_pred_score=  [i for i in coco_df[\"score\"]]\n",
    "angle_pred_score =  [i for i in angle_df[\"score\"]]\n",
    "braces_pred_score =  [i for i in braces_df[\"score\"]]"
   ]
  },
  {
   "cell_type": "code",
   "execution_count": 59,
   "id": "5530d544",
   "metadata": {},
   "outputs": [],
   "source": [
    "y = [1]*len(test_pred_score)  + [0]*len(coco_pred_score)+ [0]*len(angle_pred_score) +[1]*len(braces_pred_score)"
   ]
  },
  {
   "cell_type": "code",
   "execution_count": 60,
   "id": "3f40a308",
   "metadata": {},
   "outputs": [],
   "source": [
    "pred = np.array(test_pred_score +coco_pred_score +angle_pred_score+braces_pred_score)"
   ]
  },
  {
   "cell_type": "code",
   "execution_count": 61,
   "id": "ca18f4ff",
   "metadata": {},
   "outputs": [],
   "source": [
    "fpr, tpr, thresholds = metrics.roc_curve(y, pred)\n",
    "roc_auc = metrics.auc(fpr, tpr)"
   ]
  },
  {
   "cell_type": "code",
   "execution_count": 62,
   "id": "bfcd881a",
   "metadata": {},
   "outputs": [
    {
     "name": "stdout",
     "output_type": "stream",
     "text": [
      "0.9992362929673128\n"
     ]
    }
   ],
   "source": [
    "print(roc_auc)"
   ]
  },
  {
   "cell_type": "code",
   "execution_count": 63,
   "id": "cd9b936d",
   "metadata": {},
   "outputs": [
    {
     "data": {
      "image/png": "[encoded data removed]",
      "text/plain": [
       "<Figure size 432x288 with 1 Axes>"
      ]
     },
     "metadata": {
      "needs_background": "light"
     },
     "output_type": "display_data"
    }
   ],
   "source": [
    "plt.figure()\n",
    "lw = 2\n",
    "plt.plot(\n",
    "    fpr,\n",
    "    tpr,\n",
    "    color=\"darkorange\",\n",
    "    lw=lw,\n",
    "    label=\"ROC curve (area = %0.2f)\" % roc_auc,\n",
    ")\n",
    "plt.plot([0, 1], [0, 1], color=\"navy\", lw=lw, linestyle=\"--\")\n",
    "plt.xlim([0.0, 1.0])\n",
    "plt.ylim([0.0, 1.05])\n",
    "plt.xlabel(\"False Positive Rate\")\n",
    "plt.ylabel(\"True Positive Rate\")\n",
    "plt.title(\"Receiver operating characteristic example\")\n",
    "plt.legend(loc=\"lower right\")\n",
    "plt.show()"
   ]
  },
  {
   "cell_type": "code",
   "execution_count": 64,
   "id": "a3e0b056",
   "metadata": {},
   "outputs": [],
   "source": [
    "for i in range(len(pred)):\n",
    "    if pred[i]>0.8 :\n",
    "        pred[i]=1\n",
    "    else:\n",
    "        pred[i]=0"
   ]
  },
  {
   "cell_type": "code",
   "execution_count": 65,
   "id": "cf1b7929",
   "metadata": {},
   "outputs": [
    {
     "data": {
      "text/plain": [
       "(4660, 279, 15, 5008)"
      ]
     },
     "execution_count": 65,
     "metadata": {},
     "output_type": "execute_result"
    }
   ],
   "source": [
    "tn, fp, fn, tp = metrics.confusion_matrix(y, pred).ravel()\n",
    "(tn, fp, fn, tp)"
   ]
  },
  {
   "cell_type": "code",
   "execution_count": 66,
   "id": "d3bcd57f",
   "metadata": {},
   "outputs": [
    {
     "data": {
      "image/png": "[encoded data removed]",
      "text/plain": [
       "<Figure size 432x288 with 2 Axes>"
      ]
     },
     "metadata": {
      "needs_background": "light"
     },
     "output_type": "display_data"
    }
   ],
   "source": [
    "import seaborn as sns\n",
    "cf_matrix = metrics.confusion_matrix(y, pred)\n",
    "group_names = [\"True Neg\",\"False Pos\",\"False Neg\",\"True Pos\"]\n",
    "group_counts = [\"{0:0.0f}\".format(value) for value in\n",
    "                cf_matrix.flatten()]\n",
    "# group_percentages = [“{0:.2%}”.format(value) for value in\n",
    "#                      cf_matrix.flatten()/np.sum(cf_matrix)]\n",
    "labels = [f\"{v1}\\n{v2}\" for v1, v2  in zip(group_names,group_counts)]\n",
    "labels = np.asarray(labels).reshape(2,2)\n",
    "sns.heatmap(cf_matrix, annot=labels, fmt=\"\", cmap='Blues')\n",
    "plt.savefig(\"confusion_matrix.jpg\",bbox_inches = \"tight\")"
   ]
  },
  {
   "cell_type": "code",
   "execution_count": null,
   "id": "48d4e694",
   "metadata": {},
   "outputs": [],
   "source": []
  }
 ],
 "metadata": {
  "kernelspec": {
   "display_name": "Python 3 (ipykernel)",
   "language": "python",
   "name": "python3"
  },
  "language_info": {
   "codemirror_mode": {
    "name": "ipython",
    "version": 3
   },
   "file_extension": ".py",
   "mimetype": "text/x-python",
   "name": "python",
   "nbconvert_exporter": "python",
   "pygments_lexer": "ipython3",
   "version": "3.8.0"
  }
 },
 "nbformat": 4,
 "nbformat_minor": 5
}
