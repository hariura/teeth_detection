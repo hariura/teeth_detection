{
 "cells": [
  {
   "cell_type": "markdown",
   "metadata": {
    "id": "twluDsqOaqRW"
   },
   "source": [
    "\n",
    "========================================================<br>\n",
    "<br>\n",
    "   File name   : YOLOv3_colab_training.ipynb<br>\n",
    "   Author      : PyLessons<br>\n",
    "   Created date: 2020-09-30<br>\n",
    "   Website     : https://pylessons.com/YOLOv3-TF2-GoogleColab<br>\n",
    "   GitHub      : https://github.com/pythonlessons/TensorFlow-2.x-YOLOv3<br>\n",
    "   Description : Train custom model on Google colab tutorial<br>\n",
    "<br>\n",
    "================================================================\n",
    "\n",
    "\n",
    "**Open this notebook from google drive**<br>\n",
    "**Go to \"Edit\" -> \"Notebook settings\" and enable GPU.**\n"
   ]
  },
  {
   "cell_type": "code",
   "execution_count": 1,
   "metadata": {
    "colab": {
     "base_uri": "https://localhost:8080/",
     "height": 357
    },
    "executionInfo": {
     "elapsed": 1009,
     "status": "ok",
     "timestamp": 1601446581065,
     "user": {
      "displayName": "Python Lessons",
      "photoUrl": "https://lh3.googleusercontent.com/a-/AOh14GgMQmMhFapKcavl337-vY17yrbowBHBlZQ5qYQv=s64",
      "userId": "12382394757900236362"
     },
     "user_tz": -180
    },
    "id": "srBiJiFEaKl1",
    "outputId": "b3a94fa4-c78c-4db9-d400-f14bf19732e0"
   },
   "outputs": [
    {
     "name": "stdout",
     "output_type": "stream",
     "text": [
      "Mon Feb  6 22:46:38 2023       \r\n",
      "+-----------------------------------------------------------------------------+\r\n",
      "| NVIDIA-SMI 470.161.03   Driver Version: 470.161.03   CUDA Version: 11.4     |\r\n",
      "|-------------------------------+----------------------+----------------------+\r\n",
      "| GPU  Name        Persistence-M| Bus-Id        Disp.A | Volatile Uncorr. ECC |\r\n",
      "| Fan  Temp  Perf  Pwr:Usage/Cap|         Memory-Usage | GPU-Util  Compute M. |\r\n",
      "|                               |                      |               MIG M. |\r\n",
      "|===============================+======================+======================|\r\n",
      "|   0  NVIDIA GeForce ...  Off  | 00000000:01:00.0  On |                  N/A |\r\n",
      "| 50%   34C    P5    59W / 350W |    559MiB / 24243MiB |     15%      Default |\r\n",
      "|                               |                      |                  N/A |\r\n",
      "+-------------------------------+----------------------+----------------------+\r\n",
      "                                                                               \r\n",
      "+-----------------------------------------------------------------------------+\r\n",
      "| Processes:                                                                  |\r\n",
      "|  GPU   GI   CI        PID   Type   Process name                  GPU Memory |\r\n",
      "|        ID   ID                                                   Usage      |\r\n",
      "|=============================================================================|\r\n",
      "|    0   N/A  N/A      1304      G   /usr/lib/xorg/Xorg                 84MiB |\r\n",
      "|    0   N/A  N/A      2532      G   /usr/lib/xorg/Xorg                234MiB |\r\n",
      "|    0   N/A  N/A      2832      G   /usr/bin/gnome-shell               45MiB |\r\n",
      "|    0   N/A  N/A   1765998      G   ...643392281276151581,131072      177MiB |\r\n",
      "+-----------------------------------------------------------------------------+\r\n"
     ]
    }
   ],
   "source": [
    "# Check if NVIDIA GPU is enabled\n",
    "!nvidia-smi"
   ]
  },
  {
   "cell_type": "markdown",
   "metadata": {
    "id": "DDmBbAUKLUkB"
   },
   "source": [
    "**Test if TensorFlow works with gpu for you, in output should see similar results:**\n",
    "```\n",
    "2.3.0\n",
    "'/device:GPU:0'\n",
    "```"
   ]
  },
  {
   "cell_type": "code",
   "execution_count": 2,
   "metadata": {
    "colab": {
     "base_uri": "https://localhost:8080/",
     "height": 52
    },
    "executionInfo": {
     "elapsed": 7965,
     "status": "ok",
     "timestamp": 1601446634334,
     "user": {
      "displayName": "Python Lessons",
      "photoUrl": "https://lh3.googleusercontent.com/a-/AOh14GgMQmMhFapKcavl337-vY17yrbowBHBlZQ5qYQv=s64",
      "userId": "12382394757900236362"
     },
     "user_tz": -180
    },
    "id": "M3cWo7hhc-qO",
    "outputId": "1a7edf1a-a3a9-450e-ace2-34bf1ad2c6a8"
   },
   "outputs": [
    {
     "name": "stdout",
     "output_type": "stream",
     "text": [
      "2.8.0\n"
     ]
    },
    {
     "name": "stderr",
     "output_type": "stream",
     "text": [
      "2023-02-06 22:46:39.487916: I tensorflow/core/platform/cpu_feature_guard.cc:151] This TensorFlow binary is optimized with oneAPI Deep Neural Network Library (oneDNN) to use the following CPU instructions in performance-critical operations:  AVX2 FMA\n",
      "To enable them in other operations, rebuild TensorFlow with the appropriate compiler flags.\n",
      "2023-02-06 22:46:39.827139: I tensorflow/core/common_runtime/gpu/gpu_device.cc:1525] Created device /device:GPU:0 with 21728 MB memory:  -> device: 0, name: NVIDIA GeForce RTX 3090, pci bus id: 0000:01:00.0, compute capability: 8.6\n"
     ]
    },
    {
     "data": {
      "text/plain": [
       "'/device:GPU:0'"
      ]
     },
     "execution_count": 2,
     "metadata": {},
     "output_type": "execute_result"
    }
   ],
   "source": [
    "import tensorflow as tf\n",
    "print(tf.__version__)\n",
    "tf.test.gpu_device_name()"
   ]
  },
  {
   "cell_type": "markdown",
   "metadata": {
    "id": "sX0TGlJhMGd_"
   },
   "source": [
    "**Test by loading trained model:**"
   ]
  },
  {
   "cell_type": "code",
   "execution_count": 3,
   "metadata": {
    "executionInfo": {
     "elapsed": 16498,
     "status": "ok",
     "timestamp": 1601446652047,
     "user": {
      "displayName": "Python Lessons",
      "photoUrl": "https://lh3.googleusercontent.com/a-/AOh14GgMQmMhFapKcavl337-vY17yrbowBHBlZQ5qYQv=s64",
      "userId": "12382394757900236362"
     },
     "user_tz": -180
    },
    "id": "NUKLydfYCo4r"
   },
   "outputs": [
    {
     "name": "stderr",
     "output_type": "stream",
     "text": [
      "2023-02-06 22:46:40.195199: I tensorflow/core/common_runtime/gpu/gpu_device.cc:1525] Created device /job:localhost/replica:0/task:0/device:GPU:0 with 21728 MB memory:  -> device: 0, name: NVIDIA GeForce RTX 3090, pci bus id: 0000:01:00.0, compute capability: 8.6\n"
     ]
    }
   ],
   "source": [
    "import cv2\n",
    "import numpy as np\n",
    "import matplotlib\n",
    "import matplotlib.pyplot as plt\n",
    "%matplotlib inline  \n",
    "import tensorflow as tf\n",
    "from glob import glob\n",
    "from yolov3.yolov4_config import Create_Yolo\n",
    "from yolov3.utils_config import load_yolo_weights, detect_image\n",
    "from yolov3.configs_config import *\n",
    "from PIL import Image\n",
    "\n",
    "import os\n",
    "import pandas as pd\n",
    "\n",
    "if YOLO_TYPE == \"yolov4\":\n",
    "    Darknet_weights = YOLO_V4_TINY_WEIGHTS if TRAIN_YOLO_TINY else YOLO_V4_WEIGHTS\n",
    "if YOLO_TYPE == \"yolov3\":\n",
    "    Darknet_weights = YOLO_V3_TINY_WEIGHTS if TRAIN_YOLO_TINY else YOLO_V3_WEIGHTS\n",
    "\n",
    "yolo = Create_Yolo(input_size=YOLO_INPUT_SIZE)\n",
    "load_yolo_weights(yolo, Darknet_weights) # use Darknet weights"
   ]
  },
  {
   "cell_type": "markdown",
   "metadata": {
    "id": "qdpGgKUUMJOe"
   },
   "source": [
    "**Test by testing detection on original model:**"
   ]
  },
  {
   "cell_type": "code",
   "execution_count": 4,
   "metadata": {
    "colab": {
     "base_uri": "https://localhost:8080/",
     "height": 1000
    },
    "executionInfo": {
     "elapsed": 428158,
     "status": "ok",
     "timestamp": 1596814215969,
     "user": {
      "displayName": "Python Lessons",
      "photoUrl": "https://lh3.googleusercontent.com/a-/AOh14GgMQmMhFapKcavl337-vY17yrbowBHBlZQ5qYQv=s64",
      "userId": "12382394757900236362"
     },
     "user_tz": -180
    },
    "id": "pXlFGBAp7Ibg",
    "outputId": "340f3942-c2b3-4e2a-bf5f-267e12d696fb"
   },
   "outputs": [
    {
     "name": "stdout",
     "output_type": "stream",
     "text": [
      "train\r\n",
      "/home/jh/Desktop/github/teeth_detection/prob_no_focal_sse_bb/no_focal_sse_conf_sse_bb_no_lip_conf_2/teeth_excluding_lip_more/train\r\n",
      "/home/jh/Desktop/github/teeth_detection/prob_no_focal_sse_bb/no_focal_sse_conf_sse_bb_no_lip_conf_2/teeth_excluding_lip_more/train/30881_2_1.jpg 90,209,448,323,0\r\n",
      "/home/jh/Desktop/github/teeth_detection/prob_no_focal_sse_bb/no_focal_sse_conf_sse_bb_no_lip_conf_2/teeth_excluding_lip_more/train/21005_2_3.jpg 57,189,429,397,0\r\n",
      "/home/jh/Desktop/github/teeth_detection/prob_no_focal_sse_bb/no_focal_sse_conf_sse_bb_no_lip_conf_2/teeth_excluding_lip_more/train/30531_2_3.jpg 64,232,409,350,0\r\n",
      "/home/jh/Desktop/github/teeth_detection/prob_no_focal_sse_bb/no_focal_sse_conf_sse_bb_no_lip_conf_2/teeth_excluding_lip_more/train/28222_2_1.jpg 1,208,352,347,0\r\n",
      "/home/jh/Desktop/github/teeth_detection/prob_no_focal_sse_bb/no_focal_sse_conf_sse_bb_no_lip_conf_2/teeth_excluding_lip_more/train/30376_2_1.jpg 56,206,359,355,0\r\n",
      "/home/jh/Desktop/github/teeth_detection/prob_no_focal_sse_bb/no_focal_sse_conf_sse_bb_no_lip_conf_2/teeth_excluding_lip_more/train/30027_2_1.jpg 28,182,382,362,0\r\n",
      "/home/jh/Desktop/github/teeth_detection/prob_no_focal_sse_bb/no_focal_sse_conf_sse_bb_no_lip_conf_2/teeth_excluding_lip_more/train/5864_2_3.jpg 159,213,448,334,0\r\n",
      "/home/jh/Desktop/github/teeth_detection/prob_no_focal_sse_bb/no_focal_sse_conf_sse_bb_no_lip_conf_2/teeth_excluding_lip_more/train/31826_2_1.jpg 33,232,426,393,0\r\n",
      "/home/jh/Desktop/github/teeth_detection/prob_no_focal_sse_bb/no_focal_sse_conf_sse_bb_no_lip_conf_2/teeth_excluding_lip_more/train/31372_2_1.jpg 101,182,342,280,0\r\n",
      "/home/jh/Desktop/github/teeth_detection/prob_no_focal_sse_bb/no_focal_sse_conf_sse_bb_no_lip_conf_2/teeth_excluding_lip_more/train/30366_2_3.jpg 124,281,435,401,0\r\n",
      "/home/jh/Desktop/github/teeth_detection/prob_no_focal_sse_bb/no_focal_sse_conf_sse_bb_no_lip_conf_2/teeth_excluding_lip_more/train/19777_2_2.jpg 29,232,329,370,0\r\n",
      "/home/jh/Desktop/github/teeth_detection/prob_no_focal_sse_bb/no_focal_sse_conf_sse_bb_no_lip_conf_2/teeth_excluding_lip_more/train/27448_2_3.jpg 72,206,448,408,0\r\n",
      "/home/jh/Desktop/github/teeth_detection/prob_no_focal_sse_bb/no_focal_sse_conf_sse_bb_no_lip_conf_2/teeth_excluding_lip_more/train/9580_2_3.jpg 83,178,448,369,0\r\n",
      "/home/jh/Desktop/github/teeth_detection/prob_no_focal_sse_bb/no_focal_sse_conf_sse_bb_no_lip_conf_2/teeth_excluding_lip_more/train/6220_2_1.jpg 95,146,448,335,0\r\n",
      "/home/jh/Desktop/github/teeth_detection/prob_no_focal_sse_bb/no_focal_sse_conf_sse_bb_no_lip_conf_2/teeth_excluding_lip_more/train/27813_2_1.jpg 65,247,448,390,0\r\n",
      "/home/jh/Desktop/github/teeth_detection/prob_no_focal_sse_bb/no_focal_sse_conf_sse_bb_no_lip_conf_2/teeth_excluding_lip_more/train/9830_2_3.jpg 2,150,448,319,0\r\n",
      "/home/jh/Desktop/github/teeth_detection/prob_no_focal_sse_bb/no_focal_sse_conf_sse_bb_no_lip_conf_2/teeth_excluding_lip_more/train/30073_2_1.jpg 129,185,448,293,0\r\n",
      "/home/jh/Desktop/github/teeth_detection/prob_no_focal_sse_bb/no_focal_sse_conf_sse_bb_no_lip_conf_2/teeth_excluding_lip_more/train/31498_2_1.jpg 103,196,348,292,0\r\n",
      "/home/jh/Desktop/github/teeth_detection/prob_no_focal_sse_bb/no_focal_sse_conf_sse_bb_no_lip_conf_2/teeth_excluding_lip_more/train/8652_2_3.jpg 42,206,448,367,0\r\n",
      "/home/jh/Desktop/github/teeth_detection/prob_no_focal_sse_bb/no_focal_sse_conf_sse_bb_no_lip_conf_2/teeth_excluding_lip_more/train/25534_2_1.jpg 66,240,345,350,0\r\n",
      "/home/jh/Desktop/github/teeth_detection/prob_no_focal_sse_bb/no_focal_sse_conf_sse_bb_no_lip_conf_2/teeth_excluding_lip_more/train/30498_2_1.jpg 92,206,448,401,0\r\n",
      "/home/jh/Desktop/github/teeth_detection/prob_no_focal_sse_bb/no_focal_sse_conf_sse_bb_no_lip_conf_2/teeth_excluding_lip_more/train/30866_2_3.jpg 117,216,426,348,0\r\n",
      "/home/jh/Desktop/github/teeth_detection/prob_no_focal_sse_bb/no_focal_sse_conf_sse_bb_no_lip_conf_2/teeth_excluding_lip_more/train/31342_2_1.jpg 46,187,377,325,0\r\n",
      "/home/jh/Desktop/github/teeth_detection/prob_no_focal_sse_bb/no_focal_sse_conf_sse_bb_no_lip_conf_2/teeth_excluding_lip_more/train/25748_2_3.jpg 108,177,444,327,0\r\n",
      "/home/jh/Desktop/github/teeth_detection/prob_no_focal_sse_bb/no_focal_sse_conf_sse_bb_no_lip_conf_2/teeth_excluding_lip_more/train/7355_2_1.jpg 19,175,361,317,0\r\n",
      "/home/jh/Desktop/github/teeth_detection/prob_no_focal_sse_bb/no_focal_sse_conf_sse_bb_no_lip_conf_2/teeth_excluding_lip_more/train/24472_2_1.jpg 5,175,448,389,0\r\n",
      "/home/jh/Desktop/github/teeth_detection/prob_no_focal_sse_bb/no_focal_sse_conf_sse_bb_no_lip_conf_2/teeth_excluding_lip_more/train/20918_2_1.jpg 134,162,448,280,0\r\n",
      "/home/jh/Desktop/github/teeth_detection/prob_no_focal_sse_bb/no_focal_sse_conf_sse_bb_no_lip_conf_2/teeth_excluding_lip_more/train/1764_2_3.jpg 82,273,416,440,0\r\n",
      "/home/jh/Desktop/github/teeth_detection/prob_no_focal_sse_bb/no_focal_sse_conf_sse_bb_no_lip_conf_2/teeth_excluding_lip_more/train/31293_2_3.jpg 92,204,408,312,0\r\n",
      "/home/jh/Desktop/github/teeth_detection/prob_no_focal_sse_bb/no_focal_sse_conf_sse_bb_no_lip_conf_2/teeth_excluding_lip_more/train/30878_2_1.jpg 174,242,448,386,0\r\n",
      "/home/jh/Desktop/github/teeth_detection/prob_no_focal_sse_bb/no_focal_sse_conf_sse_bb_no_lip_conf_2/teeth_excluding_lip_more/train/31401_2_1.jpg 57,173,360,301,0\r\n",
      "/home/jh/Desktop/github/teeth_detection/prob_no_focal_sse_bb/no_focal_sse_conf_sse_bb_no_lip_conf_2/teeth_excluding_lip_more/train/30824_2_1.jpg 71,168,448,316,0\r\n",
      "/home/jh/Desktop/github/teeth_detection/prob_no_focal_sse_bb/no_focal_sse_conf_sse_bb_no_lip_conf_2/teeth_excluding_lip_more/train/31523_2_1.jpg 69,204,433,334,0\r\n",
      "/home/jh/Desktop/github/teeth_detection/prob_no_focal_sse_bb/no_focal_sse_conf_sse_bb_no_lip_conf_2/teeth_excluding_lip_more/train/23842_2_3.jpg 60,158,395,304,0\r\n",
      "/home/jh/Desktop/github/teeth_detection/prob_no_focal_sse_bb/no_focal_sse_conf_sse_bb_no_lip_conf_2/teeth_excluding_lip_more/train/25235_2_1.jpg 126,216,405,323,0\r\n",
      "/home/jh/Desktop/github/teeth_detection/prob_no_focal_sse_bb/no_focal_sse_conf_sse_bb_no_lip_conf_2/teeth_excluding_lip_more/train/4017_2_3.jpg 98,183,446,388,0\r\n",
      "/home/jh/Desktop/github/teeth_detection/prob_no_focal_sse_bb/no_focal_sse_conf_sse_bb_no_lip_conf_2/teeth_excluding_lip_more/train/27942_2_1.jpg 54,225,415,400,0\r\n",
      "/home/jh/Desktop/github/teeth_detection/prob_no_focal_sse_bb/no_focal_sse_conf_sse_bb_no_lip_conf_2/teeth_excluding_lip_more/train/30083_2_1.jpg 111,241,448,349,0\r\n",
      "/home/jh/Desktop/github/teeth_detection/prob_no_focal_sse_bb/no_focal_sse_conf_sse_bb_no_lip_conf_2/teeth_excluding_lip_more/train/28441_2_1.jpg 20,189,413,334,0\r\n",
      "/home/jh/Desktop/github/teeth_detection/prob_no_focal_sse_bb/no_focal_sse_conf_sse_bb_no_lip_conf_2/teeth_excluding_lip_more/train/19888_2_3.jpg 28,166,448,392,0\r\n",
      "/home/jh/Desktop/github/teeth_detection/prob_no_focal_sse_bb/no_focal_sse_conf_sse_bb_no_lip_conf_2/teeth_excluding_lip_more/train/19583_2_1.jpg 102,234,379,387,0\r\n",
      "/home/jh/Desktop/github/teeth_detection/prob_no_focal_sse_bb/no_focal_sse_conf_sse_bb_no_lip_conf_2/teeth_excluding_lip_more/train/30528_2_3.jpg 103,188,424,364,0\r\n",
      "/home/jh/Desktop/github/teeth_detection/prob_no_focal_sse_bb/no_focal_sse_conf_sse_bb_no_lip_conf_2/teeth_excluding_lip_more/train/29443_2_3.jpg 75,179,418,340,0\r\n",
      "/home/jh/Desktop/github/teeth_detection/prob_no_focal_sse_bb/no_focal_sse_conf_sse_bb_no_lip_conf_2/teeth_excluding_lip_more/train/31118_2_3.jpg 132,165,448,320,0\r\n",
      "/home/jh/Desktop/github/teeth_detection/prob_no_focal_sse_bb/no_focal_sse_conf_sse_bb_no_lip_conf_2/teeth_excluding_lip_more/train/460_2_1.jpg 35,256,327,416,0\r\n",
      "/home/jh/Desktop/github/teeth_detection/prob_no_focal_sse_bb/no_focal_sse_conf_sse_bb_no_lip_conf_2/teeth_excluding_lip_more/train/30842_2_3.jpg 35,209,344,340,0\r\n",
      "/home/jh/Desktop/github/teeth_detection/prob_no_focal_sse_bb/no_focal_sse_conf_sse_bb_no_lip_conf_2/teeth_excluding_lip_more/train/7890_2_1.jpg 1,196,400,384,0\r\n",
      "/home/jh/Desktop/github/teeth_detection/prob_no_focal_sse_bb/no_focal_sse_conf_sse_bb_no_lip_conf_2/teeth_excluding_lip_more/train/23631_2_1.jpg 100,222,448,341,0\r\n",
      "/home/jh/Desktop/github/teeth_detection/prob_no_focal_sse_bb/no_focal_sse_conf_sse_bb_no_lip_conf_2/teeth_excluding_lip_more/train/23321_2_1.jpg 46,169,386,329,0\r\n",
      "/home/jh/Desktop/github/teeth_detection/prob_no_focal_sse_bb/no_focal_sse_conf_sse_bb_no_lip_conf_2/teeth_excluding_lip_more/train/3532_2_1.jpg 141,175,428,328,0\r\n",
      "/home/jh/Desktop/github/teeth_detection/prob_no_focal_sse_bb/no_focal_sse_conf_sse_bb_no_lip_conf_2/teeth_excluding_lip_more/train/7455_2_1.jpg 67,170,337,308,0\r\n",
      "/home/jh/Desktop/github/teeth_detection/prob_no_focal_sse_bb/no_focal_sse_conf_sse_bb_no_lip_conf_2/teeth_excluding_lip_more/train/4409_2_3.jpg 167,230,411,330,0\r\n",
      "/home/jh/Desktop/github/teeth_detection/prob_no_focal_sse_bb/no_focal_sse_conf_sse_bb_no_lip_conf_2/teeth_excluding_lip_more/train/30753_2_1.jpg 81,189,383,307,0\r\n",
      "/home/jh/Desktop/github/teeth_detection/prob_no_focal_sse_bb/no_focal_sse_conf_sse_bb_no_lip_conf_2/teeth_excluding_lip_more/train/27791_2_1.jpg 1,134,385,335,0\r\n",
      "/home/jh/Desktop/github/teeth_detection/prob_no_focal_sse_bb/no_focal_sse_conf_sse_bb_no_lip_conf_2/teeth_excluding_lip_more/train/170_2_1.jpg 105,171,448,407,0\r\n",
      "/home/jh/Desktop/github/teeth_detection/prob_no_focal_sse_bb/no_focal_sse_conf_sse_bb_no_lip_conf_2/teeth_excluding_lip_more/train/4411_2_3.jpg 85,234,377,338,0\r\n",
      "/home/jh/Desktop/github/teeth_detection/prob_no_focal_sse_bb/no_focal_sse_conf_sse_bb_no_lip_conf_2/teeth_excluding_lip_more/train/29771_2_1.jpg 71,154,375,279,0\r\n",
      "/home/jh/Desktop/github/teeth_detection/prob_no_focal_sse_bb/no_focal_sse_conf_sse_bb_no_lip_conf_2/teeth_excluding_lip_more/train/28955_2_1.jpg 146,220,448,362,0\r\n",
      "/home/jh/Desktop/github/teeth_detection/prob_no_focal_sse_bb/no_focal_sse_conf_sse_bb_no_lip_conf_2/teeth_excluding_lip_more/train/26361_2_1.jpg 103,166,426,369,0\r\n",
      "/home/jh/Desktop/github/teeth_detection/prob_no_focal_sse_bb/no_focal_sse_conf_sse_bb_no_lip_conf_2/teeth_excluding_lip_more/train/10002_2_9.jpg 170,169,448,327,0\r\n",
      "/home/jh/Desktop/github/teeth_detection/prob_no_focal_sse_bb/no_focal_sse_conf_sse_bb_no_lip_conf_2/teeth_excluding_lip_more/train/27578_2_1.jpg 53,238,448,416,0\r\n",
      "/home/jh/Desktop/github/teeth_detection/prob_no_focal_sse_bb/no_focal_sse_conf_sse_bb_no_lip_conf_2/teeth_excluding_lip_more/train/31249_2_3.jpg 92,203,420,350,0\r\n",
      "/home/jh/Desktop/github/teeth_detection/prob_no_focal_sse_bb/no_focal_sse_conf_sse_bb_no_lip_conf_2/teeth_excluding_lip_more/train/30152_2_1.jpg 111,240,405,365,0\r\n",
      "/home/jh/Desktop/github/teeth_detection/prob_no_focal_sse_bb/no_focal_sse_conf_sse_bb_no_lip_conf_2/teeth_excluding_lip_more/train/27034_2_3.jpg 81,247,448,403,0\r\n",
      "/home/jh/Desktop/github/teeth_detection/prob_no_focal_sse_bb/no_focal_sse_conf_sse_bb_no_lip_conf_2/teeth_excluding_lip_more/train/29233_2_3.jpg 101,221,374,313,0\r\n",
      "/home/jh/Desktop/github/teeth_detection/prob_no_focal_sse_bb/no_focal_sse_conf_sse_bb_no_lip_conf_2/teeth_excluding_lip_more/train/31156_2_3.jpg 70,213,410,363,0\r\n",
      "/home/jh/Desktop/github/teeth_detection/prob_no_focal_sse_bb/no_focal_sse_conf_sse_bb_no_lip_conf_2/teeth_excluding_lip_more/train/24953_2_3.jpg 64,196,351,325,0\r\n",
      "/home/jh/Desktop/github/teeth_detection/prob_no_focal_sse_bb/no_focal_sse_conf_sse_bb_no_lip_conf_2/teeth_excluding_lip_more/train/21550_2_1.jpg 105,195,448,311,0\r\n",
      "/home/jh/Desktop/github/teeth_detection/prob_no_focal_sse_bb/no_focal_sse_conf_sse_bb_no_lip_conf_2/teeth_excluding_lip_more/train/29863_2_1.jpg 14,195,335,330,0\r\n",
      "/home/jh/Desktop/github/teeth_detection/prob_no_focal_sse_bb/no_focal_sse_conf_sse_bb_no_lip_conf_2/teeth_excluding_lip_more/train/25510_2_3.jpg 79,201,414,395,0\r\n",
      "/home/jh/Desktop/github/teeth_detection/prob_no_focal_sse_bb/no_focal_sse_conf_sse_bb_no_lip_conf_2/teeth_excluding_lip_more/train/30520_2_1.jpg 73,280,405,441,0\r\n",
      "/home/jh/Desktop/github/teeth_detection/prob_no_focal_sse_bb/no_focal_sse_conf_sse_bb_no_lip_conf_2/teeth_excluding_lip_more/train/29956_2_3.jpg 70,214,412,353,0\r\n",
      "/home/jh/Desktop/github/teeth_detection/prob_no_focal_sse_bb/no_focal_sse_conf_sse_bb_no_lip_conf_2/teeth_excluding_lip_more/train/27018_2_3.jpg 120,201,428,375,0\r\n",
      "/home/jh/Desktop/github/teeth_detection/prob_no_focal_sse_bb/no_focal_sse_conf_sse_bb_no_lip_conf_2/teeth_excluding_lip_more/train/30095_2_1.jpg 124,223,448,324,0\r\n",
      "/home/jh/Desktop/github/teeth_detection/prob_no_focal_sse_bb/no_focal_sse_conf_sse_bb_no_lip_conf_2/teeth_excluding_lip_more/train/10145_2_1.jpg 64,113,448,340,0\r\n",
      "/home/jh/Desktop/github/teeth_detection/prob_no_focal_sse_bb/no_focal_sse_conf_sse_bb_no_lip_conf_2/teeth_excluding_lip_more/train/27582_2_1.jpg 60,136,448,401,0\r\n",
      "/home/jh/Desktop/github/teeth_detection/prob_no_focal_sse_bb/no_focal_sse_conf_sse_bb_no_lip_conf_2/teeth_excluding_lip_more/train/29878_2_1.jpg 46,218,379,381,0\r\n",
      "/home/jh/Desktop/github/teeth_detection/prob_no_focal_sse_bb/no_focal_sse_conf_sse_bb_no_lip_conf_2/teeth_excluding_lip_more/train/30387_2_1.jpg 135,230,389,342,0\r\n",
      "/home/jh/Desktop/github/teeth_detection/prob_no_focal_sse_bb/no_focal_sse_conf_sse_bb_no_lip_conf_2/teeth_excluding_lip_more/train/25744_2_3.jpg 106,183,448,333,0\r\n",
      "/home/jh/Desktop/github/teeth_detection/prob_no_focal_sse_bb/no_focal_sse_conf_sse_bb_no_lip_conf_2/teeth_excluding_lip_more/train/29351_2_1.jpg 42,193,392,360,0\r\n",
      "/home/jh/Desktop/github/teeth_detection/prob_no_focal_sse_bb/no_focal_sse_conf_sse_bb_no_lip_conf_2/teeth_excluding_lip_more/train/29495_2_1.jpg 69,224,346,347,0\r\n",
      "/home/jh/Desktop/github/teeth_detection/prob_no_focal_sse_bb/no_focal_sse_conf_sse_bb_no_lip_conf_2/teeth_excluding_lip_more/train/29044_2_1.jpg 59,230,387,350,0\r\n",
      "/home/jh/Desktop/github/teeth_detection/prob_no_focal_sse_bb/no_focal_sse_conf_sse_bb_no_lip_conf_2/teeth_excluding_lip_more/train/25916_2_1.jpg 11,216,366,321,0\r\n",
      "/home/jh/Desktop/github/teeth_detection/prob_no_focal_sse_bb/no_focal_sse_conf_sse_bb_no_lip_conf_2/teeth_excluding_lip_more/train/30099_2_1.jpg 109,184,448,292,0\r\n",
      "/home/jh/Desktop/github/teeth_detection/prob_no_focal_sse_bb/no_focal_sse_conf_sse_bb_no_lip_conf_2/teeth_excluding_lip_more/train/24882_2_1.jpg 64,180,392,359,0\r\n",
      "/home/jh/Desktop/github/teeth_detection/prob_no_focal_sse_bb/no_focal_sse_conf_sse_bb_no_lip_conf_2/teeth_excluding_lip_more/train/21287_2_1.jpg 119,190,448,325,0\r\n",
      "/home/jh/Desktop/github/teeth_detection/prob_no_focal_sse_bb/no_focal_sse_conf_sse_bb_no_lip_conf_2/teeth_excluding_lip_more/train/29917_2_1.jpg 69,194,404,339,0\r\n",
      "/home/jh/Desktop/github/teeth_detection/prob_no_focal_sse_bb/no_focal_sse_conf_sse_bb_no_lip_conf_2/teeth_excluding_lip_more/train/31633_2_3.jpg 74,219,437,371,0\r\n",
      "/home/jh/Desktop/github/teeth_detection/prob_no_focal_sse_bb/no_focal_sse_conf_sse_bb_no_lip_conf_2/teeth_excluding_lip_more/train/1744_2_1.jpg 37,143,424,318,0\r\n",
      "/home/jh/Desktop/github/teeth_detection/prob_no_focal_sse_bb/no_focal_sse_conf_sse_bb_no_lip_conf_2/teeth_excluding_lip_more/train/28198_2_1.jpg 152,213,448,398,0\r\n",
      "/home/jh/Desktop/github/teeth_detection/prob_no_focal_sse_bb/no_focal_sse_conf_sse_bb_no_lip_conf_2/teeth_excluding_lip_more/train/145_2_2.jpg 13,179,436,418,0\r\n",
      "/home/jh/Desktop/github/teeth_detection/prob_no_focal_sse_bb/no_focal_sse_conf_sse_bb_no_lip_conf_2/teeth_excluding_lip_more/train/27532_2_3.jpg 61,180,387,398,0\r\n",
      "/home/jh/Desktop/github/teeth_detection/prob_no_focal_sse_bb/no_focal_sse_conf_sse_bb_no_lip_conf_2/teeth_excluding_lip_more/train/5062_2_3.jpg 77,220,448,415,0\r\n",
      "/home/jh/Desktop/github/teeth_detection/prob_no_focal_sse_bb/no_focal_sse_conf_sse_bb_no_lip_conf_2/teeth_excluding_lip_more/train/28506_2_1.jpg 74,245,360,372,0\r\n",
      "/home/jh/Desktop/github/teeth_detection/prob_no_focal_sse_bb/no_focal_sse_conf_sse_bb_no_lip_conf_2/teeth_excluding_lip_more/train/26073_2_1.jpg 98,234,380,334,0\r\n",
      "/home/jh/Desktop/github/teeth_detection/prob_no_focal_sse_bb/no_focal_sse_conf_sse_bb_no_lip_conf_2/teeth_excluding_lip_more/train/24491_2_3.jpg 40,154,388,399,0\r\n",
      "/home/jh/Desktop/github/teeth_detection/prob_no_focal_sse_bb/no_focal_sse_conf_sse_bb_no_lip_conf_2/teeth_excluding_lip_more/train/31783_2_3.jpg 100,211,392,346,0\r\n",
      "/home/jh/Desktop/github/teeth_detection/prob_no_focal_sse_bb/no_focal_sse_conf_sse_bb_no_lip_conf_2/teeth_excluding_lip_more/train/30206_2_2.jpg 127,231,435,349,0\r\n",
      "/home/jh/Desktop/github/teeth_detection/prob_no_focal_sse_bb/no_focal_sse_conf_sse_bb_no_lip_conf_2/teeth_excluding_lip_more/train/25208_2_1.jpg 83,217,370,343,0\r\n",
      "/home/jh/Desktop/github/teeth_detection/prob_no_focal_sse_bb/no_focal_sse_conf_sse_bb_no_lip_conf_2/teeth_excluding_lip_more/train/27017_2_3.jpg 87,221,379,345,0\r\n",
      "/home/jh/Desktop/github/teeth_detection/prob_no_focal_sse_bb/no_focal_sse_conf_sse_bb_no_lip_conf_2/teeth_excluding_lip_more/train/30589_2_1.jpg 151,239,429,360,0\r\n",
      "/home/jh/Desktop/github/teeth_detection/prob_no_focal_sse_bb/no_focal_sse_conf_sse_bb_no_lip_conf_2/teeth_excluding_lip_more/train/26002_2_1.jpg 98,235,340,346,0\r\n",
      "/home/jh/Desktop/github/teeth_detection/prob_no_focal_sse_bb/no_focal_sse_conf_sse_bb_no_lip_conf_2/teeth_excluding_lip_more/train/30370_2_3.jpg 144,189,448,348,0\r\n",
      "/home/jh/Desktop/github/teeth_detection/prob_no_focal_sse_bb/no_focal_sse_conf_sse_bb_no_lip_conf_2/teeth_excluding_lip_more/train/7331_2_1.jpg 29,156,327,269,0\r\n",
      "/home/jh/Desktop/github/teeth_detection/prob_no_focal_sse_bb/no_focal_sse_conf_sse_bb_no_lip_conf_2/teeth_excluding_lip_more/train/6486_2_1.jpg 86,195,406,330,0\r\n",
      "/home/jh/Desktop/github/teeth_detection/prob_no_focal_sse_bb/no_focal_sse_conf_sse_bb_no_lip_conf_2/teeth_excluding_lip_more/train/28632_2_1.jpg 38,238,435,401,0\r\n",
      "/home/jh/Desktop/github/teeth_detection/prob_no_focal_sse_bb/no_focal_sse_conf_sse_bb_no_lip_conf_2/teeth_excluding_lip_more/train/28514_2_1.jpg 137,232,427,354,0\r\n",
      "/home/jh/Desktop/github/teeth_detection/prob_no_focal_sse_bb/no_focal_sse_conf_sse_bb_no_lip_conf_2/teeth_excluding_lip_more/train/8909_2_3.jpg 61,201,426,408,0\r\n",
      "/home/jh/Desktop/github/teeth_detection/prob_no_focal_sse_bb/no_focal_sse_conf_sse_bb_no_lip_conf_2/teeth_excluding_lip_more/train/25556_2_3.jpg 153,258,405,431,0\r\n",
      "/home/jh/Desktop/github/teeth_detection/prob_no_focal_sse_bb/no_focal_sse_conf_sse_bb_no_lip_conf_2/teeth_excluding_lip_more/train/28567_2_1.jpg 70,195,448,349,0\r\n",
      "/home/jh/Desktop/github/teeth_detection/prob_no_focal_sse_bb/no_focal_sse_conf_sse_bb_no_lip_conf_2/teeth_excluding_lip_more/train/30089_2_1.jpg 91,207,448,329,0\r\n",
      "/home/jh/Desktop/github/teeth_detection/prob_no_focal_sse_bb/no_focal_sse_conf_sse_bb_no_lip_conf_2/teeth_excluding_lip_more/train/20131_2_1.jpg 12,172,433,346,0\r\n",
      "/home/jh/Desktop/github/teeth_detection/prob_no_focal_sse_bb/no_focal_sse_conf_sse_bb_no_lip_conf_2/teeth_excluding_lip_more/train/20538_2_3.jpg 43,201,405,347,0\r\n",
      "/home/jh/Desktop/github/teeth_detection/prob_no_focal_sse_bb/no_focal_sse_conf_sse_bb_no_lip_conf_2/teeth_excluding_lip_more/train/25438_2_3.jpg 153,217,448,368,0\r\n",
      "/home/jh/Desktop/github/teeth_detection/prob_no_focal_sse_bb/no_focal_sse_conf_sse_bb_no_lip_conf_2/teeth_excluding_lip_more/train/31594_2_1.jpg 164,143,446,272,0\r\n",
      "/home/jh/Desktop/github/teeth_detection/prob_no_focal_sse_bb/no_focal_sse_conf_sse_bb_no_lip_conf_2/teeth_excluding_lip_more/train/1421_2_1.jpg 136,191,448,399,0\r\n",
      "/home/jh/Desktop/github/teeth_detection/prob_no_focal_sse_bb/no_focal_sse_conf_sse_bb_no_lip_conf_2/teeth_excluding_lip_more/train/29923_2_1.jpg 157,224,448,341,0\r\n",
      "/home/jh/Desktop/github/teeth_detection/prob_no_focal_sse_bb/no_focal_sse_conf_sse_bb_no_lip_conf_2/teeth_excluding_lip_more/train/28795_2_3.jpg 69,181,350,328,0\r\n",
      "/home/jh/Desktop/github/teeth_detection/prob_no_focal_sse_bb/no_focal_sse_conf_sse_bb_no_lip_conf_2/teeth_excluding_lip_more/train/1153_2_1.jpg 10,195,352,318,0\r\n",
      "/home/jh/Desktop/github/teeth_detection/prob_no_focal_sse_bb/no_focal_sse_conf_sse_bb_no_lip_conf_2/teeth_excluding_lip_more/train/30942_2_1.jpg 94,187,359,310,0\r\n",
      "/home/jh/Desktop/github/teeth_detection/prob_no_focal_sse_bb/no_focal_sse_conf_sse_bb_no_lip_conf_2/teeth_excluding_lip_more/train/6748_2_3.jpg 116,276,448,378,0\r\n",
      "/home/jh/Desktop/github/teeth_detection/prob_no_focal_sse_bb/no_focal_sse_conf_sse_bb_no_lip_conf_2/teeth_excluding_lip_more/train/23629_2_1.jpg 57,197,360,332,0\r\n",
      "/home/jh/Desktop/github/teeth_detection/prob_no_focal_sse_bb/no_focal_sse_conf_sse_bb_no_lip_conf_2/teeth_excluding_lip_more/train/205_2_1.jpg 129,252,422,346,0\r\n",
      "/home/jh/Desktop/github/teeth_detection/prob_no_focal_sse_bb/no_focal_sse_conf_sse_bb_no_lip_conf_2/teeth_excluding_lip_more/train/28524_2_1.jpg 101,195,415,312,0\r\n",
      "/home/jh/Desktop/github/teeth_detection/prob_no_focal_sse_bb/no_focal_sse_conf_sse_bb_no_lip_conf_2/teeth_excluding_lip_more/train/25682_2_1.jpg 51,198,390,342,0\r\n",
      "/home/jh/Desktop/github/teeth_detection/prob_no_focal_sse_bb/no_focal_sse_conf_sse_bb_no_lip_conf_2/teeth_excluding_lip_more/train/4702_2_1.jpg 11,243,404,384,0\r\n",
      "/home/jh/Desktop/github/teeth_detection/prob_no_focal_sse_bb/no_focal_sse_conf_sse_bb_no_lip_conf_2/teeth_excluding_lip_more/train/10338_2_1.jpg 88,164,448,297,0\r\n",
      "/home/jh/Desktop/github/teeth_detection/prob_no_focal_sse_bb/no_focal_sse_conf_sse_bb_no_lip_conf_2/teeth_excluding_lip_more/train/24921_2_3.jpg 104,243,448,363,0\r\n",
      "/home/jh/Desktop/github/teeth_detection/prob_no_focal_sse_bb/no_focal_sse_conf_sse_bb_no_lip_conf_2/teeth_excluding_lip_more/train/8876_2_3.jpg 104,194,448,367,0\r\n",
      "/home/jh/Desktop/github/teeth_detection/prob_no_focal_sse_bb/no_focal_sse_conf_sse_bb_no_lip_conf_2/teeth_excluding_lip_more/train/3533_2_1.jpg 25,204,370,348,0\r\n",
      "/home/jh/Desktop/github/teeth_detection/prob_no_focal_sse_bb/no_focal_sse_conf_sse_bb_no_lip_conf_2/teeth_excluding_lip_more/train/9064_2_3.jpg 46,197,448,379,0\r\n",
      "/home/jh/Desktop/github/teeth_detection/prob_no_focal_sse_bb/no_focal_sse_conf_sse_bb_no_lip_conf_2/teeth_excluding_lip_more/train/25490_2_3.jpg 103,238,433,386,0\r\n",
      "/home/jh/Desktop/github/teeth_detection/prob_no_focal_sse_bb/no_focal_sse_conf_sse_bb_no_lip_conf_2/teeth_excluding_lip_more/train/29389_2_3.jpg 122,189,436,339,0\r\n",
      "/home/jh/Desktop/github/teeth_detection/prob_no_focal_sse_bb/no_focal_sse_conf_sse_bb_no_lip_conf_2/teeth_excluding_lip_more/train/30327_2_1.jpg 62,224,448,344,0\r\n",
      "/home/jh/Desktop/github/teeth_detection/prob_no_focal_sse_bb/no_focal_sse_conf_sse_bb_no_lip_conf_2/teeth_excluding_lip_more/train/30227_2_1.jpg 88,208,448,372,0\r\n",
      "/home/jh/Desktop/github/teeth_detection/prob_no_focal_sse_bb/no_focal_sse_conf_sse_bb_no_lip_conf_2/teeth_excluding_lip_more/train/25284_2_3.jpg 92,204,391,334,0\r\n",
      "/home/jh/Desktop/github/teeth_detection/prob_no_focal_sse_bb/no_focal_sse_conf_sse_bb_no_lip_conf_2/teeth_excluding_lip_more/train/29876_2_1.jpg 69,197,399,329,0\r\n",
      "/home/jh/Desktop/github/teeth_detection/prob_no_focal_sse_bb/no_focal_sse_conf_sse_bb_no_lip_conf_2/teeth_excluding_lip_more/train/31126_2_1.jpg 117,160,448,299,0\r\n",
      "/home/jh/Desktop/github/teeth_detection/prob_no_focal_sse_bb/no_focal_sse_conf_sse_bb_no_lip_conf_2/teeth_excluding_lip_more/train/1703_2_1.jpg 120,249,448,375,0\r\n",
      "/home/jh/Desktop/github/teeth_detection/prob_no_focal_sse_bb/no_focal_sse_conf_sse_bb_no_lip_conf_2/teeth_excluding_lip_more/train/27440_2_1.jpg 28,255,385,364,0\r\n",
      "/home/jh/Desktop/github/teeth_detection/prob_no_focal_sse_bb/no_focal_sse_conf_sse_bb_no_lip_conf_2/teeth_excluding_lip_more/train/709_2_1.jpg 91,155,428,393,0\r\n",
      "/home/jh/Desktop/github/teeth_detection/prob_no_focal_sse_bb/no_focal_sse_conf_sse_bb_no_lip_conf_2/teeth_excluding_lip_more/train/28222_2_3.jpg 91,255,437,428,0\r\n",
      "/home/jh/Desktop/github/teeth_detection/prob_no_focal_sse_bb/no_focal_sse_conf_sse_bb_no_lip_conf_2/teeth_excluding_lip_more/train/2206_2_3.jpg 67,153,448,347,0\r\n",
      "/home/jh/Desktop/github/teeth_detection/prob_no_focal_sse_bb/no_focal_sse_conf_sse_bb_no_lip_conf_2/teeth_excluding_lip_more/train/10353_2_7.jpg 124,156,448,379,0\r\n",
      "/home/jh/Desktop/github/teeth_detection/prob_no_focal_sse_bb/no_focal_sse_conf_sse_bb_no_lip_conf_2/teeth_excluding_lip_more/train/30274_2_12.jpg 65,214,447,365,0\r\n",
      "/home/jh/Desktop/github/teeth_detection/prob_no_focal_sse_bb/no_focal_sse_conf_sse_bb_no_lip_conf_2/teeth_excluding_lip_more/train/29499_2_1.jpg 36,219,320,356,0\r\n",
      "/home/jh/Desktop/github/teeth_detection/prob_no_focal_sse_bb/no_focal_sse_conf_sse_bb_no_lip_conf_2/teeth_excluding_lip_more/train/27420_2_1.jpg 40,150,396,307,0\r\n",
      "/home/jh/Desktop/github/teeth_detection/prob_no_focal_sse_bb/no_focal_sse_conf_sse_bb_no_lip_conf_2/teeth_excluding_lip_more/train/30388_2_1.jpg 74,203,345,323,0\r\n",
      "/home/jh/Desktop/github/teeth_detection/prob_no_focal_sse_bb/no_focal_sse_conf_sse_bb_no_lip_conf_2/teeth_excluding_lip_more/train/6750_2_3.jpg 50,199,448,356,0\r\n",
      "/home/jh/Desktop/github/teeth_detection/prob_no_focal_sse_bb/no_focal_sse_conf_sse_bb_no_lip_conf_2/teeth_excluding_lip_more/train/20992_2_3.jpg 188,190,448,291,0\r\n",
      "/home/jh/Desktop/github/teeth_detection/prob_no_focal_sse_bb/no_focal_sse_conf_sse_bb_no_lip_conf_2/teeth_excluding_lip_more/train/27163_2_1.jpg 84,219,390,360,0\r\n",
      "/home/jh/Desktop/github/teeth_detection/prob_no_focal_sse_bb/no_focal_sse_conf_sse_bb_no_lip_conf_2/teeth_excluding_lip_more/train/26841_2_1.jpg 83,258,405,395,0\r\n",
      "/home/jh/Desktop/github/teeth_detection/prob_no_focal_sse_bb/no_focal_sse_conf_sse_bb_no_lip_conf_2/teeth_excluding_lip_more/train/25042_2_1.jpg 31,230,421,425,0\r\n",
      "/home/jh/Desktop/github/teeth_detection/prob_no_focal_sse_bb/no_focal_sse_conf_sse_bb_no_lip_conf_2/teeth_excluding_lip_more/train/26833_2_3.jpg 72,171,412,319,0\r\n",
      "/home/jh/Desktop/github/teeth_detection/prob_no_focal_sse_bb/no_focal_sse_conf_sse_bb_no_lip_conf_2/teeth_excluding_lip_more/train/30088_2_1.jpg 83,171,448,324,0\r\n",
      "/home/jh/Desktop/github/teeth_detection/prob_no_focal_sse_bb/no_focal_sse_conf_sse_bb_no_lip_conf_2/teeth_excluding_lip_more/train/30086_2_1.jpg 119,231,448,338,0\r\n",
      "/home/jh/Desktop/github/teeth_detection/prob_no_focal_sse_bb/no_focal_sse_conf_sse_bb_no_lip_conf_2/teeth_excluding_lip_more/train/6210_2_3.jpg 198,287,448,429,0\r\n",
      "/home/jh/Desktop/github/teeth_detection/prob_no_focal_sse_bb/no_focal_sse_conf_sse_bb_no_lip_conf_2/teeth_excluding_lip_more/train/23996_2_3.jpg 6,222,437,367,0\r\n",
      "/home/jh/Desktop/github/teeth_detection/prob_no_focal_sse_bb/no_focal_sse_conf_sse_bb_no_lip_conf_2/teeth_excluding_lip_more/train/25682_2_3.jpg 61,184,414,393,0\r\n",
      "/home/jh/Desktop/github/teeth_detection/prob_no_focal_sse_bb/no_focal_sse_conf_sse_bb_no_lip_conf_2/teeth_excluding_lip_more/train/29163_2_1.jpg 59,175,411,324,0\r\n",
      "/home/jh/Desktop/github/teeth_detection/prob_no_focal_sse_bb/no_focal_sse_conf_sse_bb_no_lip_conf_2/teeth_excluding_lip_more/train/31097_2_1.jpg 74,238,336,352,0\r\n",
      "/home/jh/Desktop/github/teeth_detection/prob_no_focal_sse_bb/no_focal_sse_conf_sse_bb_no_lip_conf_2/teeth_excluding_lip_more/train/26040_2_3.jpg 65,200,256,337,0\r\n",
      "/home/jh/Desktop/github/teeth_detection/prob_no_focal_sse_bb/no_focal_sse_conf_sse_bb_no_lip_conf_2/teeth_excluding_lip_more/train/29539_2_1.jpg 52,219,371,329,0\r\n",
      "/home/jh/Desktop/github/teeth_detection/prob_no_focal_sse_bb/no_focal_sse_conf_sse_bb_no_lip_conf_2/teeth_excluding_lip_more/train/30109_2_1.jpg 137,210,412,286,0\r\n",
      "/home/jh/Desktop/github/teeth_detection/prob_no_focal_sse_bb/no_focal_sse_conf_sse_bb_no_lip_conf_2/teeth_excluding_lip_more/train/2533_2_1.jpg 48,221,357,347,0\r\n",
      "/home/jh/Desktop/github/teeth_detection/prob_no_focal_sse_bb/no_focal_sse_conf_sse_bb_no_lip_conf_2/teeth_excluding_lip_more/train/30108_2_1.jpg 97,153,448,325,0\r\n",
      "/home/jh/Desktop/github/teeth_detection/prob_no_focal_sse_bb/no_focal_sse_conf_sse_bb_no_lip_conf_2/teeth_excluding_lip_more/train/1616_2_1.jpg 93,195,437,413,0\r\n",
      "/home/jh/Desktop/github/teeth_detection/prob_no_focal_sse_bb/no_focal_sse_conf_sse_bb_no_lip_conf_2/teeth_excluding_lip_more/train/29957_2_3.jpg 111,227,448,375,0\r\n",
      "/home/jh/Desktop/github/teeth_detection/prob_no_focal_sse_bb/no_focal_sse_conf_sse_bb_no_lip_conf_2/teeth_excluding_lip_more/train/20445_2_1.jpg 106,229,406,355,0\r\n",
      "/home/jh/Desktop/github/teeth_detection/prob_no_focal_sse_bb/no_focal_sse_conf_sse_bb_no_lip_conf_2/teeth_excluding_lip_more/train/30912_2_1.jpg 146,149,448,275,0\r\n",
      "/home/jh/Desktop/github/teeth_detection/prob_no_focal_sse_bb/no_focal_sse_conf_sse_bb_no_lip_conf_2/teeth_excluding_lip_more/train/31646_2_1.jpg 105,248,417,380,0\r\n",
      "/home/jh/Desktop/github/teeth_detection/prob_no_focal_sse_bb/no_focal_sse_conf_sse_bb_no_lip_conf_2/teeth_excluding_lip_more/train/28263_2_1.jpg 79,215,346,356,0\r\n",
      "/home/jh/Desktop/github/teeth_detection/prob_no_focal_sse_bb/no_focal_sse_conf_sse_bb_no_lip_conf_2/teeth_excluding_lip_more/train/3530_2_1.jpg 99,204,414,308,0\r\n",
      "/home/jh/Desktop/github/teeth_detection/prob_no_focal_sse_bb/no_focal_sse_conf_sse_bb_no_lip_conf_2/teeth_excluding_lip_more/train/1471_2_3.jpg 154,258,448,401,0\r\n",
      "/home/jh/Desktop/github/teeth_detection/prob_no_focal_sse_bb/no_focal_sse_conf_sse_bb_no_lip_conf_2/teeth_excluding_lip_more/train/27717_2_3.jpg 98,215,422,383,0\r\n",
      "/home/jh/Desktop/github/teeth_detection/prob_no_focal_sse_bb/no_focal_sse_conf_sse_bb_no_lip_conf_2/teeth_excluding_lip_more/train/28819_2_1.jpg 58,199,415,323,0\r\n",
      "/home/jh/Desktop/github/teeth_detection/prob_no_focal_sse_bb/no_focal_sse_conf_sse_bb_no_lip_conf_2/teeth_excluding_lip_more/train/24556_2_1.jpg 63,161,448,359,0\r\n",
      "/home/jh/Desktop/github/teeth_detection/prob_no_focal_sse_bb/no_focal_sse_conf_sse_bb_no_lip_conf_2/teeth_excluding_lip_more/train/30142_2_1.jpg 55,206,448,319,0\r\n",
      "/home/jh/Desktop/github/teeth_detection/prob_no_focal_sse_bb/no_focal_sse_conf_sse_bb_no_lip_conf_2/teeth_excluding_lip_more/train/30263_2_1.jpg 85,121,448,278,0\r\n",
      "/home/jh/Desktop/github/teeth_detection/prob_no_focal_sse_bb/no_focal_sse_conf_sse_bb_no_lip_conf_2/teeth_excluding_lip_more/train/20554_2_3.jpg 54,193,448,363,0\r\n",
      "/home/jh/Desktop/github/teeth_detection/prob_no_focal_sse_bb/no_focal_sse_conf_sse_bb_no_lip_conf_2/teeth_excluding_lip_more/train/29502_2_1.jpg 1,188,314,309,0\r\n",
      "/home/jh/Desktop/github/teeth_detection/prob_no_focal_sse_bb/no_focal_sse_conf_sse_bb_no_lip_conf_2/teeth_excluding_lip_more/train/29773_2_1.jpg 108,221,448,353,0\r\n",
      "/home/jh/Desktop/github/teeth_detection/prob_no_focal_sse_bb/no_focal_sse_conf_sse_bb_no_lip_conf_2/teeth_excluding_lip_more/train/29100_2_1.jpg 57,182,448,396,0\r\n",
      "/home/jh/Desktop/github/teeth_detection/prob_no_focal_sse_bb/no_focal_sse_conf_sse_bb_no_lip_conf_2/teeth_excluding_lip_more/train/27122_2_3.jpg 131,198,448,344,0\r\n",
      "/home/jh/Desktop/github/teeth_detection/prob_no_focal_sse_bb/no_focal_sse_conf_sse_bb_no_lip_conf_2/teeth_excluding_lip_more/train/30101_2_1.jpg 139,162,448,247,0\r\n",
      "/home/jh/Desktop/github/teeth_detection/prob_no_focal_sse_bb/no_focal_sse_conf_sse_bb_no_lip_conf_2/teeth_excluding_lip_more/train/31343_2_1.jpg 70,175,370,310,0\r\n",
      "/home/jh/Desktop/github/teeth_detection/prob_no_focal_sse_bb/no_focal_sse_conf_sse_bb_no_lip_conf_2/teeth_excluding_lip_more/train/20221_2_1.jpg 54,180,448,348,0\r\n",
      "/home/jh/Desktop/github/teeth_detection/prob_no_focal_sse_bb/no_focal_sse_conf_sse_bb_no_lip_conf_2/teeth_excluding_lip_more/train/26423_2_1.jpg 81,221,401,377,0\r\n",
      "/home/jh/Desktop/github/teeth_detection/prob_no_focal_sse_bb/no_focal_sse_conf_sse_bb_no_lip_conf_2/teeth_excluding_lip_more/train/30816_2_1.jpg 27,200,403,343,0\r\n",
      "/home/jh/Desktop/github/teeth_detection/prob_no_focal_sse_bb/no_focal_sse_conf_sse_bb_no_lip_conf_2/teeth_excluding_lip_more/train/10336_2_1.jpg 43,116,448,341,0\r\n",
      "/home/jh/Desktop/github/teeth_detection/prob_no_focal_sse_bb/no_focal_sse_conf_sse_bb_no_lip_conf_2/teeth_excluding_lip_more/train/30348_2_1.jpg 68,149,448,293,0\r\n",
      "/home/jh/Desktop/github/teeth_detection/prob_no_focal_sse_bb/no_focal_sse_conf_sse_bb_no_lip_conf_2/teeth_excluding_lip_more/train/27894_2_3.jpg 96,234,379,347,0\r\n",
      "/home/jh/Desktop/github/teeth_detection/prob_no_focal_sse_bb/no_focal_sse_conf_sse_bb_no_lip_conf_2/teeth_excluding_lip_more/train/28796_2_3.jpg 111,214,448,324,0\r\n",
      "/home/jh/Desktop/github/teeth_detection/prob_no_focal_sse_bb/no_focal_sse_conf_sse_bb_no_lip_conf_2/teeth_excluding_lip_more/train/8710_2_3.jpg 52,154,382,300,0\r\n",
      "/home/jh/Desktop/github/teeth_detection/prob_no_focal_sse_bb/no_focal_sse_conf_sse_bb_no_lip_conf_2/teeth_excluding_lip_more/train/164_2_1.jpg 112,156,448,392,0\r\n",
      "/home/jh/Desktop/github/teeth_detection/prob_no_focal_sse_bb/no_focal_sse_conf_sse_bb_no_lip_conf_2/teeth_excluding_lip_more/train/28508_2_1.jpg 97,258,384,362,0\r\n",
      "/home/jh/Desktop/github/teeth_detection/prob_no_focal_sse_bb/no_focal_sse_conf_sse_bb_no_lip_conf_2/teeth_excluding_lip_more/train/27645_2_3.jpg 61,171,447,322,0\r\n",
      "/home/jh/Desktop/github/teeth_detection/prob_no_focal_sse_bb/no_focal_sse_conf_sse_bb_no_lip_conf_2/teeth_excluding_lip_more/train/29875_2_1.jpg 87,243,364,327,0\r\n",
      "/home/jh/Desktop/github/teeth_detection/prob_no_focal_sse_bb/no_focal_sse_conf_sse_bb_no_lip_conf_2/teeth_excluding_lip_more/train/23997_2_3.jpg 20,170,403,330,0\r\n",
      "/home/jh/Desktop/github/teeth_detection/prob_no_focal_sse_bb/no_focal_sse_conf_sse_bb_no_lip_conf_2/teeth_excluding_lip_more/train/25109_2_1.jpg 79,221,421,406,0\r\n",
      "/home/jh/Desktop/github/teeth_detection/prob_no_focal_sse_bb/no_focal_sse_conf_sse_bb_no_lip_conf_2/teeth_excluding_lip_more/train/8667_2_1.jpg 44,177,444,323,0\r\n",
      "/home/jh/Desktop/github/teeth_detection/prob_no_focal_sse_bb/no_focal_sse_conf_sse_bb_no_lip_conf_2/teeth_excluding_lip_more/train/167_2_1.jpg 115,158,448,315,0\r\n",
      "/home/jh/Desktop/github/teeth_detection/prob_no_focal_sse_bb/no_focal_sse_conf_sse_bb_no_lip_conf_2/teeth_excluding_lip_more/train/173_2_1.jpg 57,107,381,235,0\r\n",
      "/home/jh/Desktop/github/teeth_detection/prob_no_focal_sse_bb/no_focal_sse_conf_sse_bb_no_lip_conf_2/teeth_excluding_lip_more/train/5391_2_1.jpg 136,253,448,377,0\r\n",
      "/home/jh/Desktop/github/teeth_detection/prob_no_focal_sse_bb/no_focal_sse_conf_sse_bb_no_lip_conf_2/teeth_excluding_lip_more/train/20221_2_2.jpg 34,186,425,399,0\r\n",
      "/home/jh/Desktop/github/teeth_detection/prob_no_focal_sse_bb/no_focal_sse_conf_sse_bb_no_lip_conf_2/teeth_excluding_lip_more/train/8641_2_3.jpg 124,185,390,322,0\r\n",
      "/home/jh/Desktop/github/teeth_detection/prob_no_focal_sse_bb/no_focal_sse_conf_sse_bb_no_lip_conf_2/teeth_excluding_lip_more/train/29877_2_1.jpg 53,293,408,430,0\r\n",
      "/home/jh/Desktop/github/teeth_detection/prob_no_focal_sse_bb/no_focal_sse_conf_sse_bb_no_lip_conf_2/teeth_excluding_lip_more/train/29908_2_1.jpg 1,153,356,347,0\r\n",
      "/home/jh/Desktop/github/teeth_detection/prob_no_focal_sse_bb/no_focal_sse_conf_sse_bb_no_lip_conf_2/teeth_excluding_lip_more/train/31770_2_1.jpg 75,210,378,314,0\r\n",
      "/home/jh/Desktop/github/teeth_detection/prob_no_focal_sse_bb/no_focal_sse_conf_sse_bb_no_lip_conf_2/teeth_excluding_lip_more/train/25987_2_3.jpg 46,219,448,422,0\r\n",
      "/home/jh/Desktop/github/teeth_detection/prob_no_focal_sse_bb/no_focal_sse_conf_sse_bb_no_lip_conf_2/teeth_excluding_lip_more/train/1576_2_1.jpg 49,234,448,448,0\r\n",
      "/home/jh/Desktop/github/teeth_detection/prob_no_focal_sse_bb/no_focal_sse_conf_sse_bb_no_lip_conf_2/teeth_excluding_lip_more/train/143_2_2.jpg 17,183,448,448,0\r\n",
      "/home/jh/Desktop/github/teeth_detection/prob_no_focal_sse_bb/no_focal_sse_conf_sse_bb_no_lip_conf_2/teeth_excluding_lip_more/train/24074_2_1.jpg 73,219,387,324,0\r\n",
      "/home/jh/Desktop/github/teeth_detection/prob_no_focal_sse_bb/no_focal_sse_conf_sse_bb_no_lip_conf_2/teeth_excluding_lip_more/train/30028_2_1.jpg 165,207,440,367,0\r\n",
      "/home/jh/Desktop/github/teeth_detection/prob_no_focal_sse_bb/no_focal_sse_conf_sse_bb_no_lip_conf_2/teeth_excluding_lip_more/train/20743_2_3.jpg 33,155,349,299,0\r\n",
      "/home/jh/Desktop/github/teeth_detection/prob_no_focal_sse_bb/no_focal_sse_conf_sse_bb_no_lip_conf_2/teeth_excluding_lip_more/train/19879_2_1.jpg 134,231,448,376,0\r\n",
      "/home/jh/Desktop/github/teeth_detection/prob_no_focal_sse_bb/no_focal_sse_conf_sse_bb_no_lip_conf_2/teeth_excluding_lip_more/train/25315_2_3.jpg 119,227,441,363,0\r\n",
      "/home/jh/Desktop/github/teeth_detection/prob_no_focal_sse_bb/no_focal_sse_conf_sse_bb_no_lip_conf_2/teeth_excluding_lip_more/train/20638_2_1.jpg 36,125,448,408,0\r\n",
      "/home/jh/Desktop/github/teeth_detection/prob_no_focal_sse_bb/no_focal_sse_conf_sse_bb_no_lip_conf_2/teeth_excluding_lip_more/train/29232_2_3.jpg 123,201,444,319,0\r\n",
      "/home/jh/Desktop/github/teeth_detection/prob_no_focal_sse_bb/no_focal_sse_conf_sse_bb_no_lip_conf_2/teeth_excluding_lip_more/train/29503_2_1.jpg 107,190,430,291,0\r\n",
      "/home/jh/Desktop/github/teeth_detection/prob_no_focal_sse_bb/no_focal_sse_conf_sse_bb_no_lip_conf_2/teeth_excluding_lip_more/train/29562_2_3.jpg 16,166,414,314,0\r\n",
      "/home/jh/Desktop/github/teeth_detection/prob_no_focal_sse_bb/no_focal_sse_conf_sse_bb_no_lip_conf_2/teeth_excluding_lip_more/train/25278_2_3.jpg 109,234,424,361,0\r\n",
      "/home/jh/Desktop/github/teeth_detection/prob_no_focal_sse_bb/no_focal_sse_conf_sse_bb_no_lip_conf_2/teeth_excluding_lip_more/train/27446_2_1.jpg 85,241,437,364,0\r\n",
      "/home/jh/Desktop/github/teeth_detection/prob_no_focal_sse_bb/no_focal_sse_conf_sse_bb_no_lip_conf_2/teeth_excluding_lip_more/train/25579_2_1.jpg 103,203,422,334,0\r\n",
      "/home/jh/Desktop/github/teeth_detection/prob_no_focal_sse_bb/no_focal_sse_conf_sse_bb_no_lip_conf_2/teeth_excluding_lip_more/train/26141_2_1.jpg 122,238,426,362,0\r\n",
      "/home/jh/Desktop/github/teeth_detection/prob_no_focal_sse_bb/no_focal_sse_conf_sse_bb_no_lip_conf_2/teeth_excluding_lip_more/train/31352_2_1.jpg 98,182,328,280,0\r\n",
      "/home/jh/Desktop/github/teeth_detection/prob_no_focal_sse_bb/no_focal_sse_conf_sse_bb_no_lip_conf_2/teeth_excluding_lip_more/train/169_2_1.jpg 125,120,448,359,0\r\n",
      "/home/jh/Desktop/github/teeth_detection/prob_no_focal_sse_bb/no_focal_sse_conf_sse_bb_no_lip_conf_2/teeth_excluding_lip_more/train/25566_2_1.jpg 70,231,357,430,0\r\n",
      "/home/jh/Desktop/github/teeth_detection/prob_no_focal_sse_bb/no_focal_sse_conf_sse_bb_no_lip_conf_2/teeth_excluding_lip_more/train/8908_2_3.jpg 57,200,397,399,0\r\n",
      "/home/jh/Desktop/github/teeth_detection/prob_no_focal_sse_bb/no_focal_sse_conf_sse_bb_no_lip_conf_2/teeth_excluding_lip_more/train/25486_2_1.jpg 85,177,448,304,0\r\n",
      "/home/jh/Desktop/github/teeth_detection/prob_no_focal_sse_bb/no_focal_sse_conf_sse_bb_no_lip_conf_2/teeth_excluding_lip_more/train/6474_2_3.jpg 90,204,448,436,0\r\n",
      "/home/jh/Desktop/github/teeth_detection/prob_no_focal_sse_bb/no_focal_sse_conf_sse_bb_no_lip_conf_2/teeth_excluding_lip_more/train/31346_2_1.jpg 74,171,377,306,0\r\n",
      "/home/jh/Desktop/github/teeth_detection/prob_no_focal_sse_bb/no_focal_sse_conf_sse_bb_no_lip_conf_2/teeth_excluding_lip_more/train/23639_2_2.jpg 114,206,417,366,0\r\n",
      "/home/jh/Desktop/github/teeth_detection/prob_no_focal_sse_bb/no_focal_sse_conf_sse_bb_no_lip_conf_2/teeth_excluding_lip_more/train/27288_2_3.jpg 46,201,420,342,0\r\n",
      "/home/jh/Desktop/github/teeth_detection/prob_no_focal_sse_bb/no_focal_sse_conf_sse_bb_no_lip_conf_2/teeth_excluding_lip_more/train/27420_2_3.jpg 82,237,426,391,0\r\n",
      "/home/jh/Desktop/github/teeth_detection/prob_no_focal_sse_bb/no_focal_sse_conf_sse_bb_no_lip_conf_2/teeth_excluding_lip_more/train/27532_2_1.jpg 37,182,382,358,0\r\n",
      "/home/jh/Desktop/github/teeth_detection/prob_no_focal_sse_bb/no_focal_sse_conf_sse_bb_no_lip_conf_2/teeth_excluding_lip_more/train/6570_2_1.jpg 47,211,394,379,0\r\n",
      "/home/jh/Desktop/github/teeth_detection/prob_no_focal_sse_bb/no_focal_sse_conf_sse_bb_no_lip_conf_2/teeth_excluding_lip_more/train/31421_2_1.jpg 61,242,406,413,0\r\n",
      "/home/jh/Desktop/github/teeth_detection/prob_no_focal_sse_bb/no_focal_sse_conf_sse_bb_no_lip_conf_2/teeth_excluding_lip_more/train/28494_2_3.jpg 135,256,440,375,0\r\n",
      "/home/jh/Desktop/github/teeth_detection/prob_no_focal_sse_bb/no_focal_sse_conf_sse_bb_no_lip_conf_2/teeth_excluding_lip_more/train/21367_2_1.jpg 90,189,423,357,0\r\n",
      "/home/jh/Desktop/github/teeth_detection/prob_no_focal_sse_bb/no_focal_sse_conf_sse_bb_no_lip_conf_2/teeth_excluding_lip_more/train/6747_2_3.jpg 96,195,448,322,0\r\n",
      "/home/jh/Desktop/github/teeth_detection/prob_no_focal_sse_bb/no_focal_sse_conf_sse_bb_no_lip_conf_2/teeth_excluding_lip_more/train/27441_2_3.jpg 41,175,396,366,0\r\n",
      "/home/jh/Desktop/github/teeth_detection/prob_no_focal_sse_bb/no_focal_sse_conf_sse_bb_no_lip_conf_2/teeth_excluding_lip_more/train/1361_2_3.jpg 55,242,299,363,0\r\n",
      "/home/jh/Desktop/github/teeth_detection/prob_no_focal_sse_bb/no_focal_sse_conf_sse_bb_no_lip_conf_2/teeth_excluding_lip_more/train/9545_2_1.jpg 78,220,403,366,0\r\n",
      "/home/jh/Desktop/github/teeth_detection/prob_no_focal_sse_bb/no_focal_sse_conf_sse_bb_no_lip_conf_2/teeth_excluding_lip_more/train/21451_2_1.jpg 63,192,385,324,0\r\n",
      "/home/jh/Desktop/github/teeth_detection/prob_no_focal_sse_bb/no_focal_sse_conf_sse_bb_no_lip_conf_2/teeth_excluding_lip_more/train/30534_2_3.jpg 51,130,420,273,0\r\n",
      "/home/jh/Desktop/github/teeth_detection/prob_no_focal_sse_bb/no_focal_sse_conf_sse_bb_no_lip_conf_2/teeth_excluding_lip_more/train/29492_2_1.jpg 81,256,426,392,0\r\n",
      "/home/jh/Desktop/github/teeth_detection/prob_no_focal_sse_bb/no_focal_sse_conf_sse_bb_no_lip_conf_2/teeth_excluding_lip_more/train/25107_2_1.jpg 84,221,414,375,0\r\n",
      "/home/jh/Desktop/github/teeth_detection/prob_no_focal_sse_bb/no_focal_sse_conf_sse_bb_no_lip_conf_2/teeth_excluding_lip_more/train/25349_2_3.jpg 124,242,387,347,0\r\n",
      "/home/jh/Desktop/github/teeth_detection/prob_no_focal_sse_bb/no_focal_sse_conf_sse_bb_no_lip_conf_2/teeth_excluding_lip_more/train/30973_2_3.jpg 172,186,448,336,0\r\n",
      "/home/jh/Desktop/github/teeth_detection/prob_no_focal_sse_bb/no_focal_sse_conf_sse_bb_no_lip_conf_2/teeth_excluding_lip_more/train/5723_2_1.jpg 68,213,399,373,0\r\n",
      "/home/jh/Desktop/github/teeth_detection/prob_no_focal_sse_bb/no_focal_sse_conf_sse_bb_no_lip_conf_2/teeth_excluding_lip_more/train/30145_2_1.jpg 61,241,448,411,0\r\n",
      "/home/jh/Desktop/github/teeth_detection/prob_no_focal_sse_bb/no_focal_sse_conf_sse_bb_no_lip_conf_2/teeth_excluding_lip_more/train/26362_2_1.jpg 125,210,389,328,0\r\n",
      "/home/jh/Desktop/github/teeth_detection/prob_no_focal_sse_bb/no_focal_sse_conf_sse_bb_no_lip_conf_2/teeth_excluding_lip_more/train/29123_2_1.jpg 129,234,374,338,0\r\n",
      "/home/jh/Desktop/github/teeth_detection/prob_no_focal_sse_bb/no_focal_sse_conf_sse_bb_no_lip_conf_2/teeth_excluding_lip_more/train/30276_2_12.jpg 40,207,415,343,0\r\n",
      "/home/jh/Desktop/github/teeth_detection/prob_no_focal_sse_bb/no_focal_sse_conf_sse_bb_no_lip_conf_2/teeth_excluding_lip_more/train/30326_2_3.jpg 112,264,448,406,0\r\n",
      "/home/jh/Desktop/github/teeth_detection/prob_no_focal_sse_bb/no_focal_sse_conf_sse_bb_no_lip_conf_2/teeth_excluding_lip_more/train/29101_2_1.jpg 77,177,448,319,0\r\n",
      "/home/jh/Desktop/github/teeth_detection/prob_no_focal_sse_bb/no_focal_sse_conf_sse_bb_no_lip_conf_2/teeth_excluding_lip_more/train/25824_2_1.jpg 162,190,448,360,0\r\n",
      "/home/jh/Desktop/github/teeth_detection/prob_no_focal_sse_bb/no_focal_sse_conf_sse_bb_no_lip_conf_2/teeth_excluding_lip_more/train/27247_2_1.jpg 78,243,399,340,0\r\n",
      "/home/jh/Desktop/github/teeth_detection/prob_no_focal_sse_bb/no_focal_sse_conf_sse_bb_no_lip_conf_2/teeth_excluding_lip_more/train/31712_2_3.jpg 48,247,368,388,0\r\n",
      "/home/jh/Desktop/github/teeth_detection/prob_no_focal_sse_bb/no_focal_sse_conf_sse_bb_no_lip_conf_2/teeth_excluding_lip_more/train/27828_2_3.jpg 40,221,372,399,0\r\n",
      "/home/jh/Desktop/github/teeth_detection/prob_no_focal_sse_bb/no_focal_sse_conf_sse_bb_no_lip_conf_2/teeth_excluding_lip_more/train/31384_2_1.jpg 27,125,407,314,0\r\n",
      "/home/jh/Desktop/github/teeth_detection/prob_no_focal_sse_bb/no_focal_sse_conf_sse_bb_no_lip_conf_2/teeth_excluding_lip_more/train/31387_2_1.jpg 66,159,337,269,0\r\n",
      "/home/jh/Desktop/github/teeth_detection/prob_no_focal_sse_bb/no_focal_sse_conf_sse_bb_no_lip_conf_2/teeth_excluding_lip_more/train/30978_2_3.jpg 112,173,391,277,0\r\n",
      "/home/jh/Desktop/github/teeth_detection/prob_no_focal_sse_bb/no_focal_sse_conf_sse_bb_no_lip_conf_2/teeth_excluding_lip_more/train/7343_2_1.jpg 79,147,392,297,0\r\n",
      "/home/jh/Desktop/github/teeth_detection/prob_no_focal_sse_bb/no_focal_sse_conf_sse_bb_no_lip_conf_2/teeth_excluding_lip_more/train/23646_2_3.jpg 86,259,413,397,0\r\n",
      "/home/jh/Desktop/github/teeth_detection/prob_no_focal_sse_bb/no_focal_sse_conf_sse_bb_no_lip_conf_2/teeth_excluding_lip_more/train/2600_2_3.jpg 137,163,448,314,0\r\n",
      "/home/jh/Desktop/github/teeth_detection/prob_no_focal_sse_bb/no_focal_sse_conf_sse_bb_no_lip_conf_2/teeth_excluding_lip_more/train/21288_2_1.jpg 79,154,448,322,0\r\n",
      "/home/jh/Desktop/github/teeth_detection/prob_no_focal_sse_bb/no_focal_sse_conf_sse_bb_no_lip_conf_2/teeth_excluding_lip_more/train/29246_2_3.jpg 102,248,389,386,0\r\n",
      "/home/jh/Desktop/github/teeth_detection/prob_no_focal_sse_bb/no_focal_sse_conf_sse_bb_no_lip_conf_2/teeth_excluding_lip_more/train/23401_2_1.jpg 111,149,419,340,0\r\n",
      "/home/jh/Desktop/github/teeth_detection/prob_no_focal_sse_bb/no_focal_sse_conf_sse_bb_no_lip_conf_2/teeth_excluding_lip_more/train/20733_2_1.jpg 138,221,448,388,0\r\n",
      "/home/jh/Desktop/github/teeth_detection/prob_no_focal_sse_bb/no_focal_sse_conf_sse_bb_no_lip_conf_2/teeth_excluding_lip_more/train/20895_2_3.jpg 45,156,447,365,0\r\n",
      "/home/jh/Desktop/github/teeth_detection/prob_no_focal_sse_bb/no_focal_sse_conf_sse_bb_no_lip_conf_2/teeth_excluding_lip_more/train/24074_2_3.jpg 1,245,315,342,0\r\n",
      "/home/jh/Desktop/github/teeth_detection/prob_no_focal_sse_bb/no_focal_sse_conf_sse_bb_no_lip_conf_2/teeth_excluding_lip_more/train/5861_2_3.jpg 201,291,448,418,0\r\n",
      "/home/jh/Desktop/github/teeth_detection/prob_no_focal_sse_bb/no_focal_sse_conf_sse_bb_no_lip_conf_2/teeth_excluding_lip_more/train/30898_2_3.jpg 141,147,448,365,0\r\n",
      "/home/jh/Desktop/github/teeth_detection/prob_no_focal_sse_bb/no_focal_sse_conf_sse_bb_no_lip_conf_2/teeth_excluding_lip_more/train/191_2_1.jpg 153,200,448,412,0\r\n",
      "/home/jh/Desktop/github/teeth_detection/prob_no_focal_sse_bb/no_focal_sse_conf_sse_bb_no_lip_conf_2/teeth_excluding_lip_more/train/5349_2_3.jpg 63,182,446,394,0\r\n",
      "/home/jh/Desktop/github/teeth_detection/prob_no_focal_sse_bb/no_focal_sse_conf_sse_bb_no_lip_conf_2/teeth_excluding_lip_more/train/28546_2_1.jpg 30,224,353,365,0\r\n",
      "/home/jh/Desktop/github/teeth_detection/prob_no_focal_sse_bb/no_focal_sse_conf_sse_bb_no_lip_conf_2/teeth_excluding_lip_more/train/204_2_1.jpg 111,172,415,312,0\r\n",
      "/home/jh/Desktop/github/teeth_detection/prob_no_focal_sse_bb/no_focal_sse_conf_sse_bb_no_lip_conf_2/teeth_excluding_lip_more/train/8661_2_3.jpg 13,176,448,390,0\r\n",
      "/home/jh/Desktop/github/teeth_detection/prob_no_focal_sse_bb/no_focal_sse_conf_sse_bb_no_lip_conf_2/teeth_excluding_lip_more/train/23316_2_1.jpg 15,222,377,379,0\r\n",
      "/home/jh/Desktop/github/teeth_detection/prob_no_focal_sse_bb/no_focal_sse_conf_sse_bb_no_lip_conf_2/teeth_excluding_lip_more/train/30818_2_1.jpg 145,212,448,375,0\r\n",
      "/home/jh/Desktop/github/teeth_detection/prob_no_focal_sse_bb/no_focal_sse_conf_sse_bb_no_lip_conf_2/teeth_excluding_lip_more/train/28586_2_3.jpg 104,221,448,390,0\r\n",
      "/home/jh/Desktop/github/teeth_detection/prob_no_focal_sse_bb/no_focal_sse_conf_sse_bb_no_lip_conf_2/teeth_excluding_lip_more/train/1615_2_1.jpg 15,217,446,416,0\r\n",
      "/home/jh/Desktop/github/teeth_detection/prob_no_focal_sse_bb/no_focal_sse_conf_sse_bb_no_lip_conf_2/teeth_excluding_lip_more/train/27755_2_1.jpg 31,203,416,375,0\r\n",
      "/home/jh/Desktop/github/teeth_detection/prob_no_focal_sse_bb/no_focal_sse_conf_sse_bb_no_lip_conf_2/teeth_excluding_lip_more/train/1563_2_1.jpg 67,230,448,448,0\r\n",
      "/home/jh/Desktop/github/teeth_detection/prob_no_focal_sse_bb/no_focal_sse_conf_sse_bb_no_lip_conf_2/teeth_excluding_lip_more/train/30865_2_1.jpg 140,211,412,312,0\r\n",
      "/home/jh/Desktop/github/teeth_detection/prob_no_focal_sse_bb/no_focal_sse_conf_sse_bb_no_lip_conf_2/teeth_excluding_lip_more/train/25570_2_3.jpg 104,170,441,290,0\r\n",
      "/home/jh/Desktop/github/teeth_detection/prob_no_focal_sse_bb/no_focal_sse_conf_sse_bb_no_lip_conf_2/teeth_excluding_lip_more/train/27504_2_1.jpg 59,231,387,367,0\r\n",
      "/home/jh/Desktop/github/teeth_detection/prob_no_focal_sse_bb/no_focal_sse_conf_sse_bb_no_lip_conf_2/teeth_excluding_lip_more/train/25583_2_1.jpg 54,184,407,336,0\r\n",
      "/home/jh/Desktop/github/teeth_detection/prob_no_focal_sse_bb/no_focal_sse_conf_sse_bb_no_lip_conf_2/teeth_excluding_lip_more/train/28731_2_1.jpg 113,184,448,350,0\r\n",
      "/home/jh/Desktop/github/teeth_detection/prob_no_focal_sse_bb/no_focal_sse_conf_sse_bb_no_lip_conf_2/teeth_excluding_lip_more/train/30141_2_1.jpg 82,225,448,332,0\r\n",
      "/home/jh/Desktop/github/teeth_detection/prob_no_focal_sse_bb/no_focal_sse_conf_sse_bb_no_lip_conf_2/teeth_excluding_lip_more/train/24981_2_3.jpg 85,192,436,349,0\r\n",
      "/home/jh/Desktop/github/teeth_detection/prob_no_focal_sse_bb/no_focal_sse_conf_sse_bb_no_lip_conf_2/teeth_excluding_lip_more/train/30100_2_1.jpg 109,251,419,340,0\r\n",
      "/home/jh/Desktop/github/teeth_detection/prob_no_focal_sse_bb/no_focal_sse_conf_sse_bb_no_lip_conf_2/teeth_excluding_lip_more/train/24525_2_3.jpg 153,273,448,386,0\r\n",
      "/home/jh/Desktop/github/teeth_detection/prob_no_focal_sse_bb/no_focal_sse_conf_sse_bb_no_lip_conf_2/teeth_excluding_lip_more/train/203_2_1.jpg 142,282,412,399,0\r\n",
      "/home/jh/Desktop/github/teeth_detection/prob_no_focal_sse_bb/no_focal_sse_conf_sse_bb_no_lip_conf_2/teeth_excluding_lip_more/train/8947_2_3.jpg 25,178,447,380,0\r\n",
      "/home/jh/Desktop/github/teeth_detection/prob_no_focal_sse_bb/no_focal_sse_conf_sse_bb_no_lip_conf_2/teeth_excluding_lip_more/train/30845_2_1.jpg 42,238,368,340,0\r\n",
      "/home/jh/Desktop/github/teeth_detection/prob_no_focal_sse_bb/no_focal_sse_conf_sse_bb_no_lip_conf_2/teeth_excluding_lip_more/train/26587_2_1.jpg 75,218,420,378,0\r\n",
      "/home/jh/Desktop/github/teeth_detection/prob_no_focal_sse_bb/no_focal_sse_conf_sse_bb_no_lip_conf_2/teeth_excluding_lip_more/train/30055_2_1.jpg 146,180,448,292,0\r\n",
      "/home/jh/Desktop/github/teeth_detection/prob_no_focal_sse_bb/no_focal_sse_conf_sse_bb_no_lip_conf_2/teeth_excluding_lip_more/train/29347_2_1.jpg 70,233,423,297,0\r\n",
      "/home/jh/Desktop/github/teeth_detection/prob_no_focal_sse_bb/no_focal_sse_conf_sse_bb_no_lip_conf_2/teeth_excluding_lip_more/train/21522_2_3.jpg 110,219,391,310,0\r\n",
      "/home/jh/Desktop/github/teeth_detection/prob_no_focal_sse_bb/no_focal_sse_conf_sse_bb_no_lip_conf_2/teeth_excluding_lip_more/train/30807_2_1.jpg 74,168,448,290,0\r\n",
      "/home/jh/Desktop/github/teeth_detection/prob_no_focal_sse_bb/no_focal_sse_conf_sse_bb_no_lip_conf_2/teeth_excluding_lip_more/train/27681_2_3.jpg 51,186,401,367,0\r\n",
      "/home/jh/Desktop/github/teeth_detection/prob_no_focal_sse_bb/no_focal_sse_conf_sse_bb_no_lip_conf_2/teeth_excluding_lip_more/train/30843_2_3.jpg 167,171,412,295,0\r\n",
      "/home/jh/Desktop/github/teeth_detection/prob_no_focal_sse_bb/no_focal_sse_conf_sse_bb_no_lip_conf_2/teeth_excluding_lip_more/train/24099_2_3.jpg 118,239,388,377,0\r\n",
      "/home/jh/Desktop/github/teeth_detection/prob_no_focal_sse_bb/no_focal_sse_conf_sse_bb_no_lip_conf_2/teeth_excluding_lip_more/train/20854_2_3.jpg 38,140,446,446,0\r\n",
      "/home/jh/Desktop/github/teeth_detection/prob_no_focal_sse_bb/no_focal_sse_conf_sse_bb_no_lip_conf_2/teeth_excluding_lip_more/train/9903_2_3.jpg 48,174,448,332,0\r\n",
      "/home/jh/Desktop/github/teeth_detection/prob_no_focal_sse_bb/no_focal_sse_conf_sse_bb_no_lip_conf_2/teeth_excluding_lip_more/train/31772_2_1.jpg 105,160,370,268,0\r\n",
      "/home/jh/Desktop/github/teeth_detection/prob_no_focal_sse_bb/no_focal_sse_conf_sse_bb_no_lip_conf_2/teeth_excluding_lip_more/train/23274_2_3.jpg 101,181,448,351,0\r\n",
      "/home/jh/Desktop/github/teeth_detection/prob_no_focal_sse_bb/no_focal_sse_conf_sse_bb_no_lip_conf_2/teeth_excluding_lip_more/train/31324_2_3.jpg 182,272,448,388,0\r\n",
      "/home/jh/Desktop/github/teeth_detection/prob_no_focal_sse_bb/no_focal_sse_conf_sse_bb_no_lip_conf_2/teeth_excluding_lip_more/train/30730_2_1.jpg 127,241,448,421,0\r\n",
      "/home/jh/Desktop/github/teeth_detection/prob_no_focal_sse_bb/no_focal_sse_conf_sse_bb_no_lip_conf_2/teeth_excluding_lip_more/train/27146_2_1.jpg 68,196,418,347,0\r\n",
      "/home/jh/Desktop/github/teeth_detection/prob_no_focal_sse_bb/no_focal_sse_conf_sse_bb_no_lip_conf_2/teeth_excluding_lip_more/train/31585_2_3.jpg 120,245,448,398,0\r\n",
      "/home/jh/Desktop/github/teeth_detection/prob_no_focal_sse_bb/no_focal_sse_conf_sse_bb_no_lip_conf_2/teeth_excluding_lip_more/train/29129_2_3.jpg 106,188,348,314,0\r\n",
      "/home/jh/Desktop/github/teeth_detection/prob_no_focal_sse_bb/no_focal_sse_conf_sse_bb_no_lip_conf_2/teeth_excluding_lip_more/train/20829_2_1.jpg 94,241,379,377,0\r\n",
      "/home/jh/Desktop/github/teeth_detection/prob_no_focal_sse_bb/no_focal_sse_conf_sse_bb_no_lip_conf_2/teeth_excluding_lip_more/train/7822_2_1.jpg 114,130,444,316,0\r\n",
      "/home/jh/Desktop/github/teeth_detection/prob_no_focal_sse_bb/no_focal_sse_conf_sse_bb_no_lip_conf_2/teeth_excluding_lip_more/train/29500_2_3.jpg 159,278,448,379,0\r\n",
      "/home/jh/Desktop/github/teeth_detection/prob_no_focal_sse_bb/no_focal_sse_conf_sse_bb_no_lip_conf_2/teeth_excluding_lip_more/train/24883_2_1.jpg 52,136,386,306,0\r\n",
      "/home/jh/Desktop/github/teeth_detection/prob_no_focal_sse_bb/no_focal_sse_conf_sse_bb_no_lip_conf_2/teeth_excluding_lip_more/train/28090_2_1.jpg 55,195,440,359,0\r\n",
      "/home/jh/Desktop/github/teeth_detection/prob_no_focal_sse_bb/no_focal_sse_conf_sse_bb_no_lip_conf_2/teeth_excluding_lip_more/train/9826_2_3.jpg 17,167,448,406,0\r\n",
      "/home/jh/Desktop/github/teeth_detection/prob_no_focal_sse_bb/no_focal_sse_conf_sse_bb_no_lip_conf_2/teeth_excluding_lip_more/train/10051_2_3.jpg 55,178,448,340,0\r\n",
      "/home/jh/Desktop/github/teeth_detection/prob_no_focal_sse_bb/no_focal_sse_conf_sse_bb_no_lip_conf_2/teeth_excluding_lip_more/train/29784_2_1.jpg 86,222,348,360,0\r\n",
      "/home/jh/Desktop/github/teeth_detection/prob_no_focal_sse_bb/no_focal_sse_conf_sse_bb_no_lip_conf_2/teeth_excluding_lip_more/train/23867_2_1.jpg 50,189,345,313,0\r\n",
      "/home/jh/Desktop/github/teeth_detection/prob_no_focal_sse_bb/no_focal_sse_conf_sse_bb_no_lip_conf_2/teeth_excluding_lip_more/train/7452_2_1.jpg 88,203,351,317,0\r\n",
      "/home/jh/Desktop/github/teeth_detection/prob_no_focal_sse_bb/no_focal_sse_conf_sse_bb_no_lip_conf_2/teeth_excluding_lip_more/train/27195_2_1.jpg 64,210,409,384,0\r\n",
      "/home/jh/Desktop/github/teeth_detection/prob_no_focal_sse_bb/no_focal_sse_conf_sse_bb_no_lip_conf_2/teeth_excluding_lip_more/train/23238_2_3.jpg 79,190,396,301,0\r\n",
      "/home/jh/Desktop/github/teeth_detection/prob_no_focal_sse_bb/no_focal_sse_conf_sse_bb_no_lip_conf_2/teeth_excluding_lip_more/train/25211_2_1.jpg 26,220,433,389,0\r\n",
      "/home/jh/Desktop/github/teeth_detection/prob_no_focal_sse_bb/no_focal_sse_conf_sse_bb_no_lip_conf_2/teeth_excluding_lip_more/train/23862_2_1.jpg 145,200,448,328,0\r\n",
      "/home/jh/Desktop/github/teeth_detection/prob_no_focal_sse_bb/no_focal_sse_conf_sse_bb_no_lip_conf_2/teeth_excluding_lip_more/train/25323_2_3.jpg 146,217,448,385,0\r\n",
      "/home/jh/Desktop/github/teeth_detection/prob_no_focal_sse_bb/no_focal_sse_conf_sse_bb_no_lip_conf_2/teeth_excluding_lip_more/train/1365_2_1.jpg 101,215,360,333,0\r\n",
      "/home/jh/Desktop/github/teeth_detection/prob_no_focal_sse_bb/no_focal_sse_conf_sse_bb_no_lip_conf_2/teeth_excluding_lip_more/train/31289_2_3.jpg 98,201,416,357,0\r\n",
      "/home/jh/Desktop/github/teeth_detection/prob_no_focal_sse_bb/no_focal_sse_conf_sse_bb_no_lip_conf_2/teeth_excluding_lip_more/train/31398_2_1.jpg 55,170,395,361,0\r\n",
      "/home/jh/Desktop/github/teeth_detection/prob_no_focal_sse_bb/no_focal_sse_conf_sse_bb_no_lip_conf_2/teeth_excluding_lip_more/train/29161_2_1.jpg 89,160,421,324,0\r\n",
      "/home/jh/Desktop/github/teeth_detection/prob_no_focal_sse_bb/no_focal_sse_conf_sse_bb_no_lip_conf_2/teeth_excluding_lip_more/train/10349_2_3.jpg 105,103,448,332,0\r\n",
      "/home/jh/Desktop/github/teeth_detection/prob_no_focal_sse_bb/no_focal_sse_conf_sse_bb_no_lip_conf_2/teeth_excluding_lip_more/train/10052_2_3.jpg 47,186,448,352,0\r\n",
      "/home/jh/Desktop/github/teeth_detection/prob_no_focal_sse_bb/no_focal_sse_conf_sse_bb_no_lip_conf_2/teeth_excluding_lip_more/train/31292_2_3.jpg 107,201,319,323,0\r\n",
      "/home/jh/Desktop/github/teeth_detection/prob_no_focal_sse_bb/no_focal_sse_conf_sse_bb_no_lip_conf_2/teeth_excluding_lip_more/train/19890_2_1.jpg 89,135,445,314,0\r\n",
      "/home/jh/Desktop/github/teeth_detection/prob_no_focal_sse_bb/no_focal_sse_conf_sse_bb_no_lip_conf_2/teeth_excluding_lip_more/train/30324_2_3.jpg 133,247,424,378,0\r\n",
      "/home/jh/Desktop/github/teeth_detection/prob_no_focal_sse_bb/no_focal_sse_conf_sse_bb_no_lip_conf_2/teeth_excluding_lip_more/train/31839_2_1.jpg 98,221,337,349,0\r\n",
      "test\r\n",
      "/home/jh/Desktop/github/teeth_detection/prob_no_focal_sse_bb/no_focal_sse_conf_sse_bb_no_lip_conf_2/teeth_excluding_lip_more/test\r\n",
      "/home/jh/Desktop/github/teeth_detection/prob_no_focal_sse_bb/no_focal_sse_conf_sse_bb_no_lip_conf_2/teeth_excluding_lip_more/test/20557_2_3.jpg 59,165,448,368,0\r\n",
      "/home/jh/Desktop/github/teeth_detection/prob_no_focal_sse_bb/no_focal_sse_conf_sse_bb_no_lip_conf_2/teeth_excluding_lip_more/test/26439_2_3.jpg 146,212,448,355,0\r\n",
      "/home/jh/Desktop/github/teeth_detection/prob_no_focal_sse_bb/no_focal_sse_conf_sse_bb_no_lip_conf_2/teeth_excluding_lip_more/test/3921_2_3.jpg 120,224,427,372,0\r\n",
      "/home/jh/Desktop/github/teeth_detection/prob_no_focal_sse_bb/no_focal_sse_conf_sse_bb_no_lip_conf_2/teeth_excluding_lip_more/test/30097_2_1.jpg 116,201,448,308,0\r\n",
      "/home/jh/Desktop/github/teeth_detection/prob_no_focal_sse_bb/no_focal_sse_conf_sse_bb_no_lip_conf_2/teeth_excluding_lip_more/test/27423_2_3.jpg 16,206,360,327,0\r\n",
      "/home/jh/Desktop/github/teeth_detection/prob_no_focal_sse_bb/no_focal_sse_conf_sse_bb_no_lip_conf_2/teeth_excluding_lip_more/test/30569_2_1.jpg 18,219,338,402,0\r\n",
      "/home/jh/Desktop/github/teeth_detection/prob_no_focal_sse_bb/no_focal_sse_conf_sse_bb_no_lip_conf_2/teeth_excluding_lip_more/test/30171_2_1.jpg 54,218,343,336,0\r\n",
      "/home/jh/Desktop/github/teeth_detection/prob_no_focal_sse_bb/no_focal_sse_conf_sse_bb_no_lip_conf_2/teeth_excluding_lip_more/test/25597_2_1.jpg 35,167,353,308,0\r\n",
      "/home/jh/Desktop/github/teeth_detection/prob_no_focal_sse_bb/no_focal_sse_conf_sse_bb_no_lip_conf_2/teeth_excluding_lip_more/test/4703_2_1.jpg 77,198,385,345,0\r\n",
      "/home/jh/Desktop/github/teeth_detection/prob_no_focal_sse_bb/no_focal_sse_conf_sse_bb_no_lip_conf_2/teeth_excluding_lip_more/test/29057_2_3.jpg 103,214,448,371,0\r\n",
      "/home/jh/Desktop/github/teeth_detection/prob_no_focal_sse_bb/no_focal_sse_conf_sse_bb_no_lip_conf_2/teeth_excluding_lip_more/test/24938_2_3.jpg 114,260,448,392,0\r\n",
      "/home/jh/Desktop/github/teeth_detection/prob_no_focal_sse_bb/no_focal_sse_conf_sse_bb_no_lip_conf_2/teeth_excluding_lip_more/test/29811_2_1.jpg 65,148,448,335,0\r\n",
      "/home/jh/Desktop/github/teeth_detection/prob_no_focal_sse_bb/no_focal_sse_conf_sse_bb_no_lip_conf_2/teeth_excluding_lip_more/test/23456_2_1.jpg 15,161,437,340,0\r\n",
      "/home/jh/Desktop/github/teeth_detection/prob_no_focal_sse_bb/no_focal_sse_conf_sse_bb_no_lip_conf_2/teeth_excluding_lip_more/test/30107_2_1.jpg 81,204,398,290,0\r\n",
      "/home/jh/Desktop/github/teeth_detection/prob_no_focal_sse_bb/no_focal_sse_conf_sse_bb_no_lip_conf_2/teeth_excluding_lip_more/test/28487_2_1.jpg 33,203,310,351,0\r\n",
      "/home/jh/Desktop/github/teeth_detection/prob_no_focal_sse_bb/no_focal_sse_conf_sse_bb_no_lip_conf_2/teeth_excluding_lip_more/test/30098_2_1.jpg 156,193,448,275,0\r\n",
      "/home/jh/Desktop/github/teeth_detection/prob_no_focal_sse_bb/no_focal_sse_conf_sse_bb_no_lip_conf_2/teeth_excluding_lip_more/test/24391_2_3.jpg 68,218,373,330,0\r\n",
      "/home/jh/Desktop/github/teeth_detection/prob_no_focal_sse_bb/no_focal_sse_conf_sse_bb_no_lip_conf_2/teeth_excluding_lip_more/test/25365_2_1.jpg 117,258,396,420,0\r\n",
      "/home/jh/Desktop/github/teeth_detection/prob_no_focal_sse_bb/no_focal_sse_conf_sse_bb_no_lip_conf_2/teeth_excluding_lip_more/test/29493_2_1.jpg 126,225,414,368,0\r\n",
      "/home/jh/Desktop/github/teeth_detection/prob_no_focal_sse_bb/no_focal_sse_conf_sse_bb_no_lip_conf_2/teeth_excluding_lip_more/test/8946_2_3.jpg 20,207,431,442,0\r\n",
      "/home/jh/Desktop/github/teeth_detection/prob_no_focal_sse_bb/no_focal_sse_conf_sse_bb_no_lip_conf_2/teeth_excluding_lip_more/test/30329_2_1.jpg 74,165,448,310,0\r\n",
      "/home/jh/Desktop/github/teeth_detection/prob_no_focal_sse_bb/no_focal_sse_conf_sse_bb_no_lip_conf_2/teeth_excluding_lip_more/test/31316_2_3.jpg 100,272,448,369,0\r\n",
      "/home/jh/Desktop/github/teeth_detection/prob_no_focal_sse_bb/no_focal_sse_conf_sse_bb_no_lip_conf_2/teeth_excluding_lip_more/test/30092_2_1.jpg 88,201,448,315,0\r\n",
      "/home/jh/Desktop/github/teeth_detection/prob_no_focal_sse_bb/no_focal_sse_conf_sse_bb_no_lip_conf_2/teeth_excluding_lip_more/test/31353_2_1.jpg 105,213,320,297,0\r\n",
      "/home/jh/Desktop/github/teeth_detection/prob_no_focal_sse_bb/no_focal_sse_conf_sse_bb_no_lip_conf_2/teeth_excluding_lip_more/test/27742_2_3.jpg 48,209,303,330,0\r\n",
      "/home/jh/Desktop/github/teeth_detection/prob_no_focal_sse_bb/no_focal_sse_conf_sse_bb_no_lip_conf_2/teeth_excluding_lip_more/test/30985_2_1.jpg 25,235,376,348,0\r\n",
      "/home/jh/Desktop/github/teeth_detection/prob_no_focal_sse_bb/no_focal_sse_conf_sse_bb_no_lip_conf_2/teeth_excluding_lip_more/test/6211_2_3.jpg 110,209,430,344,0\r\n",
      "/home/jh/Desktop/github/teeth_detection/prob_no_focal_sse_bb/no_focal_sse_conf_sse_bb_no_lip_conf_2/teeth_excluding_lip_more/test/21511_2_1.jpg 39,178,382,333,0\r\n",
      "/home/jh/Desktop/github/teeth_detection/prob_no_focal_sse_bb/no_focal_sse_conf_sse_bb_no_lip_conf_2/teeth_excluding_lip_more/test/28210_2_1.jpg 55,220,435,316,0\r\n",
      "/home/jh/Desktop/github/teeth_detection/prob_no_focal_sse_bb/no_focal_sse_conf_sse_bb_no_lip_conf_2/teeth_excluding_lip_more/test/207_2_1.jpg 139,303,422,394,0\r\n",
      "/home/jh/Desktop/github/teeth_detection/prob_no_focal_sse_bb/no_focal_sse_conf_sse_bb_no_lip_conf_2/teeth_excluding_lip_more/test/30080_2_1.jpg 207,208,448,298,0\r\n",
      "/home/jh/Desktop/github/teeth_detection/prob_no_focal_sse_bb/no_focal_sse_conf_sse_bb_no_lip_conf_2/teeth_excluding_lip_more/test/31777_2_3.jpg 117,201,370,316,0\r\n",
      "/home/jh/Desktop/github/teeth_detection/prob_no_focal_sse_bb/no_focal_sse_conf_sse_bb_no_lip_conf_2/teeth_excluding_lip_more/test/25822_2_1.jpg 148,202,418,328,0\r\n",
      "/home/jh/Desktop/github/teeth_detection/prob_no_focal_sse_bb/no_focal_sse_conf_sse_bb_no_lip_conf_2/teeth_excluding_lip_more/test/23953_2_1.jpg 20,99,448,378,0\r\n",
      "/home/jh/Desktop/github/teeth_detection/prob_no_focal_sse_bb/no_focal_sse_conf_sse_bb_no_lip_conf_2/teeth_excluding_lip_more/test/10346_2_1.jpg 101,186,420,299,0\r\n",
      "/home/jh/Desktop/github/teeth_detection/prob_no_focal_sse_bb/no_focal_sse_conf_sse_bb_no_lip_conf_2/teeth_excluding_lip_more/test/8642_2_3.jpg 83,193,340,329,0\r\n",
      "/home/jh/Desktop/github/teeth_detection/prob_no_focal_sse_bb/no_focal_sse_conf_sse_bb_no_lip_conf_2/teeth_excluding_lip_more/test/23956_2_3.jpg 101,178,448,415,0\r\n",
      "/home/jh/Desktop/github/teeth_detection/prob_no_focal_sse_bb/no_focal_sse_conf_sse_bb_no_lip_conf_2/teeth_excluding_lip_more/test/144_2_2.jpg 36,256,448,412,0\r\n",
      "/home/jh/Desktop/github/teeth_detection/prob_no_focal_sse_bb/no_focal_sse_conf_sse_bb_no_lip_conf_2/teeth_excluding_lip_more/test/19582_2_1.jpg 107,219,365,368,0\r\n",
      "/home/jh/Desktop/github/teeth_detection/prob_no_focal_sse_bb/no_focal_sse_conf_sse_bb_no_lip_conf_2/teeth_excluding_lip_more/test/25554_2_3.jpg 88,281,379,399,0\r\n",
      "/home/jh/Desktop/github/teeth_detection/prob_no_focal_sse_bb/no_focal_sse_conf_sse_bb_no_lip_conf_2/teeth_excluding_lip_more/test/26436_2_3.jpg 110,113,435,274,0\r\n",
      "/home/jh/Desktop/github/teeth_detection/prob_no_focal_sse_bb/no_focal_sse_conf_sse_bb_no_lip_conf_2/teeth_excluding_lip_more/test/25041_2_1.jpg 87,255,448,428,0\r\n",
      "/home/jh/Desktop/github/teeth_detection/prob_no_focal_sse_bb/no_focal_sse_conf_sse_bb_no_lip_conf_2/teeth_excluding_lip_more/test/21770_2_1.jpg 71,207,410,338,0\r\n",
      "/home/jh/Desktop/github/teeth_detection/prob_no_focal_sse_bb/no_focal_sse_conf_sse_bb_no_lip_conf_2/teeth_excluding_lip_more/test/8659_2_3.jpg 58,182,448,405,0\r\n",
      "/home/jh/Desktop/github/teeth_detection/prob_no_focal_sse_bb/no_focal_sse_conf_sse_bb_no_lip_conf_2/teeth_excluding_lip_more/test/31586_2_1.jpg 75,236,373,383,0\r\n",
      "/home/jh/Desktop/github/teeth_detection/prob_no_focal_sse_bb/no_focal_sse_conf_sse_bb_no_lip_conf_2/teeth_excluding_lip_more/test/31532_2_3.jpg 127,145,415,303,0\r\n",
      "/home/jh/Desktop/github/teeth_detection/prob_no_focal_sse_bb/no_focal_sse_conf_sse_bb_no_lip_conf_2/teeth_excluding_lip_more/test/24390_2_3.jpg 65,223,389,338,0\r\n",
      "/home/jh/Desktop/github/teeth_detection/prob_no_focal_sse_bb/no_focal_sse_conf_sse_bb_no_lip_conf_2/teeth_excluding_lip_more/test/202_2_3.jpg 122,198,406,346,0\r\n",
      "/home/jh/Desktop/github/teeth_detection/prob_no_focal_sse_bb/no_focal_sse_conf_sse_bb_no_lip_conf_2/teeth_excluding_lip_more/test/28196_2_1.jpg 137,269,448,396,0\r\n",
      "/home/jh/Desktop/github/teeth_detection/prob_no_focal_sse_bb/no_focal_sse_conf_sse_bb_no_lip_conf_2/teeth_excluding_lip_more/test/30282_2_1.jpg 35,203,385,332,0\r\n",
      "/home/jh/Desktop/github/teeth_detection/prob_no_focal_sse_bb/no_focal_sse_conf_sse_bb_no_lip_conf_2/teeth_excluding_lip_more/test/31413_2_1.jpg 86,196,385,299,0\r\n",
      "/home/jh/Desktop/github/teeth_detection/prob_no_focal_sse_bb/no_focal_sse_conf_sse_bb_no_lip_conf_2/teeth_excluding_lip_more/test/21527_2_3.jpg 95,236,374,333,0\r\n",
      "/home/jh/Desktop/github/teeth_detection/prob_no_focal_sse_bb/no_focal_sse_conf_sse_bb_no_lip_conf_2/teeth_excluding_lip_more/test/27937_2_1.jpg 148,166,442,363,0\r\n",
      "/home/jh/Desktop/github/teeth_detection/prob_no_focal_sse_bb/no_focal_sse_conf_sse_bb_no_lip_conf_2/teeth_excluding_lip_more/test/10146_2_3.jpg 52,198,448,359,0\r\n",
      "/home/jh/Desktop/github/teeth_detection/prob_no_focal_sse_bb/no_focal_sse_conf_sse_bb_no_lip_conf_2/teeth_excluding_lip_more/test/29213_2_1.jpg 95,208,377,320,0\r\n",
      "/home/jh/Desktop/github/teeth_detection/prob_no_focal_sse_bb/no_focal_sse_conf_sse_bb_no_lip_conf_2/teeth_excluding_lip_more/test/30072_2_1.jpg 194,223,448,319,0\r\n",
      "/home/jh/Desktop/github/teeth_detection/prob_no_focal_sse_bb/no_focal_sse_conf_sse_bb_no_lip_conf_2/teeth_excluding_lip_more/test/10355_2_1.jpg 67,189,403,328,0\r\n",
      "/home/jh/Desktop/github/teeth_detection/prob_no_focal_sse_bb/no_focal_sse_conf_sse_bb_no_lip_conf_2/teeth_excluding_lip_more/test/26356_2_1.jpg 84,201,448,327,0\r\n",
      "/home/jh/Desktop/github/teeth_detection/prob_no_focal_sse_bb/no_focal_sse_conf_sse_bb_no_lip_conf_2/teeth_excluding_lip_more/test/31828_2_3.jpg 148,184,448,318,0\r\n",
      "/home/jh/Desktop/github/teeth_detection/prob_no_focal_sse_bb/no_focal_sse_conf_sse_bb_no_lip_conf_2/teeth_excluding_lip_more/test/27183_2_3.jpg 17,145,370,269,0\r\n",
      "/home/jh/Desktop/github/teeth_detection/prob_no_focal_sse_bb/no_focal_sse_conf_sse_bb_no_lip_conf_2/teeth_excluding_lip_more/test/29919_2_1.jpg 76,223,344,332,0\r\n",
      "/home/jh/Desktop/github/teeth_detection/prob_no_focal_sse_bb/no_focal_sse_conf_sse_bb_no_lip_conf_2/teeth_excluding_lip_more/test/30261_2_1.jpg 84,205,409,332,0\r\n",
      "/home/jh/Desktop/github/teeth_detection/prob_no_focal_sse_bb/no_focal_sse_conf_sse_bb_no_lip_conf_2/teeth_excluding_lip_more/test/9595_2_3.jpg 102,181,388,336,0\r\n",
      "/home/jh/Desktop/github/teeth_detection/prob_no_focal_sse_bb/no_focal_sse_conf_sse_bb_no_lip_conf_2/teeth_excluding_lip_more/test/29203_2_3.jpg 1,210,380,397,0\r\n",
      "/home/jh/Desktop/github/teeth_detection/prob_no_focal_sse_bb/no_focal_sse_conf_sse_bb_no_lip_conf_2/teeth_excluding_lip_more/test/26044_2_3.jpg 23,177,298,325,0\r\n",
      "/home/jh/Desktop/github/teeth_detection/prob_no_focal_sse_bb/no_focal_sse_conf_sse_bb_no_lip_conf_2/teeth_excluding_lip_more/test/28205_2_1.jpg 144,164,448,399,0\r\n",
      "/home/jh/Desktop/github/teeth_detection/prob_no_focal_sse_bb/no_focal_sse_conf_sse_bb_no_lip_conf_2/teeth_excluding_lip_more/test/30383_2_1.jpg 90,138,448,324,0\r\n",
      "/home/jh/Desktop/github/teeth_detection/prob_no_focal_sse_bb/no_focal_sse_conf_sse_bb_no_lip_conf_2/teeth_excluding_lip_more/test/206_2_1.jpg 138,197,398,346,0\r\n",
      "/home/jh/Desktop/github/teeth_detection/prob_no_focal_sse_bb/no_focal_sse_conf_sse_bb_no_lip_conf_2/teeth_excluding_lip_more/test/31369_2_1.jpg 46,208,331,321,0\r\n",
      "/home/jh/Desktop/github/teeth_detection/prob_no_focal_sse_bb/no_focal_sse_conf_sse_bb_no_lip_conf_2/teeth_excluding_lip_more/test/30057_2_1.jpg 103,193,448,313,0\r\n",
      "/home/jh/Desktop/github/teeth_detection/prob_no_focal_sse_bb/no_focal_sse_conf_sse_bb_no_lip_conf_2/teeth_excluding_lip_more/test/20451_2_1.jpg 64,208,360,361,0\r\n",
      "/home/jh/Desktop/github/teeth_detection/prob_no_focal_sse_bb/no_focal_sse_conf_sse_bb_no_lip_conf_2/teeth_excluding_lip_more/test/7454_2_1.jpg 91,214,392,370,0\r\n",
      "/home/jh/Desktop/github/teeth_detection/prob_no_focal_sse_bb/no_focal_sse_conf_sse_bb_no_lip_conf_2/teeth_excluding_lip_more/test/27335_2_3.jpg 69,228,393,395,0\r\n",
      "/home/jh/Desktop/github/teeth_detection/prob_no_focal_sse_bb/no_focal_sse_conf_sse_bb_no_lip_conf_2/teeth_excluding_lip_more/test/5806_2_3.jpg 87,158,393,360,0\r\n",
      "/home/jh/Desktop/github/teeth_detection/prob_no_focal_sse_bb/no_focal_sse_conf_sse_bb_no_lip_conf_2/teeth_excluding_lip_more/test/174_2_1.jpg 56,179,378,298,0\r\n",
      "/home/jh/Desktop/github/teeth_detection/prob_no_focal_sse_bb/no_focal_sse_conf_sse_bb_no_lip_conf_2/teeth_excluding_lip_more/test/30037_2_1.jpg 66,230,380,375,0\r\n",
      "/home/jh/Desktop/github/teeth_detection/prob_no_focal_sse_bb/no_focal_sse_conf_sse_bb_no_lip_conf_2/teeth_excluding_lip_more/test/23264_2_1.jpg 113,223,440,397,0\r\n",
      "/home/jh/Desktop/github/teeth_detection/prob_no_focal_sse_bb/no_focal_sse_conf_sse_bb_no_lip_conf_2/teeth_excluding_lip_more/test/28949_2_3.jpg 15,210,381,401,0\r\n",
      "/home/jh/Desktop/github/teeth_detection/prob_no_focal_sse_bb/no_focal_sse_conf_sse_bb_no_lip_conf_2/teeth_excluding_lip_more/test/28110_2_3.jpg 136,241,446,369,0\r\n",
      "/home/jh/Desktop/github/teeth_detection/prob_no_focal_sse_bb/no_focal_sse_conf_sse_bb_no_lip_conf_2/teeth_excluding_lip_more/test/29837_2_1.jpg 122,168,448,312,0\r\n",
      "/home/jh/Desktop/github/teeth_detection/prob_no_focal_sse_bb/no_focal_sse_conf_sse_bb_no_lip_conf_2/teeth_excluding_lip_more/test/28204_2_1.jpg 162,223,448,376,0\r\n",
      "/home/jh/Desktop/github/teeth_detection/prob_no_focal_sse_bb/no_focal_sse_conf_sse_bb_no_lip_conf_2/teeth_excluding_lip_more/test/29932_2_1.jpg 61,214,330,356,0\r\n",
      "/home/jh/Desktop/github/teeth_detection/prob_no_focal_sse_bb/no_focal_sse_conf_sse_bb_no_lip_conf_2/teeth_excluding_lip_more/test/31621_2_1.jpg 116,166,448,289,0\r\n",
      "/home/jh/Desktop/github/teeth_detection/prob_no_focal_sse_bb/no_focal_sse_conf_sse_bb_no_lip_conf_2/teeth_excluding_lip_more/test/25360_2_1.jpg 79,248,390,384,0\r\n",
      "/home/jh/Desktop/github/teeth_detection/prob_no_focal_sse_bb/no_focal_sse_conf_sse_bb_no_lip_conf_2/teeth_excluding_lip_more/test/9061_2_1.jpg 106,208,448,367,0\r\n",
      "Dataset_names: ['teeth']\r\n"
     ]
    }
   ],
   "source": [
    "!python tools/XML_to_YOLOv3.py"
   ]
  },
  {
   "cell_type": "markdown",
   "metadata": {
    "id": "5CYGwaPfV3H6"
   },
   "source": [
    "**Start training custom model:**"
   ]
  },
  {
   "cell_type": "code",
   "execution_count": 5,
   "metadata": {
    "scrolled": false
   },
   "outputs": [
    {
     "name": "stdout",
     "output_type": "stream",
     "text": [
      "[name: \"/device:CPU:0\"\n",
      "device_type: \"CPU\"\n",
      "memory_limit: 268435456\n",
      "locality {\n",
      "}\n",
      "incarnation: 552495516043283203\n",
      "xla_global_id: -1\n",
      ", name: \"/device:GPU:0\"\n",
      "device_type: \"GPU\"\n",
      "memory_limit: 22783459328\n",
      "locality {\n",
      "  bus_id: 1\n",
      "  links {\n",
      "  }\n",
      "}\n",
      "incarnation: 14960620002418040359\n",
      "physical_device_desc: \"device: 0, name: NVIDIA GeForce RTX 3090, pci bus id: 0000:01:00.0, compute capability: 8.6\"\n",
      "xla_global_id: 416903419\n",
      "]\n",
      "RuntimeError in tf.config.experimental.list_physical_devices('GPU')\n"
     ]
    },
    {
     "name": "stderr",
     "output_type": "stream",
     "text": [
      "2023-02-06 22:46:41.391369: I tensorflow/core/common_runtime/gpu/gpu_device.cc:1525] Created device /device:GPU:0 with 21728 MB memory:  -> device: 0, name: NVIDIA GeForce RTX 3090, pci bus id: 0000:01:00.0, compute capability: 8.6\n"
     ]
    }
   ],
   "source": [
    "from train_config import *"
   ]
  },
  {
   "cell_type": "code",
   "execution_count": 6,
   "metadata": {
    "id": "rUxAdSEQEdpG",
    "scrolled": true
   },
   "outputs": [
    {
     "name": "stdout",
     "output_type": "stream",
     "text": [
      "GPUs [PhysicalDevice(name='/physical_device:GPU:0', device_type='GPU')]\n",
      "skipping conv2d_74\n",
      "skipping conv2d_66\n",
      "skipping conv2d_58\n"
     ]
    },
    {
     "name": "stderr",
     "output_type": "stream",
     "text": [
      "2023-02-06 22:46:45.566028: I tensorflow/stream_executor/cuda/cuda_dnn.cc:368] Loaded cuDNN version 8204\n",
      "2023-02-06 22:46:46.579458: I tensorflow/stream_executor/cuda/cuda_blas.cc:1786] TensorFloat-32 will be used for the matrix multiplication. This will only be logged once.\n"
     ]
    },
    {
     "name": "stdout",
     "output_type": "stream",
     "text": [
      "epoch: 0 step:    2/85, lr:0.000000, bb_loss:   0.83, conf_loss:101122.95, prob_loss:   1.71, total_loss:101125.48\n",
      "epoch: 0 step:    3/85, lr:0.000000, bb_loss:   0.39, conf_loss:79782.77, prob_loss:   1.90, total_loss:79785.06\n",
      "epoch: 0 step:    4/85, lr:0.000000, bb_loss:   0.45, conf_loss:79904.23, prob_loss:   1.72, total_loss:79906.40\n",
      "epoch: 0 step:    5/85, lr:0.000000, bb_loss:   0.35, conf_loss:79866.77, prob_loss:   1.49, total_loss:79868.62\n",
      "epoch: 0 step:    6/85, lr:0.000000, bb_loss:   0.34, conf_loss:79913.54, prob_loss:   1.65, total_loss:79915.52\n",
      "epoch: 0 step:    7/85, lr:0.000000, bb_loss:   0.20, conf_loss:79876.97, prob_loss:   1.29, total_loss:79878.47\n",
      "epoch: 0 step:    8/85, lr:0.000000, bb_loss:   0.30, conf_loss:79804.71, prob_loss:   1.32, total_loss:79806.34\n",
      "epoch: 0 step:    9/85, lr:0.000001, bb_loss:   0.31, conf_loss:79809.53, prob_loss:   1.64, total_loss:79811.48\n",
      "epoch: 0 step:   10/85, lr:0.000001, bb_loss:   0.41, conf_loss:79857.75, prob_loss:   1.57, total_loss:79859.73\n",
      "epoch: 0 step:   11/85, lr:0.000001, bb_loss:   0.36, conf_loss:79857.80, prob_loss:   1.65, total_loss:79859.80\n",
      "epoch: 0 step:   12/85, lr:0.000001, bb_loss:   0.29, conf_loss:79815.16, prob_loss:   1.40, total_loss:79816.84\n",
      "epoch: 0 step:   13/85, lr:0.000001, bb_loss:   0.36, conf_loss:79824.07, prob_loss:   1.55, total_loss:79825.98\n",
      "epoch: 0 step:   14/85, lr:0.000001, bb_loss:   0.46, conf_loss:79630.83, prob_loss:   1.57, total_loss:79632.85\n",
      "epoch: 0 step:   15/85, lr:0.000001, bb_loss:   0.26, conf_loss:79753.38, prob_loss:   1.34, total_loss:79754.98\n",
      "epoch: 0 step:   16/85, lr:0.000001, bb_loss:   0.21, conf_loss:79693.70, prob_loss:   1.45, total_loss:79695.36\n",
      "epoch: 0 step:   17/85, lr:0.000001, bb_loss:   0.22, conf_loss:79566.31, prob_loss:   1.60, total_loss:79568.12\n",
      "epoch: 0 step:   18/85, lr:0.000001, bb_loss:   0.33, conf_loss:79651.00, prob_loss:   1.59, total_loss:79652.92\n",
      "epoch: 0 step:   19/85, lr:0.000001, bb_loss:   0.45, conf_loss:79731.84, prob_loss:   1.84, total_loss:79734.12\n",
      "epoch: 0 step:   20/85, lr:0.000001, bb_loss:   0.32, conf_loss:79604.12, prob_loss:   1.63, total_loss:79606.07\n",
      "epoch: 0 step:   21/85, lr:0.000001, bb_loss:   0.34, conf_loss:79516.69, prob_loss:   1.51, total_loss:79518.54\n",
      "epoch: 0 step:   22/85, lr:0.000001, bb_loss:   0.42, conf_loss:79507.93, prob_loss:   1.80, total_loss:79510.15\n",
      "epoch: 0 step:   23/85, lr:0.000001, bb_loss:   0.23, conf_loss:79457.05, prob_loss:   1.56, total_loss:79458.85\n",
      "epoch: 0 step:   24/85, lr:0.000001, bb_loss:   0.42, conf_loss:79479.56, prob_loss:   1.53, total_loss:79481.51\n",
      "epoch: 0 step:   25/85, lr:0.000001, bb_loss:   0.41, conf_loss:79254.47, prob_loss:   1.77, total_loss:79256.66\n",
      "epoch: 0 step:   26/85, lr:0.000002, bb_loss:   0.40, conf_loss:79338.73, prob_loss:   1.72, total_loss:79340.85\n",
      "epoch: 0 step:   27/85, lr:0.000002, bb_loss:   0.31, conf_loss:79334.09, prob_loss:   1.60, total_loss:79336.00\n",
      "epoch: 0 step:   28/85, lr:0.000002, bb_loss:   0.32, conf_loss:79257.41, prob_loss:   1.86, total_loss:79259.59\n",
      "epoch: 0 step:   29/85, lr:0.000002, bb_loss:   0.31, conf_loss:79164.72, prob_loss:   1.70, total_loss:79166.73\n",
      "epoch: 0 step:   30/85, lr:0.000002, bb_loss:   0.30, conf_loss:79117.38, prob_loss:   1.48, total_loss:79119.16\n",
      "epoch: 0 step:   31/85, lr:0.000002, bb_loss:   0.20, conf_loss:79078.30, prob_loss:   1.57, total_loss:79080.08\n",
      "epoch: 0 step:   32/85, lr:0.000002, bb_loss:   0.22, conf_loss:79109.56, prob_loss:   1.56, total_loss:79111.34\n",
      "epoch: 0 step:   33/85, lr:0.000002, bb_loss:   0.28, conf_loss:78911.53, prob_loss:   1.67, total_loss:78913.48\n",
      "epoch: 0 step:   34/85, lr:0.000002, bb_loss:   0.26, conf_loss:78903.26, prob_loss:   1.68, total_loss:78905.20\n",
      "epoch: 0 step:   35/85, lr:0.000002, bb_loss:   0.21, conf_loss:79028.76, prob_loss:   1.56, total_loss:79030.53\n",
      "epoch: 0 step:   36/85, lr:0.000002, bb_loss:   0.28, conf_loss:78894.85, prob_loss:   1.77, total_loss:78896.90\n",
      "epoch: 0 step:   37/85, lr:0.000002, bb_loss:   0.45, conf_loss:78750.70, prob_loss:   1.78, total_loss:78752.92\n",
      "epoch: 0 step:   38/85, lr:0.000002, bb_loss:   0.45, conf_loss:78700.64, prob_loss:   1.64, total_loss:78702.73\n",
      "epoch: 0 step:   39/85, lr:0.000002, bb_loss:   0.38, conf_loss:78595.48, prob_loss:   1.76, total_loss:78597.62\n",
      "epoch: 0 step:   40/85, lr:0.000002, bb_loss:   0.46, conf_loss:78583.83, prob_loss:   1.66, total_loss:78585.95\n",
      "epoch: 0 step:   41/85, lr:0.000002, bb_loss:   0.35, conf_loss:78497.91, prob_loss:   1.66, total_loss:78499.93\n",
      "epoch: 0 step:   42/85, lr:0.000002, bb_loss:   0.24, conf_loss:78361.57, prob_loss:   1.72, total_loss:78363.52\n",
      "epoch: 0 step:   43/85, lr:0.000003, bb_loss:   0.30, conf_loss:78308.77, prob_loss:   1.71, total_loss:78310.78\n",
      "epoch: 0 step:   44/85, lr:0.000003, bb_loss:   0.42, conf_loss:78323.25, prob_loss:   1.86, total_loss:78325.52\n",
      "epoch: 0 step:   45/85, lr:0.000003, bb_loss:   0.42, conf_loss:78249.09, prob_loss:   1.78, total_loss:78251.29\n",
      "epoch: 0 step:   46/85, lr:0.000003, bb_loss:   0.44, conf_loss:78075.57, prob_loss:   1.54, total_loss:78077.55\n",
      "epoch: 0 step:   47/85, lr:0.000003, bb_loss:   0.39, conf_loss:78067.66, prob_loss:   1.54, total_loss:78069.59\n",
      "epoch: 0 step:   48/85, lr:0.000003, bb_loss:   0.26, conf_loss:78062.59, prob_loss:   1.51, total_loss:78064.36\n",
      "epoch: 0 step:   49/85, lr:0.000003, bb_loss:   0.35, conf_loss:77868.66, prob_loss:   1.48, total_loss:77870.48\n",
      "epoch: 0 step:   50/85, lr:0.000003, bb_loss:   0.36, conf_loss:77756.07, prob_loss:   1.49, total_loss:77757.91\n",
      "epoch: 0 step:   51/85, lr:0.000003, bb_loss:   0.29, conf_loss:77830.78, prob_loss:   1.63, total_loss:77832.70\n",
      "epoch: 0 step:   52/85, lr:0.000003, bb_loss:   0.40, conf_loss:77561.81, prob_loss:   1.44, total_loss:77563.66\n",
      "epoch: 0 step:   53/85, lr:0.000003, bb_loss:   0.37, conf_loss:77567.82, prob_loss:   1.65, total_loss:77569.84\n",
      "epoch: 0 step:   54/85, lr:0.000003, bb_loss:   0.26, conf_loss:77449.73, prob_loss:   1.57, total_loss:77451.56\n",
      "epoch: 0 step:   55/85, lr:0.000003, bb_loss:   0.43, conf_loss:77422.87, prob_loss:   1.55, total_loss:77424.85\n",
      "epoch: 0 step:   56/85, lr:0.000003, bb_loss:   0.32, conf_loss:77243.11, prob_loss:   1.18, total_loss:77244.61\n",
      "epoch: 0 step:   57/85, lr:0.000003, bb_loss:   0.28, conf_loss:77155.16, prob_loss:   1.29, total_loss:77156.73\n"
     ]
    },
    {
     "ename": "KeyboardInterrupt",
     "evalue": "",
     "output_type": "error",
     "traceback": [
      "\u001b[0;31m---------------------------------------------------------------------------\u001b[0m",
      "\u001b[0;31mKeyboardInterrupt\u001b[0m                         Traceback (most recent call last)",
      "Input \u001b[0;32mIn [6]\u001b[0m, in \u001b[0;36m<module>\u001b[0;34m\u001b[0m\n\u001b[1;32m      1\u001b[0m tf\u001b[38;5;241m.\u001b[39mkeras\u001b[38;5;241m.\u001b[39mbackend\u001b[38;5;241m.\u001b[39mclear_session()\n\u001b[0;32m----> 2\u001b[0m \u001b[43mmain\u001b[49m\u001b[43m(\u001b[49m\u001b[43m)\u001b[49m\n",
      "File \u001b[0;32m~/Desktop/github/teeth_detection/prob_no_focal_sse_bb/no_focal_sse_conf_sse_bb_no_lip_conf_2/train_config.py:142\u001b[0m, in \u001b[0;36mmain\u001b[0;34m()\u001b[0m\n\u001b[1;32m    140\u001b[0m \u001b[38;5;28;01mfor\u001b[39;00m epoch \u001b[38;5;129;01min\u001b[39;00m \u001b[38;5;28mrange\u001b[39m(TRAIN_EPOCHS):\n\u001b[1;32m    141\u001b[0m     \u001b[38;5;28;01mfor\u001b[39;00m image_data, target \u001b[38;5;129;01min\u001b[39;00m trainset:\n\u001b[0;32m--> 142\u001b[0m         results \u001b[38;5;241m=\u001b[39m \u001b[43mtrain_step\u001b[49m\u001b[43m(\u001b[49m\u001b[43mimage_data\u001b[49m\u001b[43m,\u001b[49m\u001b[43m \u001b[49m\u001b[43mtarget\u001b[49m\u001b[43m)\u001b[49m\n\u001b[1;32m    143\u001b[0m         cur_step \u001b[38;5;241m=\u001b[39m results[\u001b[38;5;241m0\u001b[39m]\u001b[38;5;241m%\u001b[39msteps_per_epoch\n\u001b[1;32m    144\u001b[0m         \u001b[38;5;28mprint\u001b[39m(\u001b[38;5;124m\"\u001b[39m\u001b[38;5;124mepoch:\u001b[39m\u001b[38;5;132;01m{:2.0f}\u001b[39;00m\u001b[38;5;124m step:\u001b[39m\u001b[38;5;132;01m{:5.0f}\u001b[39;00m\u001b[38;5;124m/\u001b[39m\u001b[38;5;132;01m{}\u001b[39;00m\u001b[38;5;124m, lr:\u001b[39m\u001b[38;5;132;01m{:.6f}\u001b[39;00m\u001b[38;5;124m, bb_loss:\u001b[39m\u001b[38;5;132;01m{:7.2f}\u001b[39;00m\u001b[38;5;124m, conf_loss:\u001b[39m\u001b[38;5;132;01m{:7.2f}\u001b[39;00m\u001b[38;5;124m, prob_loss:\u001b[39m\u001b[38;5;132;01m{:7.2f}\u001b[39;00m\u001b[38;5;124m, total_loss:\u001b[39m\u001b[38;5;132;01m{:7.2f}\u001b[39;00m\u001b[38;5;124m\"\u001b[39m\n\u001b[1;32m    145\u001b[0m               \u001b[38;5;241m.\u001b[39mformat(epoch, cur_step, steps_per_epoch, results[\u001b[38;5;241m1\u001b[39m], results[\u001b[38;5;241m2\u001b[39m], results[\u001b[38;5;241m3\u001b[39m], results[\u001b[38;5;241m4\u001b[39m], results[\u001b[38;5;241m5\u001b[39m]))\n",
      "File \u001b[0;32m~/Desktop/github/teeth_detection/prob_no_focal_sse_bb/no_focal_sse_conf_sse_bb_no_lip_conf_2/train_config.py:100\u001b[0m, in \u001b[0;36mmain.<locals>.train_step\u001b[0;34m(image_data, target)\u001b[0m\n\u001b[1;32m     97\u001b[0m \u001b[38;5;66;03m# update learning rate\u001b[39;00m\n\u001b[1;32m     98\u001b[0m \u001b[38;5;66;03m# about warmup: https://arxiv.org/pdf/1812.01187.pdf&usg=ALkJrhglKOPDjNt6SHGbphTHyMcT0cuMJg\u001b[39;00m\n\u001b[1;32m     99\u001b[0m global_steps\u001b[38;5;241m.\u001b[39massign_add(\u001b[38;5;241m1\u001b[39m)\n\u001b[0;32m--> 100\u001b[0m \u001b[38;5;28;01mif\u001b[39;00m global_steps \u001b[38;5;241m<\u001b[39m warmup_steps:\u001b[38;5;66;03m# and not TRAIN_TRANSFER:\u001b[39;00m\n\u001b[1;32m    101\u001b[0m     lr \u001b[38;5;241m=\u001b[39m global_steps \u001b[38;5;241m/\u001b[39m warmup_steps \u001b[38;5;241m*\u001b[39m TRAIN_LR_INIT\n\u001b[1;32m    102\u001b[0m \u001b[38;5;28;01melse\u001b[39;00m:\n",
      "File \u001b[0;32m~/.local/lib/python3.8/site-packages/tensorflow/python/framework/ops.py:1134\u001b[0m, in \u001b[0;36m_EagerTensorBase.__bool__\u001b[0;34m(self)\u001b[0m\n\u001b[1;32m   1133\u001b[0m \u001b[38;5;28;01mdef\u001b[39;00m \u001b[38;5;21m__bool__\u001b[39m(\u001b[38;5;28mself\u001b[39m):\n\u001b[0;32m-> 1134\u001b[0m   \u001b[38;5;28;01mreturn\u001b[39;00m \u001b[38;5;28mbool\u001b[39m(\u001b[38;5;28;43mself\u001b[39;49m\u001b[38;5;241;43m.\u001b[39;49m\u001b[43m_numpy\u001b[49m\u001b[43m(\u001b[49m\u001b[43m)\u001b[49m)\n",
      "File \u001b[0;32m~/.local/lib/python3.8/site-packages/tensorflow/python/framework/ops.py:1189\u001b[0m, in \u001b[0;36m_EagerTensorBase._numpy\u001b[0;34m(self)\u001b[0m\n\u001b[1;32m   1187\u001b[0m \u001b[38;5;28;01mdef\u001b[39;00m \u001b[38;5;21m_numpy\u001b[39m(\u001b[38;5;28mself\u001b[39m):\n\u001b[1;32m   1188\u001b[0m   \u001b[38;5;28;01mtry\u001b[39;00m:\n\u001b[0;32m-> 1189\u001b[0m     \u001b[38;5;28;01mreturn\u001b[39;00m \u001b[38;5;28;43mself\u001b[39;49m\u001b[38;5;241;43m.\u001b[39;49m\u001b[43m_numpy_internal\u001b[49m\u001b[43m(\u001b[49m\u001b[43m)\u001b[49m\n\u001b[1;32m   1190\u001b[0m   \u001b[38;5;28;01mexcept\u001b[39;00m core\u001b[38;5;241m.\u001b[39m_NotOkStatusException \u001b[38;5;28;01mas\u001b[39;00m e:  \u001b[38;5;66;03m# pylint: disable=protected-access\u001b[39;00m\n\u001b[1;32m   1191\u001b[0m     \u001b[38;5;28;01mraise\u001b[39;00m core\u001b[38;5;241m.\u001b[39m_status_to_exception(e) \u001b[38;5;28;01mfrom\u001b[39;00m \u001b[38;5;28mNone\u001b[39m\n",
      "\u001b[0;31mKeyboardInterrupt\u001b[0m: "
     ]
    }
   ],
   "source": [
    "tf.keras.backend.clear_session()\n",
    "main()"
   ]
  },
  {
   "cell_type": "code",
   "execution_count": null,
   "metadata": {},
   "outputs": [],
   "source": [
    "tf.keras.__version__"
   ]
  },
  {
   "cell_type": "code",
   "execution_count": null,
   "metadata": {},
   "outputs": [],
   "source": [
    "pre= np.array([[1,2],[2,3],[3,4]],dtype = np.float32)\n",
    "true = np.array([[1,3],[0,0],[3,4]],dtype = np.float32)"
   ]
  },
  {
   "cell_type": "code",
   "execution_count": null,
   "metadata": {},
   "outputs": [],
   "source": [
    "pre.shape"
   ]
  },
  {
   "cell_type": "code",
   "execution_count": null,
   "metadata": {},
   "outputs": [],
   "source": [
    "tf.keras.losses.MSE(pre, true)"
   ]
  },
  {
   "cell_type": "code",
   "execution_count": null,
   "metadata": {},
   "outputs": [],
   "source": [
    "tf.reshape(tf.keras.losses.MSE(pre, true),pre.shape)"
   ]
  },
  {
   "cell_type": "code",
   "execution_count": null,
   "metadata": {},
   "outputs": [],
   "source": [
    "np.square(pre - true)"
   ]
  },
  {
   "cell_type": "code",
   "execution_count": null,
   "metadata": {},
   "outputs": [],
   "source": [
    "np.mean(np.square(pre - true), axis = -1)"
   ]
  },
  {
   "cell_type": "code",
   "execution_count": null,
   "metadata": {},
   "outputs": [],
   "source": [
    "pre = np.random.randint(5, size= (3,52,52,4))"
   ]
  },
  {
   "cell_type": "code",
   "execution_count": null,
   "metadata": {},
   "outputs": [],
   "source": [
    "true = np.random.randint(5, size= (3,52,52,4))"
   ]
  },
  {
   "cell_type": "code",
   "execution_count": null,
   "metadata": {},
   "outputs": [],
   "source": [
    "(pre -true).shape"
   ]
  },
  {
   "cell_type": "code",
   "execution_count": null,
   "metadata": {},
   "outputs": [],
   "source": [
    "tf.keras.losses.MSE(pre, true)"
   ]
  },
  {
   "cell_type": "markdown",
   "metadata": {},
   "source": [
    "tensorboard --logdir=\"\"./no_lip_confidence_config/log"
   ]
  }
 ],
 "metadata": {
  "accelerator": "GPU",
  "colab": {
   "collapsed_sections": [],
   "name": "YOLOv3_colab_training.ipynb",
   "provenance": []
  },
  "kernelspec": {
   "display_name": "Python 3 (ipykernel)",
   "language": "python",
   "name": "python3"
  },
  "language_info": {
   "codemirror_mode": {
    "name": "ipython",
    "version": 3
   },
   "file_extension": ".py",
   "mimetype": "text/x-python",
   "name": "python",
   "nbconvert_exporter": "python",
   "pygments_lexer": "ipython3",
   "version": "3.8.0"
  }
 },
 "nbformat": 4,
 "nbformat_minor": 1
}
